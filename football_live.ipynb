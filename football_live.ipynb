{
 "cells": [
  {
   "cell_type": "code",
   "execution_count": 60,
   "metadata": {},
   "outputs": [
    {
     "name": "stdout",
     "output_type": "stream",
     "text": [
      "Premier-League 2122\n"
     ]
    }
   ],
   "source": [
    "# To add a new cell, type '# %%'\n",
    "# To add a new markdown cell, type '# %% [markdown]'\n",
    "# %%\n",
    "import glob\n",
    "import pandas as pd\n",
    "import numpy as np\n",
    "import re\n",
    "import plotly_express as px\n",
    "import datetime\n",
    "import warnings\n",
    "import os\n",
    "import json\n",
    "import streamlit as st\n",
    "\n",
    "pd.options.display.float_format = \"{:,.1f}\".format\n",
    "\n",
    "warnings.filterwarnings('ignore')\n",
    "\n",
    "global teamnamedict\n",
    "# C:\\Users\\mg\\JupyterLabDir\\Rest\\Pr Winning\\teamnamedict_streamlit.json\n",
    "with open('teamnamedict_streamlit.json') as f:\n",
    "    teamnamedict = json.load(f)\n",
    "\n",
    "# def _max_width_():\n",
    "#     max_width_str = f\"max-width: 1300px;\"\n",
    "#     st.markdown(\n",
    "#         f\"\"\"\n",
    "#     <style>\n",
    "#     .reportview-container .main .block-container{{\n",
    "#         {max_width_str}\n",
    "#     }}\n",
    "#     </style>\n",
    "#     \"\"\",\n",
    "#         unsafe_allow_html=True,\n",
    "#     )\n",
    "\n",
    "# _max_width_()\n",
    "global widthfig\n",
    "widthfig = 700\n",
    "heightfig = 500\n",
    "\n",
    "# get all the gamestatistics from in dropdown specified league and season\n",
    "# setup the database connection.  There's no need to setup cursors with pandas psql.\n",
    "tables = list(glob.glob(\"htdatan/*\"))\n",
    "\n",
    "# take only the 0 part of the every list entry\n",
    "global saissons\n",
    "saissons = []\n",
    "\n",
    "# ENV is BTCPRED\n",
    "for x in range(0, len(tables)):    # CHANGE THIS - \\\\ - to - / - FOR DEPLOYMENT!\n",
    "    saissons.append(tables[x].split(\"\\\\\")[1].split(\"_24102021.csv\")[0])\n",
    "\n",
    "\n",
    "cleaned_names_saissons = []\n",
    "for saisson in saissons:\n",
    "    saisson = saisson.replace(\"_\", \" \")\n",
    "    saisson = saisson.replace(\".csv\", \"\")\n",
    "    # saison = saison.strip()\n",
    "    cleaned_names_saissons.append(saisson)\n",
    "\n",
    "# map league shortcuts to real names:\n",
    "shortcut_league_dict = {\n",
    "    \"ll\": \"La-Liga\",\n",
    "    \"pl\": \"Premier-League\",\n",
    "    \"sa\": \"Serie-A\",\n",
    "    \"pl\": \"Premier-League\",\n",
    "    \"l1\": \"League-1\",\n",
    "    \"b\": \"Bundesliga\",\n",
    "}\n",
    "# list(map(cleaned_names_saissons, shortcut_league_dict) )\n",
    "cleaned_names_saissons = [e.replace(\n",
    "    key, val) for e in cleaned_names_saissons for key, val in shortcut_league_dict.items() if key in e]\n",
    "\n",
    "# sort list by int substring\n",
    "cleaned_names_saissons = sorted(cleaned_names_saissons, key=lambda x: int(\n",
    "    x.split(\" \")[-1]), reverse=True)\n",
    "\n",
    "global saison\n",
    "saison = st.sidebar.selectbox(\"Saison\", list(\n",
    "    cleaned_names_saissons), 3)\n",
    "print(saison)\n",
    "# map names back for reading the correct csv name\n"
   ]
  },
  {
   "cell_type": "code",
   "execution_count": 61,
   "metadata": {},
   "outputs": [],
   "source": [
    "def find_key(input_dict, value):\n",
    "    for key, val in input_dict.items():\n",
    "        if val == value:\n",
    "            return key\n",
    "    return \"None\"\n",
    "\n",
    "saison = \"{}_{}\".format(find_key(shortcut_league_dict, saison.split(\" \")[0]),\n",
    "                        saison.split(\" \")[1]\n",
    "                        )\n",
    "\n",
    "try:\n",
    "    df_complete_saison = pd.read_csv(\n",
    "        \"htdatan/\"+saison+\".csv\", index_col=0, encoding='utf-8')\n",
    "except:\n",
    "    df_complete_saison = pd.read_csv(\n",
    "        \"htdatan/\"+saison+\"_24102021.csv\", index_col=0, encoding='utf-8')\n",
    "\n",
    "df_complete_saison = df_complete_saison.replace(teamnamedict)\n",
    "dfallteamnamesl = df_complete_saison.H_Teamnames.unique()\n",
    "\n",
    "# take only the 0 part of the every list entry\n",
    "teamsoptions = []\n",
    "for x in range(0, len(dfallteamnamesl)):\n",
    "    teamsoptions.append(dfallteamnamesl[x])\n",
    "\n",
    "global xg_team\n",
    "xg_team = st.sidebar.selectbox(\"Team\", list(np.sort(teamsoptions)), 12)\n",
    "\n",
    "# convert string to df to use process_team_names_of_df function\n",
    "df_teamname = pd.DataFrame([xg_team])\n",
    "\n",
    "# convert xg teamnames to correct ones that are used in htdatan\n",
    "team_df = df_teamname.replace(teamnamedict)\n",
    "# teamname corrected that it fits to htdatan teamnames\n",
    "team = team_df.iloc[0][0]\n",
    "\n",
    "df = df_complete_saison[(df_complete_saison.H_Teamnames == team) | (\n",
    "    df_complete_saison.A_Teamnames == team)]\n",
    "\n",
    "# return df, team, saison\n"
   ]
  },
  {
   "cell_type": "code",
   "execution_count": 62,
   "metadata": {},
   "outputs": [],
   "source": []
  },
  {
   "cell_type": "code",
   "execution_count": 63,
   "metadata": {},
   "outputs": [
    {
     "data": {
      "text/plain": [
       "['Brentford',\n",
       " 'Manchester United',\n",
       " 'Watford',\n",
       " 'Leicester',\n",
       " 'Everton',\n",
       " 'Chelsea',\n",
       " 'Burnley',\n",
       " 'Norwich',\n",
       " 'Newcastle United',\n",
       " 'Tottenham',\n",
       " 'Liverpool',\n",
       " 'Manchester City',\n",
       " 'Leeds',\n",
       " 'Crystal Palace',\n",
       " 'Aston Villa',\n",
       " 'Brighton',\n",
       " 'Wolves',\n",
       " 'Southampton',\n",
       " 'Arsenal',\n",
       " 'West Ham']"
      ]
     },
     "execution_count": 63,
     "metadata": {},
     "output_type": "execute_result"
    }
   ],
   "source": [
    "teamsoptions\n",
    "\n"
   ]
  },
  {
   "cell_type": "code",
   "execution_count": 64,
   "metadata": {},
   "outputs": [],
   "source": [
    "\n",
    "# convert string to df to use process_team_names_of_df function\n",
    "df_teamname = pd.DataFrame([xg_team])\n",
    "\n",
    "# convert xg teamnames to correct ones that are used in htdatan\n",
    "team_df = df_teamname.replace(teamnamedict)\n",
    "# teamname corrected that it fits to htdatan teamnames\n",
    "team = team_df.iloc[0][0]\n",
    "\n",
    "df = df_complete_saison[(df_complete_saison.H_Teamnames == team) | (\n",
    "    df_complete_saison.A_Teamnames == team)]\n",
    "\n",
    "# return df, team, saison\n"
   ]
  },
  {
   "cell_type": "code",
   "execution_count": 65,
   "metadata": {},
   "outputs": [],
   "source": [
    "\n",
    "\n",
    "def process_team_names_of_df(x_df):\n",
    "    x_df = x_df.replace(teamnamedict)\n",
    "    return x_df\n",
    "\n",
    "#######################################################\n",
    "###  calculate table with two halftimes to one game ###\n",
    "#######################################################\n",
    "\n",
    "\n",
    "def convert_hts_to_complete_games(df):\n",
    "    # fill nane values of these not numeric columns\n",
    "    df[['FK-H', 'FK-A']].fillna(0)\n",
    "    # convert not numeric columns to numeric columns\n",
    "    df['FK-H'] = df['FK-H'].astype('float64')\n",
    "    df['FK-A'] = df['FK-A'].astype('float64')\n",
    "    df['C-H'] = df['C-H'].astype('float64')\n",
    "    df['F-H'] = df['F-H'].astype('float64')\n",
    "    df['GA-H'] = df['GA-H'].astype('float64')\n",
    "    df['SoffG-H'] = df['SoffG-H'].astype('float64')\n",
    "    df['SoG-H'] = df['SoG-H'].astype('float64')\n",
    "    df['C-A'] = df['C-A'].astype('float64')\n",
    "    df['F-A'] = df['F-A'].astype('float64')\n",
    "    df['GA-A'] = df['GA-A'].astype('float64')\n",
    "    df['SoffG-A'] = df['SoffG-A'].astype('float64')\n",
    "    df['SoG-A'] = df['SoG-A'].astype('float64')\n",
    "    df['G-H'] = df['G-H'].astype('float64')\n",
    "    df['G-A'] = df['G-A'].astype('float64')\n",
    "    df['BP-H'] = df['BP-H'].astype('float64')\n",
    "    df['BP-A'] = df['BP-A'].astype('float64')\n",
    "    # xGoals columns\n",
    "    if not set(['xG', 'xPTS', 'GOALS', 'A_xG', 'G-A', 'A_xPTS']).issubset(df.columns):\n",
    "        df['xG'] = -1.0\n",
    "        df['GOALS'] = -1.0\n",
    "        df['xPTS'] = -1.0\n",
    "        df['A_xG'] = -1.0\n",
    "        df['G-A'] = -1.0\n",
    "        df['A_xPTS'] = -1.0\n",
    "    else:\n",
    "        df['xG'] = df['xG'].astype('float64')\n",
    "        df['GOALS'] = df['GOALS'].astype('float64')\n",
    "        df['xPTS'] = df['xPTS'].astype('float64')\n",
    "        df['A_xG'] = df['A_xG'].astype('float64')\n",
    "        df['G-A'] = df['G-A'].astype('float64')\n",
    "        df['A_xPTS'] = df['A_xPTS'].astype('float64')\n",
    "\n",
    "    # calculate halftime table to fulltime table\n",
    "    df = df.groupby(['Home', 'Opponent', 'Date', 'Round']).agg({'BP-H': 'mean', 'C-H': 'sum',\n",
    "                                                                'F-H': 'sum', 'FK-H': 'sum', 'GA-H': 'sum',\n",
    "                                                                'GoKeSa-H': 'sum', 'G-H': 'sum', 'Off-H': 'sum',\n",
    "                                                                'SoffG-H': 'sum', 'SoG-H': 'sum',\n",
    "                                                                           'BP-A': 'mean',\n",
    "                                                                           'C-A': 'sum',\n",
    "                                                                           'F-A': 'sum', 'FK-A': 'sum', 'GA-A': 'sum',\n",
    "                                                                           'GoKeSa-A': 'sum', 'G-A': 'sum', 'Off-A': 'sum',\n",
    "                                                                           'SoffG-A': 'sum', 'SoG-A': 'sum',\n",
    "                                                                           # xGoals stats are only from whole game - not halftime - so mean does not change anything\n",
    "                                                                           'xG': 'mean',\n",
    "                                                                           'GOALS': 'mean',\n",
    "                                                                           'xPTS': 'mean',\n",
    "                                                                           'A_xG': 'mean',\n",
    "                                                                           'A_GOALS': 'mean',\n",
    "                                                                           'A_xPTS': 'mean'\n",
    "                                                                }).reset_index()\n",
    "\n",
    "    newcols = []\n",
    "\n",
    "    for x in df.columns:\n",
    "        if x.startswith('SUM') or x.startswith('MIN') or x.startswith('AVG'):\n",
    "            x = re.sub('SUM', '', x)\n",
    "            x = re.sub('MIN', '', x)\n",
    "            x = re.sub('AVG', '', x)\n",
    "            x = x.replace(\"`\", \"\")\n",
    "            x = x.replace(\")\", \"\")\n",
    "            x = x.replace(\"(\", \"\")\n",
    "        newcols.append(x)\n",
    "\n",
    "    df.columns = newcols\n",
    "\n",
    "    return df\n",
    "\n",
    "\n",
    "def df_cleaning_converting(df):\n",
    "    df = df[['H_Teamnames', 'A_Teamnames', 'H_Goals', 'A_Goals', 'H_Ball Possession', 'A_Ball Possession', 'A_Goal Attempts', 'H_Goal Attempts',\n",
    "             'H_Shots on Goal', 'A_Shots on Goal', 'H_Shots off Goal', 'A_Shots off Goal', 'H_Free Kicks',\n",
    "             'A_Free Kicks', 'H_Corner Kicks', 'A_Corner Kicks', 'H_Offsides', 'A_Offsides', 'H_Goalkeeper Saves', 'A_Goalkeeper Saves',\n",
    "             'H_Fouls', 'A_Fouls', 'A_gameinfo', 'A_datetime', 'xG', 'GOALS', 'xPTS', 'A_xG', 'A_GOALS', 'A_xPTS']]\n",
    "\n",
    "    df[\"R\"] = 'X'\n",
    "\n",
    "    for i in range(0, len(df)):\n",
    "        try:\n",
    "\n",
    "            if df[\"H_Goals\"][i] > df[\"A_Goals\"][i]:\n",
    "                df[\"R\"][i] = 'H'\n",
    "            if df[\"H_Goals\"][i] < df[\"A_Goals\"][i]:\n",
    "                df[\"R\"][i] = 'A'\n",
    "            else:\n",
    "                df[\"R\"][i] = 'D'\n",
    "        except:\n",
    "            print(\"error?\")\n",
    "\n",
    "    df.columns = ['Home', 'Opponent', 'G-H', 'G-A', 'BP-H', 'BP-A', 'GA-H', 'GA-A',\n",
    "                  'SoG-H', 'SoG-A', 'SoffG-H', 'SoffG-A', 'FK-H',\n",
    "                  'FK-A', 'C-H', 'C-A', 'Off-H', 'Off-A', 'GoKeSa-H', 'GoKeSa-A',\n",
    "                  'F-H', 'F-A', 'Round', 'Date', 'xG', 'GOALS', 'xPTS', 'A_xG', 'A_GOALS', 'A_xPTS', 'R']\n",
    "\n",
    "    df = df[['Home', 'Opponent', 'R', 'G-H', 'G-A', 'BP-H', 'BP-A', 'GA-H', 'GA-A',\n",
    "             'SoG-H', 'SoG-A', 'SoffG-H', 'SoffG-A', 'FK-H',\n",
    "             'FK-A', 'C-H', 'C-A', 'Off-H', 'Off-A', 'GoKeSa-H', 'GoKeSa-A', 'F-H',\n",
    "             'F-A', 'Round', 'Date', 'xG', 'GOALS', 'xPTS', 'A_xG', 'A_GOALS', 'A_xPTS']]\n",
    "\n",
    "    df[\"IsHome\"] = 0\n",
    "\n",
    "    df = df[['Home', 'Opponent', 'R', 'G-H', 'G-A', 'BP-H', 'BP-A', 'GA-H', 'GA-A',\n",
    "             'SoG-H', 'SoG-A', 'SoffG-H', 'SoffG-A', 'FK-H',\n",
    "             'FK-A', 'C-H', 'C-A', 'Off-H', 'Off-A', 'GoKeSa-H', 'GoKeSa-A', 'F-H',\n",
    "             'F-A', 'Round', 'Date', 'IsHome', 'xG', 'GOALS', 'xPTS', 'A_xG', 'A_GOALS', 'A_xPTS']]\n",
    "    return df\n",
    "\n",
    "\n",
    "def df_specific_team(df, team):\n",
    "    df4Home = df.loc[((df['Home'] == team))]\n",
    "\n",
    "    df4Home[\"IsHome\"] = 1\n",
    "\n",
    "    # recalcualte the winner because of the columns switching to bring the selected team in the first column\n",
    "    df4Home[\"1x2\"] = 0\n",
    "\n",
    "    df4Home[\"1x2\"] = df4Home.apply(\n",
    "        lambda row: calculate_1x2_home(row), axis=1, result_type='reduce')\n",
    "\n",
    "    # Berechnung Opponentgames\n",
    "    df4Opponent = df.loc[((df['Opponent'] == team))]\n",
    "\n",
    "    # recalcualte the winner because of the columns switching to bring the selected team in the first column\n",
    "    df4Opponent[\"1x2\"] = 0\n",
    "\n",
    "    df4Opponent[\"1x2\"] = df4Opponent.apply(\n",
    "        lambda row: calculate_1x2_Opponent(row), axis=1, result_type='reduce')\n",
    "\n",
    "    # Change the columns for the Opponentmatches of the specific team\n",
    "    OpponentTeamReversedColumns = ['Opponent', 'Home',  '1x2', 'R',  'G-A', 'G-H',\n",
    "                                   'BP-A', 'BP-H', 'GA-A', 'GA-H',  'SoG-A', 'SoG-H', 'SoffG-A', 'SoffG-H',  'FK-A', 'FK-H',\n",
    "                                   'C-A', 'C-H',  'Off-A', 'Off-H', 'GoKeSa-A', 'GoKeSa-H', 'F-A', 'F-H',\n",
    "                                   'Round', 'Date', 'IsHome',\n",
    "                                   'A_xG', \"A_xPTS\", \"A_GOALS\", 'xG', \"xPTS\", \"GOALS\", ]  # , 'IsHome'\n",
    "\n",
    "    df4OpponentReversed = df4Opponent.reindex(\n",
    "        columns=OpponentTeamReversedColumns)\n",
    "\n",
    "    df4OpponentReversed.columns = ['Home', 'Opponent', '1x2', 'R', 'G-H',\n",
    "                                   'G-A', 'BP-H', 'BP-A', 'GA-H', 'GA-A',\n",
    "                                   'SoG-H', 'SoG-A', 'SoffG-H', 'SoffG-A', 'FK-H',\n",
    "                                   'FK-A', 'C-H', 'C-A', 'Off-H', 'Off-A', 'GoKeSa-H', 'GoKeSa-A', 'F-H',\n",
    "                                   'F-A', 'Round', 'Date', 'IsHome',\n",
    "                                   'xG', \"xPTS\", \"GOALS\", 'A_xG', \"A_xPTS\", \"A_GOALS\"]\n",
    "    return df4Home, df4OpponentReversed\n",
    "\n",
    "\n",
    "def create_df4Complete(df4Home, df4OpponentReversed):\n",
    "    # Alle Spiele werden als Heimspiel angezeigt, sind aber auch Auswärtsspiele dabei!\n",
    "    df4Complete = pd.concat([df4Home, df4OpponentReversed], sort=False)\n",
    "\n",
    "    df4Complete[\"G-H\"] = df4Complete[\"G-H\"].astype('float64')\n",
    "    df4Complete[\"G-A\"] = df4Complete[\"G-A\"].astype('float64')\n",
    "    df4Complete[\"BP-H\"] = df4Complete[\"BP-H\"].astype('float64')\n",
    "    df4Complete[\"BP-A\"] = df4Complete[\"BP-A\"].astype('float64')\n",
    "\n",
    "    # GoalDifference\n",
    "    df4Complete[\"GoalDiff\"] = df4Complete[\"G-H\"] - df4Complete[\"G-A\"]\n",
    "    df4Complete = df4Complete.sort_values(\"Date\",  ascending=False)\n",
    "\n",
    "    # calculate column with 3 Ballposition types\n",
    "    df4Complete[\"BPTypes\"] = '0'\n",
    "\n",
    "    df4Complete[\"BPTypes\"] = df4Complete.apply(\n",
    "        lambda row: calculate_1x2_BPTypes(row), axis=1, result_type='reduce')\n",
    "\n",
    "    df4Complete['Date'] = pd.to_datetime(\n",
    "        df4Complete['Date'], format=\"%d.%m.%Y %H:%M\")\n",
    "\n",
    "    # convert datetime to timestamp for scatter visualization\n",
    "    df4Complete['timestamp'] = df4Complete.Date.astype('int64')//10**9\n",
    "\n",
    "    df4Complete = df4Complete.sort_values(\"Date\", ascending=False)\n",
    "\n",
    "    # Create data for scatter graph\n",
    "    df4Complete[\"SoG-H\"] = df4Complete[\"SoG-H\"].astype(int)\n",
    "    df4Complete[\"SoG-A\"] = df4Complete[\"SoG-A\"].astype(int)\n",
    "\n",
    "    return df4Complete\n",
    "\n",
    "\n",
    "def calculate_1x2_home(row):\n",
    "    if row['G-H'] > row['G-A']:\n",
    "        return 'W'\n",
    "    elif row['G-A'] > row['G-H']:\n",
    "        return 'L'\n",
    "    else:\n",
    "        return 'D'\n",
    "\n",
    "\n",
    "def calculate_1x2_Opponent(row):\n",
    "    if row['G-A'] > row['G-H']:\n",
    "        return 'W'\n",
    "    elif row['G-H'] > row['G-A']:\n",
    "        return 'L'\n",
    "    else:\n",
    "        return 'D'\n",
    "\n",
    "\n",
    "def calculate_1x2_BPTypes(row):\n",
    "    if row['BP-H'] > 55:\n",
    "        return '>55'\n",
    "    elif row['BP-H'] < 45:\n",
    "        return '<45'\n",
    "    else:\n",
    "        return '45-55'\n",
    "\n",
    "\n",
    "def calc_stats(df4Complete):\n",
    "    BP_WPerc = df4Complete[['BPTypes', '1x2']\n",
    "                           ].loc[df4Complete['BPTypes'] == '>55']\n",
    "    BP_WAbs = BP_WPerc['1x2'].loc[df4Complete['1x2'] == 'W']\n",
    "    BP_NWAbs = BP_WPerc['1x2'].loc[df4Complete['1x2'] != 'W']\n",
    "    if len(BP_WAbs) + len(BP_NWAbs) > 0:\n",
    "        BP_WPercText = len(BP_WAbs) / (len(BP_WAbs) + len(BP_NWAbs)) * 100\n",
    "        BP_WPercText = round(BP_WPercText)\n",
    "    else:\n",
    "        BP_WPercText = 0\n",
    "\n",
    "    # calculate winning % for 0.45 - 0.55\n",
    "    N_WPerc = df4Complete[['BPTypes', '1x2']\n",
    "                          ].loc[df4Complete['BPTypes'] == '45-55']\n",
    "    N_WAbs = N_WPerc['1x2'].loc[df4Complete['1x2'] == 'W']\n",
    "    N_NWAbs = N_WPerc['1x2'].loc[df4Complete['1x2'] != 'W']\n",
    "    if len(N_WAbs) + len(N_NWAbs) > 0:\n",
    "        N_WPercText = len(N_WAbs) / (len(N_WAbs) + len(N_NWAbs)) * 100\n",
    "        N_WPercText = round(N_WPercText)\n",
    "    else:\n",
    "        N_WPercText = 5\n",
    "\n",
    "    # calculate winning % for < 0.45\n",
    "    C_WPerc = df4Complete[['BPTypes', '1x2']\n",
    "                          ].loc[df4Complete['BPTypes'] == '<45']\n",
    "    C_WAbs = C_WPerc['1x2'].loc[df4Complete['1x2'] == 'W']\n",
    "    C_NWAbs = C_WPerc['1x2'].loc[df4Complete['1x2'] != 'W']\n",
    "    if len(C_WAbs) + len(C_NWAbs) > 0:\n",
    "        C_WPercText = len(C_WAbs) / (len(C_WAbs) + len(C_NWAbs)) * 100\n",
    "        C_WPercText = round(C_WPercText)\n",
    "    else:\n",
    "        C_WPercText = 0\n",
    "\n",
    "    return C_WPercText, N_WPercText, BP_WPercText\n",
    "\n",
    "\n",
    "# get name of the selected team in dropdown\n",
    "def load_xg_gamestats_sql(saison, team):\n",
    "\n",
    "    if saison.split(\"_\")[0] == 'b':\n",
    "        xgprefix = 'bundesliga'\n",
    "    elif saison.split(\"_\")[0] == 'l1':\n",
    "        xgprefix = 'ligue_1'\n",
    "    elif saison.split(\"_\")[0] == 'll':\n",
    "        xgprefix = 'la_liga'\n",
    "    elif saison.split(\"_\")[0] == 'pl':\n",
    "        xgprefix = 'epl'\n",
    "    elif saison.split(\"_\")[0] == 'sa':\n",
    "        xgprefix = 'serie_a'\n",
    "\n",
    "    xgtablename = \"{}20{}\".format(xgprefix, saison.split(\"_\")[1][:2])\n",
    "\n",
    "    df_complete_saison = pd.read_csv(\n",
    "        \"xg/\"+xgtablename+\".csv\", index_col=0, encoding='utf-8')\n",
    "\n",
    "    # execute the query and assign it to a pandas dataframe\n",
    "    dfxg = df_complete_saison[(df_complete_saison.TEAMS == team) | (\n",
    "        df_complete_saison.A_TEAMS == team)]\n",
    "\n",
    "    dfxg = process_team_names_of_df(dfxg)\n",
    "\n",
    "    return dfxg"
   ]
  },
  {
   "cell_type": "code",
   "execution_count": 66,
   "metadata": {},
   "outputs": [
    {
     "data": {
      "text/html": [
       "<div>\n",
       "<style scoped>\n",
       "    .dataframe tbody tr th:only-of-type {\n",
       "        vertical-align: middle;\n",
       "    }\n",
       "\n",
       "    .dataframe tbody tr th {\n",
       "        vertical-align: top;\n",
       "    }\n",
       "\n",
       "    .dataframe thead th {\n",
       "        text-align: right;\n",
       "    }\n",
       "</style>\n",
       "<table border=\"1\" class=\"dataframe\">\n",
       "  <thead>\n",
       "    <tr style=\"text-align: right;\">\n",
       "      <th></th>\n",
       "      <th>H_datetime</th>\n",
       "      <th>H_gameinfo</th>\n",
       "      <th>H_Teamnames</th>\n",
       "      <th>H_Goals</th>\n",
       "      <th>H_Ball Possession</th>\n",
       "      <th>H_Goal Attempts</th>\n",
       "      <th>H_Shots on Goal</th>\n",
       "      <th>H_Shots off Goal</th>\n",
       "      <th>H_Blocked Shots</th>\n",
       "      <th>H_Free Kicks</th>\n",
       "      <th>...</th>\n",
       "      <th>A_Fouls</th>\n",
       "      <th>A_Yellow Cards</th>\n",
       "      <th>A_Red Cards</th>\n",
       "      <th>A_Total Passes</th>\n",
       "      <th>A_Completed Passes</th>\n",
       "      <th>A_Tackles</th>\n",
       "      <th>A_Attacks</th>\n",
       "      <th>A_Dangerous Attacks</th>\n",
       "      <th>A_Throw-in</th>\n",
       "      <th>H_cat</th>\n",
       "    </tr>\n",
       "  </thead>\n",
       "  <tbody>\n",
       "    <tr>\n",
       "      <th>2</th>\n",
       "      <td>14.08.2021 04:30</td>\n",
       "      <td>FootballFootballENGLAND: Premier League - Round 1</td>\n",
       "      <td>Manchester United</td>\n",
       "      <td>4</td>\n",
       "      <td>52</td>\n",
       "      <td>5</td>\n",
       "      <td>4</td>\n",
       "      <td>1</td>\n",
       "      <td>0</td>\n",
       "      <td>7</td>\n",
       "      <td>...</td>\n",
       "      <td>6</td>\n",
       "      <td>2.0</td>\n",
       "      <td>NaN</td>\n",
       "      <td>209</td>\n",
       "      <td>155</td>\n",
       "      <td>10</td>\n",
       "      <td>48</td>\n",
       "      <td>14</td>\n",
       "      <td>11</td>\n",
       "      <td>cat2</td>\n",
       "    </tr>\n",
       "    <tr>\n",
       "      <th>3</th>\n",
       "      <td>14.08.2021 04:30</td>\n",
       "      <td>FootballFootballENGLAND: Premier League - Round 1</td>\n",
       "      <td>Manchester United</td>\n",
       "      <td>1</td>\n",
       "      <td>46</td>\n",
       "      <td>11</td>\n",
       "      <td>4</td>\n",
       "      <td>4</td>\n",
       "      <td>3</td>\n",
       "      <td>5</td>\n",
       "      <td>...</td>\n",
       "      <td>3</td>\n",
       "      <td>NaN</td>\n",
       "      <td>NaN</td>\n",
       "      <td>229</td>\n",
       "      <td>178</td>\n",
       "      <td>13</td>\n",
       "      <td>43</td>\n",
       "      <td>21</td>\n",
       "      <td>6</td>\n",
       "      <td>cat3</td>\n",
       "    </tr>\n",
       "    <tr>\n",
       "      <th>34</th>\n",
       "      <td>22.08.2021 06:00</td>\n",
       "      <td>FootballFootballENGLAND: Premier League - Round 2</td>\n",
       "      <td>Southampton</td>\n",
       "      <td>0</td>\n",
       "      <td>37</td>\n",
       "      <td>4</td>\n",
       "      <td>2</td>\n",
       "      <td>2</td>\n",
       "      <td>0</td>\n",
       "      <td>6</td>\n",
       "      <td>...</td>\n",
       "      <td>4</td>\n",
       "      <td>2.0</td>\n",
       "      <td>NaN</td>\n",
       "      <td>264</td>\n",
       "      <td>210</td>\n",
       "      <td>9</td>\n",
       "      <td>58</td>\n",
       "      <td>25</td>\n",
       "      <td>8</td>\n",
       "      <td>cat34</td>\n",
       "    </tr>\n",
       "    <tr>\n",
       "      <th>35</th>\n",
       "      <td>22.08.2021 06:00</td>\n",
       "      <td>FootballFootballENGLAND: Premier League - Round 2</td>\n",
       "      <td>Southampton</td>\n",
       "      <td>1</td>\n",
       "      <td>35</td>\n",
       "      <td>4</td>\n",
       "      <td>1</td>\n",
       "      <td>2</td>\n",
       "      <td>1</td>\n",
       "      <td>7</td>\n",
       "      <td>...</td>\n",
       "      <td>6</td>\n",
       "      <td>1.0</td>\n",
       "      <td>NaN</td>\n",
       "      <td>256</td>\n",
       "      <td>204</td>\n",
       "      <td>10</td>\n",
       "      <td>47</td>\n",
       "      <td>25</td>\n",
       "      <td>10</td>\n",
       "      <td>cat35</td>\n",
       "    </tr>\n",
       "    <tr>\n",
       "      <th>58</th>\n",
       "      <td>29.08.2021 08:30</td>\n",
       "      <td>FootballFootballENGLAND: Premier League - Round 3</td>\n",
       "      <td>Wolves</td>\n",
       "      <td>0</td>\n",
       "      <td>44</td>\n",
       "      <td>6</td>\n",
       "      <td>3</td>\n",
       "      <td>3</td>\n",
       "      <td>0</td>\n",
       "      <td>6</td>\n",
       "      <td>...</td>\n",
       "      <td>4</td>\n",
       "      <td>3.0</td>\n",
       "      <td>NaN</td>\n",
       "      <td>281</td>\n",
       "      <td>240</td>\n",
       "      <td>4</td>\n",
       "      <td>56</td>\n",
       "      <td>32</td>\n",
       "      <td>8</td>\n",
       "      <td>cat58</td>\n",
       "    </tr>\n",
       "    <tr>\n",
       "      <th>59</th>\n",
       "      <td>29.08.2021 08:30</td>\n",
       "      <td>FootballFootballENGLAND: Premier League - Round 3</td>\n",
       "      <td>Wolves</td>\n",
       "      <td>0</td>\n",
       "      <td>44</td>\n",
       "      <td>9</td>\n",
       "      <td>3</td>\n",
       "      <td>3</td>\n",
       "      <td>3</td>\n",
       "      <td>7</td>\n",
       "      <td>...</td>\n",
       "      <td>5</td>\n",
       "      <td>1.0</td>\n",
       "      <td>NaN</td>\n",
       "      <td>271</td>\n",
       "      <td>238</td>\n",
       "      <td>4</td>\n",
       "      <td>62</td>\n",
       "      <td>12</td>\n",
       "      <td>6</td>\n",
       "      <td>cat59</td>\n",
       "    </tr>\n",
       "    <tr>\n",
       "      <th>66</th>\n",
       "      <td>11.09.2021 07:00</td>\n",
       "      <td>FootballFootballENGLAND: Premier League - Round 4</td>\n",
       "      <td>Manchester United</td>\n",
       "      <td>3</td>\n",
       "      <td>58</td>\n",
       "      <td>6</td>\n",
       "      <td>4</td>\n",
       "      <td>1</td>\n",
       "      <td>1</td>\n",
       "      <td>2</td>\n",
       "      <td>...</td>\n",
       "      <td>0</td>\n",
       "      <td>0.0</td>\n",
       "      <td>NaN</td>\n",
       "      <td>221</td>\n",
       "      <td>181</td>\n",
       "      <td>8</td>\n",
       "      <td>35</td>\n",
       "      <td>9</td>\n",
       "      <td>6</td>\n",
       "      <td>cat66</td>\n",
       "    </tr>\n",
       "    <tr>\n",
       "      <th>67</th>\n",
       "      <td>11.09.2021 07:00</td>\n",
       "      <td>FootballFootballENGLAND: Premier League - Round 4</td>\n",
       "      <td>Manchester United</td>\n",
       "      <td>1</td>\n",
       "      <td>70</td>\n",
       "      <td>15</td>\n",
       "      <td>3</td>\n",
       "      <td>8</td>\n",
       "      <td>4</td>\n",
       "      <td>3</td>\n",
       "      <td>...</td>\n",
       "      <td>2</td>\n",
       "      <td>NaN</td>\n",
       "      <td>NaN</td>\n",
       "      <td>144</td>\n",
       "      <td>106</td>\n",
       "      <td>9</td>\n",
       "      <td>37</td>\n",
       "      <td>18</td>\n",
       "      <td>13</td>\n",
       "      <td>cat67</td>\n",
       "    </tr>\n",
       "    <tr>\n",
       "      <th>94</th>\n",
       "      <td>19.09.2021 06:00</td>\n",
       "      <td>FootballFootballENGLAND: Premier League - Round 5</td>\n",
       "      <td>West Ham</td>\n",
       "      <td>0</td>\n",
       "      <td>44</td>\n",
       "      <td>7</td>\n",
       "      <td>2</td>\n",
       "      <td>2</td>\n",
       "      <td>3</td>\n",
       "      <td>5</td>\n",
       "      <td>...</td>\n",
       "      <td>6</td>\n",
       "      <td>NaN</td>\n",
       "      <td>NaN</td>\n",
       "      <td>294</td>\n",
       "      <td>248</td>\n",
       "      <td>8</td>\n",
       "      <td>73</td>\n",
       "      <td>32</td>\n",
       "      <td>8</td>\n",
       "      <td>cat94</td>\n",
       "    </tr>\n",
       "    <tr>\n",
       "      <th>95</th>\n",
       "      <td>19.09.2021 06:00</td>\n",
       "      <td>FootballFootballENGLAND: Premier League - Round 5</td>\n",
       "      <td>West Ham</td>\n",
       "      <td>1</td>\n",
       "      <td>36</td>\n",
       "      <td>6</td>\n",
       "      <td>2</td>\n",
       "      <td>3</td>\n",
       "      <td>1</td>\n",
       "      <td>2</td>\n",
       "      <td>...</td>\n",
       "      <td>2</td>\n",
       "      <td>NaN</td>\n",
       "      <td>NaN</td>\n",
       "      <td>330</td>\n",
       "      <td>307</td>\n",
       "      <td>6</td>\n",
       "      <td>61</td>\n",
       "      <td>43</td>\n",
       "      <td>5</td>\n",
       "      <td>cat95</td>\n",
       "    </tr>\n",
       "    <tr>\n",
       "      <th>100</th>\n",
       "      <td>25.09.2021 04:30</td>\n",
       "      <td>FootballFootballENGLAND: Premier League - Round 6</td>\n",
       "      <td>Manchester United</td>\n",
       "      <td>0</td>\n",
       "      <td>58</td>\n",
       "      <td>13</td>\n",
       "      <td>2</td>\n",
       "      <td>7</td>\n",
       "      <td>4</td>\n",
       "      <td>8</td>\n",
       "      <td>...</td>\n",
       "      <td>7</td>\n",
       "      <td>2.0</td>\n",
       "      <td>NaN</td>\n",
       "      <td>133</td>\n",
       "      <td>86</td>\n",
       "      <td>4</td>\n",
       "      <td>52</td>\n",
       "      <td>20</td>\n",
       "      <td>9</td>\n",
       "      <td>cat100</td>\n",
       "    </tr>\n",
       "    <tr>\n",
       "      <th>101</th>\n",
       "      <td>25.09.2021 04:30</td>\n",
       "      <td>FootballFootballENGLAND: Premier League - Round 6</td>\n",
       "      <td>Manchester United</td>\n",
       "      <td>0</td>\n",
       "      <td>60</td>\n",
       "      <td>15</td>\n",
       "      <td>2</td>\n",
       "      <td>4</td>\n",
       "      <td>9</td>\n",
       "      <td>6</td>\n",
       "      <td>...</td>\n",
       "      <td>6</td>\n",
       "      <td>0.0</td>\n",
       "      <td>NaN</td>\n",
       "      <td>138</td>\n",
       "      <td>101</td>\n",
       "      <td>5</td>\n",
       "      <td>43</td>\n",
       "      <td>22</td>\n",
       "      <td>16</td>\n",
       "      <td>cat101</td>\n",
       "    </tr>\n",
       "    <tr>\n",
       "      <th>120</th>\n",
       "      <td>02.10.2021 04:30</td>\n",
       "      <td>FootballFootballENGLAND: Premier League - Round 7</td>\n",
       "      <td>Manchester United</td>\n",
       "      <td>0</td>\n",
       "      <td>75</td>\n",
       "      <td>8</td>\n",
       "      <td>2</td>\n",
       "      <td>5</td>\n",
       "      <td>1</td>\n",
       "      <td>8</td>\n",
       "      <td>...</td>\n",
       "      <td>6</td>\n",
       "      <td>1.0</td>\n",
       "      <td>NaN</td>\n",
       "      <td>109</td>\n",
       "      <td>141</td>\n",
       "      <td>10</td>\n",
       "      <td>31</td>\n",
       "      <td>18</td>\n",
       "      <td>6</td>\n",
       "      <td>cat120</td>\n",
       "    </tr>\n",
       "    <tr>\n",
       "      <th>121</th>\n",
       "      <td>02.10.2021 04:30</td>\n",
       "      <td>FootballFootballENGLAND: Premier League - Round 7</td>\n",
       "      <td>Manchester United</td>\n",
       "      <td>1</td>\n",
       "      <td>67</td>\n",
       "      <td>5</td>\n",
       "      <td>4</td>\n",
       "      <td>1</td>\n",
       "      <td>0</td>\n",
       "      <td>4</td>\n",
       "      <td>...</td>\n",
       "      <td>3</td>\n",
       "      <td>0.0</td>\n",
       "      <td>NaN</td>\n",
       "      <td>159</td>\n",
       "      <td>109</td>\n",
       "      <td>10</td>\n",
       "      <td>42</td>\n",
       "      <td>14</td>\n",
       "      <td>9</td>\n",
       "      <td>cat121</td>\n",
       "    </tr>\n",
       "    <tr>\n",
       "      <th>148</th>\n",
       "      <td>16.10.2021 07:00</td>\n",
       "      <td>FootballFootballENGLAND: Premier League - Round 8</td>\n",
       "      <td>Leicester</td>\n",
       "      <td>3</td>\n",
       "      <td>47</td>\n",
       "      <td>16</td>\n",
       "      <td>8</td>\n",
       "      <td>5</td>\n",
       "      <td>3</td>\n",
       "      <td>11</td>\n",
       "      <td>...</td>\n",
       "      <td>8</td>\n",
       "      <td>3.0</td>\n",
       "      <td>NaN</td>\n",
       "      <td>253</td>\n",
       "      <td>212</td>\n",
       "      <td>7</td>\n",
       "      <td>54</td>\n",
       "      <td>22</td>\n",
       "      <td>8</td>\n",
       "      <td>cat148</td>\n",
       "    </tr>\n",
       "    <tr>\n",
       "      <th>149</th>\n",
       "      <td>16.10.2021 07:00</td>\n",
       "      <td>FootballFootballENGLAND: Premier League - Round 8</td>\n",
       "      <td>Leicester</td>\n",
       "      <td>1</td>\n",
       "      <td>51</td>\n",
       "      <td>6</td>\n",
       "      <td>3</td>\n",
       "      <td>1</td>\n",
       "      <td>2</td>\n",
       "      <td>8</td>\n",
       "      <td>...</td>\n",
       "      <td>9</td>\n",
       "      <td>NaN</td>\n",
       "      <td>NaN</td>\n",
       "      <td>264</td>\n",
       "      <td>233</td>\n",
       "      <td>7</td>\n",
       "      <td>47</td>\n",
       "      <td>30</td>\n",
       "      <td>3</td>\n",
       "      <td>cat149</td>\n",
       "    </tr>\n",
       "    <tr>\n",
       "      <th>178</th>\n",
       "      <td>24.10.2021 08:30</td>\n",
       "      <td>FootballFootballENGLAND: Premier League - Round 9</td>\n",
       "      <td>Manchester United</td>\n",
       "      <td>0</td>\n",
       "      <td>27</td>\n",
       "      <td>3</td>\n",
       "      <td>1</td>\n",
       "      <td>1</td>\n",
       "      <td>1</td>\n",
       "      <td>6</td>\n",
       "      <td>...</td>\n",
       "      <td>6</td>\n",
       "      <td>0.0</td>\n",
       "      <td>0.0</td>\n",
       "      <td>448</td>\n",
       "      <td>413</td>\n",
       "      <td>7</td>\n",
       "      <td>86</td>\n",
       "      <td>22</td>\n",
       "      <td>3</td>\n",
       "      <td>cat178</td>\n",
       "    </tr>\n",
       "    <tr>\n",
       "      <th>179</th>\n",
       "      <td>24.10.2021 08:30</td>\n",
       "      <td>FootballFootballENGLAND: Premier League - Round 9</td>\n",
       "      <td>Manchester United</td>\n",
       "      <td>0</td>\n",
       "      <td>47</td>\n",
       "      <td>9</td>\n",
       "      <td>3</td>\n",
       "      <td>5</td>\n",
       "      <td>1</td>\n",
       "      <td>3</td>\n",
       "      <td>...</td>\n",
       "      <td>2</td>\n",
       "      <td>0.0</td>\n",
       "      <td>NaN</td>\n",
       "      <td>283</td>\n",
       "      <td>239</td>\n",
       "      <td>4</td>\n",
       "      <td>61</td>\n",
       "      <td>18</td>\n",
       "      <td>7</td>\n",
       "      <td>cat179</td>\n",
       "    </tr>\n",
       "    <tr>\n",
       "      <th>192</th>\n",
       "      <td>30.10.2021 09:30</td>\n",
       "      <td>FootballFootballENGLAND: Premier League - Roun...</td>\n",
       "      <td>Tottenham</td>\n",
       "      <td>0</td>\n",
       "      <td>64</td>\n",
       "      <td>2</td>\n",
       "      <td>0</td>\n",
       "      <td>1</td>\n",
       "      <td>1</td>\n",
       "      <td>8</td>\n",
       "      <td>...</td>\n",
       "      <td>7</td>\n",
       "      <td>1.0</td>\n",
       "      <td>NaN</td>\n",
       "      <td>173</td>\n",
       "      <td>129</td>\n",
       "      <td>8</td>\n",
       "      <td>39</td>\n",
       "      <td>9</td>\n",
       "      <td>10</td>\n",
       "      <td>cat12</td>\n",
       "    </tr>\n",
       "    <tr>\n",
       "      <th>193</th>\n",
       "      <td>30.10.2021 09:30</td>\n",
       "      <td>FootballFootballENGLAND: Premier League - Roun...</td>\n",
       "      <td>Tottenham</td>\n",
       "      <td>0</td>\n",
       "      <td>52</td>\n",
       "      <td>7</td>\n",
       "      <td>0</td>\n",
       "      <td>5</td>\n",
       "      <td>2</td>\n",
       "      <td>6</td>\n",
       "      <td>...</td>\n",
       "      <td>7</td>\n",
       "      <td>2.0</td>\n",
       "      <td>NaN</td>\n",
       "      <td>248</td>\n",
       "      <td>205</td>\n",
       "      <td>9</td>\n",
       "      <td>55</td>\n",
       "      <td>23</td>\n",
       "      <td>7</td>\n",
       "      <td>cat13</td>\n",
       "    </tr>\n",
       "    <tr>\n",
       "      <th>202</th>\n",
       "      <td>06.11.2021 13:30</td>\n",
       "      <td>FootballFootballENGLAND: Premier League - Roun...</td>\n",
       "      <td>Manchester United</td>\n",
       "      <td>0</td>\n",
       "      <td>35</td>\n",
       "      <td>2</td>\n",
       "      <td>0</td>\n",
       "      <td>1</td>\n",
       "      <td>1</td>\n",
       "      <td>6</td>\n",
       "      <td>...</td>\n",
       "      <td>4</td>\n",
       "      <td>2.0</td>\n",
       "      <td>NaN</td>\n",
       "      <td>441</td>\n",
       "      <td>399</td>\n",
       "      <td>4</td>\n",
       "      <td>84</td>\n",
       "      <td>36</td>\n",
       "      <td>4</td>\n",
       "      <td>cat2</td>\n",
       "    </tr>\n",
       "    <tr>\n",
       "      <th>203</th>\n",
       "      <td>06.11.2021 13:30</td>\n",
       "      <td>FootballFootballENGLAND: Premier League - Roun...</td>\n",
       "      <td>Manchester United</td>\n",
       "      <td>0</td>\n",
       "      <td>31</td>\n",
       "      <td>3</td>\n",
       "      <td>1</td>\n",
       "      <td>2</td>\n",
       "      <td>0</td>\n",
       "      <td>8</td>\n",
       "      <td>...</td>\n",
       "      <td>8</td>\n",
       "      <td>NaN</td>\n",
       "      <td>NaN</td>\n",
       "      <td>391</td>\n",
       "      <td>354</td>\n",
       "      <td>8</td>\n",
       "      <td>92</td>\n",
       "      <td>49</td>\n",
       "      <td>6</td>\n",
       "      <td>cat3</td>\n",
       "    </tr>\n",
       "    <tr>\n",
       "      <th>224</th>\n",
       "      <td>20.11.2021 16:00</td>\n",
       "      <td>FootballFootballENGLAND: Premier League - Roun...</td>\n",
       "      <td>Watford</td>\n",
       "      <td>2</td>\n",
       "      <td>40</td>\n",
       "      <td>9</td>\n",
       "      <td>3</td>\n",
       "      <td>4</td>\n",
       "      <td>2</td>\n",
       "      <td>6</td>\n",
       "      <td>...</td>\n",
       "      <td>3</td>\n",
       "      <td>2.0</td>\n",
       "      <td>1.0</td>\n",
       "      <td>250</td>\n",
       "      <td>189</td>\n",
       "      <td>9</td>\n",
       "      <td>45</td>\n",
       "      <td>19</td>\n",
       "      <td>9</td>\n",
       "      <td>cat4</td>\n",
       "    </tr>\n",
       "    <tr>\n",
       "      <th>225</th>\n",
       "      <td>20.11.2021 16:00</td>\n",
       "      <td>FootballFootballENGLAND: Premier League - Roun...</td>\n",
       "      <td>Watford</td>\n",
       "      <td>2</td>\n",
       "      <td>38</td>\n",
       "      <td>11</td>\n",
       "      <td>4</td>\n",
       "      <td>2</td>\n",
       "      <td>5</td>\n",
       "      <td>2</td>\n",
       "      <td>...</td>\n",
       "      <td>2</td>\n",
       "      <td>1.0</td>\n",
       "      <td>NaN</td>\n",
       "      <td>303</td>\n",
       "      <td>241</td>\n",
       "      <td>4</td>\n",
       "      <td>39</td>\n",
       "      <td>16</td>\n",
       "      <td>10</td>\n",
       "      <td>cat5</td>\n",
       "    </tr>\n",
       "    <tr>\n",
       "      <th>256</th>\n",
       "      <td>28.11.2021 17:30</td>\n",
       "      <td>FootballFootballENGLAND: Premier League - Roun...</td>\n",
       "      <td>Chelsea</td>\n",
       "      <td>1</td>\n",
       "      <td>64</td>\n",
       "      <td>14</td>\n",
       "      <td>2</td>\n",
       "      <td>6</td>\n",
       "      <td>6</td>\n",
       "      <td>9</td>\n",
       "      <td>...</td>\n",
       "      <td>9</td>\n",
       "      <td>4.0</td>\n",
       "      <td>NaN</td>\n",
       "      <td>150</td>\n",
       "      <td>103</td>\n",
       "      <td>10</td>\n",
       "      <td>44</td>\n",
       "      <td>21</td>\n",
       "      <td>9</td>\n",
       "      <td>cat36</td>\n",
       "    </tr>\n",
       "    <tr>\n",
       "      <th>257</th>\n",
       "      <td>28.11.2021 17:30</td>\n",
       "      <td>FootballFootballENGLAND: Premier League - Roun...</td>\n",
       "      <td>Chelsea</td>\n",
       "      <td>0</td>\n",
       "      <td>68</td>\n",
       "      <td>10</td>\n",
       "      <td>4</td>\n",
       "      <td>4</td>\n",
       "      <td>2</td>\n",
       "      <td>5</td>\n",
       "      <td>...</td>\n",
       "      <td>5</td>\n",
       "      <td>1.0</td>\n",
       "      <td>NaN</td>\n",
       "      <td>168</td>\n",
       "      <td>132</td>\n",
       "      <td>11</td>\n",
       "      <td>37</td>\n",
       "      <td>5</td>\n",
       "      <td>8</td>\n",
       "      <td>cat37</td>\n",
       "    </tr>\n",
       "    <tr>\n",
       "      <th>276</th>\n",
       "      <td>02.12.2021 21:15</td>\n",
       "      <td>FootballFootballENGLAND: Premier League - Roun...</td>\n",
       "      <td>Manchester United</td>\n",
       "      <td>2</td>\n",
       "      <td>33</td>\n",
       "      <td>6</td>\n",
       "      <td>5</td>\n",
       "      <td>0</td>\n",
       "      <td>1</td>\n",
       "      <td>5</td>\n",
       "      <td>...</td>\n",
       "      <td>6</td>\n",
       "      <td>NaN</td>\n",
       "      <td>NaN</td>\n",
       "      <td>316</td>\n",
       "      <td>272</td>\n",
       "      <td>4</td>\n",
       "      <td>60</td>\n",
       "      <td>38</td>\n",
       "      <td>14</td>\n",
       "      <td>cat56</td>\n",
       "    </tr>\n",
       "    <tr>\n",
       "      <th>277</th>\n",
       "      <td>02.12.2021 21:15</td>\n",
       "      <td>FootballFootballENGLAND: Premier League - Roun...</td>\n",
       "      <td>Manchester United</td>\n",
       "      <td>1</td>\n",
       "      <td>57</td>\n",
       "      <td>8</td>\n",
       "      <td>5</td>\n",
       "      <td>3</td>\n",
       "      <td>0</td>\n",
       "      <td>6</td>\n",
       "      <td>...</td>\n",
       "      <td>4</td>\n",
       "      <td>0.0</td>\n",
       "      <td>NaN</td>\n",
       "      <td>210</td>\n",
       "      <td>166</td>\n",
       "      <td>6</td>\n",
       "      <td>48</td>\n",
       "      <td>23</td>\n",
       "      <td>9</td>\n",
       "      <td>cat57</td>\n",
       "    </tr>\n",
       "    <tr>\n",
       "      <th>290</th>\n",
       "      <td>05.12.2021 15:00</td>\n",
       "      <td>FootballFootballENGLAND: Premier League - Roun...</td>\n",
       "      <td>Manchester United</td>\n",
       "      <td>1</td>\n",
       "      <td>56</td>\n",
       "      <td>4</td>\n",
       "      <td>1</td>\n",
       "      <td>3</td>\n",
       "      <td>0</td>\n",
       "      <td>6</td>\n",
       "      <td>...</td>\n",
       "      <td>5</td>\n",
       "      <td>1.0</td>\n",
       "      <td>NaN</td>\n",
       "      <td>174</td>\n",
       "      <td>122</td>\n",
       "      <td>11</td>\n",
       "      <td>43</td>\n",
       "      <td>21</td>\n",
       "      <td>11</td>\n",
       "      <td>cat70</td>\n",
       "    </tr>\n",
       "    <tr>\n",
       "      <th>291</th>\n",
       "      <td>05.12.2021 15:00</td>\n",
       "      <td>FootballFootballENGLAND: Premier League - Roun...</td>\n",
       "      <td>Manchester United</td>\n",
       "      <td>0</td>\n",
       "      <td>66</td>\n",
       "      <td>12</td>\n",
       "      <td>2</td>\n",
       "      <td>4</td>\n",
       "      <td>6</td>\n",
       "      <td>3</td>\n",
       "      <td>...</td>\n",
       "      <td>4</td>\n",
       "      <td>1.0</td>\n",
       "      <td>NaN</td>\n",
       "      <td>157</td>\n",
       "      <td>114</td>\n",
       "      <td>12</td>\n",
       "      <td>34</td>\n",
       "      <td>7</td>\n",
       "      <td>9</td>\n",
       "      <td>cat71</td>\n",
       "    </tr>\n",
       "    <tr>\n",
       "      <th>308</th>\n",
       "      <td>11.12.2021 18:30</td>\n",
       "      <td>FootballFootballENGLAND: Premier League - Roun...</td>\n",
       "      <td>Norwich</td>\n",
       "      <td>0</td>\n",
       "      <td>52</td>\n",
       "      <td>9</td>\n",
       "      <td>4</td>\n",
       "      <td>1</td>\n",
       "      <td>4</td>\n",
       "      <td>11</td>\n",
       "      <td>...</td>\n",
       "      <td>12</td>\n",
       "      <td>1.0</td>\n",
       "      <td>NaN</td>\n",
       "      <td>205</td>\n",
       "      <td>166</td>\n",
       "      <td>10</td>\n",
       "      <td>49</td>\n",
       "      <td>25</td>\n",
       "      <td>8</td>\n",
       "      <td>cat88</td>\n",
       "    </tr>\n",
       "    <tr>\n",
       "      <th>309</th>\n",
       "      <td>11.12.2021 18:30</td>\n",
       "      <td>FootballFootballENGLAND: Premier League - Roun...</td>\n",
       "      <td>Norwich</td>\n",
       "      <td>0</td>\n",
       "      <td>42</td>\n",
       "      <td>2</td>\n",
       "      <td>1</td>\n",
       "      <td>0</td>\n",
       "      <td>1</td>\n",
       "      <td>6</td>\n",
       "      <td>...</td>\n",
       "      <td>5</td>\n",
       "      <td>NaN</td>\n",
       "      <td>NaN</td>\n",
       "      <td>296</td>\n",
       "      <td>243</td>\n",
       "      <td>11</td>\n",
       "      <td>70</td>\n",
       "      <td>29</td>\n",
       "      <td>10</td>\n",
       "      <td>cat89</td>\n",
       "    </tr>\n",
       "    <tr>\n",
       "      <th>350</th>\n",
       "      <td>27.12.2021 21:00</td>\n",
       "      <td>FootballFootballENGLAND: Premier League - Roun...</td>\n",
       "      <td>Newcastle United</td>\n",
       "      <td>0</td>\n",
       "      <td>29</td>\n",
       "      <td>9</td>\n",
       "      <td>6</td>\n",
       "      <td>2</td>\n",
       "      <td>1</td>\n",
       "      <td>3</td>\n",
       "      <td>...</td>\n",
       "      <td>3</td>\n",
       "      <td>3.0</td>\n",
       "      <td>NaN</td>\n",
       "      <td>282</td>\n",
       "      <td>225</td>\n",
       "      <td>5</td>\n",
       "      <td>63</td>\n",
       "      <td>33</td>\n",
       "      <td>18</td>\n",
       "      <td>cat12</td>\n",
       "    </tr>\n",
       "    <tr>\n",
       "      <th>351</th>\n",
       "      <td>27.12.2021 21:00</td>\n",
       "      <td>FootballFootballENGLAND: Premier League - Roun...</td>\n",
       "      <td>Newcastle United</td>\n",
       "      <td>1</td>\n",
       "      <td>31</td>\n",
       "      <td>4</td>\n",
       "      <td>2</td>\n",
       "      <td>1</td>\n",
       "      <td>1</td>\n",
       "      <td>5</td>\n",
       "      <td>...</td>\n",
       "      <td>5</td>\n",
       "      <td>NaN</td>\n",
       "      <td>NaN</td>\n",
       "      <td>284</td>\n",
       "      <td>223</td>\n",
       "      <td>12</td>\n",
       "      <td>78</td>\n",
       "      <td>22</td>\n",
       "      <td>12</td>\n",
       "      <td>cat13</td>\n",
       "    </tr>\n",
       "    <tr>\n",
       "      <th>364</th>\n",
       "      <td>30.12.2021 21:15</td>\n",
       "      <td>FootballFootballENGLAND: Premier League - Roun...</td>\n",
       "      <td>Manchester United</td>\n",
       "      <td>0</td>\n",
       "      <td>57</td>\n",
       "      <td>6</td>\n",
       "      <td>2</td>\n",
       "      <td>3</td>\n",
       "      <td>1</td>\n",
       "      <td>5</td>\n",
       "      <td>...</td>\n",
       "      <td>4</td>\n",
       "      <td>NaN</td>\n",
       "      <td>NaN</td>\n",
       "      <td>182</td>\n",
       "      <td>135</td>\n",
       "      <td>7</td>\n",
       "      <td>42</td>\n",
       "      <td>20</td>\n",
       "      <td>7</td>\n",
       "      <td>cat0</td>\n",
       "    </tr>\n",
       "    <tr>\n",
       "      <th>365</th>\n",
       "      <td>30.12.2021 21:15</td>\n",
       "      <td>FootballFootballENGLAND: Premier League - Roun...</td>\n",
       "      <td>Manchester United</td>\n",
       "      <td>3</td>\n",
       "      <td>57</td>\n",
       "      <td>12</td>\n",
       "      <td>4</td>\n",
       "      <td>6</td>\n",
       "      <td>2</td>\n",
       "      <td>8</td>\n",
       "      <td>...</td>\n",
       "      <td>6</td>\n",
       "      <td>NaN</td>\n",
       "      <td>NaN</td>\n",
       "      <td>173</td>\n",
       "      <td>133</td>\n",
       "      <td>7</td>\n",
       "      <td>61</td>\n",
       "      <td>21</td>\n",
       "      <td>5</td>\n",
       "      <td>cat1</td>\n",
       "    </tr>\n",
       "    <tr>\n",
       "      <th>380</th>\n",
       "      <td>03.01.2022 18:30</td>\n",
       "      <td>FootballFootballENGLAND: Premier League - Roun...</td>\n",
       "      <td>Manchester United</td>\n",
       "      <td>0</td>\n",
       "      <td>56</td>\n",
       "      <td>5</td>\n",
       "      <td>1</td>\n",
       "      <td>3</td>\n",
       "      <td>1</td>\n",
       "      <td>7</td>\n",
       "      <td>...</td>\n",
       "      <td>6</td>\n",
       "      <td>1.0</td>\n",
       "      <td>NaN</td>\n",
       "      <td>195</td>\n",
       "      <td>148</td>\n",
       "      <td>5</td>\n",
       "      <td>39</td>\n",
       "      <td>27</td>\n",
       "      <td>8</td>\n",
       "      <td>cat16</td>\n",
       "    </tr>\n",
       "    <tr>\n",
       "      <th>381</th>\n",
       "      <td>03.01.2022 18:30</td>\n",
       "      <td>FootballFootballENGLAND: Premier League - Roun...</td>\n",
       "      <td>Manchester United</td>\n",
       "      <td>0</td>\n",
       "      <td>46</td>\n",
       "      <td>4</td>\n",
       "      <td>1</td>\n",
       "      <td>1</td>\n",
       "      <td>2</td>\n",
       "      <td>4</td>\n",
       "      <td>...</td>\n",
       "      <td>2</td>\n",
       "      <td>NaN</td>\n",
       "      <td>NaN</td>\n",
       "      <td>262</td>\n",
       "      <td>224</td>\n",
       "      <td>8</td>\n",
       "      <td>73</td>\n",
       "      <td>35</td>\n",
       "      <td>11</td>\n",
       "      <td>cat17</td>\n",
       "    </tr>\n",
       "    <tr>\n",
       "      <th>396</th>\n",
       "      <td>15.01.2022 18:30</td>\n",
       "      <td>FootballFootballENGLAND: Premier League - Roun...</td>\n",
       "      <td>Aston Villa</td>\n",
       "      <td>2</td>\n",
       "      <td>65</td>\n",
       "      <td>9</td>\n",
       "      <td>6</td>\n",
       "      <td>3</td>\n",
       "      <td>0</td>\n",
       "      <td>9</td>\n",
       "      <td>...</td>\n",
       "      <td>8</td>\n",
       "      <td>1.0</td>\n",
       "      <td>NaN</td>\n",
       "      <td>181</td>\n",
       "      <td>135</td>\n",
       "      <td>10</td>\n",
       "      <td>29</td>\n",
       "      <td>7</td>\n",
       "      <td>11</td>\n",
       "      <td>cat10</td>\n",
       "    </tr>\n",
       "    <tr>\n",
       "      <th>397</th>\n",
       "      <td>15.01.2022 18:30</td>\n",
       "      <td>FootballFootballENGLAND: Premier League - Roun...</td>\n",
       "      <td>Aston Villa</td>\n",
       "      <td>0</td>\n",
       "      <td>45</td>\n",
       "      <td>4</td>\n",
       "      <td>3</td>\n",
       "      <td>1</td>\n",
       "      <td>0</td>\n",
       "      <td>5</td>\n",
       "      <td>...</td>\n",
       "      <td>5</td>\n",
       "      <td>1.0</td>\n",
       "      <td>NaN</td>\n",
       "      <td>270</td>\n",
       "      <td>233</td>\n",
       "      <td>12</td>\n",
       "      <td>61</td>\n",
       "      <td>20</td>\n",
       "      <td>12</td>\n",
       "      <td>cat11</td>\n",
       "    </tr>\n",
       "    <tr>\n",
       "      <th>406</th>\n",
       "      <td>19.01.2022 21:00</td>\n",
       "      <td>FootballFootballENGLAND: Premier League - Roun...</td>\n",
       "      <td>Brentford</td>\n",
       "      <td>1</td>\n",
       "      <td>54</td>\n",
       "      <td>10</td>\n",
       "      <td>5</td>\n",
       "      <td>2</td>\n",
       "      <td>3</td>\n",
       "      <td>4</td>\n",
       "      <td>...</td>\n",
       "      <td>4</td>\n",
       "      <td>NaN</td>\n",
       "      <td>NaN</td>\n",
       "      <td>238</td>\n",
       "      <td>174</td>\n",
       "      <td>8</td>\n",
       "      <td>50</td>\n",
       "      <td>27</td>\n",
       "      <td>7</td>\n",
       "      <td>cat4</td>\n",
       "    </tr>\n",
       "    <tr>\n",
       "      <th>407</th>\n",
       "      <td>19.01.2022 21:00</td>\n",
       "      <td>FootballFootballENGLAND: Premier League - Roun...</td>\n",
       "      <td>Brentford</td>\n",
       "      <td>0</td>\n",
       "      <td>32</td>\n",
       "      <td>8</td>\n",
       "      <td>3</td>\n",
       "      <td>2</td>\n",
       "      <td>3</td>\n",
       "      <td>5</td>\n",
       "      <td>...</td>\n",
       "      <td>5</td>\n",
       "      <td>NaN</td>\n",
       "      <td>NaN</td>\n",
       "      <td>281</td>\n",
       "      <td>237</td>\n",
       "      <td>11</td>\n",
       "      <td>61</td>\n",
       "      <td>31</td>\n",
       "      <td>1</td>\n",
       "      <td>cat5</td>\n",
       "    </tr>\n",
       "    <tr>\n",
       "      <th>412</th>\n",
       "      <td>22.01.2022 16:00</td>\n",
       "      <td>FootballFootballENGLAND: Premier League - Roun...</td>\n",
       "      <td>Manchester United</td>\n",
       "      <td>1</td>\n",
       "      <td>59</td>\n",
       "      <td>13</td>\n",
       "      <td>3</td>\n",
       "      <td>8</td>\n",
       "      <td>2</td>\n",
       "      <td>4</td>\n",
       "      <td>...</td>\n",
       "      <td>4</td>\n",
       "      <td>1.0</td>\n",
       "      <td>NaN</td>\n",
       "      <td>173</td>\n",
       "      <td>124</td>\n",
       "      <td>3</td>\n",
       "      <td>51</td>\n",
       "      <td>21</td>\n",
       "      <td>3</td>\n",
       "      <td>cat4</td>\n",
       "    </tr>\n",
       "    <tr>\n",
       "      <th>413</th>\n",
       "      <td>22.01.2022 16:00</td>\n",
       "      <td>FootballFootballENGLAND: Premier League - Roun...</td>\n",
       "      <td>Manchester United</td>\n",
       "      <td>0</td>\n",
       "      <td>55</td>\n",
       "      <td>5</td>\n",
       "      <td>0</td>\n",
       "      <td>1</td>\n",
       "      <td>4</td>\n",
       "      <td>4</td>\n",
       "      <td>...</td>\n",
       "      <td>4</td>\n",
       "      <td>NaN</td>\n",
       "      <td>NaN</td>\n",
       "      <td>240</td>\n",
       "      <td>184</td>\n",
       "      <td>6</td>\n",
       "      <td>59</td>\n",
       "      <td>21</td>\n",
       "      <td>17</td>\n",
       "      <td>cat5</td>\n",
       "    </tr>\n",
       "  </tbody>\n",
       "</table>\n",
       "<p>44 rows × 45 columns</p>\n",
       "</div>"
      ],
      "text/plain": [
       "           H_datetime                                         H_gameinfo  \\\n",
       "2    14.08.2021 04:30  FootballFootballENGLAND: Premier League - Round 1   \n",
       "3    14.08.2021 04:30  FootballFootballENGLAND: Premier League - Round 1   \n",
       "34   22.08.2021 06:00  FootballFootballENGLAND: Premier League - Round 2   \n",
       "35   22.08.2021 06:00  FootballFootballENGLAND: Premier League - Round 2   \n",
       "58   29.08.2021 08:30  FootballFootballENGLAND: Premier League - Round 3   \n",
       "59   29.08.2021 08:30  FootballFootballENGLAND: Premier League - Round 3   \n",
       "66   11.09.2021 07:00  FootballFootballENGLAND: Premier League - Round 4   \n",
       "67   11.09.2021 07:00  FootballFootballENGLAND: Premier League - Round 4   \n",
       "94   19.09.2021 06:00  FootballFootballENGLAND: Premier League - Round 5   \n",
       "95   19.09.2021 06:00  FootballFootballENGLAND: Premier League - Round 5   \n",
       "100  25.09.2021 04:30  FootballFootballENGLAND: Premier League - Round 6   \n",
       "101  25.09.2021 04:30  FootballFootballENGLAND: Premier League - Round 6   \n",
       "120  02.10.2021 04:30  FootballFootballENGLAND: Premier League - Round 7   \n",
       "121  02.10.2021 04:30  FootballFootballENGLAND: Premier League - Round 7   \n",
       "148  16.10.2021 07:00  FootballFootballENGLAND: Premier League - Round 8   \n",
       "149  16.10.2021 07:00  FootballFootballENGLAND: Premier League - Round 8   \n",
       "178  24.10.2021 08:30  FootballFootballENGLAND: Premier League - Round 9   \n",
       "179  24.10.2021 08:30  FootballFootballENGLAND: Premier League - Round 9   \n",
       "192  30.10.2021 09:30  FootballFootballENGLAND: Premier League - Roun...   \n",
       "193  30.10.2021 09:30  FootballFootballENGLAND: Premier League - Roun...   \n",
       "202  06.11.2021 13:30  FootballFootballENGLAND: Premier League - Roun...   \n",
       "203  06.11.2021 13:30  FootballFootballENGLAND: Premier League - Roun...   \n",
       "224  20.11.2021 16:00  FootballFootballENGLAND: Premier League - Roun...   \n",
       "225  20.11.2021 16:00  FootballFootballENGLAND: Premier League - Roun...   \n",
       "256  28.11.2021 17:30  FootballFootballENGLAND: Premier League - Roun...   \n",
       "257  28.11.2021 17:30  FootballFootballENGLAND: Premier League - Roun...   \n",
       "276  02.12.2021 21:15  FootballFootballENGLAND: Premier League - Roun...   \n",
       "277  02.12.2021 21:15  FootballFootballENGLAND: Premier League - Roun...   \n",
       "290  05.12.2021 15:00  FootballFootballENGLAND: Premier League - Roun...   \n",
       "291  05.12.2021 15:00  FootballFootballENGLAND: Premier League - Roun...   \n",
       "308  11.12.2021 18:30  FootballFootballENGLAND: Premier League - Roun...   \n",
       "309  11.12.2021 18:30  FootballFootballENGLAND: Premier League - Roun...   \n",
       "350  27.12.2021 21:00  FootballFootballENGLAND: Premier League - Roun...   \n",
       "351  27.12.2021 21:00  FootballFootballENGLAND: Premier League - Roun...   \n",
       "364  30.12.2021 21:15  FootballFootballENGLAND: Premier League - Roun...   \n",
       "365  30.12.2021 21:15  FootballFootballENGLAND: Premier League - Roun...   \n",
       "380  03.01.2022 18:30  FootballFootballENGLAND: Premier League - Roun...   \n",
       "381  03.01.2022 18:30  FootballFootballENGLAND: Premier League - Roun...   \n",
       "396  15.01.2022 18:30  FootballFootballENGLAND: Premier League - Roun...   \n",
       "397  15.01.2022 18:30  FootballFootballENGLAND: Premier League - Roun...   \n",
       "406  19.01.2022 21:00  FootballFootballENGLAND: Premier League - Roun...   \n",
       "407  19.01.2022 21:00  FootballFootballENGLAND: Premier League - Roun...   \n",
       "412  22.01.2022 16:00  FootballFootballENGLAND: Premier League - Roun...   \n",
       "413  22.01.2022 16:00  FootballFootballENGLAND: Premier League - Roun...   \n",
       "\n",
       "           H_Teamnames  H_Goals  H_Ball Possession  H_Goal Attempts  \\\n",
       "2    Manchester United        4                 52                5   \n",
       "3    Manchester United        1                 46               11   \n",
       "34         Southampton        0                 37                4   \n",
       "35         Southampton        1                 35                4   \n",
       "58              Wolves        0                 44                6   \n",
       "59              Wolves        0                 44                9   \n",
       "66   Manchester United        3                 58                6   \n",
       "67   Manchester United        1                 70               15   \n",
       "94            West Ham        0                 44                7   \n",
       "95            West Ham        1                 36                6   \n",
       "100  Manchester United        0                 58               13   \n",
       "101  Manchester United        0                 60               15   \n",
       "120  Manchester United        0                 75                8   \n",
       "121  Manchester United        1                 67                5   \n",
       "148          Leicester        3                 47               16   \n",
       "149          Leicester        1                 51                6   \n",
       "178  Manchester United        0                 27                3   \n",
       "179  Manchester United        0                 47                9   \n",
       "192          Tottenham        0                 64                2   \n",
       "193          Tottenham        0                 52                7   \n",
       "202  Manchester United        0                 35                2   \n",
       "203  Manchester United        0                 31                3   \n",
       "224            Watford        2                 40                9   \n",
       "225            Watford        2                 38               11   \n",
       "256            Chelsea        1                 64               14   \n",
       "257            Chelsea        0                 68               10   \n",
       "276  Manchester United        2                 33                6   \n",
       "277  Manchester United        1                 57                8   \n",
       "290  Manchester United        1                 56                4   \n",
       "291  Manchester United        0                 66               12   \n",
       "308            Norwich        0                 52                9   \n",
       "309            Norwich        0                 42                2   \n",
       "350   Newcastle United        0                 29                9   \n",
       "351   Newcastle United        1                 31                4   \n",
       "364  Manchester United        0                 57                6   \n",
       "365  Manchester United        3                 57               12   \n",
       "380  Manchester United        0                 56                5   \n",
       "381  Manchester United        0                 46                4   \n",
       "396        Aston Villa        2                 65                9   \n",
       "397        Aston Villa        0                 45                4   \n",
       "406          Brentford        1                 54               10   \n",
       "407          Brentford        0                 32                8   \n",
       "412  Manchester United        1                 59               13   \n",
       "413  Manchester United        0                 55                5   \n",
       "\n",
       "     H_Shots on Goal  H_Shots off Goal  H_Blocked Shots  H_Free Kicks  ...  \\\n",
       "2                  4                 1                0             7  ...   \n",
       "3                  4                 4                3             5  ...   \n",
       "34                 2                 2                0             6  ...   \n",
       "35                 1                 2                1             7  ...   \n",
       "58                 3                 3                0             6  ...   \n",
       "59                 3                 3                3             7  ...   \n",
       "66                 4                 1                1             2  ...   \n",
       "67                 3                 8                4             3  ...   \n",
       "94                 2                 2                3             5  ...   \n",
       "95                 2                 3                1             2  ...   \n",
       "100                2                 7                4             8  ...   \n",
       "101                2                 4                9             6  ...   \n",
       "120                2                 5                1             8  ...   \n",
       "121                4                 1                0             4  ...   \n",
       "148                8                 5                3            11  ...   \n",
       "149                3                 1                2             8  ...   \n",
       "178                1                 1                1             6  ...   \n",
       "179                3                 5                1             3  ...   \n",
       "192                0                 1                1             8  ...   \n",
       "193                0                 5                2             6  ...   \n",
       "202                0                 1                1             6  ...   \n",
       "203                1                 2                0             8  ...   \n",
       "224                3                 4                2             6  ...   \n",
       "225                4                 2                5             2  ...   \n",
       "256                2                 6                6             9  ...   \n",
       "257                4                 4                2             5  ...   \n",
       "276                5                 0                1             5  ...   \n",
       "277                5                 3                0             6  ...   \n",
       "290                1                 3                0             6  ...   \n",
       "291                2                 4                6             3  ...   \n",
       "308                4                 1                4            11  ...   \n",
       "309                1                 0                1             6  ...   \n",
       "350                6                 2                1             3  ...   \n",
       "351                2                 1                1             5  ...   \n",
       "364                2                 3                1             5  ...   \n",
       "365                4                 6                2             8  ...   \n",
       "380                1                 3                1             7  ...   \n",
       "381                1                 1                2             4  ...   \n",
       "396                6                 3                0             9  ...   \n",
       "397                3                 1                0             5  ...   \n",
       "406                5                 2                3             4  ...   \n",
       "407                3                 2                3             5  ...   \n",
       "412                3                 8                2             4  ...   \n",
       "413                0                 1                4             4  ...   \n",
       "\n",
       "     A_Fouls  A_Yellow Cards  A_Red Cards  A_Total Passes  A_Completed Passes  \\\n",
       "2          6             2.0          NaN             209                 155   \n",
       "3          3             NaN          NaN             229                 178   \n",
       "34         4             2.0          NaN             264                 210   \n",
       "35         6             1.0          NaN             256                 204   \n",
       "58         4             3.0          NaN             281                 240   \n",
       "59         5             1.0          NaN             271                 238   \n",
       "66         0             0.0          NaN             221                 181   \n",
       "67         2             NaN          NaN             144                 106   \n",
       "94         6             NaN          NaN             294                 248   \n",
       "95         2             NaN          NaN             330                 307   \n",
       "100        7             2.0          NaN             133                  86   \n",
       "101        6             0.0          NaN             138                 101   \n",
       "120        6             1.0          NaN             109                 141   \n",
       "121        3             0.0          NaN             159                 109   \n",
       "148        8             3.0          NaN             253                 212   \n",
       "149        9             NaN          NaN             264                 233   \n",
       "178        6             0.0          0.0             448                 413   \n",
       "179        2             0.0          NaN             283                 239   \n",
       "192        7             1.0          NaN             173                 129   \n",
       "193        7             2.0          NaN             248                 205   \n",
       "202        4             2.0          NaN             441                 399   \n",
       "203        8             NaN          NaN             391                 354   \n",
       "224        3             2.0          1.0             250                 189   \n",
       "225        2             1.0          NaN             303                 241   \n",
       "256        9             4.0          NaN             150                 103   \n",
       "257        5             1.0          NaN             168                 132   \n",
       "276        6             NaN          NaN             316                 272   \n",
       "277        4             0.0          NaN             210                 166   \n",
       "290        5             1.0          NaN             174                 122   \n",
       "291        4             1.0          NaN             157                 114   \n",
       "308       12             1.0          NaN             205                 166   \n",
       "309        5             NaN          NaN             296                 243   \n",
       "350        3             3.0          NaN             282                 225   \n",
       "351        5             NaN          NaN             284                 223   \n",
       "364        4             NaN          NaN             182                 135   \n",
       "365        6             NaN          NaN             173                 133   \n",
       "380        6             1.0          NaN             195                 148   \n",
       "381        2             NaN          NaN             262                 224   \n",
       "396        8             1.0          NaN             181                 135   \n",
       "397        5             1.0          NaN             270                 233   \n",
       "406        4             NaN          NaN             238                 174   \n",
       "407        5             NaN          NaN             281                 237   \n",
       "412        4             1.0          NaN             173                 124   \n",
       "413        4             NaN          NaN             240                 184   \n",
       "\n",
       "     A_Tackles  A_Attacks  A_Dangerous Attacks  A_Throw-in   H_cat  \n",
       "2           10         48                   14          11    cat2  \n",
       "3           13         43                   21           6    cat3  \n",
       "34           9         58                   25           8   cat34  \n",
       "35          10         47                   25          10   cat35  \n",
       "58           4         56                   32           8   cat58  \n",
       "59           4         62                   12           6   cat59  \n",
       "66           8         35                    9           6   cat66  \n",
       "67           9         37                   18          13   cat67  \n",
       "94           8         73                   32           8   cat94  \n",
       "95           6         61                   43           5   cat95  \n",
       "100          4         52                   20           9  cat100  \n",
       "101          5         43                   22          16  cat101  \n",
       "120         10         31                   18           6  cat120  \n",
       "121         10         42                   14           9  cat121  \n",
       "148          7         54                   22           8  cat148  \n",
       "149          7         47                   30           3  cat149  \n",
       "178          7         86                   22           3  cat178  \n",
       "179          4         61                   18           7  cat179  \n",
       "192          8         39                    9          10   cat12  \n",
       "193          9         55                   23           7   cat13  \n",
       "202          4         84                   36           4    cat2  \n",
       "203          8         92                   49           6    cat3  \n",
       "224          9         45                   19           9    cat4  \n",
       "225          4         39                   16          10    cat5  \n",
       "256         10         44                   21           9   cat36  \n",
       "257         11         37                    5           8   cat37  \n",
       "276          4         60                   38          14   cat56  \n",
       "277          6         48                   23           9   cat57  \n",
       "290         11         43                   21          11   cat70  \n",
       "291         12         34                    7           9   cat71  \n",
       "308         10         49                   25           8   cat88  \n",
       "309         11         70                   29          10   cat89  \n",
       "350          5         63                   33          18   cat12  \n",
       "351         12         78                   22          12   cat13  \n",
       "364          7         42                   20           7    cat0  \n",
       "365          7         61                   21           5    cat1  \n",
       "380          5         39                   27           8   cat16  \n",
       "381          8         73                   35          11   cat17  \n",
       "396         10         29                    7          11   cat10  \n",
       "397         12         61                   20          12   cat11  \n",
       "406          8         50                   27           7    cat4  \n",
       "407         11         61                   31           1    cat5  \n",
       "412          3         51                   21           3    cat4  \n",
       "413          6         59                   21          17    cat5  \n",
       "\n",
       "[44 rows x 45 columns]"
      ]
     },
     "execution_count": 66,
     "metadata": {},
     "output_type": "execute_result"
    }
   ],
   "source": [
    "df = process_team_names_of_df(df)\n",
    "df"
   ]
  },
  {
   "cell_type": "code",
   "execution_count": 67,
   "metadata": {},
   "outputs": [
    {
     "data": {
      "text/plain": [
       "'Manchester United'"
      ]
     },
     "execution_count": 67,
     "metadata": {},
     "output_type": "execute_result"
    }
   ],
   "source": [
    "team"
   ]
  },
  {
   "cell_type": "code",
   "execution_count": 68,
   "metadata": {},
   "outputs": [],
   "source": [
    "dfxg = load_xg_gamestats_sql(saison, team)\n",
    "\n",
    "# rename columns for\n",
    "dfxg_rename = dfxg.rename(\n",
    "    columns={'TEAMS': 'H_Teamnames', 'A_TEAMS': 'A_Teamnames'})\n",
    "# del dfxg\n",
    "\n",
    "dfxg_df_merged = pd.merge(\n",
    "    df, dfxg_rename, on=[\"H_Teamnames\", \"A_Teamnames\"])\n",
    "dfxg_df_merged = dfxg_df_merged.drop_duplicates()\n",
    "\n",
    "# %%\n",
    "df = dfxg_df_merged\n",
    "\n",
    "dfxg_df_merged_cleaned = df_cleaning_converting(df)\n",
    "\n",
    "df4Home, df4OpponentReversed = df_specific_team(\n",
    "    dfxg_df_merged_cleaned, team)\n",
    "\n",
    "df4Complete = create_df4Complete(df4Home, df4OpponentReversed)"
   ]
  },
  {
   "cell_type": "code",
   "execution_count": 69,
   "metadata": {},
   "outputs": [
    {
     "data": {
      "text/html": [
       "<div>\n",
       "<style scoped>\n",
       "    .dataframe tbody tr th:only-of-type {\n",
       "        vertical-align: middle;\n",
       "    }\n",
       "\n",
       "    .dataframe tbody tr th {\n",
       "        vertical-align: top;\n",
       "    }\n",
       "\n",
       "    .dataframe thead th {\n",
       "        text-align: right;\n",
       "    }\n",
       "</style>\n",
       "<table border=\"1\" class=\"dataframe\">\n",
       "  <thead>\n",
       "    <tr style=\"text-align: right;\">\n",
       "      <th></th>\n",
       "      <th>Home</th>\n",
       "      <th>Opponent</th>\n",
       "      <th>R</th>\n",
       "      <th>G-H</th>\n",
       "      <th>G-A</th>\n",
       "      <th>BP-H</th>\n",
       "      <th>BP-A</th>\n",
       "      <th>GA-H</th>\n",
       "      <th>GA-A</th>\n",
       "      <th>SoG-H</th>\n",
       "      <th>...</th>\n",
       "      <th>xG</th>\n",
       "      <th>GOALS</th>\n",
       "      <th>xPTS</th>\n",
       "      <th>A_xG</th>\n",
       "      <th>A_GOALS</th>\n",
       "      <th>A_xPTS</th>\n",
       "      <th>1x2</th>\n",
       "      <th>GoalDiff</th>\n",
       "      <th>BPTypes</th>\n",
       "      <th>timestamp</th>\n",
       "    </tr>\n",
       "  </thead>\n",
       "  <tbody>\n",
       "    <tr>\n",
       "      <th>42</th>\n",
       "      <td>Manchester United</td>\n",
       "      <td>West Ham</td>\n",
       "      <td>D</td>\n",
       "      <td>1.0</td>\n",
       "      <td>0.0</td>\n",
       "      <td>59.0</td>\n",
       "      <td>41.0</td>\n",
       "      <td>5</td>\n",
       "      <td>13</td>\n",
       "      <td>3</td>\n",
       "      <td>...</td>\n",
       "      <td>1.8</td>\n",
       "      <td>1</td>\n",
       "      <td>2.7</td>\n",
       "      <td>0.2</td>\n",
       "      <td>0</td>\n",
       "      <td>0.1</td>\n",
       "      <td>W</td>\n",
       "      <td>1.0</td>\n",
       "      <td>&gt;55</td>\n",
       "      <td>1642867200</td>\n",
       "    </tr>\n",
       "    <tr>\n",
       "      <th>43</th>\n",
       "      <td>Manchester United</td>\n",
       "      <td>West Ham</td>\n",
       "      <td>D</td>\n",
       "      <td>0.0</td>\n",
       "      <td>0.0</td>\n",
       "      <td>55.0</td>\n",
       "      <td>45.0</td>\n",
       "      <td>1</td>\n",
       "      <td>5</td>\n",
       "      <td>0</td>\n",
       "      <td>...</td>\n",
       "      <td>1.8</td>\n",
       "      <td>1</td>\n",
       "      <td>2.7</td>\n",
       "      <td>0.2</td>\n",
       "      <td>0</td>\n",
       "      <td>0.1</td>\n",
       "      <td>D</td>\n",
       "      <td>0.0</td>\n",
       "      <td>45-55</td>\n",
       "      <td>1642867200</td>\n",
       "    </tr>\n",
       "    <tr>\n",
       "      <th>40</th>\n",
       "      <td>Manchester United</td>\n",
       "      <td>Brentford</td>\n",
       "      <td>A</td>\n",
       "      <td>3.0</td>\n",
       "      <td>1.0</td>\n",
       "      <td>46.0</td>\n",
       "      <td>54.0</td>\n",
       "      <td>10</td>\n",
       "      <td>9</td>\n",
       "      <td>5</td>\n",
       "      <td>...</td>\n",
       "      <td>2.1</td>\n",
       "      <td>3</td>\n",
       "      <td>1.4</td>\n",
       "      <td>2.1</td>\n",
       "      <td>1</td>\n",
       "      <td>1.4</td>\n",
       "      <td>W</td>\n",
       "      <td>2.0</td>\n",
       "      <td>45-55</td>\n",
       "      <td>1642626000</td>\n",
       "    </tr>\n",
       "    <tr>\n",
       "      <th>41</th>\n",
       "      <td>Manchester United</td>\n",
       "      <td>Brentford</td>\n",
       "      <td>D</td>\n",
       "      <td>0.0</td>\n",
       "      <td>0.0</td>\n",
       "      <td>68.0</td>\n",
       "      <td>32.0</td>\n",
       "      <td>8</td>\n",
       "      <td>4</td>\n",
       "      <td>0</td>\n",
       "      <td>...</td>\n",
       "      <td>2.1</td>\n",
       "      <td>3</td>\n",
       "      <td>1.4</td>\n",
       "      <td>2.1</td>\n",
       "      <td>1</td>\n",
       "      <td>1.4</td>\n",
       "      <td>D</td>\n",
       "      <td>0.0</td>\n",
       "      <td>&gt;55</td>\n",
       "      <td>1642626000</td>\n",
       "    </tr>\n",
       "    <tr>\n",
       "      <th>38</th>\n",
       "      <td>Manchester United</td>\n",
       "      <td>Aston Villa</td>\n",
       "      <td>D</td>\n",
       "      <td>1.0</td>\n",
       "      <td>2.0</td>\n",
       "      <td>35.0</td>\n",
       "      <td>65.0</td>\n",
       "      <td>9</td>\n",
       "      <td>6</td>\n",
       "      <td>2</td>\n",
       "      <td>...</td>\n",
       "      <td>1.4</td>\n",
       "      <td>2</td>\n",
       "      <td>1.0</td>\n",
       "      <td>1.8</td>\n",
       "      <td>2</td>\n",
       "      <td>1.8</td>\n",
       "      <td>L</td>\n",
       "      <td>-1.0</td>\n",
       "      <td>&lt;45</td>\n",
       "      <td>1642271400</td>\n",
       "    </tr>\n",
       "    <tr>\n",
       "      <th>39</th>\n",
       "      <td>Manchester United</td>\n",
       "      <td>Aston Villa</td>\n",
       "      <td>A</td>\n",
       "      <td>1.0</td>\n",
       "      <td>0.0</td>\n",
       "      <td>55.0</td>\n",
       "      <td>45.0</td>\n",
       "      <td>4</td>\n",
       "      <td>7</td>\n",
       "      <td>4</td>\n",
       "      <td>...</td>\n",
       "      <td>1.4</td>\n",
       "      <td>2</td>\n",
       "      <td>1.0</td>\n",
       "      <td>1.8</td>\n",
       "      <td>2</td>\n",
       "      <td>1.8</td>\n",
       "      <td>W</td>\n",
       "      <td>1.0</td>\n",
       "      <td>45-55</td>\n",
       "      <td>1642271400</td>\n",
       "    </tr>\n",
       "    <tr>\n",
       "      <th>36</th>\n",
       "      <td>Manchester United</td>\n",
       "      <td>Wolves</td>\n",
       "      <td>A</td>\n",
       "      <td>0.0</td>\n",
       "      <td>1.0</td>\n",
       "      <td>56.0</td>\n",
       "      <td>44.0</td>\n",
       "      <td>5</td>\n",
       "      <td>5</td>\n",
       "      <td>1</td>\n",
       "      <td>...</td>\n",
       "      <td>0.8</td>\n",
       "      <td>0</td>\n",
       "      <td>1.2</td>\n",
       "      <td>0.8</td>\n",
       "      <td>1</td>\n",
       "      <td>1.4</td>\n",
       "      <td>L</td>\n",
       "      <td>-1.0</td>\n",
       "      <td>&gt;55</td>\n",
       "      <td>1641234600</td>\n",
       "    </tr>\n",
       "    <tr>\n",
       "      <th>37</th>\n",
       "      <td>Manchester United</td>\n",
       "      <td>Wolves</td>\n",
       "      <td>D</td>\n",
       "      <td>0.0</td>\n",
       "      <td>0.0</td>\n",
       "      <td>46.0</td>\n",
       "      <td>54.0</td>\n",
       "      <td>14</td>\n",
       "      <td>4</td>\n",
       "      <td>1</td>\n",
       "      <td>...</td>\n",
       "      <td>0.8</td>\n",
       "      <td>0</td>\n",
       "      <td>1.2</td>\n",
       "      <td>0.8</td>\n",
       "      <td>1</td>\n",
       "      <td>1.4</td>\n",
       "      <td>D</td>\n",
       "      <td>0.0</td>\n",
       "      <td>45-55</td>\n",
       "      <td>1641234600</td>\n",
       "    </tr>\n",
       "    <tr>\n",
       "      <th>34</th>\n",
       "      <td>Manchester United</td>\n",
       "      <td>Burnley</td>\n",
       "      <td>D</td>\n",
       "      <td>0.0</td>\n",
       "      <td>0.0</td>\n",
       "      <td>57.0</td>\n",
       "      <td>43.0</td>\n",
       "      <td>4</td>\n",
       "      <td>6</td>\n",
       "      <td>2</td>\n",
       "      <td>...</td>\n",
       "      <td>1.8</td>\n",
       "      <td>3</td>\n",
       "      <td>2.1</td>\n",
       "      <td>0.9</td>\n",
       "      <td>1</td>\n",
       "      <td>0.7</td>\n",
       "      <td>D</td>\n",
       "      <td>0.0</td>\n",
       "      <td>&gt;55</td>\n",
       "      <td>1640898900</td>\n",
       "    </tr>\n",
       "    <tr>\n",
       "      <th>35</th>\n",
       "      <td>Manchester United</td>\n",
       "      <td>Burnley</td>\n",
       "      <td>D</td>\n",
       "      <td>3.0</td>\n",
       "      <td>1.0</td>\n",
       "      <td>57.0</td>\n",
       "      <td>43.0</td>\n",
       "      <td>6</td>\n",
       "      <td>12</td>\n",
       "      <td>4</td>\n",
       "      <td>...</td>\n",
       "      <td>1.8</td>\n",
       "      <td>3</td>\n",
       "      <td>2.1</td>\n",
       "      <td>0.9</td>\n",
       "      <td>1</td>\n",
       "      <td>0.7</td>\n",
       "      <td>W</td>\n",
       "      <td>2.0</td>\n",
       "      <td>&gt;55</td>\n",
       "      <td>1640898900</td>\n",
       "    </tr>\n",
       "    <tr>\n",
       "      <th>32</th>\n",
       "      <td>Manchester United</td>\n",
       "      <td>Newcastle United</td>\n",
       "      <td>A</td>\n",
       "      <td>1.0</td>\n",
       "      <td>0.0</td>\n",
       "      <td>71.0</td>\n",
       "      <td>29.0</td>\n",
       "      <td>9</td>\n",
       "      <td>9</td>\n",
       "      <td>3</td>\n",
       "      <td>...</td>\n",
       "      <td>1.8</td>\n",
       "      <td>1</td>\n",
       "      <td>1.7</td>\n",
       "      <td>1.3</td>\n",
       "      <td>1</td>\n",
       "      <td>1.0</td>\n",
       "      <td>W</td>\n",
       "      <td>1.0</td>\n",
       "      <td>&gt;55</td>\n",
       "      <td>1640638800</td>\n",
       "    </tr>\n",
       "    <tr>\n",
       "      <th>33</th>\n",
       "      <td>Manchester United</td>\n",
       "      <td>Newcastle United</td>\n",
       "      <td>D</td>\n",
       "      <td>0.0</td>\n",
       "      <td>1.0</td>\n",
       "      <td>69.0</td>\n",
       "      <td>31.0</td>\n",
       "      <td>4</td>\n",
       "      <td>4</td>\n",
       "      <td>1</td>\n",
       "      <td>...</td>\n",
       "      <td>1.8</td>\n",
       "      <td>1</td>\n",
       "      <td>1.7</td>\n",
       "      <td>1.3</td>\n",
       "      <td>1</td>\n",
       "      <td>1.0</td>\n",
       "      <td>L</td>\n",
       "      <td>-1.0</td>\n",
       "      <td>&gt;55</td>\n",
       "      <td>1640638800</td>\n",
       "    </tr>\n",
       "    <tr>\n",
       "      <th>31</th>\n",
       "      <td>Manchester United</td>\n",
       "      <td>Norwich</td>\n",
       "      <td>D</td>\n",
       "      <td>0.0</td>\n",
       "      <td>0.0</td>\n",
       "      <td>58.0</td>\n",
       "      <td>42.0</td>\n",
       "      <td>2</td>\n",
       "      <td>6</td>\n",
       "      <td>4</td>\n",
       "      <td>...</td>\n",
       "      <td>2.1</td>\n",
       "      <td>1</td>\n",
       "      <td>2.3</td>\n",
       "      <td>1.0</td>\n",
       "      <td>0</td>\n",
       "      <td>0.5</td>\n",
       "      <td>D</td>\n",
       "      <td>0.0</td>\n",
       "      <td>&gt;55</td>\n",
       "      <td>1639247400</td>\n",
       "    </tr>\n",
       "    <tr>\n",
       "      <th>30</th>\n",
       "      <td>Manchester United</td>\n",
       "      <td>Norwich</td>\n",
       "      <td>A</td>\n",
       "      <td>1.0</td>\n",
       "      <td>0.0</td>\n",
       "      <td>48.0</td>\n",
       "      <td>52.0</td>\n",
       "      <td>9</td>\n",
       "      <td>7</td>\n",
       "      <td>1</td>\n",
       "      <td>...</td>\n",
       "      <td>2.1</td>\n",
       "      <td>1</td>\n",
       "      <td>2.3</td>\n",
       "      <td>1.0</td>\n",
       "      <td>0</td>\n",
       "      <td>0.5</td>\n",
       "      <td>W</td>\n",
       "      <td>1.0</td>\n",
       "      <td>45-55</td>\n",
       "      <td>1639247400</td>\n",
       "    </tr>\n",
       "    <tr>\n",
       "      <th>28</th>\n",
       "      <td>Manchester United</td>\n",
       "      <td>Crystal Palace</td>\n",
       "      <td>D</td>\n",
       "      <td>1.0</td>\n",
       "      <td>0.0</td>\n",
       "      <td>56.0</td>\n",
       "      <td>44.0</td>\n",
       "      <td>3</td>\n",
       "      <td>4</td>\n",
       "      <td>1</td>\n",
       "      <td>...</td>\n",
       "      <td>0.9</td>\n",
       "      <td>1</td>\n",
       "      <td>1.6</td>\n",
       "      <td>0.5</td>\n",
       "      <td>0</td>\n",
       "      <td>1.0</td>\n",
       "      <td>W</td>\n",
       "      <td>1.0</td>\n",
       "      <td>&gt;55</td>\n",
       "      <td>1638716400</td>\n",
       "    </tr>\n",
       "    <tr>\n",
       "      <th>29</th>\n",
       "      <td>Manchester United</td>\n",
       "      <td>Crystal Palace</td>\n",
       "      <td>D</td>\n",
       "      <td>0.0</td>\n",
       "      <td>0.0</td>\n",
       "      <td>66.0</td>\n",
       "      <td>34.0</td>\n",
       "      <td>5</td>\n",
       "      <td>12</td>\n",
       "      <td>2</td>\n",
       "      <td>...</td>\n",
       "      <td>0.9</td>\n",
       "      <td>1</td>\n",
       "      <td>1.6</td>\n",
       "      <td>0.5</td>\n",
       "      <td>0</td>\n",
       "      <td>1.0</td>\n",
       "      <td>D</td>\n",
       "      <td>0.0</td>\n",
       "      <td>&gt;55</td>\n",
       "      <td>1638716400</td>\n",
       "    </tr>\n",
       "    <tr>\n",
       "      <th>26</th>\n",
       "      <td>Manchester United</td>\n",
       "      <td>Arsenal</td>\n",
       "      <td>D</td>\n",
       "      <td>2.0</td>\n",
       "      <td>1.0</td>\n",
       "      <td>33.0</td>\n",
       "      <td>67.0</td>\n",
       "      <td>9</td>\n",
       "      <td>6</td>\n",
       "      <td>5</td>\n",
       "      <td>...</td>\n",
       "      <td>1.9</td>\n",
       "      <td>3</td>\n",
       "      <td>1.9</td>\n",
       "      <td>1.2</td>\n",
       "      <td>2</td>\n",
       "      <td>0.8</td>\n",
       "      <td>W</td>\n",
       "      <td>1.0</td>\n",
       "      <td>&lt;45</td>\n",
       "      <td>1638479700</td>\n",
       "    </tr>\n",
       "    <tr>\n",
       "      <th>27</th>\n",
       "      <td>Manchester United</td>\n",
       "      <td>Arsenal</td>\n",
       "      <td>D</td>\n",
       "      <td>1.0</td>\n",
       "      <td>1.0</td>\n",
       "      <td>57.0</td>\n",
       "      <td>43.0</td>\n",
       "      <td>8</td>\n",
       "      <td>8</td>\n",
       "      <td>5</td>\n",
       "      <td>...</td>\n",
       "      <td>1.9</td>\n",
       "      <td>3</td>\n",
       "      <td>1.9</td>\n",
       "      <td>1.2</td>\n",
       "      <td>2</td>\n",
       "      <td>0.8</td>\n",
       "      <td>D</td>\n",
       "      <td>0.0</td>\n",
       "      <td>&gt;55</td>\n",
       "      <td>1638479700</td>\n",
       "    </tr>\n",
       "    <tr>\n",
       "      <th>24</th>\n",
       "      <td>Manchester United</td>\n",
       "      <td>Chelsea</td>\n",
       "      <td>D</td>\n",
       "      <td>1.0</td>\n",
       "      <td>1.0</td>\n",
       "      <td>36.0</td>\n",
       "      <td>64.0</td>\n",
       "      <td>14</td>\n",
       "      <td>2</td>\n",
       "      <td>2</td>\n",
       "      <td>...</td>\n",
       "      <td>0.6</td>\n",
       "      <td>1</td>\n",
       "      <td>0.2</td>\n",
       "      <td>2.4</td>\n",
       "      <td>1</td>\n",
       "      <td>2.6</td>\n",
       "      <td>D</td>\n",
       "      <td>0.0</td>\n",
       "      <td>&lt;45</td>\n",
       "      <td>1638120600</td>\n",
       "    </tr>\n",
       "    <tr>\n",
       "      <th>25</th>\n",
       "      <td>Manchester United</td>\n",
       "      <td>Chelsea</td>\n",
       "      <td>D</td>\n",
       "      <td>0.0</td>\n",
       "      <td>0.0</td>\n",
       "      <td>32.0</td>\n",
       "      <td>68.0</td>\n",
       "      <td>10</td>\n",
       "      <td>1</td>\n",
       "      <td>0</td>\n",
       "      <td>...</td>\n",
       "      <td>0.6</td>\n",
       "      <td>1</td>\n",
       "      <td>0.2</td>\n",
       "      <td>2.4</td>\n",
       "      <td>1</td>\n",
       "      <td>2.6</td>\n",
       "      <td>D</td>\n",
       "      <td>0.0</td>\n",
       "      <td>&lt;45</td>\n",
       "      <td>1638120600</td>\n",
       "    </tr>\n",
       "    <tr>\n",
       "      <th>22</th>\n",
       "      <td>Manchester United</td>\n",
       "      <td>Watford</td>\n",
       "      <td>D</td>\n",
       "      <td>1.0</td>\n",
       "      <td>2.0</td>\n",
       "      <td>60.0</td>\n",
       "      <td>40.0</td>\n",
       "      <td>9</td>\n",
       "      <td>7</td>\n",
       "      <td>2</td>\n",
       "      <td>...</td>\n",
       "      <td>1.7</td>\n",
       "      <td>1</td>\n",
       "      <td>0.7</td>\n",
       "      <td>2.7</td>\n",
       "      <td>4</td>\n",
       "      <td>2.1</td>\n",
       "      <td>L</td>\n",
       "      <td>-1.0</td>\n",
       "      <td>&gt;55</td>\n",
       "      <td>1637424000</td>\n",
       "    </tr>\n",
       "    <tr>\n",
       "      <th>23</th>\n",
       "      <td>Manchester United</td>\n",
       "      <td>Watford</td>\n",
       "      <td>D</td>\n",
       "      <td>0.0</td>\n",
       "      <td>2.0</td>\n",
       "      <td>62.0</td>\n",
       "      <td>38.0</td>\n",
       "      <td>11</td>\n",
       "      <td>2</td>\n",
       "      <td>1</td>\n",
       "      <td>...</td>\n",
       "      <td>1.7</td>\n",
       "      <td>1</td>\n",
       "      <td>0.7</td>\n",
       "      <td>2.7</td>\n",
       "      <td>4</td>\n",
       "      <td>2.1</td>\n",
       "      <td>L</td>\n",
       "      <td>-2.0</td>\n",
       "      <td>&gt;55</td>\n",
       "      <td>1637424000</td>\n",
       "    </tr>\n",
       "    <tr>\n",
       "      <th>20</th>\n",
       "      <td>Manchester United</td>\n",
       "      <td>Manchester City</td>\n",
       "      <td>D</td>\n",
       "      <td>0.0</td>\n",
       "      <td>0.0</td>\n",
       "      <td>35.0</td>\n",
       "      <td>65.0</td>\n",
       "      <td>6</td>\n",
       "      <td>2</td>\n",
       "      <td>0</td>\n",
       "      <td>...</td>\n",
       "      <td>0.8</td>\n",
       "      <td>0</td>\n",
       "      <td>0.4</td>\n",
       "      <td>2.0</td>\n",
       "      <td>2</td>\n",
       "      <td>2.4</td>\n",
       "      <td>D</td>\n",
       "      <td>0.0</td>\n",
       "      <td>&lt;45</td>\n",
       "      <td>1636205400</td>\n",
       "    </tr>\n",
       "    <tr>\n",
       "      <th>21</th>\n",
       "      <td>Manchester United</td>\n",
       "      <td>Manchester City</td>\n",
       "      <td>A</td>\n",
       "      <td>0.0</td>\n",
       "      <td>2.0</td>\n",
       "      <td>31.0</td>\n",
       "      <td>69.0</td>\n",
       "      <td>10</td>\n",
       "      <td>3</td>\n",
       "      <td>1</td>\n",
       "      <td>...</td>\n",
       "      <td>0.8</td>\n",
       "      <td>0</td>\n",
       "      <td>0.4</td>\n",
       "      <td>2.0</td>\n",
       "      <td>2</td>\n",
       "      <td>2.4</td>\n",
       "      <td>L</td>\n",
       "      <td>-2.0</td>\n",
       "      <td>&lt;45</td>\n",
       "      <td>1636205400</td>\n",
       "    </tr>\n",
       "    <tr>\n",
       "      <th>19</th>\n",
       "      <td>Manchester United</td>\n",
       "      <td>Tottenham</td>\n",
       "      <td>A</td>\n",
       "      <td>1.0</td>\n",
       "      <td>0.0</td>\n",
       "      <td>48.0</td>\n",
       "      <td>52.0</td>\n",
       "      <td>7</td>\n",
       "      <td>8</td>\n",
       "      <td>2</td>\n",
       "      <td>...</td>\n",
       "      <td>1.4</td>\n",
       "      <td>3</td>\n",
       "      <td>1.5</td>\n",
       "      <td>1.2</td>\n",
       "      <td>0</td>\n",
       "      <td>1.2</td>\n",
       "      <td>W</td>\n",
       "      <td>1.0</td>\n",
       "      <td>45-55</td>\n",
       "      <td>1635586200</td>\n",
       "    </tr>\n",
       "    <tr>\n",
       "      <th>18</th>\n",
       "      <td>Manchester United</td>\n",
       "      <td>Tottenham</td>\n",
       "      <td>A</td>\n",
       "      <td>2.0</td>\n",
       "      <td>0.0</td>\n",
       "      <td>36.0</td>\n",
       "      <td>64.0</td>\n",
       "      <td>2</td>\n",
       "      <td>2</td>\n",
       "      <td>2</td>\n",
       "      <td>...</td>\n",
       "      <td>1.4</td>\n",
       "      <td>3</td>\n",
       "      <td>1.5</td>\n",
       "      <td>1.2</td>\n",
       "      <td>0</td>\n",
       "      <td>1.2</td>\n",
       "      <td>W</td>\n",
       "      <td>2.0</td>\n",
       "      <td>&lt;45</td>\n",
       "      <td>1635586200</td>\n",
       "    </tr>\n",
       "    <tr>\n",
       "      <th>17</th>\n",
       "      <td>Manchester United</td>\n",
       "      <td>Liverpool</td>\n",
       "      <td>A</td>\n",
       "      <td>0.0</td>\n",
       "      <td>4.0</td>\n",
       "      <td>47.0</td>\n",
       "      <td>53.0</td>\n",
       "      <td>11</td>\n",
       "      <td>9</td>\n",
       "      <td>3</td>\n",
       "      <td>...</td>\n",
       "      <td>1.4</td>\n",
       "      <td>0</td>\n",
       "      <td>0.1</td>\n",
       "      <td>4.0</td>\n",
       "      <td>5</td>\n",
       "      <td>2.8</td>\n",
       "      <td>L</td>\n",
       "      <td>-4.0</td>\n",
       "      <td>45-55</td>\n",
       "      <td>1635064200</td>\n",
       "    </tr>\n",
       "    <tr>\n",
       "      <th>16</th>\n",
       "      <td>Manchester United</td>\n",
       "      <td>Liverpool</td>\n",
       "      <td>A</td>\n",
       "      <td>0.0</td>\n",
       "      <td>1.0</td>\n",
       "      <td>27.0</td>\n",
       "      <td>73.0</td>\n",
       "      <td>8</td>\n",
       "      <td>3</td>\n",
       "      <td>1</td>\n",
       "      <td>...</td>\n",
       "      <td>1.4</td>\n",
       "      <td>0</td>\n",
       "      <td>0.1</td>\n",
       "      <td>4.0</td>\n",
       "      <td>5</td>\n",
       "      <td>2.8</td>\n",
       "      <td>L</td>\n",
       "      <td>-1.0</td>\n",
       "      <td>&lt;45</td>\n",
       "      <td>1635064200</td>\n",
       "    </tr>\n",
       "    <tr>\n",
       "      <th>14</th>\n",
       "      <td>Manchester United</td>\n",
       "      <td>Leicester</td>\n",
       "      <td>D</td>\n",
       "      <td>1.0</td>\n",
       "      <td>3.0</td>\n",
       "      <td>53.0</td>\n",
       "      <td>47.0</td>\n",
       "      <td>16</td>\n",
       "      <td>10</td>\n",
       "      <td>3</td>\n",
       "      <td>...</td>\n",
       "      <td>1.0</td>\n",
       "      <td>2</td>\n",
       "      <td>0.3</td>\n",
       "      <td>3.0</td>\n",
       "      <td>4</td>\n",
       "      <td>2.6</td>\n",
       "      <td>L</td>\n",
       "      <td>-2.0</td>\n",
       "      <td>45-55</td>\n",
       "      <td>1634367600</td>\n",
       "    </tr>\n",
       "    <tr>\n",
       "      <th>15</th>\n",
       "      <td>Manchester United</td>\n",
       "      <td>Leicester</td>\n",
       "      <td>D</td>\n",
       "      <td>1.0</td>\n",
       "      <td>1.0</td>\n",
       "      <td>49.0</td>\n",
       "      <td>51.0</td>\n",
       "      <td>6</td>\n",
       "      <td>8</td>\n",
       "      <td>3</td>\n",
       "      <td>...</td>\n",
       "      <td>1.0</td>\n",
       "      <td>2</td>\n",
       "      <td>0.3</td>\n",
       "      <td>3.0</td>\n",
       "      <td>4</td>\n",
       "      <td>2.6</td>\n",
       "      <td>D</td>\n",
       "      <td>0.0</td>\n",
       "      <td>45-55</td>\n",
       "      <td>1634367600</td>\n",
       "    </tr>\n",
       "    <tr>\n",
       "      <th>13</th>\n",
       "      <td>Manchester United</td>\n",
       "      <td>Everton</td>\n",
       "      <td>D</td>\n",
       "      <td>1.0</td>\n",
       "      <td>0.0</td>\n",
       "      <td>67.0</td>\n",
       "      <td>33.0</td>\n",
       "      <td>7</td>\n",
       "      <td>5</td>\n",
       "      <td>4</td>\n",
       "      <td>...</td>\n",
       "      <td>1.1</td>\n",
       "      <td>1</td>\n",
       "      <td>1.1</td>\n",
       "      <td>1.3</td>\n",
       "      <td>1</td>\n",
       "      <td>1.6</td>\n",
       "      <td>W</td>\n",
       "      <td>1.0</td>\n",
       "      <td>&gt;55</td>\n",
       "      <td>1633149000</td>\n",
       "    </tr>\n",
       "    <tr>\n",
       "      <th>12</th>\n",
       "      <td>Manchester United</td>\n",
       "      <td>Everton</td>\n",
       "      <td>A</td>\n",
       "      <td>0.0</td>\n",
       "      <td>1.0</td>\n",
       "      <td>75.0</td>\n",
       "      <td>25.0</td>\n",
       "      <td>5</td>\n",
       "      <td>8</td>\n",
       "      <td>2</td>\n",
       "      <td>...</td>\n",
       "      <td>1.1</td>\n",
       "      <td>1</td>\n",
       "      <td>1.1</td>\n",
       "      <td>1.3</td>\n",
       "      <td>1</td>\n",
       "      <td>1.6</td>\n",
       "      <td>L</td>\n",
       "      <td>-1.0</td>\n",
       "      <td>&gt;55</td>\n",
       "      <td>1633149000</td>\n",
       "    </tr>\n",
       "    <tr>\n",
       "      <th>10</th>\n",
       "      <td>Manchester United</td>\n",
       "      <td>Aston Villa</td>\n",
       "      <td>A</td>\n",
       "      <td>0.0</td>\n",
       "      <td>1.0</td>\n",
       "      <td>58.0</td>\n",
       "      <td>42.0</td>\n",
       "      <td>3</td>\n",
       "      <td>13</td>\n",
       "      <td>2</td>\n",
       "      <td>...</td>\n",
       "      <td>1.9</td>\n",
       "      <td>0</td>\n",
       "      <td>1.6</td>\n",
       "      <td>1.6</td>\n",
       "      <td>1</td>\n",
       "      <td>1.1</td>\n",
       "      <td>L</td>\n",
       "      <td>-1.0</td>\n",
       "      <td>&gt;55</td>\n",
       "      <td>1632544200</td>\n",
       "    </tr>\n",
       "    <tr>\n",
       "      <th>11</th>\n",
       "      <td>Manchester United</td>\n",
       "      <td>Aston Villa</td>\n",
       "      <td>D</td>\n",
       "      <td>0.0</td>\n",
       "      <td>0.0</td>\n",
       "      <td>60.0</td>\n",
       "      <td>40.0</td>\n",
       "      <td>4</td>\n",
       "      <td>15</td>\n",
       "      <td>2</td>\n",
       "      <td>...</td>\n",
       "      <td>1.9</td>\n",
       "      <td>0</td>\n",
       "      <td>1.6</td>\n",
       "      <td>1.6</td>\n",
       "      <td>1</td>\n",
       "      <td>1.1</td>\n",
       "      <td>D</td>\n",
       "      <td>0.0</td>\n",
       "      <td>&gt;55</td>\n",
       "      <td>1632544200</td>\n",
       "    </tr>\n",
       "    <tr>\n",
       "      <th>8</th>\n",
       "      <td>Manchester United</td>\n",
       "      <td>West Ham</td>\n",
       "      <td>A</td>\n",
       "      <td>1.0</td>\n",
       "      <td>0.0</td>\n",
       "      <td>56.0</td>\n",
       "      <td>44.0</td>\n",
       "      <td>7</td>\n",
       "      <td>7</td>\n",
       "      <td>3</td>\n",
       "      <td>...</td>\n",
       "      <td>1.9</td>\n",
       "      <td>2</td>\n",
       "      <td>1.5</td>\n",
       "      <td>1.7</td>\n",
       "      <td>1</td>\n",
       "      <td>1.2</td>\n",
       "      <td>W</td>\n",
       "      <td>1.0</td>\n",
       "      <td>&gt;55</td>\n",
       "      <td>1632031200</td>\n",
       "    </tr>\n",
       "    <tr>\n",
       "      <th>9</th>\n",
       "      <td>Manchester United</td>\n",
       "      <td>West Ham</td>\n",
       "      <td>D</td>\n",
       "      <td>1.0</td>\n",
       "      <td>1.0</td>\n",
       "      <td>64.0</td>\n",
       "      <td>36.0</td>\n",
       "      <td>6</td>\n",
       "      <td>10</td>\n",
       "      <td>7</td>\n",
       "      <td>...</td>\n",
       "      <td>1.9</td>\n",
       "      <td>2</td>\n",
       "      <td>1.5</td>\n",
       "      <td>1.7</td>\n",
       "      <td>1</td>\n",
       "      <td>1.2</td>\n",
       "      <td>D</td>\n",
       "      <td>0.0</td>\n",
       "      <td>&gt;55</td>\n",
       "      <td>1632031200</td>\n",
       "    </tr>\n",
       "    <tr>\n",
       "      <th>6</th>\n",
       "      <td>Manchester United</td>\n",
       "      <td>Newcastle United</td>\n",
       "      <td>D</td>\n",
       "      <td>3.0</td>\n",
       "      <td>1.0</td>\n",
       "      <td>58.0</td>\n",
       "      <td>42.0</td>\n",
       "      <td>6</td>\n",
       "      <td>6</td>\n",
       "      <td>4</td>\n",
       "      <td>...</td>\n",
       "      <td>2.8</td>\n",
       "      <td>4</td>\n",
       "      <td>2.8</td>\n",
       "      <td>0.6</td>\n",
       "      <td>1</td>\n",
       "      <td>0.2</td>\n",
       "      <td>W</td>\n",
       "      <td>2.0</td>\n",
       "      <td>&gt;55</td>\n",
       "      <td>1631343600</td>\n",
       "    </tr>\n",
       "    <tr>\n",
       "      <th>7</th>\n",
       "      <td>Manchester United</td>\n",
       "      <td>Newcastle United</td>\n",
       "      <td>D</td>\n",
       "      <td>1.0</td>\n",
       "      <td>0.0</td>\n",
       "      <td>70.0</td>\n",
       "      <td>30.0</td>\n",
       "      <td>6</td>\n",
       "      <td>15</td>\n",
       "      <td>3</td>\n",
       "      <td>...</td>\n",
       "      <td>2.8</td>\n",
       "      <td>4</td>\n",
       "      <td>2.8</td>\n",
       "      <td>0.6</td>\n",
       "      <td>1</td>\n",
       "      <td>0.2</td>\n",
       "      <td>W</td>\n",
       "      <td>1.0</td>\n",
       "      <td>&gt;55</td>\n",
       "      <td>1631343600</td>\n",
       "    </tr>\n",
       "    <tr>\n",
       "      <th>5</th>\n",
       "      <td>Manchester United</td>\n",
       "      <td>Wolves</td>\n",
       "      <td>D</td>\n",
       "      <td>0.0</td>\n",
       "      <td>0.0</td>\n",
       "      <td>56.0</td>\n",
       "      <td>44.0</td>\n",
       "      <td>9</td>\n",
       "      <td>5</td>\n",
       "      <td>0</td>\n",
       "      <td>...</td>\n",
       "      <td>0.9</td>\n",
       "      <td>1</td>\n",
       "      <td>0.7</td>\n",
       "      <td>1.8</td>\n",
       "      <td>0</td>\n",
       "      <td>2.1</td>\n",
       "      <td>D</td>\n",
       "      <td>0.0</td>\n",
       "      <td>&gt;55</td>\n",
       "      <td>1630225800</td>\n",
       "    </tr>\n",
       "    <tr>\n",
       "      <th>4</th>\n",
       "      <td>Manchester United</td>\n",
       "      <td>Wolves</td>\n",
       "      <td>A</td>\n",
       "      <td>1.0</td>\n",
       "      <td>0.0</td>\n",
       "      <td>56.0</td>\n",
       "      <td>44.0</td>\n",
       "      <td>6</td>\n",
       "      <td>5</td>\n",
       "      <td>3</td>\n",
       "      <td>...</td>\n",
       "      <td>0.9</td>\n",
       "      <td>1</td>\n",
       "      <td>0.7</td>\n",
       "      <td>1.8</td>\n",
       "      <td>0</td>\n",
       "      <td>2.1</td>\n",
       "      <td>W</td>\n",
       "      <td>1.0</td>\n",
       "      <td>&gt;55</td>\n",
       "      <td>1630225800</td>\n",
       "    </tr>\n",
       "    <tr>\n",
       "      <th>3</th>\n",
       "      <td>Manchester United</td>\n",
       "      <td>Southampton</td>\n",
       "      <td>D</td>\n",
       "      <td>0.0</td>\n",
       "      <td>1.0</td>\n",
       "      <td>65.0</td>\n",
       "      <td>35.0</td>\n",
       "      <td>4</td>\n",
       "      <td>8</td>\n",
       "      <td>2</td>\n",
       "      <td>...</td>\n",
       "      <td>2.3</td>\n",
       "      <td>1</td>\n",
       "      <td>2.6</td>\n",
       "      <td>0.6</td>\n",
       "      <td>1</td>\n",
       "      <td>0.3</td>\n",
       "      <td>L</td>\n",
       "      <td>-1.0</td>\n",
       "      <td>&gt;55</td>\n",
       "      <td>1629612000</td>\n",
       "    </tr>\n",
       "    <tr>\n",
       "      <th>2</th>\n",
       "      <td>Manchester United</td>\n",
       "      <td>Southampton</td>\n",
       "      <td>A</td>\n",
       "      <td>1.0</td>\n",
       "      <td>0.0</td>\n",
       "      <td>63.0</td>\n",
       "      <td>37.0</td>\n",
       "      <td>4</td>\n",
       "      <td>7</td>\n",
       "      <td>2</td>\n",
       "      <td>...</td>\n",
       "      <td>2.3</td>\n",
       "      <td>1</td>\n",
       "      <td>2.6</td>\n",
       "      <td>0.6</td>\n",
       "      <td>1</td>\n",
       "      <td>0.3</td>\n",
       "      <td>W</td>\n",
       "      <td>1.0</td>\n",
       "      <td>&gt;55</td>\n",
       "      <td>1629612000</td>\n",
       "    </tr>\n",
       "    <tr>\n",
       "      <th>0</th>\n",
       "      <td>Manchester United</td>\n",
       "      <td>Leeds</td>\n",
       "      <td>D</td>\n",
       "      <td>4.0</td>\n",
       "      <td>1.0</td>\n",
       "      <td>52.0</td>\n",
       "      <td>48.0</td>\n",
       "      <td>5</td>\n",
       "      <td>5</td>\n",
       "      <td>4</td>\n",
       "      <td>...</td>\n",
       "      <td>1.6</td>\n",
       "      <td>5</td>\n",
       "      <td>2.2</td>\n",
       "      <td>0.6</td>\n",
       "      <td>1</td>\n",
       "      <td>0.6</td>\n",
       "      <td>W</td>\n",
       "      <td>3.0</td>\n",
       "      <td>45-55</td>\n",
       "      <td>1628915400</td>\n",
       "    </tr>\n",
       "    <tr>\n",
       "      <th>1</th>\n",
       "      <td>Manchester United</td>\n",
       "      <td>Leeds</td>\n",
       "      <td>D</td>\n",
       "      <td>1.0</td>\n",
       "      <td>0.0</td>\n",
       "      <td>46.0</td>\n",
       "      <td>54.0</td>\n",
       "      <td>5</td>\n",
       "      <td>11</td>\n",
       "      <td>4</td>\n",
       "      <td>...</td>\n",
       "      <td>1.6</td>\n",
       "      <td>5</td>\n",
       "      <td>2.2</td>\n",
       "      <td>0.6</td>\n",
       "      <td>1</td>\n",
       "      <td>0.6</td>\n",
       "      <td>W</td>\n",
       "      <td>1.0</td>\n",
       "      <td>45-55</td>\n",
       "      <td>1628915400</td>\n",
       "    </tr>\n",
       "  </tbody>\n",
       "</table>\n",
       "<p>44 rows × 36 columns</p>\n",
       "</div>"
      ],
      "text/plain": [
       "                 Home          Opponent  R  G-H  G-A  BP-H  BP-A  GA-H  GA-A  \\\n",
       "42  Manchester United          West Ham  D  1.0  0.0  59.0  41.0     5    13   \n",
       "43  Manchester United          West Ham  D  0.0  0.0  55.0  45.0     1     5   \n",
       "40  Manchester United         Brentford  A  3.0  1.0  46.0  54.0    10     9   \n",
       "41  Manchester United         Brentford  D  0.0  0.0  68.0  32.0     8     4   \n",
       "38  Manchester United       Aston Villa  D  1.0  2.0  35.0  65.0     9     6   \n",
       "39  Manchester United       Aston Villa  A  1.0  0.0  55.0  45.0     4     7   \n",
       "36  Manchester United            Wolves  A  0.0  1.0  56.0  44.0     5     5   \n",
       "37  Manchester United            Wolves  D  0.0  0.0  46.0  54.0    14     4   \n",
       "34  Manchester United           Burnley  D  0.0  0.0  57.0  43.0     4     6   \n",
       "35  Manchester United           Burnley  D  3.0  1.0  57.0  43.0     6    12   \n",
       "32  Manchester United  Newcastle United  A  1.0  0.0  71.0  29.0     9     9   \n",
       "33  Manchester United  Newcastle United  D  0.0  1.0  69.0  31.0     4     4   \n",
       "31  Manchester United           Norwich  D  0.0  0.0  58.0  42.0     2     6   \n",
       "30  Manchester United           Norwich  A  1.0  0.0  48.0  52.0     9     7   \n",
       "28  Manchester United    Crystal Palace  D  1.0  0.0  56.0  44.0     3     4   \n",
       "29  Manchester United    Crystal Palace  D  0.0  0.0  66.0  34.0     5    12   \n",
       "26  Manchester United           Arsenal  D  2.0  1.0  33.0  67.0     9     6   \n",
       "27  Manchester United           Arsenal  D  1.0  1.0  57.0  43.0     8     8   \n",
       "24  Manchester United           Chelsea  D  1.0  1.0  36.0  64.0    14     2   \n",
       "25  Manchester United           Chelsea  D  0.0  0.0  32.0  68.0    10     1   \n",
       "22  Manchester United           Watford  D  1.0  2.0  60.0  40.0     9     7   \n",
       "23  Manchester United           Watford  D  0.0  2.0  62.0  38.0    11     2   \n",
       "20  Manchester United   Manchester City  D  0.0  0.0  35.0  65.0     6     2   \n",
       "21  Manchester United   Manchester City  A  0.0  2.0  31.0  69.0    10     3   \n",
       "19  Manchester United         Tottenham  A  1.0  0.0  48.0  52.0     7     8   \n",
       "18  Manchester United         Tottenham  A  2.0  0.0  36.0  64.0     2     2   \n",
       "17  Manchester United         Liverpool  A  0.0  4.0  47.0  53.0    11     9   \n",
       "16  Manchester United         Liverpool  A  0.0  1.0  27.0  73.0     8     3   \n",
       "14  Manchester United         Leicester  D  1.0  3.0  53.0  47.0    16    10   \n",
       "15  Manchester United         Leicester  D  1.0  1.0  49.0  51.0     6     8   \n",
       "13  Manchester United           Everton  D  1.0  0.0  67.0  33.0     7     5   \n",
       "12  Manchester United           Everton  A  0.0  1.0  75.0  25.0     5     8   \n",
       "10  Manchester United       Aston Villa  A  0.0  1.0  58.0  42.0     3    13   \n",
       "11  Manchester United       Aston Villa  D  0.0  0.0  60.0  40.0     4    15   \n",
       "8   Manchester United          West Ham  A  1.0  0.0  56.0  44.0     7     7   \n",
       "9   Manchester United          West Ham  D  1.0  1.0  64.0  36.0     6    10   \n",
       "6   Manchester United  Newcastle United  D  3.0  1.0  58.0  42.0     6     6   \n",
       "7   Manchester United  Newcastle United  D  1.0  0.0  70.0  30.0     6    15   \n",
       "5   Manchester United            Wolves  D  0.0  0.0  56.0  44.0     9     5   \n",
       "4   Manchester United            Wolves  A  1.0  0.0  56.0  44.0     6     5   \n",
       "3   Manchester United       Southampton  D  0.0  1.0  65.0  35.0     4     8   \n",
       "2   Manchester United       Southampton  A  1.0  0.0  63.0  37.0     4     7   \n",
       "0   Manchester United             Leeds  D  4.0  1.0  52.0  48.0     5     5   \n",
       "1   Manchester United             Leeds  D  1.0  0.0  46.0  54.0     5    11   \n",
       "\n",
       "    SoG-H  ...  xG  GOALS  xPTS  A_xG  A_GOALS  A_xPTS  1x2  GoalDiff  \\\n",
       "42      3  ... 1.8      1   2.7   0.2        0     0.1    W       1.0   \n",
       "43      0  ... 1.8      1   2.7   0.2        0     0.1    D       0.0   \n",
       "40      5  ... 2.1      3   1.4   2.1        1     1.4    W       2.0   \n",
       "41      0  ... 2.1      3   1.4   2.1        1     1.4    D       0.0   \n",
       "38      2  ... 1.4      2   1.0   1.8        2     1.8    L      -1.0   \n",
       "39      4  ... 1.4      2   1.0   1.8        2     1.8    W       1.0   \n",
       "36      1  ... 0.8      0   1.2   0.8        1     1.4    L      -1.0   \n",
       "37      1  ... 0.8      0   1.2   0.8        1     1.4    D       0.0   \n",
       "34      2  ... 1.8      3   2.1   0.9        1     0.7    D       0.0   \n",
       "35      4  ... 1.8      3   2.1   0.9        1     0.7    W       2.0   \n",
       "32      3  ... 1.8      1   1.7   1.3        1     1.0    W       1.0   \n",
       "33      1  ... 1.8      1   1.7   1.3        1     1.0    L      -1.0   \n",
       "31      4  ... 2.1      1   2.3   1.0        0     0.5    D       0.0   \n",
       "30      1  ... 2.1      1   2.3   1.0        0     0.5    W       1.0   \n",
       "28      1  ... 0.9      1   1.6   0.5        0     1.0    W       1.0   \n",
       "29      2  ... 0.9      1   1.6   0.5        0     1.0    D       0.0   \n",
       "26      5  ... 1.9      3   1.9   1.2        2     0.8    W       1.0   \n",
       "27      5  ... 1.9      3   1.9   1.2        2     0.8    D       0.0   \n",
       "24      2  ... 0.6      1   0.2   2.4        1     2.6    D       0.0   \n",
       "25      0  ... 0.6      1   0.2   2.4        1     2.6    D       0.0   \n",
       "22      2  ... 1.7      1   0.7   2.7        4     2.1    L      -1.0   \n",
       "23      1  ... 1.7      1   0.7   2.7        4     2.1    L      -2.0   \n",
       "20      0  ... 0.8      0   0.4   2.0        2     2.4    D       0.0   \n",
       "21      1  ... 0.8      0   0.4   2.0        2     2.4    L      -2.0   \n",
       "19      2  ... 1.4      3   1.5   1.2        0     1.2    W       1.0   \n",
       "18      2  ... 1.4      3   1.5   1.2        0     1.2    W       2.0   \n",
       "17      3  ... 1.4      0   0.1   4.0        5     2.8    L      -4.0   \n",
       "16      1  ... 1.4      0   0.1   4.0        5     2.8    L      -1.0   \n",
       "14      3  ... 1.0      2   0.3   3.0        4     2.6    L      -2.0   \n",
       "15      3  ... 1.0      2   0.3   3.0        4     2.6    D       0.0   \n",
       "13      4  ... 1.1      1   1.1   1.3        1     1.6    W       1.0   \n",
       "12      2  ... 1.1      1   1.1   1.3        1     1.6    L      -1.0   \n",
       "10      2  ... 1.9      0   1.6   1.6        1     1.1    L      -1.0   \n",
       "11      2  ... 1.9      0   1.6   1.6        1     1.1    D       0.0   \n",
       "8       3  ... 1.9      2   1.5   1.7        1     1.2    W       1.0   \n",
       "9       7  ... 1.9      2   1.5   1.7        1     1.2    D       0.0   \n",
       "6       4  ... 2.8      4   2.8   0.6        1     0.2    W       2.0   \n",
       "7       3  ... 2.8      4   2.8   0.6        1     0.2    W       1.0   \n",
       "5       0  ... 0.9      1   0.7   1.8        0     2.1    D       0.0   \n",
       "4       3  ... 0.9      1   0.7   1.8        0     2.1    W       1.0   \n",
       "3       2  ... 2.3      1   2.6   0.6        1     0.3    L      -1.0   \n",
       "2       2  ... 2.3      1   2.6   0.6        1     0.3    W       1.0   \n",
       "0       4  ... 1.6      5   2.2   0.6        1     0.6    W       3.0   \n",
       "1       4  ... 1.6      5   2.2   0.6        1     0.6    W       1.0   \n",
       "\n",
       "    BPTypes   timestamp  \n",
       "42      >55  1642867200  \n",
       "43    45-55  1642867200  \n",
       "40    45-55  1642626000  \n",
       "41      >55  1642626000  \n",
       "38      <45  1642271400  \n",
       "39    45-55  1642271400  \n",
       "36      >55  1641234600  \n",
       "37    45-55  1641234600  \n",
       "34      >55  1640898900  \n",
       "35      >55  1640898900  \n",
       "32      >55  1640638800  \n",
       "33      >55  1640638800  \n",
       "31      >55  1639247400  \n",
       "30    45-55  1639247400  \n",
       "28      >55  1638716400  \n",
       "29      >55  1638716400  \n",
       "26      <45  1638479700  \n",
       "27      >55  1638479700  \n",
       "24      <45  1638120600  \n",
       "25      <45  1638120600  \n",
       "22      >55  1637424000  \n",
       "23      >55  1637424000  \n",
       "20      <45  1636205400  \n",
       "21      <45  1636205400  \n",
       "19    45-55  1635586200  \n",
       "18      <45  1635586200  \n",
       "17    45-55  1635064200  \n",
       "16      <45  1635064200  \n",
       "14    45-55  1634367600  \n",
       "15    45-55  1634367600  \n",
       "13      >55  1633149000  \n",
       "12      >55  1633149000  \n",
       "10      >55  1632544200  \n",
       "11      >55  1632544200  \n",
       "8       >55  1632031200  \n",
       "9       >55  1632031200  \n",
       "6       >55  1631343600  \n",
       "7       >55  1631343600  \n",
       "5       >55  1630225800  \n",
       "4       >55  1630225800  \n",
       "3       >55  1629612000  \n",
       "2       >55  1629612000  \n",
       "0     45-55  1628915400  \n",
       "1     45-55  1628915400  \n",
       "\n",
       "[44 rows x 36 columns]"
      ]
     },
     "execution_count": 69,
     "metadata": {},
     "output_type": "execute_result"
    }
   ],
   "source": [
    "df4Complete"
   ]
  },
  {
   "cell_type": "code",
   "execution_count": null,
   "metadata": {},
   "outputs": [],
   "source": []
  },
  {
   "cell_type": "code",
   "execution_count": null,
   "metadata": {},
   "outputs": [],
   "source": []
  },
  {
   "cell_type": "code",
   "execution_count": 70,
   "metadata": {},
   "outputs": [
    {
     "data": {
      "application/vnd.plotly.v1+json": {
       "config": {
        "plotlyServerURL": "https://plot.ly"
       },
       "data": [
        {
         "hovertemplate": "BP-H=%{x}<br>GoalDiff=%{y}<br>SoG-H-SoG-A=%{marker.size}<br>Opponent=%{text}<br>timestamp=%{marker.color}<extra></extra>",
         "legendgroup": "",
         "marker": {
          "color": [
           1642867200,
           1642867200,
           1642626000,
           1642626000,
           1642271400,
           1642271400,
           1641234600,
           1641234600,
           1640898900,
           1640898900,
           1640638800,
           1640638800,
           1639247400,
           1639247400,
           1638716400,
           1638716400,
           1638479700,
           1638479700,
           1638120600,
           1638120600,
           1637424000,
           1637424000,
           1636205400,
           1636205400,
           1635586200,
           1635586200,
           1635064200,
           1635064200,
           1634367600,
           1634367600,
           1633149000,
           1633149000,
           1632544200,
           1632544200,
           1632031200,
           1632031200,
           1631343600,
           1631343600,
           1630225800,
           1630225800,
           1629612000,
           1629612000,
           1628915400,
           1628915400
          ],
          "coloraxis": "coloraxis",
          "size": [
           2,
           0,
           0,
           0,
           0,
           1,
           0,
           0,
           0,
           3,
           0,
           0,
           0,
           3,
           1,
           0,
           0,
           2,
           0,
           0,
           0,
           0,
           0,
           0,
           2,
           2,
           0,
           0,
           0,
           0,
           3,
           1,
           0,
           1,
           5,
           1,
           1,
           3,
           0,
           0,
           1,
           0,
           3,
           2
          ],
          "sizemode": "area",
          "sizeref": 0.0125,
          "symbol": "circle"
         },
         "mode": "markers+text",
         "name": "",
         "orientation": "v",
         "showlegend": false,
         "text": [
          "West Ham",
          "West Ham",
          "Brentford",
          "Brentford",
          "Aston Villa",
          "Aston Villa",
          "Wolves",
          "Wolves",
          "Burnley",
          "Burnley",
          "Newcastle United",
          "Newcastle United",
          "Norwich",
          "Norwich",
          "Crystal Palace",
          "Crystal Palace",
          "Arsenal",
          "Arsenal",
          "Chelsea",
          "Chelsea",
          "Watford",
          "Watford",
          "Manchester City",
          "Manchester City",
          "Tottenham",
          "Tottenham",
          "Liverpool",
          "Liverpool",
          "Leicester",
          "Leicester",
          "Everton",
          "Everton",
          "Aston Villa",
          "Aston Villa",
          "West Ham",
          "West Ham",
          "Newcastle United",
          "Newcastle United",
          "Wolves",
          "Wolves",
          "Southampton",
          "Southampton",
          "Leeds",
          "Leeds"
         ],
         "textposition": "top center",
         "type": "scatter",
         "x": [
          59,
          55,
          46,
          68,
          35,
          55,
          56,
          46,
          57,
          57,
          69,
          71,
          48,
          58,
          56,
          66,
          33,
          57,
          36,
          32,
          60,
          62,
          31,
          35,
          48,
          36,
          47,
          27,
          53,
          49,
          67,
          75,
          58,
          60,
          64,
          56,
          58,
          70,
          56,
          56,
          65,
          63,
          52,
          46
         ],
         "xaxis": "x",
         "y": [
          1,
          0,
          2,
          0,
          -1,
          1,
          -1,
          0,
          0,
          2,
          -1,
          1,
          1,
          0,
          1,
          0,
          1,
          0,
          0,
          0,
          -1,
          -2,
          -2,
          0,
          1,
          2,
          -4,
          -1,
          -2,
          0,
          1,
          -1,
          -1,
          0,
          0,
          1,
          2,
          1,
          0,
          1,
          -1,
          1,
          3,
          1
         ],
         "yaxis": "y"
        }
       ],
       "layout": {
        "coloraxis": {
         "colorbar": {
          "title": {
           "text": "timestamp"
          }
         },
         "colorscale": [
          [
           0,
           "#0d0887"
          ],
          [
           0.1111111111111111,
           "#46039f"
          ],
          [
           0.2222222222222222,
           "#7201a8"
          ],
          [
           0.3333333333333333,
           "#9c179e"
          ],
          [
           0.4444444444444444,
           "#bd3786"
          ],
          [
           0.5555555555555556,
           "#d8576b"
          ],
          [
           0.6666666666666666,
           "#ed7953"
          ],
          [
           0.7777777777777778,
           "#fb9f3a"
          ],
          [
           0.8888888888888888,
           "#fdca26"
          ],
          [
           1,
           "#f0f921"
          ]
         ]
        },
        "legend": {
         "itemsizing": "constant",
         "tracegroupgap": 0
        },
        "margin": {
         "t": 60
        },
        "template": {
         "data": {
          "bar": [
           {
            "error_x": {
             "color": "#2a3f5f"
            },
            "error_y": {
             "color": "#2a3f5f"
            },
            "marker": {
             "line": {
              "color": "#E5ECF6",
              "width": 0.5
             }
            },
            "type": "bar"
           }
          ],
          "barpolar": [
           {
            "marker": {
             "line": {
              "color": "#E5ECF6",
              "width": 0.5
             }
            },
            "type": "barpolar"
           }
          ],
          "carpet": [
           {
            "aaxis": {
             "endlinecolor": "#2a3f5f",
             "gridcolor": "white",
             "linecolor": "white",
             "minorgridcolor": "white",
             "startlinecolor": "#2a3f5f"
            },
            "baxis": {
             "endlinecolor": "#2a3f5f",
             "gridcolor": "white",
             "linecolor": "white",
             "minorgridcolor": "white",
             "startlinecolor": "#2a3f5f"
            },
            "type": "carpet"
           }
          ],
          "choropleth": [
           {
            "colorbar": {
             "outlinewidth": 0,
             "ticks": ""
            },
            "type": "choropleth"
           }
          ],
          "contour": [
           {
            "colorbar": {
             "outlinewidth": 0,
             "ticks": ""
            },
            "colorscale": [
             [
              0,
              "#0d0887"
             ],
             [
              0.1111111111111111,
              "#46039f"
             ],
             [
              0.2222222222222222,
              "#7201a8"
             ],
             [
              0.3333333333333333,
              "#9c179e"
             ],
             [
              0.4444444444444444,
              "#bd3786"
             ],
             [
              0.5555555555555556,
              "#d8576b"
             ],
             [
              0.6666666666666666,
              "#ed7953"
             ],
             [
              0.7777777777777778,
              "#fb9f3a"
             ],
             [
              0.8888888888888888,
              "#fdca26"
             ],
             [
              1,
              "#f0f921"
             ]
            ],
            "type": "contour"
           }
          ],
          "contourcarpet": [
           {
            "colorbar": {
             "outlinewidth": 0,
             "ticks": ""
            },
            "type": "contourcarpet"
           }
          ],
          "heatmap": [
           {
            "colorbar": {
             "outlinewidth": 0,
             "ticks": ""
            },
            "colorscale": [
             [
              0,
              "#0d0887"
             ],
             [
              0.1111111111111111,
              "#46039f"
             ],
             [
              0.2222222222222222,
              "#7201a8"
             ],
             [
              0.3333333333333333,
              "#9c179e"
             ],
             [
              0.4444444444444444,
              "#bd3786"
             ],
             [
              0.5555555555555556,
              "#d8576b"
             ],
             [
              0.6666666666666666,
              "#ed7953"
             ],
             [
              0.7777777777777778,
              "#fb9f3a"
             ],
             [
              0.8888888888888888,
              "#fdca26"
             ],
             [
              1,
              "#f0f921"
             ]
            ],
            "type": "heatmap"
           }
          ],
          "heatmapgl": [
           {
            "colorbar": {
             "outlinewidth": 0,
             "ticks": ""
            },
            "colorscale": [
             [
              0,
              "#0d0887"
             ],
             [
              0.1111111111111111,
              "#46039f"
             ],
             [
              0.2222222222222222,
              "#7201a8"
             ],
             [
              0.3333333333333333,
              "#9c179e"
             ],
             [
              0.4444444444444444,
              "#bd3786"
             ],
             [
              0.5555555555555556,
              "#d8576b"
             ],
             [
              0.6666666666666666,
              "#ed7953"
             ],
             [
              0.7777777777777778,
              "#fb9f3a"
             ],
             [
              0.8888888888888888,
              "#fdca26"
             ],
             [
              1,
              "#f0f921"
             ]
            ],
            "type": "heatmapgl"
           }
          ],
          "histogram": [
           {
            "marker": {
             "colorbar": {
              "outlinewidth": 0,
              "ticks": ""
             }
            },
            "type": "histogram"
           }
          ],
          "histogram2d": [
           {
            "colorbar": {
             "outlinewidth": 0,
             "ticks": ""
            },
            "colorscale": [
             [
              0,
              "#0d0887"
             ],
             [
              0.1111111111111111,
              "#46039f"
             ],
             [
              0.2222222222222222,
              "#7201a8"
             ],
             [
              0.3333333333333333,
              "#9c179e"
             ],
             [
              0.4444444444444444,
              "#bd3786"
             ],
             [
              0.5555555555555556,
              "#d8576b"
             ],
             [
              0.6666666666666666,
              "#ed7953"
             ],
             [
              0.7777777777777778,
              "#fb9f3a"
             ],
             [
              0.8888888888888888,
              "#fdca26"
             ],
             [
              1,
              "#f0f921"
             ]
            ],
            "type": "histogram2d"
           }
          ],
          "histogram2dcontour": [
           {
            "colorbar": {
             "outlinewidth": 0,
             "ticks": ""
            },
            "colorscale": [
             [
              0,
              "#0d0887"
             ],
             [
              0.1111111111111111,
              "#46039f"
             ],
             [
              0.2222222222222222,
              "#7201a8"
             ],
             [
              0.3333333333333333,
              "#9c179e"
             ],
             [
              0.4444444444444444,
              "#bd3786"
             ],
             [
              0.5555555555555556,
              "#d8576b"
             ],
             [
              0.6666666666666666,
              "#ed7953"
             ],
             [
              0.7777777777777778,
              "#fb9f3a"
             ],
             [
              0.8888888888888888,
              "#fdca26"
             ],
             [
              1,
              "#f0f921"
             ]
            ],
            "type": "histogram2dcontour"
           }
          ],
          "mesh3d": [
           {
            "colorbar": {
             "outlinewidth": 0,
             "ticks": ""
            },
            "type": "mesh3d"
           }
          ],
          "parcoords": [
           {
            "line": {
             "colorbar": {
              "outlinewidth": 0,
              "ticks": ""
             }
            },
            "type": "parcoords"
           }
          ],
          "pie": [
           {
            "automargin": true,
            "type": "pie"
           }
          ],
          "scatter": [
           {
            "marker": {
             "colorbar": {
              "outlinewidth": 0,
              "ticks": ""
             }
            },
            "type": "scatter"
           }
          ],
          "scatter3d": [
           {
            "line": {
             "colorbar": {
              "outlinewidth": 0,
              "ticks": ""
             }
            },
            "marker": {
             "colorbar": {
              "outlinewidth": 0,
              "ticks": ""
             }
            },
            "type": "scatter3d"
           }
          ],
          "scattercarpet": [
           {
            "marker": {
             "colorbar": {
              "outlinewidth": 0,
              "ticks": ""
             }
            },
            "type": "scattercarpet"
           }
          ],
          "scattergeo": [
           {
            "marker": {
             "colorbar": {
              "outlinewidth": 0,
              "ticks": ""
             }
            },
            "type": "scattergeo"
           }
          ],
          "scattergl": [
           {
            "marker": {
             "colorbar": {
              "outlinewidth": 0,
              "ticks": ""
             }
            },
            "type": "scattergl"
           }
          ],
          "scattermapbox": [
           {
            "marker": {
             "colorbar": {
              "outlinewidth": 0,
              "ticks": ""
             }
            },
            "type": "scattermapbox"
           }
          ],
          "scatterpolar": [
           {
            "marker": {
             "colorbar": {
              "outlinewidth": 0,
              "ticks": ""
             }
            },
            "type": "scatterpolar"
           }
          ],
          "scatterpolargl": [
           {
            "marker": {
             "colorbar": {
              "outlinewidth": 0,
              "ticks": ""
             }
            },
            "type": "scatterpolargl"
           }
          ],
          "scatterternary": [
           {
            "marker": {
             "colorbar": {
              "outlinewidth": 0,
              "ticks": ""
             }
            },
            "type": "scatterternary"
           }
          ],
          "surface": [
           {
            "colorbar": {
             "outlinewidth": 0,
             "ticks": ""
            },
            "colorscale": [
             [
              0,
              "#0d0887"
             ],
             [
              0.1111111111111111,
              "#46039f"
             ],
             [
              0.2222222222222222,
              "#7201a8"
             ],
             [
              0.3333333333333333,
              "#9c179e"
             ],
             [
              0.4444444444444444,
              "#bd3786"
             ],
             [
              0.5555555555555556,
              "#d8576b"
             ],
             [
              0.6666666666666666,
              "#ed7953"
             ],
             [
              0.7777777777777778,
              "#fb9f3a"
             ],
             [
              0.8888888888888888,
              "#fdca26"
             ],
             [
              1,
              "#f0f921"
             ]
            ],
            "type": "surface"
           }
          ],
          "table": [
           {
            "cells": {
             "fill": {
              "color": "#EBF0F8"
             },
             "line": {
              "color": "white"
             }
            },
            "header": {
             "fill": {
              "color": "#C8D4E3"
             },
             "line": {
              "color": "white"
             }
            },
            "type": "table"
           }
          ]
         },
         "layout": {
          "annotationdefaults": {
           "arrowcolor": "#2a3f5f",
           "arrowhead": 0,
           "arrowwidth": 1
          },
          "coloraxis": {
           "colorbar": {
            "outlinewidth": 0,
            "ticks": ""
           }
          },
          "colorscale": {
           "diverging": [
            [
             0,
             "#8e0152"
            ],
            [
             0.1,
             "#c51b7d"
            ],
            [
             0.2,
             "#de77ae"
            ],
            [
             0.3,
             "#f1b6da"
            ],
            [
             0.4,
             "#fde0ef"
            ],
            [
             0.5,
             "#f7f7f7"
            ],
            [
             0.6,
             "#e6f5d0"
            ],
            [
             0.7,
             "#b8e186"
            ],
            [
             0.8,
             "#7fbc41"
            ],
            [
             0.9,
             "#4d9221"
            ],
            [
             1,
             "#276419"
            ]
           ],
           "sequential": [
            [
             0,
             "#0d0887"
            ],
            [
             0.1111111111111111,
             "#46039f"
            ],
            [
             0.2222222222222222,
             "#7201a8"
            ],
            [
             0.3333333333333333,
             "#9c179e"
            ],
            [
             0.4444444444444444,
             "#bd3786"
            ],
            [
             0.5555555555555556,
             "#d8576b"
            ],
            [
             0.6666666666666666,
             "#ed7953"
            ],
            [
             0.7777777777777778,
             "#fb9f3a"
            ],
            [
             0.8888888888888888,
             "#fdca26"
            ],
            [
             1,
             "#f0f921"
            ]
           ],
           "sequentialminus": [
            [
             0,
             "#0d0887"
            ],
            [
             0.1111111111111111,
             "#46039f"
            ],
            [
             0.2222222222222222,
             "#7201a8"
            ],
            [
             0.3333333333333333,
             "#9c179e"
            ],
            [
             0.4444444444444444,
             "#bd3786"
            ],
            [
             0.5555555555555556,
             "#d8576b"
            ],
            [
             0.6666666666666666,
             "#ed7953"
            ],
            [
             0.7777777777777778,
             "#fb9f3a"
            ],
            [
             0.8888888888888888,
             "#fdca26"
            ],
            [
             1,
             "#f0f921"
            ]
           ]
          },
          "colorway": [
           "#636efa",
           "#EF553B",
           "#00cc96",
           "#ab63fa",
           "#FFA15A",
           "#19d3f3",
           "#FF6692",
           "#B6E880",
           "#FF97FF",
           "#FECB52"
          ],
          "font": {
           "color": "#2a3f5f"
          },
          "geo": {
           "bgcolor": "white",
           "lakecolor": "white",
           "landcolor": "#E5ECF6",
           "showlakes": true,
           "showland": true,
           "subunitcolor": "white"
          },
          "hoverlabel": {
           "align": "left"
          },
          "hovermode": "closest",
          "mapbox": {
           "style": "light"
          },
          "paper_bgcolor": "white",
          "plot_bgcolor": "#E5ECF6",
          "polar": {
           "angularaxis": {
            "gridcolor": "white",
            "linecolor": "white",
            "ticks": ""
           },
           "bgcolor": "#E5ECF6",
           "radialaxis": {
            "gridcolor": "white",
            "linecolor": "white",
            "ticks": ""
           }
          },
          "scene": {
           "xaxis": {
            "backgroundcolor": "#E5ECF6",
            "gridcolor": "white",
            "gridwidth": 2,
            "linecolor": "white",
            "showbackground": true,
            "ticks": "",
            "zerolinecolor": "white"
           },
           "yaxis": {
            "backgroundcolor": "#E5ECF6",
            "gridcolor": "white",
            "gridwidth": 2,
            "linecolor": "white",
            "showbackground": true,
            "ticks": "",
            "zerolinecolor": "white"
           },
           "zaxis": {
            "backgroundcolor": "#E5ECF6",
            "gridcolor": "white",
            "gridwidth": 2,
            "linecolor": "white",
            "showbackground": true,
            "ticks": "",
            "zerolinecolor": "white"
           }
          },
          "shapedefaults": {
           "line": {
            "color": "#2a3f5f"
           }
          },
          "ternary": {
           "aaxis": {
            "gridcolor": "white",
            "linecolor": "white",
            "ticks": ""
           },
           "baxis": {
            "gridcolor": "white",
            "linecolor": "white",
            "ticks": ""
           },
           "bgcolor": "#E5ECF6",
           "caxis": {
            "gridcolor": "white",
            "linecolor": "white",
            "ticks": ""
           }
          },
          "title": {
           "x": 0.05
          },
          "xaxis": {
           "automargin": true,
           "gridcolor": "white",
           "linecolor": "white",
           "ticks": "",
           "title": {
            "standoff": 15
           },
           "zerolinecolor": "white",
           "zerolinewidth": 2
          },
          "yaxis": {
           "automargin": true,
           "gridcolor": "white",
           "linecolor": "white",
           "ticks": "",
           "title": {
            "standoff": 15
           },
           "zerolinecolor": "white",
           "zerolinewidth": 2
          }
         }
        },
        "title": {
         "text": "Halftimes: Shots on Goal - Shots on Goal Opponent",
         "x": 0.5
        },
        "width": 700,
        "xaxis": {
         "anchor": "y",
         "domain": [
          0,
          1
         ],
         "range": [
          5,
          95
         ],
         "title": {
          "text": "BP-H"
         }
        },
        "yaxis": {
         "anchor": "x",
         "domain": [
          0,
          1
         ],
         "dtick": 1,
         "tick0": 1,
         "tickmode": "linear",
         "title": {
          "text": "Goal difference"
         }
        }
       }
      }
     },
     "metadata": {},
     "output_type": "display_data"
    }
   ],
   "source": [
    "slidertext = 'Show last x halftimes'\n",
    "nrGames = st.sidebar.slider(slidertext, max_value=len(\n",
    "    df4Complete), value=len(df4Complete), step=2)\n",
    "\n",
    "# change rows of df depending on userinput\n",
    "df4Complete = df4Complete[:nrGames]\n",
    "df4Complete = df4Complete.sort_values(\"Date\", ascending=False)\n",
    "df4Complete = df4Complete.round(1)\n",
    "\n",
    "df4Complete[['xG', 'A_xG', 'G-H', 'G-A', 'BP-H', 'BP-A', 'GA-H', 'GA-A', 'SoG-H', 'SoG-A',  'xPTS', 'A_xPTS']] = df4Complete[['xG',\n",
    "                                                                                                                              'A_xG', 'G-H', 'G-A', 'BP-H', 'BP-A', 'GA-H', 'GA-A', 'SoG-H', 'SoG-A',  'xPTS', 'A_xPTS']].apply(pd.to_numeric, errors='coerce', axis=1)\n",
    "\n",
    "df4Complete_show = df4Complete[['Home', 'Opponent', 'IsHome', 'R', 'xG', 'A_xG', 'G-H', 'G-A', 'BP-H', 'BP-A', 'GA-H', 'GA-A',\n",
    "                                'SoG-H', 'SoG-A',  'xPTS', 'A_xPTS', 'Date']]\n",
    "\n",
    "\n",
    "# create df for visualizing\n",
    "df4CompleteGraph = df4Complete.copy()\n",
    "\n",
    "df4CompleteGraph[\"SoG-H-SoG-A\"] = df4CompleteGraph[\"SoG-H\"] - \\\n",
    "    df4CompleteGraph[\"SoG-A\"]\n",
    "df4CompleteGraph[\"SoG-H-SoG-A\"] = df4CompleteGraph[\"SoG-H-SoG-A\"].clip(\n",
    "    lower=0)\n",
    "\n",
    "df4CompleteGraph[\"SoG-A-SoG-H\"] = df4CompleteGraph[\"SoG-A\"] - \\\n",
    "    df4CompleteGraph[\"SoG-H\"]\n",
    "df4CompleteGraph[\"SoG-A-SoG-H\"] = df4CompleteGraph[\"SoG-A-SoG-H\"].clip(\n",
    "    lower=0)\n",
    "\n",
    "figScatter = px.scatter(\n",
    "    df4CompleteGraph,  # .query(f'Date.between{end_date}'),\n",
    "    x='BP-H',\n",
    "    y='GoalDiff',\n",
    "    color=\"timestamp\",\n",
    "    size=\"SoG-H-SoG-A\",\n",
    "    text=\"Opponent\",\n",
    "    width=widthfig,\n",
    "    # height=heightfig,\n",
    "    # title=\"SoGH-SoGA - Halftimes\",\n",
    "    # color_continuous_scale= 'Viridis',\n",
    "    # color_discrete_map={\"W\": \"green\", \"D\": \"gray\", \"L\": \"red\"}\n",
    "\n",
    "    # facet_row=\"time\", # makes seperate plot for value\n",
    "    # marginal_x=\"histogram\",\n",
    ").update_traces(textposition='top center')\n",
    "figScatter.update_xaxes(range=[5, 95])\n",
    "figScatter.update_layout(\n",
    "    title_text='Halftimes: Shots on Goal - Shots on Goal Opponent', title_x=0.5,\n",
    "    yaxis=dict(\n",
    "        tickmode='linear',\n",
    "        tick0=1,\n",
    "        dtick=1,\n",
    "        title=\"Goal difference\"\n",
    "    ))\n",
    "\n",
    "# %%"
   ]
  },
  {
   "cell_type": "code",
   "execution_count": 71,
   "metadata": {},
   "outputs": [],
   "source": [
    "# wie oft passierts das team hinten ist und noch gewinnt / nicht verliert:´\n",
    "# sortier nach sieg x loss \n",
    "#mach diagramm halftimes für 1te und 2te hz\n",
    "\n",
    "# delete games where there is no two halftimes!\n",
    "df4Complete = df4CompleteGraph[df4CompleteGraph.groupby('Opponent')['Opponent'].transform('size') >= 2]\n",
    "df4Complete = df4Complete.sort_index()\n",
    "# second half is second entry always!\n",
    "df4Complete[\"halftime\"] = 0\n",
    "df4Complete.iloc[::2][\"halftime\"] = 2\n",
    "df4Complete.iloc[1::2][\"halftime\"] = 1"
   ]
  },
  {
   "cell_type": "code",
   "execution_count": 72,
   "metadata": {},
   "outputs": [
    {
     "data": {
      "application/vnd.plotly.v1+json": {
       "config": {
        "plotlyServerURL": "https://plot.ly"
       },
       "data": [
        {
         "hovertemplate": "BP-H=%{x}<br>GoalDiff=%{y}<br>SoG-H-SoG-A=%{marker.size}<br>Opponent=%{text}<br>halftime=%{marker.color}<extra></extra>",
         "legendgroup": "",
         "marker": {
          "color": [
           2,
           1,
           2,
           1,
           2,
           1,
           2,
           1,
           2,
           1,
           2,
           1,
           2,
           1,
           2,
           1,
           2,
           1,
           2,
           1,
           2,
           1,
           2,
           1,
           2,
           1,
           2,
           1,
           2,
           1,
           2,
           1,
           2,
           1,
           2,
           1,
           2,
           1,
           2,
           1,
           2,
           1,
           2,
           1
          ],
          "coloraxis": "coloraxis",
          "size": [
           3,
           2,
           0,
           1,
           0,
           0,
           1,
           3,
           1,
           5,
           0,
           1,
           1,
           3,
           0,
           0,
           0,
           0,
           2,
           2,
           0,
           0,
           0,
           0,
           0,
           0,
           0,
           2,
           1,
           0,
           0,
           3,
           0,
           0,
           0,
           3,
           0,
           0,
           0,
           1,
           0,
           0,
           2,
           0
          ],
          "sizemode": "area",
          "sizeref": 0.0125,
          "symbol": "circle"
         },
         "mode": "markers+text",
         "name": "",
         "orientation": "v",
         "showlegend": false,
         "text": [
          "Leeds",
          "Leeds",
          "Southampton",
          "Southampton",
          "Wolves",
          "Wolves",
          "Newcastle United",
          "Newcastle United",
          "West Ham",
          "West Ham",
          "Aston Villa",
          "Aston Villa",
          "Everton",
          "Everton",
          "Leicester",
          "Leicester",
          "Liverpool",
          "Liverpool",
          "Tottenham",
          "Tottenham",
          "Manchester City",
          "Manchester City",
          "Watford",
          "Watford",
          "Chelsea",
          "Chelsea",
          "Arsenal",
          "Arsenal",
          "Crystal Palace",
          "Crystal Palace",
          "Norwich",
          "Norwich",
          "Newcastle United",
          "Newcastle United",
          "Burnley",
          "Burnley",
          "Wolves",
          "Wolves",
          "Aston Villa",
          "Aston Villa",
          "Brentford",
          "Brentford",
          "West Ham",
          "West Ham"
         ],
         "textposition": "top center",
         "type": "scatter",
         "x": [
          52,
          46,
          63,
          65,
          56,
          56,
          58,
          70,
          56,
          64,
          58,
          60,
          75,
          67,
          53,
          49,
          27,
          47,
          36,
          48,
          35,
          31,
          60,
          62,
          36,
          32,
          33,
          57,
          56,
          66,
          48,
          58,
          71,
          69,
          57,
          57,
          56,
          46,
          35,
          55,
          46,
          68,
          59,
          55
         ],
         "xaxis": "x",
         "y": [
          3,
          1,
          1,
          -1,
          1,
          0,
          2,
          1,
          1,
          0,
          -1,
          0,
          -1,
          1,
          -2,
          0,
          -1,
          -4,
          2,
          1,
          0,
          -2,
          -1,
          -2,
          0,
          0,
          1,
          0,
          1,
          0,
          1,
          0,
          1,
          -1,
          0,
          2,
          -1,
          0,
          -1,
          1,
          2,
          0,
          1,
          0
         ],
         "yaxis": "y"
        }
       ],
       "layout": {
        "coloraxis": {
         "colorbar": {
          "title": {
           "text": "halftime"
          }
         },
         "colorscale": [
          [
           0,
           "#0d0887"
          ],
          [
           0.1111111111111111,
           "#46039f"
          ],
          [
           0.2222222222222222,
           "#7201a8"
          ],
          [
           0.3333333333333333,
           "#9c179e"
          ],
          [
           0.4444444444444444,
           "#bd3786"
          ],
          [
           0.5555555555555556,
           "#d8576b"
          ],
          [
           0.6666666666666666,
           "#ed7953"
          ],
          [
           0.7777777777777778,
           "#fb9f3a"
          ],
          [
           0.8888888888888888,
           "#fdca26"
          ],
          [
           1,
           "#f0f921"
          ]
         ]
        },
        "legend": {
         "itemsizing": "constant",
         "tracegroupgap": 0
        },
        "margin": {
         "t": 60
        },
        "template": {
         "data": {
          "bar": [
           {
            "error_x": {
             "color": "#2a3f5f"
            },
            "error_y": {
             "color": "#2a3f5f"
            },
            "marker": {
             "line": {
              "color": "#E5ECF6",
              "width": 0.5
             }
            },
            "type": "bar"
           }
          ],
          "barpolar": [
           {
            "marker": {
             "line": {
              "color": "#E5ECF6",
              "width": 0.5
             }
            },
            "type": "barpolar"
           }
          ],
          "carpet": [
           {
            "aaxis": {
             "endlinecolor": "#2a3f5f",
             "gridcolor": "white",
             "linecolor": "white",
             "minorgridcolor": "white",
             "startlinecolor": "#2a3f5f"
            },
            "baxis": {
             "endlinecolor": "#2a3f5f",
             "gridcolor": "white",
             "linecolor": "white",
             "minorgridcolor": "white",
             "startlinecolor": "#2a3f5f"
            },
            "type": "carpet"
           }
          ],
          "choropleth": [
           {
            "colorbar": {
             "outlinewidth": 0,
             "ticks": ""
            },
            "type": "choropleth"
           }
          ],
          "contour": [
           {
            "colorbar": {
             "outlinewidth": 0,
             "ticks": ""
            },
            "colorscale": [
             [
              0,
              "#0d0887"
             ],
             [
              0.1111111111111111,
              "#46039f"
             ],
             [
              0.2222222222222222,
              "#7201a8"
             ],
             [
              0.3333333333333333,
              "#9c179e"
             ],
             [
              0.4444444444444444,
              "#bd3786"
             ],
             [
              0.5555555555555556,
              "#d8576b"
             ],
             [
              0.6666666666666666,
              "#ed7953"
             ],
             [
              0.7777777777777778,
              "#fb9f3a"
             ],
             [
              0.8888888888888888,
              "#fdca26"
             ],
             [
              1,
              "#f0f921"
             ]
            ],
            "type": "contour"
           }
          ],
          "contourcarpet": [
           {
            "colorbar": {
             "outlinewidth": 0,
             "ticks": ""
            },
            "type": "contourcarpet"
           }
          ],
          "heatmap": [
           {
            "colorbar": {
             "outlinewidth": 0,
             "ticks": ""
            },
            "colorscale": [
             [
              0,
              "#0d0887"
             ],
             [
              0.1111111111111111,
              "#46039f"
             ],
             [
              0.2222222222222222,
              "#7201a8"
             ],
             [
              0.3333333333333333,
              "#9c179e"
             ],
             [
              0.4444444444444444,
              "#bd3786"
             ],
             [
              0.5555555555555556,
              "#d8576b"
             ],
             [
              0.6666666666666666,
              "#ed7953"
             ],
             [
              0.7777777777777778,
              "#fb9f3a"
             ],
             [
              0.8888888888888888,
              "#fdca26"
             ],
             [
              1,
              "#f0f921"
             ]
            ],
            "type": "heatmap"
           }
          ],
          "heatmapgl": [
           {
            "colorbar": {
             "outlinewidth": 0,
             "ticks": ""
            },
            "colorscale": [
             [
              0,
              "#0d0887"
             ],
             [
              0.1111111111111111,
              "#46039f"
             ],
             [
              0.2222222222222222,
              "#7201a8"
             ],
             [
              0.3333333333333333,
              "#9c179e"
             ],
             [
              0.4444444444444444,
              "#bd3786"
             ],
             [
              0.5555555555555556,
              "#d8576b"
             ],
             [
              0.6666666666666666,
              "#ed7953"
             ],
             [
              0.7777777777777778,
              "#fb9f3a"
             ],
             [
              0.8888888888888888,
              "#fdca26"
             ],
             [
              1,
              "#f0f921"
             ]
            ],
            "type": "heatmapgl"
           }
          ],
          "histogram": [
           {
            "marker": {
             "colorbar": {
              "outlinewidth": 0,
              "ticks": ""
             }
            },
            "type": "histogram"
           }
          ],
          "histogram2d": [
           {
            "colorbar": {
             "outlinewidth": 0,
             "ticks": ""
            },
            "colorscale": [
             [
              0,
              "#0d0887"
             ],
             [
              0.1111111111111111,
              "#46039f"
             ],
             [
              0.2222222222222222,
              "#7201a8"
             ],
             [
              0.3333333333333333,
              "#9c179e"
             ],
             [
              0.4444444444444444,
              "#bd3786"
             ],
             [
              0.5555555555555556,
              "#d8576b"
             ],
             [
              0.6666666666666666,
              "#ed7953"
             ],
             [
              0.7777777777777778,
              "#fb9f3a"
             ],
             [
              0.8888888888888888,
              "#fdca26"
             ],
             [
              1,
              "#f0f921"
             ]
            ],
            "type": "histogram2d"
           }
          ],
          "histogram2dcontour": [
           {
            "colorbar": {
             "outlinewidth": 0,
             "ticks": ""
            },
            "colorscale": [
             [
              0,
              "#0d0887"
             ],
             [
              0.1111111111111111,
              "#46039f"
             ],
             [
              0.2222222222222222,
              "#7201a8"
             ],
             [
              0.3333333333333333,
              "#9c179e"
             ],
             [
              0.4444444444444444,
              "#bd3786"
             ],
             [
              0.5555555555555556,
              "#d8576b"
             ],
             [
              0.6666666666666666,
              "#ed7953"
             ],
             [
              0.7777777777777778,
              "#fb9f3a"
             ],
             [
              0.8888888888888888,
              "#fdca26"
             ],
             [
              1,
              "#f0f921"
             ]
            ],
            "type": "histogram2dcontour"
           }
          ],
          "mesh3d": [
           {
            "colorbar": {
             "outlinewidth": 0,
             "ticks": ""
            },
            "type": "mesh3d"
           }
          ],
          "parcoords": [
           {
            "line": {
             "colorbar": {
              "outlinewidth": 0,
              "ticks": ""
             }
            },
            "type": "parcoords"
           }
          ],
          "pie": [
           {
            "automargin": true,
            "type": "pie"
           }
          ],
          "scatter": [
           {
            "marker": {
             "colorbar": {
              "outlinewidth": 0,
              "ticks": ""
             }
            },
            "type": "scatter"
           }
          ],
          "scatter3d": [
           {
            "line": {
             "colorbar": {
              "outlinewidth": 0,
              "ticks": ""
             }
            },
            "marker": {
             "colorbar": {
              "outlinewidth": 0,
              "ticks": ""
             }
            },
            "type": "scatter3d"
           }
          ],
          "scattercarpet": [
           {
            "marker": {
             "colorbar": {
              "outlinewidth": 0,
              "ticks": ""
             }
            },
            "type": "scattercarpet"
           }
          ],
          "scattergeo": [
           {
            "marker": {
             "colorbar": {
              "outlinewidth": 0,
              "ticks": ""
             }
            },
            "type": "scattergeo"
           }
          ],
          "scattergl": [
           {
            "marker": {
             "colorbar": {
              "outlinewidth": 0,
              "ticks": ""
             }
            },
            "type": "scattergl"
           }
          ],
          "scattermapbox": [
           {
            "marker": {
             "colorbar": {
              "outlinewidth": 0,
              "ticks": ""
             }
            },
            "type": "scattermapbox"
           }
          ],
          "scatterpolar": [
           {
            "marker": {
             "colorbar": {
              "outlinewidth": 0,
              "ticks": ""
             }
            },
            "type": "scatterpolar"
           }
          ],
          "scatterpolargl": [
           {
            "marker": {
             "colorbar": {
              "outlinewidth": 0,
              "ticks": ""
             }
            },
            "type": "scatterpolargl"
           }
          ],
          "scatterternary": [
           {
            "marker": {
             "colorbar": {
              "outlinewidth": 0,
              "ticks": ""
             }
            },
            "type": "scatterternary"
           }
          ],
          "surface": [
           {
            "colorbar": {
             "outlinewidth": 0,
             "ticks": ""
            },
            "colorscale": [
             [
              0,
              "#0d0887"
             ],
             [
              0.1111111111111111,
              "#46039f"
             ],
             [
              0.2222222222222222,
              "#7201a8"
             ],
             [
              0.3333333333333333,
              "#9c179e"
             ],
             [
              0.4444444444444444,
              "#bd3786"
             ],
             [
              0.5555555555555556,
              "#d8576b"
             ],
             [
              0.6666666666666666,
              "#ed7953"
             ],
             [
              0.7777777777777778,
              "#fb9f3a"
             ],
             [
              0.8888888888888888,
              "#fdca26"
             ],
             [
              1,
              "#f0f921"
             ]
            ],
            "type": "surface"
           }
          ],
          "table": [
           {
            "cells": {
             "fill": {
              "color": "#EBF0F8"
             },
             "line": {
              "color": "white"
             }
            },
            "header": {
             "fill": {
              "color": "#C8D4E3"
             },
             "line": {
              "color": "white"
             }
            },
            "type": "table"
           }
          ]
         },
         "layout": {
          "annotationdefaults": {
           "arrowcolor": "#2a3f5f",
           "arrowhead": 0,
           "arrowwidth": 1
          },
          "coloraxis": {
           "colorbar": {
            "outlinewidth": 0,
            "ticks": ""
           }
          },
          "colorscale": {
           "diverging": [
            [
             0,
             "#8e0152"
            ],
            [
             0.1,
             "#c51b7d"
            ],
            [
             0.2,
             "#de77ae"
            ],
            [
             0.3,
             "#f1b6da"
            ],
            [
             0.4,
             "#fde0ef"
            ],
            [
             0.5,
             "#f7f7f7"
            ],
            [
             0.6,
             "#e6f5d0"
            ],
            [
             0.7,
             "#b8e186"
            ],
            [
             0.8,
             "#7fbc41"
            ],
            [
             0.9,
             "#4d9221"
            ],
            [
             1,
             "#276419"
            ]
           ],
           "sequential": [
            [
             0,
             "#0d0887"
            ],
            [
             0.1111111111111111,
             "#46039f"
            ],
            [
             0.2222222222222222,
             "#7201a8"
            ],
            [
             0.3333333333333333,
             "#9c179e"
            ],
            [
             0.4444444444444444,
             "#bd3786"
            ],
            [
             0.5555555555555556,
             "#d8576b"
            ],
            [
             0.6666666666666666,
             "#ed7953"
            ],
            [
             0.7777777777777778,
             "#fb9f3a"
            ],
            [
             0.8888888888888888,
             "#fdca26"
            ],
            [
             1,
             "#f0f921"
            ]
           ],
           "sequentialminus": [
            [
             0,
             "#0d0887"
            ],
            [
             0.1111111111111111,
             "#46039f"
            ],
            [
             0.2222222222222222,
             "#7201a8"
            ],
            [
             0.3333333333333333,
             "#9c179e"
            ],
            [
             0.4444444444444444,
             "#bd3786"
            ],
            [
             0.5555555555555556,
             "#d8576b"
            ],
            [
             0.6666666666666666,
             "#ed7953"
            ],
            [
             0.7777777777777778,
             "#fb9f3a"
            ],
            [
             0.8888888888888888,
             "#fdca26"
            ],
            [
             1,
             "#f0f921"
            ]
           ]
          },
          "colorway": [
           "#636efa",
           "#EF553B",
           "#00cc96",
           "#ab63fa",
           "#FFA15A",
           "#19d3f3",
           "#FF6692",
           "#B6E880",
           "#FF97FF",
           "#FECB52"
          ],
          "font": {
           "color": "#2a3f5f"
          },
          "geo": {
           "bgcolor": "white",
           "lakecolor": "white",
           "landcolor": "#E5ECF6",
           "showlakes": true,
           "showland": true,
           "subunitcolor": "white"
          },
          "hoverlabel": {
           "align": "left"
          },
          "hovermode": "closest",
          "mapbox": {
           "style": "light"
          },
          "paper_bgcolor": "white",
          "plot_bgcolor": "#E5ECF6",
          "polar": {
           "angularaxis": {
            "gridcolor": "white",
            "linecolor": "white",
            "ticks": ""
           },
           "bgcolor": "#E5ECF6",
           "radialaxis": {
            "gridcolor": "white",
            "linecolor": "white",
            "ticks": ""
           }
          },
          "scene": {
           "xaxis": {
            "backgroundcolor": "#E5ECF6",
            "gridcolor": "white",
            "gridwidth": 2,
            "linecolor": "white",
            "showbackground": true,
            "ticks": "",
            "zerolinecolor": "white"
           },
           "yaxis": {
            "backgroundcolor": "#E5ECF6",
            "gridcolor": "white",
            "gridwidth": 2,
            "linecolor": "white",
            "showbackground": true,
            "ticks": "",
            "zerolinecolor": "white"
           },
           "zaxis": {
            "backgroundcolor": "#E5ECF6",
            "gridcolor": "white",
            "gridwidth": 2,
            "linecolor": "white",
            "showbackground": true,
            "ticks": "",
            "zerolinecolor": "white"
           }
          },
          "shapedefaults": {
           "line": {
            "color": "#2a3f5f"
           }
          },
          "ternary": {
           "aaxis": {
            "gridcolor": "white",
            "linecolor": "white",
            "ticks": ""
           },
           "baxis": {
            "gridcolor": "white",
            "linecolor": "white",
            "ticks": ""
           },
           "bgcolor": "#E5ECF6",
           "caxis": {
            "gridcolor": "white",
            "linecolor": "white",
            "ticks": ""
           }
          },
          "title": {
           "x": 0.05
          },
          "xaxis": {
           "automargin": true,
           "gridcolor": "white",
           "linecolor": "white",
           "ticks": "",
           "title": {
            "standoff": 15
           },
           "zerolinecolor": "white",
           "zerolinewidth": 2
          },
          "yaxis": {
           "automargin": true,
           "gridcolor": "white",
           "linecolor": "white",
           "ticks": "",
           "title": {
            "standoff": 15
           },
           "zerolinecolor": "white",
           "zerolinewidth": 2
          }
         }
        },
        "title": {
         "text": "Halftimes: Shots on Goal - Shots on Goal Opponent",
         "x": 0.5
        },
        "width": 700,
        "xaxis": {
         "anchor": "y",
         "domain": [
          0,
          1
         ],
         "range": [
          5,
          95
         ],
         "title": {
          "text": "BP-H"
         }
        },
        "yaxis": {
         "anchor": "x",
         "domain": [
          0,
          1
         ],
         "dtick": 1,
         "tick0": 1,
         "tickmode": "linear",
         "title": {
          "text": "Goal difference"
         }
        }
       }
      }
     },
     "metadata": {},
     "output_type": "display_data"
    }
   ],
   "source": [
    "\n",
    "figScatter = px.scatter(\n",
    "    df4Complete,  # .query(f'Date.between{end_date}'),\n",
    "    x='BP-H',\n",
    "    y='GoalDiff',\n",
    "    color=\"halftime\",\n",
    "    size=\"SoG-H-SoG-A\",\n",
    "    text=\"Opponent\",\n",
    "    width=widthfig,\n",
    "    # height=heightfig,\n",
    "    # title=\"SoGH-SoGA - Halftimes\",\n",
    "    # color_continuous_scale= 'Viridis',\n",
    "    # color_discrete_map={\"W\": \"green\", \"D\": \"gray\", \"L\": \"red\"}\n",
    "\n",
    "    # facet_row=\"time\", # makes seperate plot for value\n",
    "    # marginal_x=\"histogram\",\n",
    ").update_traces(textposition='top center')\n",
    "figScatter.update_xaxes(range=[5, 95])\n",
    "figScatter.update_layout(\n",
    "    title_text='Halftimes: Shots on Goal - Shots on Goal Opponent', title_x=0.5,\n",
    "    yaxis=dict(\n",
    "        tickmode='linear',\n",
    "        tick0=1,\n",
    "        dtick=1,\n",
    "        title=\"Goal difference\"\n",
    "    ))\n",
    "\n",
    "# %%"
   ]
  },
  {
   "cell_type": "code",
   "execution_count": null,
   "metadata": {},
   "outputs": [],
   "source": []
  },
  {
   "cell_type": "code",
   "execution_count": 73,
   "metadata": {},
   "outputs": [
    {
     "data": {
      "text/plain": [
       "DeltaGenerator(_root_container=0, _provided_cursor=None, _parent=None, _block_type=None, _form_data=None)"
      ]
     },
     "execution_count": 73,
     "metadata": {},
     "output_type": "execute_result"
    }
   ],
   "source": [
    "\n",
    "figScatter1 = px.scatter(\n",
    "    df4CompleteGraph,  # .query(f'Date.between{end_date}'),\n",
    "    x='BP-H',\n",
    "    y='GoalDiff',\n",
    "    color=\"timestamp\",\n",
    "    size=\"SoG-A-SoG-H\",\n",
    "    text=\"Opponent\",\n",
    "    width=widthfig,\n",
    "    # height=heightfig,\n",
    "    title=\"SoGA-SoGH - Halftimes\",\n",
    "    # color_discrete_map={\"W\": \"green\", \"D\": \"gray\", \"L\": \"red\"}\n",
    "\n",
    "    # facet_row=\"time\", # makes seperate plot for value\n",
    "    # marginal_x=\"histogram\",\n",
    ").update_traces(textposition='top center')\n",
    "figScatter1.update_xaxes(range=[5, 95])\n",
    "figScatter1.update_layout(\n",
    "    title_text='Halftimes: Shots on Goal Opponent - Shots on Goal', title_x=0.5,\n",
    "    yaxis=dict(\n",
    "        tickmode='linear',\n",
    "        tick0=1,\n",
    "        dtick=1,\n",
    "        title=\"Goal difference\"\n",
    "    )\n",
    ")\n",
    "\n",
    "\n",
    "naming1x2 = {\"W\": \"Win\", \"D\": \"Draw\", \"L\": \"Loss\"}\n",
    "df4CompleteGraph['Halftime result'] = df4CompleteGraph['1x2'].replace(\n",
    "    naming1x2)\n",
    "# Create data for histogram 2\n",
    "figHist2 = px.bar(\n",
    "    df4CompleteGraph,\n",
    "    x='BPTypes',\n",
    "    # text=df4CompleteGraph.index,\n",
    "    # title=\"BP-Styles - Halftimes\",\n",
    "    color='Halftime result',\n",
    "    color_discrete_map={\"Win\": \"green\", \"Draw\": \"gray\", \"Loss\": \"red\"},\n",
    "    width=widthfig,\n",
    "    # height=heightfig,\n",
    "    # opacity=0.5,\n",
    "    # text=\"Opponent\",\n",
    ").update_xaxes(categoryorder=\"array\",  categoryarray=['<45', '45-55', '>55'])\n",
    "figHist2.update_layout(\n",
    "    title_text='Ballpossesionstyles - results per halftime', title_x=0.5, xaxis=dict(\n",
    "        tickmode='array', showticklabels=True,\n",
    "    )\n",
    ")\n",
    "\n",
    "\n",
    "# create scatterplot with XG - bubble size\n",
    "df4CompleteGraph = df4Complete.copy()\n",
    "\n",
    "df4CompleteGraph = convert_hts_to_complete_games(df4CompleteGraph)\n",
    "\n",
    "# Calculate again the stuff like for the single halftimes before!\n",
    "# GoalDifference\n",
    "df4CompleteGraph[\"GoalDiff\"] = df4CompleteGraph[\"G-H\"] - \\\n",
    "    df4CompleteGraph[\"G-A\"]\n",
    "df4CompleteGraph = df4CompleteGraph.sort_values(\"Date\",  ascending=False)\n",
    "# calculate column with 3 Ballposition types\n",
    "df4CompleteGraph[\"BPTypes\"] = '0'\n",
    "df4CompleteGraph[\"BPTypes\"] = df4CompleteGraph.apply(\n",
    "    lambda row: calculate_1x2_BPTypes(row), axis=1, result_type='reduce')\n",
    "df4CompleteGraph['Date'] = pd.to_datetime(\n",
    "    df4CompleteGraph['Date'], format=\"%d.%m.%Y %H:%M\")\n",
    "# convert datetime to timestamp for scatter visualization\n",
    "df4CompleteGraph['timestamp'] = df4CompleteGraph.Date.astype('int64')//10**9\n",
    "df4CompleteGraph = df4CompleteGraph.sort_values(\"Date\", ascending=False)\n",
    "# Create data for scatter graph\n",
    "df4CompleteGraph[\"xG-A_xG\"] = df4CompleteGraph[\"xG\"] - df4CompleteGraph[\"A_xG\"]\n",
    "df4CompleteGraph[\"xG-A_xG\"] = df4CompleteGraph[\"xG-A_xG\"].clip(lower=0)\n",
    "df4CompleteGraph[\"xG-A_xG\"] = df4CompleteGraph[\"xG-A_xG\"].round(1)\n",
    "df4CompleteGraph[\"A_xG-xG\"] = df4CompleteGraph[\"A_xG\"] - df4CompleteGraph[\"xG\"]\n",
    "df4CompleteGraph[\"A_xG-xG\"] = df4CompleteGraph[\"A_xG-xG\"].clip(lower=0)\n",
    "df4CompleteGraph[\"A_xG-xG\"] = df4CompleteGraph[\"A_xG-xG\"].round(1)\n",
    "\n",
    "\n",
    "figScatter3 = px.scatter(\n",
    "    df4CompleteGraph,  # .query(f'Date.between{end_date}'),\n",
    "    x='BP-H',\n",
    "    y='GoalDiff',\n",
    "    color=\"timestamp\",\n",
    "    size=\"xG-A_xG\",\n",
    "    text=\"Opponent\",\n",
    "    width=widthfig,\n",
    "    # height=heightfig,\n",
    "    # color_continuous_scale= 'Viridis',\n",
    "    # facet_row=\"time\", # makes seperate plot for value\n",
    "    # marginal_x=\"histogram\",\n",
    ").update_traces(textposition='top center', marker_symbol=\"cross\")\n",
    "figScatter3.update_xaxes(range=[5, 95])\n",
    "figScatter3.update_layout(\n",
    "    title_text='Expectedgoals - Expectedgoals Opponent', title_x=0.5,\n",
    "    yaxis=dict(\n",
    "        tickmode='linear',\n",
    "        tick0=1,\n",
    "        dtick=1,\n",
    "        title=\"Goal difference\"\n",
    "    ))\n",
    "\n",
    "figScatter4 = px.scatter(\n",
    "    df4CompleteGraph,  # .query(f'Date.between{end_date}'),\n",
    "    x='BP-H',\n",
    "    y='GoalDiff',\n",
    "    color=\"timestamp\",\n",
    "    size=\"A_xG-xG\",\n",
    "    text=\"Opponent\",\n",
    "    width=widthfig,\n",
    "    # height=heightfig,\n",
    "    # facet_row=\"time\", # makes seperate plot for value\n",
    "    # marginal_x=\"histogram\",\n",
    ").update_traces(textposition='top center')\n",
    "figScatter4.update_xaxes(range=[5, 95])\n",
    "figScatter4.update_layout(\n",
    "    title_text='Expectedgoals Opponent - Expectedgoals', title_x=0.5,\n",
    "    yaxis=dict(\n",
    "        tickmode='linear',\n",
    "        tick0=1,\n",
    "        dtick=1,\n",
    "        title=\"Goal difference\"\n",
    "    ))\n",
    "\n",
    "\n",
    "# Streamlit encourages well-structured code, like starting execution in a main() function.\n",
    "st.title(\"Football statistics - {}\".format(team))\n",
    "\n",
    "st.markdown('The following two diagrams display the new metric Expected Goals (**xGoals**), which is a qualitative measurement on base of the shots on goal.  \\nThe expected goal model shows how high the chance of the goal really was and calculates a value for each completion based on several factors.   \\nF.I. a penalty has generally a probably of 75 % to result in a goal, which would increase the xGoal value for 0.75 regardless of the penalty-outcame in this case.', unsafe_allow_html=False)\n",
    "\n",
    "col1, col2 = st.columns(2)\n",
    "\n",
    "col1.plotly_chart(figScatter3)\n",
    "\n",
    "col2.plotly_chart(figScatter4)\n",
    "\n",
    "col1.plotly_chart(figScatter)\n",
    "\n",
    "col2.plotly_chart(figScatter1)\n",
    "\n",
    "col1.plotly_chart(figHist2)\n",
    "\n",
    "\n",
    "# C_WPercText, N_WPercText, BP_WPercText = calc_stats(df4Complete)\n",
    "# col2.write(\"% W < 0.45:   {}   \\n % W 0.45 - 0.55:  {}   \\n % W > 0.55:  {}\".format(\n",
    "#     C_WPercText, N_WPercText, BP_WPercText))\n",
    "\n",
    "# show df\n",
    "st.dataframe(df4Complete_show.style.format({'xG': '{:.1f}', 'A_xG': '{:.1f}', 'SoG-H': '{:.0f}',\n",
    "                                            'G-H': '{:.0f}', 'G-A': '{:.0f}', 'BP-H': '{:.0f}',\n",
    "                                            'BP-A': '{:.0f}', 'GA-H': '{:.0f}', 'GA-A': '{:.0f}',\n",
    "                                            'xPTS': '{:.1f}', 'A_xPTS': '{:.1f}', 'SoG-A': '{:.0f}',\n",
    "                                            }))\n"
   ]
  },
  {
   "cell_type": "code",
   "execution_count": null,
   "metadata": {},
   "outputs": [],
   "source": []
  }
 ],
 "metadata": {
  "interpreter": {
   "hash": "6e4c9d91e3d794cbab5ed166e278e430bab039b3b8900e52e7f727cefab3afb1"
  },
  "kernelspec": {
   "display_name": "Python 3.8.5 64-bit ('btcpred': conda)",
   "language": "python",
   "name": "python3"
  },
  "language_info": {
   "codemirror_mode": {
    "name": "ipython",
    "version": 3
   },
   "file_extension": ".py",
   "mimetype": "text/x-python",
   "name": "python",
   "nbconvert_exporter": "python",
   "pygments_lexer": "ipython3",
   "version": "3.8.5"
  },
  "orig_nbformat": 4
 },
 "nbformat": 4,
 "nbformat_minor": 2
}
