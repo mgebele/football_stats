{
 "cells": [
  {
   "cell_type": "code",
   "execution_count": 50,
   "metadata": {},
   "outputs": [
    {
     "data": {
      "text/plain": [
       "['htdatan\\\\b_1415_24102021.csv',\n",
       " 'htdatan\\\\b_1516_24102021.csv',\n",
       " 'htdatan\\\\b_1617_24102021.csv',\n",
       " 'htdatan\\\\b_1718_24102021.csv',\n",
       " 'htdatan\\\\b_1819_24102021.csv',\n",
       " 'htdatan\\\\b_1920_24102021.csv',\n",
       " 'htdatan\\\\b_2021_24102021.csv',\n",
       " 'htdatan\\\\b_2122.csv',\n",
       " 'htdatan\\\\l1_1314_24102021.csv',\n",
       " 'htdatan\\\\l1_1415_24102021.csv',\n",
       " 'htdatan\\\\l1_1516_24102021.csv',\n",
       " 'htdatan\\\\l1_1617_24102021.csv',\n",
       " 'htdatan\\\\l1_1718_24102021.csv',\n",
       " 'htdatan\\\\l1_1819_24102021.csv',\n",
       " 'htdatan\\\\l1_1920_24102021.csv',\n",
       " 'htdatan\\\\l1_2021_24102021.csv',\n",
       " 'htdatan\\\\l1_2122.csv',\n",
       " 'htdatan\\\\ll_1314_24102021.csv',\n",
       " 'htdatan\\\\ll_1415_24102021.csv',\n",
       " 'htdatan\\\\ll_1516_24102021.csv',\n",
       " 'htdatan\\\\ll_1617_24102021.csv',\n",
       " 'htdatan\\\\ll_1718_24102021.csv',\n",
       " 'htdatan\\\\ll_1819_24102021.csv',\n",
       " 'htdatan\\\\ll_1920_24102021.csv',\n",
       " 'htdatan\\\\ll_2021_24102021.csv',\n",
       " 'htdatan\\\\ll_2122.csv',\n",
       " 'htdatan\\\\not_relevant',\n",
       " 'htdatan\\\\pl_1314_24102021.csv',\n",
       " 'htdatan\\\\pl_1415_24102021.csv',\n",
       " 'htdatan\\\\pl_1516_24102021.csv',\n",
       " 'htdatan\\\\pl_1617_24102021.csv',\n",
       " 'htdatan\\\\pl_1718_24102021.csv',\n",
       " 'htdatan\\\\pl_1819_24102021.csv',\n",
       " 'htdatan\\\\pl_1920_24102021.csv',\n",
       " 'htdatan\\\\pl_2021_24102021.csv',\n",
       " 'htdatan\\\\pl_2122.csv',\n",
       " 'htdatan\\\\sa_1314_24102021.csv',\n",
       " 'htdatan\\\\sa_1415_24102021.csv',\n",
       " 'htdatan\\\\sa_1516_24102021.csv',\n",
       " 'htdatan\\\\sa_1617_24102021.csv',\n",
       " 'htdatan\\\\sa_1718_24102021.csv',\n",
       " 'htdatan\\\\sa_1819_24102021.csv',\n",
       " 'htdatan\\\\sa_1920_24102021.csv',\n",
       " 'htdatan\\\\sa_2021_24102021.csv',\n",
       " 'htdatan\\\\sa_2122.csv']"
      ]
     },
     "execution_count": 50,
     "metadata": {},
     "output_type": "execute_result"
    }
   ],
   "source": [
    "import glob\n",
    "import pandas as pd\n",
    "import numpy as np\n",
    "import re\n",
    "import plotly_express as px\n",
    "import datetime\n",
    "import warnings\n",
    "import os\n",
    "import json\n",
    "import streamlit as st\n",
    "st.set_page_config(layout=\"wide\")\n",
    "\n",
    "pd.options.display.float_format = \"{:,.1f}\".format\n",
    "\n",
    "warnings.filterwarnings('ignore')\n",
    "\n",
    "global teamnamedict\n",
    "# C:\\Users\\mg\\JupyterLabDir\\Rest\\Pr Winning\\teamnamedict_streamlit.json\n",
    "with open('teamnamedict_streamlit.json') as f:\n",
    "    teamnamedict = json.load(f)\n",
    "\n",
    "# def _max_width_():\n",
    "#     max_width_str = f\"max-width: 1300px;\"\n",
    "#     st.markdown(\n",
    "#         f\"\"\"\n",
    "#     <style>\n",
    "#     .reportview-container .main .block-container{{\n",
    "#         {max_width_str}\n",
    "#     }}\n",
    "#     </style>\n",
    "#     \"\"\",\n",
    "#         unsafe_allow_html=True,\n",
    "#     )\n",
    "\n",
    "# _max_width_()\n",
    "global widthfig\n",
    "widthfig = 700\n",
    "heightfig = 500\n",
    "\n",
    "# get all the gamestatistics from in dropdown specified league and season\n",
    "# setup the database connection.  There's no need to setup cursors with pandas psql.\n",
    "tables = list(glob.glob(\"htdatan/*\"))\n",
    "tables"
   ]
  },
  {
   "cell_type": "code",
   "execution_count": 51,
   "metadata": {},
   "outputs": [
    {
     "data": {
      "text/plain": [
       "['b_1415',\n",
       " 'b_1516',\n",
       " 'b_1617',\n",
       " 'b_1718',\n",
       " 'b_1819',\n",
       " 'b_1920',\n",
       " 'b_2021',\n",
       " 'b_2122.csv',\n",
       " 'l1_1314',\n",
       " 'l1_1415',\n",
       " 'l1_1516',\n",
       " 'l1_1617',\n",
       " 'l1_1718',\n",
       " 'l1_1819',\n",
       " 'l1_1920',\n",
       " 'l1_2021',\n",
       " 'l1_2122.csv',\n",
       " 'll_1314',\n",
       " 'll_1415',\n",
       " 'll_1516',\n",
       " 'll_1617',\n",
       " 'll_1718',\n",
       " 'll_1819',\n",
       " 'll_1920',\n",
       " 'll_2021',\n",
       " 'll_2122.csv',\n",
       " 'not_relevant',\n",
       " 'pl_1314',\n",
       " 'pl_1415',\n",
       " 'pl_1516',\n",
       " 'pl_1617',\n",
       " 'pl_1718',\n",
       " 'pl_1819',\n",
       " 'pl_1920',\n",
       " 'pl_2021',\n",
       " 'pl_2122.csv',\n",
       " 'sa_1314',\n",
       " 'sa_1415',\n",
       " 'sa_1516',\n",
       " 'sa_1617',\n",
       " 'sa_1718',\n",
       " 'sa_1819',\n",
       " 'sa_1920',\n",
       " 'sa_2021',\n",
       " 'sa_2122.csv']"
      ]
     },
     "execution_count": 51,
     "metadata": {},
     "output_type": "execute_result"
    }
   ],
   "source": [
    "# take only the 0 part of the every list entry\n",
    "global saissons\n",
    "saissons = []\n",
    "for x in range(0, len(tables)):\n",
    "    saissons.append(tables[x].split(\"\\\\\")[1].split(\"_24102021.csv\")[0])\n",
    "saissons"
   ]
  },
  {
   "cell_type": "code",
   "execution_count": 52,
   "metadata": {},
   "outputs": [
    {
     "data": {
      "text/plain": [
       "['b 1415',\n",
       " 'b 1516',\n",
       " 'b 1617',\n",
       " 'b 1718',\n",
       " 'b 1819',\n",
       " 'b 1920',\n",
       " 'b 2021',\n",
       " 'b 2122',\n",
       " 'l1 1314',\n",
       " 'l1 1415',\n",
       " 'l1 1516',\n",
       " 'l1 1617',\n",
       " 'l1 1718',\n",
       " 'l1 1819',\n",
       " 'l1 1920',\n",
       " 'l1 2021',\n",
       " 'l1 2122',\n",
       " 'll 1314',\n",
       " 'll 1415',\n",
       " 'll 1516',\n",
       " 'll 1617',\n",
       " 'll 1718',\n",
       " 'll 1819',\n",
       " 'll 1920',\n",
       " 'll 2021',\n",
       " 'll 2122',\n",
       " 'not relevant',\n",
       " 'pl 1314',\n",
       " 'pl 1415',\n",
       " 'pl 1516',\n",
       " 'pl 1617',\n",
       " 'pl 1718',\n",
       " 'pl 1819',\n",
       " 'pl 1920',\n",
       " 'pl 2021',\n",
       " 'pl 2122',\n",
       " 'sa 1314',\n",
       " 'sa 1415',\n",
       " 'sa 1516',\n",
       " 'sa 1617',\n",
       " 'sa 1718',\n",
       " 'sa 1819',\n",
       " 'sa 1920',\n",
       " 'sa 2021',\n",
       " 'sa 2122']"
      ]
     },
     "execution_count": 52,
     "metadata": {},
     "output_type": "execute_result"
    }
   ],
   "source": [
    "cleaned_names_saissons = []\n",
    "for saison in saissons:\n",
    "    saison = saison.replace(\"_\", \" \")\n",
    "    saison = saison.replace(\".csv\", \"\")\n",
    "    # saison = saison.strip()\n",
    "    cleaned_names_saissons.append(saison)\n",
    "\n",
    "cleaned_names_saissons"
   ]
  },
  {
   "cell_type": "code",
   "execution_count": 53,
   "metadata": {},
   "outputs": [
    {
     "data": {
      "text/plain": [
       "['Bundesliga 1415',\n",
       " 'Bundesliga 1516',\n",
       " 'Bundesliga 1617',\n",
       " 'Bundesliga 1718',\n",
       " 'Bundesliga 1819',\n",
       " 'Bundesliga 1920',\n",
       " 'Bundesliga 2021',\n",
       " 'Bundesliga 2122',\n",
       " 'League-1 1314',\n",
       " 'League-1 1415',\n",
       " 'League-1 1516',\n",
       " 'League-1 1617',\n",
       " 'League-1 1718',\n",
       " 'League-1 1819',\n",
       " 'League-1 1920',\n",
       " 'League-1 2021',\n",
       " 'League-1 2122',\n",
       " 'La-Liga 1314',\n",
       " 'La-Liga 1415',\n",
       " 'La-Liga 1516',\n",
       " 'La-Liga 1617',\n",
       " 'La-Liga 1718',\n",
       " 'La-Liga 1819',\n",
       " 'La-Liga 1920',\n",
       " 'La-Liga 2021',\n",
       " 'La-Liga 2122',\n",
       " 'Premier-League 1314',\n",
       " 'Premier-League 1415',\n",
       " 'Premier-League 1516',\n",
       " 'Premier-League 1617',\n",
       " 'Premier-League 1718',\n",
       " 'Premier-League 1819',\n",
       " 'Premier-League 1920',\n",
       " 'Premier-League 2021',\n",
       " 'Premier-League 2122',\n",
       " 'Serie-A 1314',\n",
       " 'Serie-A 1415',\n",
       " 'Serie-A 1516',\n",
       " 'Serie-A 1617',\n",
       " 'Serie-A 1718',\n",
       " 'Serie-A 1819',\n",
       " 'Serie-A 1920',\n",
       " 'Serie-A 2021',\n",
       " 'Serie-A 2122']"
      ]
     },
     "execution_count": 53,
     "metadata": {},
     "output_type": "execute_result"
    }
   ],
   "source": [
    "# map league shortcuts to real names:\n",
    "shortcut_league_dict = {\n",
    "    \"ll\": \"La-Liga\",\n",
    "    \"sa\": \"Serie-A\",\n",
    "    \"pl\": \"Premier-League\",\n",
    "    \"l1\": \"League-1\",\n",
    "    \"b\": \"Bundesliga\",\n",
    "}\n",
    "\n",
    "# list(map(cleaned_names_saissons, shortcut_league_dict) )\n",
    "cleaned_names_saissons = [e.replace(key, val) for e in cleaned_names_saissons for key, val in shortcut_league_dict.items() if key in e]\n",
    "cleaned_names_saissons"
   ]
  },
  {
   "cell_type": "code",
   "execution_count": 54,
   "metadata": {},
   "outputs": [
    {
     "data": {
      "text/plain": [
       "'b_1415'"
      ]
     },
     "execution_count": 54,
     "metadata": {},
     "output_type": "execute_result"
    }
   ],
   "source": [
    "def find_key(input_dict, value):\n",
    "    for key, val in input_dict.items():\n",
    "        if val == value: return key\n",
    "    return \"None\"\n",
    "\n",
    "\n",
    "\"{}_{}\".format(find_key(shortcut_league_dict, cleaned_names_saissons[0].split(\" \")[0]),\n",
    "cleaned_names_saissons[0].split(\" \")[1]\n",
    ")"
   ]
  },
  {
   "cell_type": "code",
   "execution_count": 60,
   "metadata": {},
   "outputs": [
    {
     "data": {
      "text/plain": [
       "['Bundesliga 2122',\n",
       " 'League-1 2122',\n",
       " 'La-Liga 2122',\n",
       " 'Premier-League 2122',\n",
       " 'Serie-A 2122',\n",
       " 'Bundesliga 2021',\n",
       " 'League-1 2021',\n",
       " 'La-Liga 2021',\n",
       " 'Premier-League 2021',\n",
       " 'Serie-A 2021',\n",
       " 'Bundesliga 1920',\n",
       " 'League-1 1920',\n",
       " 'La-Liga 1920',\n",
       " 'Premier-League 1920',\n",
       " 'Serie-A 1920',\n",
       " 'Bundesliga 1819',\n",
       " 'League-1 1819',\n",
       " 'La-Liga 1819',\n",
       " 'Premier-League 1819',\n",
       " 'Serie-A 1819',\n",
       " 'Bundesliga 1718',\n",
       " 'League-1 1718',\n",
       " 'La-Liga 1718',\n",
       " 'Premier-League 1718',\n",
       " 'Serie-A 1718',\n",
       " 'Bundesliga 1617',\n",
       " 'League-1 1617',\n",
       " 'La-Liga 1617',\n",
       " 'Premier-League 1617',\n",
       " 'Serie-A 1617',\n",
       " 'Bundesliga 1516',\n",
       " 'League-1 1516',\n",
       " 'La-Liga 1516',\n",
       " 'Premier-League 1516',\n",
       " 'Serie-A 1516',\n",
       " 'Bundesliga 1415',\n",
       " 'League-1 1415',\n",
       " 'La-Liga 1415',\n",
       " 'Premier-League 1415',\n",
       " 'Serie-A 1415',\n",
       " 'League-1 1314',\n",
       " 'La-Liga 1314',\n",
       " 'Premier-League 1314',\n",
       " 'Serie-A 1314']"
      ]
     },
     "execution_count": 60,
     "metadata": {},
     "output_type": "execute_result"
    }
   ],
   "source": [
    "cleaned_names_saissons \n",
    "\n",
    "# sort list by int substring\n",
    "sorted(cleaned_names_saissons, key=lambda x: int(x.split(\" \")[-1]), reverse=True )"
   ]
  },
  {
   "cell_type": "code",
   "execution_count": 56,
   "metadata": {},
   "outputs": [
    {
     "name": "stderr",
     "output_type": "stream",
     "text": [
      "2021-11-14 15:52:12.088 \n",
      "  \u001b[33m\u001b[1mWarning:\u001b[0m to view this Streamlit app on a browser, run it with the following\n",
      "  command:\n",
      "\n",
      "    streamlit run C:\\Users\\markus.gebele\\Anaconda3\\envs\\btcpred\\lib\\site-packages\\ipykernel_launcher.py [ARGUMENTS]\n"
     ]
    },
    {
     "name": "stdout",
     "output_type": "stream",
     "text": [
      "['b_1415', 'b_1516', 'b_1617', 'b_1718', 'b_1819', 'b_1920', 'b_2021', 'b_2122.csv', 'l1_1314', 'l1_1415', 'l1_1516', 'l1_1617', 'l1_1718', 'l1_1819', 'l1_1920', 'l1_2021', 'l1_2122.csv', 'll_1314', 'll_1415', 'll_1516', 'll_1617', 'll_1718', 'll_1819', 'll_1920', 'll_2021', 'll_2122.csv', 'not_relevant', 'pl_1314', 'pl_1415', 'pl_1516', 'pl_1617', 'pl_1718', 'pl_1819', 'pl_1920', 'pl_2021', 'pl_2122.csv', 'sa_1314', 'sa_1415', 'sa_1516', 'sa_1617', 'sa_1718', 'sa_1819', 'sa_1920', 'sa_2021', 'sa_2122.csv']\n",
      "l1_1314\n"
     ]
    },
    {
     "ename": "FileNotFoundError",
     "evalue": "[Errno 2] No such file or directory: 'htdatan/l1_1314'",
     "output_type": "error",
     "traceback": [
      "\u001b[1;31m---------------------------------------------------------------------------\u001b[0m",
      "\u001b[1;31mFileNotFoundError\u001b[0m                         Traceback (most recent call last)",
      "\u001b[1;32m<ipython-input-56-ea36e4bed1f3>\u001b[0m in \u001b[0;36m<module>\u001b[1;34m\u001b[0m\n\u001b[0;32m      4\u001b[0m \u001b[1;33m\u001b[0m\u001b[0m\n\u001b[0;32m      5\u001b[0m \u001b[0mprint\u001b[0m\u001b[1;33m(\u001b[0m\u001b[0msaison\u001b[0m\u001b[1;33m)\u001b[0m\u001b[1;33m\u001b[0m\u001b[1;33m\u001b[0m\u001b[0m\n\u001b[1;32m----> 6\u001b[1;33m df_complete_saison = pd.read_csv(\n\u001b[0m\u001b[0;32m      7\u001b[0m     \"htdatan/\"+saison, index_col=0, encoding='utf-8')\n",
      "\u001b[1;32m~\\Anaconda3\\envs\\btcpred\\lib\\site-packages\\pandas\\util\\_decorators.py\u001b[0m in \u001b[0;36mwrapper\u001b[1;34m(*args, **kwargs)\u001b[0m\n\u001b[0;32m    309\u001b[0m                     \u001b[0mstacklevel\u001b[0m\u001b[1;33m=\u001b[0m\u001b[0mstacklevel\u001b[0m\u001b[1;33m,\u001b[0m\u001b[1;33m\u001b[0m\u001b[1;33m\u001b[0m\u001b[0m\n\u001b[0;32m    310\u001b[0m                 )\n\u001b[1;32m--> 311\u001b[1;33m             \u001b[1;32mreturn\u001b[0m \u001b[0mfunc\u001b[0m\u001b[1;33m(\u001b[0m\u001b[1;33m*\u001b[0m\u001b[0margs\u001b[0m\u001b[1;33m,\u001b[0m \u001b[1;33m**\u001b[0m\u001b[0mkwargs\u001b[0m\u001b[1;33m)\u001b[0m\u001b[1;33m\u001b[0m\u001b[1;33m\u001b[0m\u001b[0m\n\u001b[0m\u001b[0;32m    312\u001b[0m \u001b[1;33m\u001b[0m\u001b[0m\n\u001b[0;32m    313\u001b[0m         \u001b[1;32mreturn\u001b[0m \u001b[0mwrapper\u001b[0m\u001b[1;33m\u001b[0m\u001b[1;33m\u001b[0m\u001b[0m\n",
      "\u001b[1;32m~\\Anaconda3\\envs\\btcpred\\lib\\site-packages\\pandas\\io\\parsers\\readers.py\u001b[0m in \u001b[0;36mread_csv\u001b[1;34m(filepath_or_buffer, sep, delimiter, header, names, index_col, usecols, squeeze, prefix, mangle_dupe_cols, dtype, engine, converters, true_values, false_values, skipinitialspace, skiprows, skipfooter, nrows, na_values, keep_default_na, na_filter, verbose, skip_blank_lines, parse_dates, infer_datetime_format, keep_date_col, date_parser, dayfirst, cache_dates, iterator, chunksize, compression, thousands, decimal, lineterminator, quotechar, quoting, doublequote, escapechar, comment, encoding, encoding_errors, dialect, error_bad_lines, warn_bad_lines, on_bad_lines, delim_whitespace, low_memory, memory_map, float_precision, storage_options)\u001b[0m\n\u001b[0;32m    584\u001b[0m     \u001b[0mkwds\u001b[0m\u001b[1;33m.\u001b[0m\u001b[0mupdate\u001b[0m\u001b[1;33m(\u001b[0m\u001b[0mkwds_defaults\u001b[0m\u001b[1;33m)\u001b[0m\u001b[1;33m\u001b[0m\u001b[1;33m\u001b[0m\u001b[0m\n\u001b[0;32m    585\u001b[0m \u001b[1;33m\u001b[0m\u001b[0m\n\u001b[1;32m--> 586\u001b[1;33m     \u001b[1;32mreturn\u001b[0m \u001b[0m_read\u001b[0m\u001b[1;33m(\u001b[0m\u001b[0mfilepath_or_buffer\u001b[0m\u001b[1;33m,\u001b[0m \u001b[0mkwds\u001b[0m\u001b[1;33m)\u001b[0m\u001b[1;33m\u001b[0m\u001b[1;33m\u001b[0m\u001b[0m\n\u001b[0m\u001b[0;32m    587\u001b[0m \u001b[1;33m\u001b[0m\u001b[0m\n\u001b[0;32m    588\u001b[0m \u001b[1;33m\u001b[0m\u001b[0m\n",
      "\u001b[1;32m~\\Anaconda3\\envs\\btcpred\\lib\\site-packages\\pandas\\io\\parsers\\readers.py\u001b[0m in \u001b[0;36m_read\u001b[1;34m(filepath_or_buffer, kwds)\u001b[0m\n\u001b[0;32m    480\u001b[0m \u001b[1;33m\u001b[0m\u001b[0m\n\u001b[0;32m    481\u001b[0m     \u001b[1;31m# Create the parser.\u001b[0m\u001b[1;33m\u001b[0m\u001b[1;33m\u001b[0m\u001b[1;33m\u001b[0m\u001b[0m\n\u001b[1;32m--> 482\u001b[1;33m     \u001b[0mparser\u001b[0m \u001b[1;33m=\u001b[0m \u001b[0mTextFileReader\u001b[0m\u001b[1;33m(\u001b[0m\u001b[0mfilepath_or_buffer\u001b[0m\u001b[1;33m,\u001b[0m \u001b[1;33m**\u001b[0m\u001b[0mkwds\u001b[0m\u001b[1;33m)\u001b[0m\u001b[1;33m\u001b[0m\u001b[1;33m\u001b[0m\u001b[0m\n\u001b[0m\u001b[0;32m    483\u001b[0m \u001b[1;33m\u001b[0m\u001b[0m\n\u001b[0;32m    484\u001b[0m     \u001b[1;32mif\u001b[0m \u001b[0mchunksize\u001b[0m \u001b[1;32mor\u001b[0m \u001b[0miterator\u001b[0m\u001b[1;33m:\u001b[0m\u001b[1;33m\u001b[0m\u001b[1;33m\u001b[0m\u001b[0m\n",
      "\u001b[1;32m~\\Anaconda3\\envs\\btcpred\\lib\\site-packages\\pandas\\io\\parsers\\readers.py\u001b[0m in \u001b[0;36m__init__\u001b[1;34m(self, f, engine, **kwds)\u001b[0m\n\u001b[0;32m    809\u001b[0m             \u001b[0mself\u001b[0m\u001b[1;33m.\u001b[0m\u001b[0moptions\u001b[0m\u001b[1;33m[\u001b[0m\u001b[1;34m\"has_index_names\"\u001b[0m\u001b[1;33m]\u001b[0m \u001b[1;33m=\u001b[0m \u001b[0mkwds\u001b[0m\u001b[1;33m[\u001b[0m\u001b[1;34m\"has_index_names\"\u001b[0m\u001b[1;33m]\u001b[0m\u001b[1;33m\u001b[0m\u001b[1;33m\u001b[0m\u001b[0m\n\u001b[0;32m    810\u001b[0m \u001b[1;33m\u001b[0m\u001b[0m\n\u001b[1;32m--> 811\u001b[1;33m         \u001b[0mself\u001b[0m\u001b[1;33m.\u001b[0m\u001b[0m_engine\u001b[0m \u001b[1;33m=\u001b[0m \u001b[0mself\u001b[0m\u001b[1;33m.\u001b[0m\u001b[0m_make_engine\u001b[0m\u001b[1;33m(\u001b[0m\u001b[0mself\u001b[0m\u001b[1;33m.\u001b[0m\u001b[0mengine\u001b[0m\u001b[1;33m)\u001b[0m\u001b[1;33m\u001b[0m\u001b[1;33m\u001b[0m\u001b[0m\n\u001b[0m\u001b[0;32m    812\u001b[0m \u001b[1;33m\u001b[0m\u001b[0m\n\u001b[0;32m    813\u001b[0m     \u001b[1;32mdef\u001b[0m \u001b[0mclose\u001b[0m\u001b[1;33m(\u001b[0m\u001b[0mself\u001b[0m\u001b[1;33m)\u001b[0m\u001b[1;33m:\u001b[0m\u001b[1;33m\u001b[0m\u001b[1;33m\u001b[0m\u001b[0m\n",
      "\u001b[1;32m~\\Anaconda3\\envs\\btcpred\\lib\\site-packages\\pandas\\io\\parsers\\readers.py\u001b[0m in \u001b[0;36m_make_engine\u001b[1;34m(self, engine)\u001b[0m\n\u001b[0;32m   1038\u001b[0m             )\n\u001b[0;32m   1039\u001b[0m         \u001b[1;31m# error: Too many arguments for \"ParserBase\"\u001b[0m\u001b[1;33m\u001b[0m\u001b[1;33m\u001b[0m\u001b[1;33m\u001b[0m\u001b[0m\n\u001b[1;32m-> 1040\u001b[1;33m         \u001b[1;32mreturn\u001b[0m \u001b[0mmapping\u001b[0m\u001b[1;33m[\u001b[0m\u001b[0mengine\u001b[0m\u001b[1;33m]\u001b[0m\u001b[1;33m(\u001b[0m\u001b[0mself\u001b[0m\u001b[1;33m.\u001b[0m\u001b[0mf\u001b[0m\u001b[1;33m,\u001b[0m \u001b[1;33m**\u001b[0m\u001b[0mself\u001b[0m\u001b[1;33m.\u001b[0m\u001b[0moptions\u001b[0m\u001b[1;33m)\u001b[0m  \u001b[1;31m# type: ignore[call-arg]\u001b[0m\u001b[1;33m\u001b[0m\u001b[1;33m\u001b[0m\u001b[0m\n\u001b[0m\u001b[0;32m   1041\u001b[0m \u001b[1;33m\u001b[0m\u001b[0m\n\u001b[0;32m   1042\u001b[0m     \u001b[1;32mdef\u001b[0m \u001b[0m_failover_to_python\u001b[0m\u001b[1;33m(\u001b[0m\u001b[0mself\u001b[0m\u001b[1;33m)\u001b[0m\u001b[1;33m:\u001b[0m\u001b[1;33m\u001b[0m\u001b[1;33m\u001b[0m\u001b[0m\n",
      "\u001b[1;32m~\\Anaconda3\\envs\\btcpred\\lib\\site-packages\\pandas\\io\\parsers\\c_parser_wrapper.py\u001b[0m in \u001b[0;36m__init__\u001b[1;34m(self, src, **kwds)\u001b[0m\n\u001b[0;32m     49\u001b[0m \u001b[1;33m\u001b[0m\u001b[0m\n\u001b[0;32m     50\u001b[0m         \u001b[1;31m# open handles\u001b[0m\u001b[1;33m\u001b[0m\u001b[1;33m\u001b[0m\u001b[1;33m\u001b[0m\u001b[0m\n\u001b[1;32m---> 51\u001b[1;33m         \u001b[0mself\u001b[0m\u001b[1;33m.\u001b[0m\u001b[0m_open_handles\u001b[0m\u001b[1;33m(\u001b[0m\u001b[0msrc\u001b[0m\u001b[1;33m,\u001b[0m \u001b[0mkwds\u001b[0m\u001b[1;33m)\u001b[0m\u001b[1;33m\u001b[0m\u001b[1;33m\u001b[0m\u001b[0m\n\u001b[0m\u001b[0;32m     52\u001b[0m         \u001b[1;32massert\u001b[0m \u001b[0mself\u001b[0m\u001b[1;33m.\u001b[0m\u001b[0mhandles\u001b[0m \u001b[1;32mis\u001b[0m \u001b[1;32mnot\u001b[0m \u001b[1;32mNone\u001b[0m\u001b[1;33m\u001b[0m\u001b[1;33m\u001b[0m\u001b[0m\n\u001b[0;32m     53\u001b[0m \u001b[1;33m\u001b[0m\u001b[0m\n",
      "\u001b[1;32m~\\Anaconda3\\envs\\btcpred\\lib\\site-packages\\pandas\\io\\parsers\\base_parser.py\u001b[0m in \u001b[0;36m_open_handles\u001b[1;34m(self, src, kwds)\u001b[0m\n\u001b[0;32m    220\u001b[0m         \u001b[0mLet\u001b[0m \u001b[0mthe\u001b[0m \u001b[0mreaders\u001b[0m \u001b[0mopen\u001b[0m \u001b[0mIOHandles\u001b[0m \u001b[0mafter\u001b[0m \u001b[0mthey\u001b[0m \u001b[0mare\u001b[0m \u001b[0mdone\u001b[0m \u001b[1;32mwith\u001b[0m \u001b[0mtheir\u001b[0m \u001b[0mpotential\u001b[0m \u001b[0mraises\u001b[0m\u001b[1;33m.\u001b[0m\u001b[1;33m\u001b[0m\u001b[1;33m\u001b[0m\u001b[0m\n\u001b[0;32m    221\u001b[0m         \"\"\"\n\u001b[1;32m--> 222\u001b[1;33m         self.handles = get_handle(\n\u001b[0m\u001b[0;32m    223\u001b[0m             \u001b[0msrc\u001b[0m\u001b[1;33m,\u001b[0m\u001b[1;33m\u001b[0m\u001b[1;33m\u001b[0m\u001b[0m\n\u001b[0;32m    224\u001b[0m             \u001b[1;34m\"r\"\u001b[0m\u001b[1;33m,\u001b[0m\u001b[1;33m\u001b[0m\u001b[1;33m\u001b[0m\u001b[0m\n",
      "\u001b[1;32m~\\Anaconda3\\envs\\btcpred\\lib\\site-packages\\pandas\\io\\common.py\u001b[0m in \u001b[0;36mget_handle\u001b[1;34m(path_or_buf, mode, encoding, compression, memory_map, is_text, errors, storage_options)\u001b[0m\n\u001b[0;32m    699\u001b[0m         \u001b[1;32mif\u001b[0m \u001b[0mioargs\u001b[0m\u001b[1;33m.\u001b[0m\u001b[0mencoding\u001b[0m \u001b[1;32mand\u001b[0m \u001b[1;34m\"b\"\u001b[0m \u001b[1;32mnot\u001b[0m \u001b[1;32min\u001b[0m \u001b[0mioargs\u001b[0m\u001b[1;33m.\u001b[0m\u001b[0mmode\u001b[0m\u001b[1;33m:\u001b[0m\u001b[1;33m\u001b[0m\u001b[1;33m\u001b[0m\u001b[0m\n\u001b[0;32m    700\u001b[0m             \u001b[1;31m# Encoding\u001b[0m\u001b[1;33m\u001b[0m\u001b[1;33m\u001b[0m\u001b[1;33m\u001b[0m\u001b[0m\n\u001b[1;32m--> 701\u001b[1;33m             handle = open(\n\u001b[0m\u001b[0;32m    702\u001b[0m                 \u001b[0mhandle\u001b[0m\u001b[1;33m,\u001b[0m\u001b[1;33m\u001b[0m\u001b[1;33m\u001b[0m\u001b[0m\n\u001b[0;32m    703\u001b[0m                 \u001b[0mioargs\u001b[0m\u001b[1;33m.\u001b[0m\u001b[0mmode\u001b[0m\u001b[1;33m,\u001b[0m\u001b[1;33m\u001b[0m\u001b[1;33m\u001b[0m\u001b[0m\n",
      "\u001b[1;31mFileNotFoundError\u001b[0m: [Errno 2] No such file or directory: 'htdatan/l1_1314'"
     ]
    }
   ],
   "source": [
    "\n",
    "\n",
    "print(saissons)\n",
    "global saison\n",
    "saison = st.sidebar.selectbox(\"Saison\", list(saissons), 8)\n",
    "\n",
    "print(saison)\n",
    "df_complete_saison = pd.read_csv(\n",
    "    \"htdatan/\"+saison, index_col=0, encoding='utf-8')"
   ]
  }
 ],
 "metadata": {
  "interpreter": {
   "hash": "6e4c9d91e3d794cbab5ed166e278e430bab039b3b8900e52e7f727cefab3afb1"
  },
  "kernelspec": {
   "display_name": "Python 3.8.5 64-bit ('btcpred': conda)",
   "language": "python",
   "name": "python3"
  },
  "language_info": {
   "codemirror_mode": {
    "name": "ipython",
    "version": 3
   },
   "file_extension": ".py",
   "mimetype": "text/x-python",
   "name": "python",
   "nbconvert_exporter": "python",
   "pygments_lexer": "ipython3",
   "version": "3.8.5"
  },
  "orig_nbformat": 4
 },
 "nbformat": 4,
 "nbformat_minor": 2
}
