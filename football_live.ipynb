{
 "cells": [
  {
   "cell_type": "code",
   "execution_count": 106,
   "metadata": {},
   "outputs": [],
   "source": [
    "# To add a new cell, type '# %%'\n",
    "# To add a new markdown cell, type '# %% [markdown]'\n",
    "# %%\n",
    "import glob\n",
    "import pandas as pd\n",
    "import numpy as np\n",
    "import re\n",
    "import plotly_express as px\n",
    "import datetime\n",
    "import warnings\n",
    "import os\n",
    "import json\n",
    "import traceback\n",
    "import streamlit as st\n",
    "pd.options.display.float_format = \"{:,.3f}\".format\n",
    "warnings.filterwarnings('ignore')\n",
    "\n",
    "\n",
    "# TEAMNAMES value in teamnamedict must match the htdatan teamname!\n",
    "\n",
    "global teamnamedict\n",
    "# C:\\Users\\mg\\JupyterLabDir\\Rest\\Pr Winning\\teamnamedict_streamlit.json\n",
    "with open('teamnamedict_streamlit.json') as f:\n",
    "    teamnamedict = json.load(f)\n",
    "\n",
    "# def _max_width_():\n",
    "#     max_width_str = f\"max-width: 1300px;\"\n",
    "#     st.markdown(\n",
    "#         f\"\"\"\n",
    "#     <style>\n",
    "#     .reportview-container .main .block-container{{\n",
    "#         {max_width_str}\n",
    "#     }}\n",
    "#     </style>\n",
    "#     \"\"\",\n",
    "#         unsafe_allow_html=True,\n",
    "#     )\n",
    "\n",
    "# _max_width_()\n",
    "global widthfig\n",
    "widthfig = 700\n",
    "heightfig = 600\n",
    "\n",
    "# get all the gamestatistics from in dropdown specified league and season\n",
    "# setup the database connection.  There's no need to setup cursors with pandas psql.\n",
    "tables = list(glob.glob(\"htdatan/*\"))\n",
    "\n",
    "# take only the 0 part of the every list entry\n",
    "global saissons\n",
    "saissons = []\n",
    "\n",
    "# ENV is BTCPRED\n",
    "for x in range(0, len(tables)):    # CHANGE THIS - \\\\ - to - / - FOR DEPLOYMENT!\n",
    "    saissons.append(tables[x].split(\"\\\\\")[1].split(\"_24102021.csv\")[0])\n",
    "\n",
    "\n",
    "cleaned_names_saissons = []\n",
    "for saisson in saissons:\n",
    "    saisson = saisson.replace(\"_\", \" \")\n",
    "    saisson = saisson.replace(\".csv\", \"\")\n",
    "    # saison = saison.strip()\n",
    "    cleaned_names_saissons.append(saisson)\n",
    "\n",
    "# map league shortcuts to real names:\n",
    "shortcut_league_dict = {\n",
    "    \"ll\": \"La-Liga\",\n",
    "    \"pl\": \"Premier-League\",\n",
    "    \"sa\": \"Serie-A\",\n",
    "    \"pl\": \"Premier-League\",\n",
    "    \"l1\": \"League-1\",\n",
    "    \"b\": \"Bundesliga\",\n",
    "}\n",
    "# list(map(cleaned_names_saissons, shortcut_league_dict) )\n",
    "cleaned_names_saissons = [e.replace(\n",
    "    key, val) for e in cleaned_names_saissons for key, val in shortcut_league_dict.items() if key in e]\n",
    "\n",
    "# sort list by int substring\n",
    "cleaned_names_saissons = sorted(cleaned_names_saissons, key=lambda x: int(\n",
    "    x.split(\" \")[-1]), reverse=True)\n",
    "\n"
   ]
  },
  {
   "cell_type": "code",
   "execution_count": 107,
   "metadata": {},
   "outputs": [
    {
     "data": {
      "text/plain": [
       "['Bundesliga 2223',\n",
       " 'League-1 2223',\n",
       " 'Premier-League 2223',\n",
       " 'Bundesliga 2122',\n",
       " 'League-1 2122',\n",
       " 'La-Liga 2122',\n",
       " 'Premier-League 2122',\n",
       " 'Serie-A 2122']"
      ]
     },
     "execution_count": 107,
     "metadata": {},
     "output_type": "execute_result"
    }
   ],
   "source": [
    "cleaned_names_saissons"
   ]
  },
  {
   "cell_type": "code",
   "execution_count": 108,
   "metadata": {},
   "outputs": [
    {
     "name": "stdout",
     "output_type": "stream",
     "text": [
      "Serie-A 2122\n"
     ]
    }
   ],
   "source": [
    "global saison\n",
    "saison = cleaned_names_saissons[7] \n",
    "print(saison)\n",
    "\n",
    "# map names back for reading the correct csv name\n",
    "def find_key(input_dict, value):\n",
    "    for key, val in input_dict.items():\n",
    "        if val == value:\n",
    "            return key\n",
    "    return \"None\"\n",
    "\n",
    "\n",
    "saison = \"{}_{}\".format(find_key(shortcut_league_dict, saison.split(\" \")[0]),\n",
    "                        saison.split(\" \")[1]\n",
    "                        )\n",
    "\n",
    "try:\n",
    "    df_complete_saison = pd.read_csv(\n",
    "        \"htdatan/\"+saison+\".csv\", index_col=0, encoding='utf-8')\n",
    "except:\n",
    "    df_complete_saison = pd.read_csv(\n",
    "        \"htdatan/\"+saison+\"_24102021.csv\", index_col=0, encoding='utf-8')\n",
    "\n",
    "df_complete_saison = df_complete_saison.replace(teamnamedict)"
   ]
  },
  {
   "cell_type": "code",
   "execution_count": 109,
   "metadata": {},
   "outputs": [
    {
     "data": {
      "text/html": [
       "<div>\n",
       "<style scoped>\n",
       "    .dataframe tbody tr th:only-of-type {\n",
       "        vertical-align: middle;\n",
       "    }\n",
       "\n",
       "    .dataframe tbody tr th {\n",
       "        vertical-align: top;\n",
       "    }\n",
       "\n",
       "    .dataframe thead th {\n",
       "        text-align: right;\n",
       "    }\n",
       "</style>\n",
       "<table border=\"1\" class=\"dataframe\">\n",
       "  <thead>\n",
       "    <tr style=\"text-align: right;\">\n",
       "      <th></th>\n",
       "      <th>H_datetime</th>\n",
       "      <th>H_gameinfo</th>\n",
       "      <th>H_Teamnames</th>\n",
       "      <th>H_Goals</th>\n",
       "      <th>H_Ball Possession</th>\n",
       "      <th>H_Goal Attempts</th>\n",
       "      <th>H_Shots on Goal</th>\n",
       "      <th>H_Shots off Goal</th>\n",
       "      <th>H_Blocked Shots</th>\n",
       "      <th>H_Free Kicks</th>\n",
       "      <th>H_Corner Kicks</th>\n",
       "      <th>H_Offsides</th>\n",
       "      <th>H_Goalkeeper Saves</th>\n",
       "      <th>H_Fouls</th>\n",
       "      <th>H_Yellow Cards</th>\n",
       "      <th>H_Red Cards</th>\n",
       "      <th>H_Total Passes</th>\n",
       "      <th>H_Completed Passes</th>\n",
       "      <th>H_Tackles</th>\n",
       "      <th>H_Attacks</th>\n",
       "      <th>H_Dangerous Attacks</th>\n",
       "      <th>A_datetime</th>\n",
       "      <th>A_gameinfo</th>\n",
       "      <th>A_Teamnames</th>\n",
       "      <th>A_Goals</th>\n",
       "      <th>A_Ball Possession</th>\n",
       "      <th>A_Goal Attempts</th>\n",
       "      <th>A_Shots on Goal</th>\n",
       "      <th>A_Shots off Goal</th>\n",
       "      <th>A_Blocked Shots</th>\n",
       "      <th>A_Free Kicks</th>\n",
       "      <th>A_Corner Kicks</th>\n",
       "      <th>A_Offsides</th>\n",
       "      <th>A_Goalkeeper Saves</th>\n",
       "      <th>A_Fouls</th>\n",
       "      <th>A_Yellow Cards</th>\n",
       "      <th>A_Red Cards</th>\n",
       "      <th>A_Total Passes</th>\n",
       "      <th>A_Completed Passes</th>\n",
       "      <th>A_Tackles</th>\n",
       "      <th>A_Attacks</th>\n",
       "      <th>A_Dangerous Attacks</th>\n",
       "      <th>H_cat</th>\n",
       "    </tr>\n",
       "  </thead>\n",
       "  <tbody>\n",
       "    <tr>\n",
       "      <th>0</th>\n",
       "      <td>21.08.2021 09:30</td>\n",
       "      <td>FootballFootballITALY: Serie A - Round 1</td>\n",
       "      <td>Verona</td>\n",
       "      <td>2</td>\n",
       "      <td>44</td>\n",
       "      <td>3</td>\n",
       "      <td>3</td>\n",
       "      <td>0</td>\n",
       "      <td>0</td>\n",
       "      <td>8</td>\n",
       "      <td>3</td>\n",
       "      <td>0</td>\n",
       "      <td>2</td>\n",
       "      <td>6</td>\n",
       "      <td>1.000</td>\n",
       "      <td>NaN</td>\n",
       "      <td>NaN</td>\n",
       "      <td>117</td>\n",
       "      <td>4</td>\n",
       "      <td>36</td>\n",
       "      <td>21</td>\n",
       "      <td>21.08.2021 09:30</td>\n",
       "      <td>FootballFootballITALY: Serie A - Round 1</td>\n",
       "      <td>Sassuolo</td>\n",
       "      <td>2</td>\n",
       "      <td>56</td>\n",
       "      <td>8</td>\n",
       "      <td>4</td>\n",
       "      <td>4</td>\n",
       "      <td>0</td>\n",
       "      <td>4</td>\n",
       "      <td>2</td>\n",
       "      <td>0</td>\n",
       "      <td>1</td>\n",
       "      <td>6</td>\n",
       "      <td>1.000</td>\n",
       "      <td>NaN</td>\n",
       "      <td>NaN</td>\n",
       "      <td>323</td>\n",
       "      <td>4</td>\n",
       "      <td>52</td>\n",
       "      <td>15</td>\n",
       "      <td>cat0</td>\n",
       "    </tr>\n",
       "    <tr>\n",
       "      <th>1</th>\n",
       "      <td>21.08.2021 09:30</td>\n",
       "      <td>FootballFootballITALY: Serie A - Round 1</td>\n",
       "      <td>Verona</td>\n",
       "      <td>0</td>\n",
       "      <td>48</td>\n",
       "      <td>9</td>\n",
       "      <td>1</td>\n",
       "      <td>7</td>\n",
       "      <td>1</td>\n",
       "      <td>4</td>\n",
       "      <td>4</td>\n",
       "      <td>0</td>\n",
       "      <td>3</td>\n",
       "      <td>5</td>\n",
       "      <td>2.000</td>\n",
       "      <td>1.000</td>\n",
       "      <td>NaN</td>\n",
       "      <td>139</td>\n",
       "      <td>8</td>\n",
       "      <td>49</td>\n",
       "      <td>30</td>\n",
       "      <td>21.08.2021 09:30</td>\n",
       "      <td>FootballFootballITALY: Serie A - Round 1</td>\n",
       "      <td>Sassuolo</td>\n",
       "      <td>1</td>\n",
       "      <td>52</td>\n",
       "      <td>7</td>\n",
       "      <td>4</td>\n",
       "      <td>2</td>\n",
       "      <td>1</td>\n",
       "      <td>7</td>\n",
       "      <td>2</td>\n",
       "      <td>1</td>\n",
       "      <td>1</td>\n",
       "      <td>6</td>\n",
       "      <td>1.000</td>\n",
       "      <td>0.000</td>\n",
       "      <td>NaN</td>\n",
       "      <td>141</td>\n",
       "      <td>4</td>\n",
       "      <td>25</td>\n",
       "      <td>12</td>\n",
       "      <td>cat1</td>\n",
       "    </tr>\n",
       "    <tr>\n",
       "      <th>2</th>\n",
       "      <td>21.08.2021 09:30</td>\n",
       "      <td>FootballFootballITALY: Serie A - Round 1</td>\n",
       "      <td>Inter</td>\n",
       "      <td>2</td>\n",
       "      <td>60</td>\n",
       "      <td>8</td>\n",
       "      <td>5</td>\n",
       "      <td>1</td>\n",
       "      <td>2</td>\n",
       "      <td>5</td>\n",
       "      <td>2</td>\n",
       "      <td>1</td>\n",
       "      <td>5</td>\n",
       "      <td>10</td>\n",
       "      <td>1.000</td>\n",
       "      <td>NaN</td>\n",
       "      <td>NaN</td>\n",
       "      <td>261</td>\n",
       "      <td>9</td>\n",
       "      <td>68</td>\n",
       "      <td>27</td>\n",
       "      <td>21.08.2021 09:30</td>\n",
       "      <td>FootballFootballITALY: Serie A - Round 1</td>\n",
       "      <td>Genoa</td>\n",
       "      <td>0</td>\n",
       "      <td>40</td>\n",
       "      <td>8</td>\n",
       "      <td>5</td>\n",
       "      <td>2</td>\n",
       "      <td>1</td>\n",
       "      <td>9</td>\n",
       "      <td>2</td>\n",
       "      <td>1</td>\n",
       "      <td>3</td>\n",
       "      <td>3</td>\n",
       "      <td>1.000</td>\n",
       "      <td>NaN</td>\n",
       "      <td>NaN</td>\n",
       "      <td>194</td>\n",
       "      <td>9</td>\n",
       "      <td>36</td>\n",
       "      <td>18</td>\n",
       "      <td>cat2</td>\n",
       "    </tr>\n",
       "    <tr>\n",
       "      <th>...</th>\n",
       "      <td>...</td>\n",
       "      <td>...</td>\n",
       "      <td>...</td>\n",
       "      <td>...</td>\n",
       "      <td>...</td>\n",
       "      <td>...</td>\n",
       "      <td>...</td>\n",
       "      <td>...</td>\n",
       "      <td>...</td>\n",
       "      <td>...</td>\n",
       "      <td>...</td>\n",
       "      <td>...</td>\n",
       "      <td>...</td>\n",
       "      <td>...</td>\n",
       "      <td>...</td>\n",
       "      <td>...</td>\n",
       "      <td>...</td>\n",
       "      <td>...</td>\n",
       "      <td>...</td>\n",
       "      <td>...</td>\n",
       "      <td>...</td>\n",
       "      <td>...</td>\n",
       "      <td>...</td>\n",
       "      <td>...</td>\n",
       "      <td>...</td>\n",
       "      <td>...</td>\n",
       "      <td>...</td>\n",
       "      <td>...</td>\n",
       "      <td>...</td>\n",
       "      <td>...</td>\n",
       "      <td>...</td>\n",
       "      <td>...</td>\n",
       "      <td>...</td>\n",
       "      <td>...</td>\n",
       "      <td>...</td>\n",
       "      <td>...</td>\n",
       "      <td>...</td>\n",
       "      <td>...</td>\n",
       "      <td>...</td>\n",
       "      <td>...</td>\n",
       "      <td>...</td>\n",
       "      <td>...</td>\n",
       "      <td>...</td>\n",
       "    </tr>\n",
       "    <tr>\n",
       "      <th>757</th>\n",
       "      <td>22.05.2022 21:00</td>\n",
       "      <td>FOOTBALL\\r\\nITALY: SERIE A - ROUND 38</td>\n",
       "      <td>Venezia</td>\n",
       "      <td>0</td>\n",
       "      <td>48</td>\n",
       "      <td>4</td>\n",
       "      <td>0</td>\n",
       "      <td>3</td>\n",
       "      <td>1</td>\n",
       "      <td>11</td>\n",
       "      <td>2</td>\n",
       "      <td>2</td>\n",
       "      <td>2</td>\n",
       "      <td>4</td>\n",
       "      <td>0.000</td>\n",
       "      <td>NaN</td>\n",
       "      <td>NaN</td>\n",
       "      <td>186</td>\n",
       "      <td>11</td>\n",
       "      <td>38</td>\n",
       "      <td>17</td>\n",
       "      <td>22.05.2022 21:00</td>\n",
       "      <td>FOOTBALL\\r\\nITALY: SERIE A - ROUND 38</td>\n",
       "      <td>Cagliari</td>\n",
       "      <td>0</td>\n",
       "      <td>52</td>\n",
       "      <td>7</td>\n",
       "      <td>2</td>\n",
       "      <td>3</td>\n",
       "      <td>2</td>\n",
       "      <td>6</td>\n",
       "      <td>3</td>\n",
       "      <td>0</td>\n",
       "      <td>0</td>\n",
       "      <td>11</td>\n",
       "      <td>1.000</td>\n",
       "      <td>NaN</td>\n",
       "      <td>NaN</td>\n",
       "      <td>201</td>\n",
       "      <td>7</td>\n",
       "      <td>74</td>\n",
       "      <td>27</td>\n",
       "      <td>cat207</td>\n",
       "    </tr>\n",
       "    <tr>\n",
       "      <th>758</th>\n",
       "      <td>22.05.2022 21:00</td>\n",
       "      <td>FOOTBALL\\r\\nITALY: SERIE A - ROUND 38</td>\n",
       "      <td>Salernitana</td>\n",
       "      <td>0</td>\n",
       "      <td>56</td>\n",
       "      <td>14</td>\n",
       "      <td>3</td>\n",
       "      <td>6</td>\n",
       "      <td>5</td>\n",
       "      <td>5</td>\n",
       "      <td>4</td>\n",
       "      <td>1</td>\n",
       "      <td>4</td>\n",
       "      <td>5</td>\n",
       "      <td>0.000</td>\n",
       "      <td>NaN</td>\n",
       "      <td>NaN</td>\n",
       "      <td>242</td>\n",
       "      <td>5</td>\n",
       "      <td>73</td>\n",
       "      <td>32</td>\n",
       "      <td>22.05.2022 21:00</td>\n",
       "      <td>FOOTBALL\\r\\nITALY: SERIE A - ROUND 38</td>\n",
       "      <td>Udinese</td>\n",
       "      <td>1</td>\n",
       "      <td>44</td>\n",
       "      <td>8</td>\n",
       "      <td>5</td>\n",
       "      <td>3</td>\n",
       "      <td>0</td>\n",
       "      <td>6</td>\n",
       "      <td>0</td>\n",
       "      <td>1</td>\n",
       "      <td>3</td>\n",
       "      <td>5</td>\n",
       "      <td>1.000</td>\n",
       "      <td>NaN</td>\n",
       "      <td>NaN</td>\n",
       "      <td>168</td>\n",
       "      <td>8</td>\n",
       "      <td>37</td>\n",
       "      <td>10</td>\n",
       "      <td>cat208</td>\n",
       "    </tr>\n",
       "    <tr>\n",
       "      <th>759</th>\n",
       "      <td>22.05.2022 21:00</td>\n",
       "      <td>FOOTBALL\\r\\nITALY: SERIE A - ROUND 38</td>\n",
       "      <td>Salernitana</td>\n",
       "      <td>0</td>\n",
       "      <td>46</td>\n",
       "      <td>11</td>\n",
       "      <td>7</td>\n",
       "      <td>4</td>\n",
       "      <td>0</td>\n",
       "      <td>8</td>\n",
       "      <td>3</td>\n",
       "      <td>1</td>\n",
       "      <td>3</td>\n",
       "      <td>6</td>\n",
       "      <td>1.000</td>\n",
       "      <td>NaN</td>\n",
       "      <td>NaN</td>\n",
       "      <td>159</td>\n",
       "      <td>8</td>\n",
       "      <td>60</td>\n",
       "      <td>25</td>\n",
       "      <td>22.05.2022 21:00</td>\n",
       "      <td>FOOTBALL\\r\\nITALY: SERIE A - ROUND 38</td>\n",
       "      <td>Udinese</td>\n",
       "      <td>3</td>\n",
       "      <td>54</td>\n",
       "      <td>11</td>\n",
       "      <td>6</td>\n",
       "      <td>3</td>\n",
       "      <td>2</td>\n",
       "      <td>6</td>\n",
       "      <td>1</td>\n",
       "      <td>1</td>\n",
       "      <td>7</td>\n",
       "      <td>7</td>\n",
       "      <td>0.000</td>\n",
       "      <td>NaN</td>\n",
       "      <td>NaN</td>\n",
       "      <td>192</td>\n",
       "      <td>11</td>\n",
       "      <td>43</td>\n",
       "      <td>27</td>\n",
       "      <td>cat209</td>\n",
       "    </tr>\n",
       "  </tbody>\n",
       "</table>\n",
       "<p>760 rows × 43 columns</p>\n",
       "</div>"
      ],
      "text/plain": [
       "           H_datetime                                H_gameinfo  H_Teamnames  \\\n",
       "0    21.08.2021 09:30  FootballFootballITALY: Serie A - Round 1       Verona   \n",
       "1    21.08.2021 09:30  FootballFootballITALY: Serie A - Round 1       Verona   \n",
       "2    21.08.2021 09:30  FootballFootballITALY: Serie A - Round 1        Inter   \n",
       "..                ...                                       ...          ...   \n",
       "757  22.05.2022 21:00     FOOTBALL\\r\\nITALY: SERIE A - ROUND 38      Venezia   \n",
       "758  22.05.2022 21:00     FOOTBALL\\r\\nITALY: SERIE A - ROUND 38  Salernitana   \n",
       "759  22.05.2022 21:00     FOOTBALL\\r\\nITALY: SERIE A - ROUND 38  Salernitana   \n",
       "\n",
       "     H_Goals  H_Ball Possession  H_Goal Attempts  H_Shots on Goal  \\\n",
       "0          2                 44                3                3   \n",
       "1          0                 48                9                1   \n",
       "2          2                 60                8                5   \n",
       "..       ...                ...              ...              ...   \n",
       "757        0                 48                4                0   \n",
       "758        0                 56               14                3   \n",
       "759        0                 46               11                7   \n",
       "\n",
       "     H_Shots off Goal  H_Blocked Shots  H_Free Kicks  H_Corner Kicks  \\\n",
       "0                   0                0             8               3   \n",
       "1                   7                1             4               4   \n",
       "2                   1                2             5               2   \n",
       "..                ...              ...           ...             ...   \n",
       "757                 3                1            11               2   \n",
       "758                 6                5             5               4   \n",
       "759                 4                0             8               3   \n",
       "\n",
       "     H_Offsides  H_Goalkeeper Saves  H_Fouls  H_Yellow Cards  H_Red Cards  \\\n",
       "0             0                   2        6           1.000          NaN   \n",
       "1             0                   3        5           2.000        1.000   \n",
       "2             1                   5       10           1.000          NaN   \n",
       "..          ...                 ...      ...             ...          ...   \n",
       "757           2                   2        4           0.000          NaN   \n",
       "758           1                   4        5           0.000          NaN   \n",
       "759           1                   3        6           1.000          NaN   \n",
       "\n",
       "     H_Total Passes  H_Completed Passes  H_Tackles  H_Attacks  \\\n",
       "0               NaN                 117          4         36   \n",
       "1               NaN                 139          8         49   \n",
       "2               NaN                 261          9         68   \n",
       "..              ...                 ...        ...        ...   \n",
       "757             NaN                 186         11         38   \n",
       "758             NaN                 242          5         73   \n",
       "759             NaN                 159          8         60   \n",
       "\n",
       "     H_Dangerous Attacks        A_datetime  \\\n",
       "0                     21  21.08.2021 09:30   \n",
       "1                     30  21.08.2021 09:30   \n",
       "2                     27  21.08.2021 09:30   \n",
       "..                   ...               ...   \n",
       "757                   17  22.05.2022 21:00   \n",
       "758                   32  22.05.2022 21:00   \n",
       "759                   25  22.05.2022 21:00   \n",
       "\n",
       "                                   A_gameinfo A_Teamnames  A_Goals  \\\n",
       "0    FootballFootballITALY: Serie A - Round 1    Sassuolo        2   \n",
       "1    FootballFootballITALY: Serie A - Round 1    Sassuolo        1   \n",
       "2    FootballFootballITALY: Serie A - Round 1       Genoa        0   \n",
       "..                                        ...         ...      ...   \n",
       "757     FOOTBALL\\r\\nITALY: SERIE A - ROUND 38    Cagliari        0   \n",
       "758     FOOTBALL\\r\\nITALY: SERIE A - ROUND 38     Udinese        1   \n",
       "759     FOOTBALL\\r\\nITALY: SERIE A - ROUND 38     Udinese        3   \n",
       "\n",
       "     A_Ball Possession  A_Goal Attempts  A_Shots on Goal  A_Shots off Goal  \\\n",
       "0                   56                8                4                 4   \n",
       "1                   52                7                4                 2   \n",
       "2                   40                8                5                 2   \n",
       "..                 ...              ...              ...               ...   \n",
       "757                 52                7                2                 3   \n",
       "758                 44                8                5                 3   \n",
       "759                 54               11                6                 3   \n",
       "\n",
       "     A_Blocked Shots  A_Free Kicks  A_Corner Kicks  A_Offsides  \\\n",
       "0                  0             4               2           0   \n",
       "1                  1             7               2           1   \n",
       "2                  1             9               2           1   \n",
       "..               ...           ...             ...         ...   \n",
       "757                2             6               3           0   \n",
       "758                0             6               0           1   \n",
       "759                2             6               1           1   \n",
       "\n",
       "     A_Goalkeeper Saves  A_Fouls  A_Yellow Cards  A_Red Cards  A_Total Passes  \\\n",
       "0                     1        6           1.000          NaN             NaN   \n",
       "1                     1        6           1.000        0.000             NaN   \n",
       "2                     3        3           1.000          NaN             NaN   \n",
       "..                  ...      ...             ...          ...             ...   \n",
       "757                   0       11           1.000          NaN             NaN   \n",
       "758                   3        5           1.000          NaN             NaN   \n",
       "759                   7        7           0.000          NaN             NaN   \n",
       "\n",
       "     A_Completed Passes  A_Tackles  A_Attacks  A_Dangerous Attacks   H_cat  \n",
       "0                   323          4         52                   15    cat0  \n",
       "1                   141          4         25                   12    cat1  \n",
       "2                   194          9         36                   18    cat2  \n",
       "..                  ...        ...        ...                  ...     ...  \n",
       "757                 201          7         74                   27  cat207  \n",
       "758                 168          8         37                   10  cat208  \n",
       "759                 192         11         43                   27  cat209  \n",
       "\n",
       "[760 rows x 43 columns]"
      ]
     },
     "execution_count": 109,
     "metadata": {},
     "output_type": "execute_result"
    }
   ],
   "source": [
    "df_complete_saison"
   ]
  },
  {
   "cell_type": "code",
   "execution_count": 111,
   "metadata": {},
   "outputs": [],
   "source": [
    "dfallteamnamesl = df_complete_saison.H_Teamnames.unique()\n",
    "\n",
    "# take only the 0 part of the every list entry\n",
    "teamsoptions = []\n",
    "for x in range(0, len(dfallteamnamesl)):\n",
    "    teamsoptions.append(dfallteamnamesl[x])\n"
   ]
  },
  {
   "cell_type": "code",
   "execution_count": 112,
   "metadata": {},
   "outputs": [
    {
     "data": {
      "text/plain": [
       "['Verona',\n",
       " 'Inter',\n",
       " 'Torino',\n",
       " 'Empoli',\n",
       " 'Udinese',\n",
       " 'Bologna',\n",
       " 'Napoli',\n",
       " 'Roma',\n",
       " 'Cagliari',\n",
       " 'Sampdoria',\n",
       " 'Lazio',\n",
       " 'Atalanta',\n",
       " 'Juventus',\n",
       " 'Fiorentina',\n",
       " 'Sassuolo',\n",
       " 'Genoa',\n",
       " 'Salernitana',\n",
       " 'AC Milan',\n",
       " 'Spezia',\n",
       " 'Venezia']"
      ]
     },
     "execution_count": 112,
     "metadata": {},
     "output_type": "execute_result"
    }
   ],
   "source": [
    "teamsoptions"
   ]
  },
  {
   "cell_type": "code",
   "execution_count": 113,
   "metadata": {},
   "outputs": [
    {
     "data": {
      "text/plain": [
       "'Verona'"
      ]
     },
     "execution_count": 113,
     "metadata": {},
     "output_type": "execute_result"
    }
   ],
   "source": [
    "global xg_team\n",
    "xg_team = teamsoptions[0]\n",
    "xg_team"
   ]
  },
  {
   "cell_type": "code",
   "execution_count": 269,
   "metadata": {},
   "outputs": [
    {
     "name": "stdout",
     "output_type": "stream",
     "text": [
      "len(df) 76\n",
      "Verona\n",
      "0 90\n",
      "0\n",
      "Verona\n",
      "0 90\n",
      "1\n",
      "Verona\n",
      "0 93\n",
      "2\n",
      "Verona\n",
      "0 93\n",
      "3\n",
      "Bologna\n",
      "0 92\n",
      "4\n",
      "Bologna\n",
      "0 92\n",
      "5\n",
      "Verona\n",
      "0 92\n",
      "6\n",
      "Verona\n",
      "0 92\n",
      "7\n",
      "Salernitana\n",
      "0 90\n",
      "8\n",
      "Salernitana\n",
      "0 90\n",
      "9\n",
      "Genoa\n",
      "0 95\n",
      "10\n",
      "Genoa\n",
      "0 95\n",
      "11\n",
      "Verona\n",
      "0 90\n",
      "12\n",
      "Verona\n",
      "0 90\n",
      "13\n",
      "AC Milan\n",
      "0 92\n",
      "14\n",
      "AC Milan\n",
      "0 92\n",
      "15\n",
      "Verona\n",
      "0 91\n",
      "16\n",
      "Verona\n",
      "0 91\n",
      "17\n",
      "Udinese\n",
      "0 94\n",
      "18\n",
      "Udinese\n",
      "0 94\n",
      "19\n",
      "Verona\n",
      "0 90\n",
      "20\n",
      "Verona\n",
      "0 90\n",
      "21\n",
      "Napoli\n",
      "0 91\n",
      "22\n",
      "Napoli\n",
      "0 91\n",
      "23\n",
      "Verona\n",
      "0 91\n",
      "24\n",
      "Verona\n",
      "0 91\n",
      "25\n",
      "Sampdoria\n",
      "0 90\n",
      "26\n",
      "Sampdoria\n",
      "0 90\n",
      "27\n",
      "Verona\n",
      "0 91\n",
      "28\n",
      "Verona\n",
      "0 91\n",
      "29\n",
      "Venezia\n",
      "0 90\n",
      "30\n",
      "Venezia\n",
      "0 90\n",
      "31\n",
      "Verona\n",
      "0 90\n",
      "32\n",
      "Verona\n",
      "0 90\n",
      "33\n",
      "Torino\n",
      "0 94\n",
      "34\n",
      "Torino\n",
      "0 94\n",
      "35\n",
      "Verona\n",
      "0 94\n",
      "36\n",
      "Verona\n",
      "0 94\n",
      "37\n",
      "Spezia\n",
      "0 93\n",
      "38\n",
      "Spezia\n",
      "0 93\n",
      "39\n",
      "Verona\n",
      "0 93\n",
      "40\n",
      "Verona\n",
      "0 93\n",
      "41\n",
      "Sassuolo\n",
      "0 93\n",
      "42\n",
      "Sassuolo\n",
      "0 93\n",
      "43\n",
      "Verona\n",
      "0 94\n",
      "44\n",
      "Verona\n",
      "0 94\n",
      "45\n",
      "Juventus\n",
      "0 90\n",
      "46\n",
      "Juventus\n",
      "0 90\n",
      "47\n",
      "Verona\n",
      "0 91\n",
      "48\n",
      "Verona\n",
      "0 91\n",
      "49\n",
      "Fiorentina\n",
      "0 91\n",
      "50\n",
      "Fiorentina\n",
      "0 91\n",
      "51\n",
      "Verona\n",
      "0 91\n",
      "52\n",
      "Verona\n",
      "0 91\n",
      "53\n",
      "Roma\n",
      "0 90\n",
      "54\n",
      "Roma\n",
      "0 90\n",
      "55\n",
      "Verona\n",
      "0 91\n",
      "56\n",
      "Verona\n",
      "0 91\n",
      "57\n",
      "Empoli\n",
      "0 90\n",
      "58\n",
      "Empoli\n",
      "0 90\n",
      "59\n",
      "Verona\n",
      "0 90\n",
      "60\n",
      "Verona\n",
      "0 90\n",
      "61\n",
      "Inter\n",
      "0 90\n",
      "62\n",
      "Inter\n",
      "0 90\n",
      "63\n",
      "Atalanta\n",
      "0 90\n",
      "64\n",
      "Atalanta\n",
      "0 90\n",
      "65\n",
      "Verona\n",
      "0 90\n",
      "66\n",
      "Verona\n",
      "0 90\n",
      "67\n",
      "Cagliari\n",
      "0 96\n",
      "68\n",
      "Cagliari\n",
      "0 96\n",
      "69\n",
      "Verona\n",
      "0 90\n",
      "70\n",
      "Verona\n",
      "0 90\n",
      "71\n",
      "Verona\n",
      "0 93\n",
      "72\n",
      "Verona\n",
      "0 93\n",
      "73\n",
      "Lazio\n",
      "0 93\n",
      "74\n",
      "Lazio\n",
      "0 93\n",
      "75\n",
      "0\n",
      "1\n",
      "2\n",
      "3\n",
      "4\n",
      "5\n",
      "6\n",
      "7\n",
      "8\n",
      "9\n",
      "10\n",
      "11\n",
      "12\n",
      "13\n",
      "14\n",
      "15\n",
      "16\n",
      "17\n",
      "18\n",
      "19\n",
      "20\n",
      "21\n",
      "22\n",
      "23\n",
      "24\n",
      "25\n",
      "26\n",
      "27\n",
      "28\n",
      "29\n",
      "30\n",
      "31\n",
      "32\n",
      "33\n",
      "34\n",
      "35\n",
      "36\n",
      "37\n",
      "38\n",
      "39\n",
      "40\n",
      "41\n",
      "42\n",
      "43\n",
      "44\n",
      "45\n",
      "46\n",
      "47\n",
      "48\n",
      "49\n",
      "50\n",
      "51\n",
      "52\n",
      "53\n",
      "54\n",
      "55\n",
      "56\n",
      "57\n",
      "58\n",
      "59\n",
      "60\n",
      "61\n",
      "62\n",
      "63\n",
      "64\n",
      "65\n",
      "66\n",
      "67\n",
      "68\n",
      "69\n",
      "70\n",
      "71\n",
      "72\n",
      "73\n",
      "74\n",
      "75\n",
      "!!! Index(['H_Teamnames', 'A_Teamnames', 'H_Goals', 'A_Goals', 'H_Ball Possession',\n",
      "       'A_Ball Possession', 'A_Goal Attempts', 'H_Goal Attempts',\n",
      "       'H_Shots on Goal', 'A_Shots on Goal', 'H_Shots off Goal',\n",
      "       'A_Shots off Goal', 'H_Free Kicks', 'H_Red Cards', 'A_Red Cards',\n",
      "       'A_Free Kicks', 'H_Corner Kicks', 'A_Corner Kicks', 'H_Offsides',\n",
      "       'A_Offsides', 'H_Goalkeeper Saves', 'A_Goalkeeper Saves', 'H_Fouls',\n",
      "       'A_Fouls', 'A_gameinfo', 'A_datetime', 'xG', 'GOALS', 'xPTS', 'A_xG',\n",
      "       'A_GOALS', 'A_xPTS', 'timing_chart_xg', 'homexg_complete_game',\n",
      "       'awayxg_complete_game', 'R', 'xg_halftime', 'Axg_halftime'],\n",
      "      dtype='object')\n",
      "df4Opponent.columns before reassignment oppo Index(['Home', 'Opponent', 'R', 'G-H', 'G-A', 'BP-H', 'BP-A', 'GA-H', 'GA-A',\n",
      "       'SoG-H', 'SoG-A', 'SoffG-H', 'SoffG-A', 'FK-H', 'H_Red Cards',\n",
      "       'A_Red Cards', 'FK-A', 'C-H', 'C-A', 'Off-H', 'Off-A', 'GoKeSa-H',\n",
      "       'GoKeSa-A', 'F-H', 'F-A', 'Round', 'Date', 'IsHome', 'xG', 'GOALS',\n",
      "       'xPTS', 'A_xG', 'A_GOALS', 'A_xPTS', 'xg_halftime', 'Axg_halftime',\n",
      "       'homexg_complete_game', 'awayxg_complete_game', '1x2'],\n",
      "      dtype='object')\n",
      "df4OpponentReversed.columns after reassignment oppo Index(['Home', 'Opponent', '1x2', 'R', 'G-H', 'G-A', 'BP-H', 'BP-A', 'GA-H',\n",
      "       'GA-A', 'SoG-H', 'SoG-A', 'SoffG-H', 'SoffG-A', 'FK-H', 'H_Red Cards',\n",
      "       'A_Red Cards', 'FK-A', 'C-H', 'C-A', 'Off-H', 'Off-A', 'GoKeSa-H',\n",
      "       'GoKeSa-A', 'F-H', 'F-A', 'Round', 'Date', 'IsHome', 'xG', 'xPTS',\n",
      "       'GOALS', 'A_xG', 'A_xPTS', 'A_GOALS', 'xg_halftime', 'Axg_halftime',\n",
      "       'homexg_complete_game', 'awayxg_complete_game'],\n",
      "      dtype='object')\n",
      "Index(['Home', 'Opponent', 'R', 'G-H', 'G-A', 'BP-H', 'BP-A', 'GA-H', 'GA-A',\n",
      "       'SoG-H', 'SoG-A', 'SoffG-H', 'SoffG-A', 'FK-H', 'H_Red Cards',\n",
      "       'A_Red Cards', 'FK-A', 'C-H', 'C-A', 'Off-H', 'Off-A', 'GoKeSa-H',\n",
      "       'GoKeSa-A', 'F-H', 'F-A', 'Round', 'Date', 'IsHome', 'xG', 'GOALS',\n",
      "       'xPTS', 'A_xG', 'A_GOALS', 'A_xPTS', 'xg_halftime', 'Axg_halftime',\n",
      "       'homexg_complete_game', 'awayxg_complete_game', '1x2', 'GoalDiff',\n",
      "       'BPTypes', 'timestamp', 'halftime', 'Halftime result'],\n",
      "      dtype='object')\n",
      "      xG  A_xG  xg_halftime  Axg_halftime halftime  Opponent Halftime result  \\\n",
      "0  2.200 1.900        1.000         0.600        2  Sassuolo            Draw   \n",
      "1  2.200 1.900        1.000         0.600        1  Sassuolo            Loss   \n",
      "2  0.600 1.800        0.400         0.500        2     Inter            Loss   \n",
      "..   ...   ...          ...           ...      ...       ...             ...   \n",
      "73 0.700 1.700        0.600         1.100        1    Torino            Loss   \n",
      "74 2.000 3.500        0.700         0.800        2     Lazio            Draw   \n",
      "75 2.000 3.500        0.700         0.800        1     Lazio            Draw   \n",
      "\n",
      "     timestamp  \n",
      "0   1629538200  \n",
      "1   1629538200  \n",
      "2   1630064700  \n",
      "..         ...  \n",
      "73  1652551200  \n",
      "74  1653165900  \n",
      "75  1653165900  \n",
      "\n",
      "[76 rows x 8 columns]\n",
      "len(df) 76\n",
      "Inter\n",
      "0 90\n",
      "0\n",
      "Inter\n",
      "0 90\n",
      "1\n",
      "Verona\n",
      "0 93\n",
      "2\n",
      "Verona\n",
      "0 93\n",
      "3\n",
      "Sampdoria\n",
      "0 95\n",
      "4\n",
      "Sampdoria\n",
      "0 95\n",
      "5\n",
      "Inter\n",
      "0 90\n",
      "6\n",
      "Inter\n",
      "0 90\n",
      "7\n",
      "Fiorentina\n",
      "0 92\n",
      "8\n",
      "Fiorentina\n",
      "0 92\n",
      "9\n",
      "Inter\n",
      "0 95\n",
      "10\n",
      "Inter\n",
      "0 95\n",
      "11\n",
      "Sassuolo\n",
      "0 91\n",
      "12\n",
      "Sassuolo\n",
      "0 91\n",
      "13\n",
      "Lazio\n",
      "0 94\n",
      "14\n",
      "Lazio\n",
      "0 94\n",
      "15\n",
      "Inter\n",
      "0 90\n",
      "16\n",
      "Inter\n",
      "0 90\n",
      "17\n",
      "Empoli\n",
      "0 92\n",
      "18\n",
      "Empoli\n",
      "0 92\n",
      "19\n",
      "Inter\n",
      "0 92\n",
      "20\n",
      "Inter\n",
      "0 92\n",
      "21\n",
      "AC Milan\n",
      "0 90\n",
      "22\n",
      "AC Milan\n",
      "0 90\n",
      "23\n",
      "Inter\n",
      "0 96\n",
      "24\n",
      "Inter\n",
      "0 96\n",
      "25\n",
      "Venezia\n",
      "0 95\n",
      "26\n",
      "Venezia\n",
      "0 95\n",
      "27\n",
      "Inter\n",
      "0 91\n",
      "28\n",
      "Inter\n",
      "0 91\n",
      "29\n",
      "Roma\n",
      "0 90\n",
      "30\n",
      "Roma\n",
      "0 90\n",
      "31\n",
      "Inter\n",
      "0 90\n",
      "32\n",
      "Inter\n",
      "0 90\n",
      "33\n",
      "Salernitana\n",
      "0 90\n",
      "34\n",
      "Salernitana\n",
      "0 90\n",
      "35\n",
      "Inter\n",
      "0 90\n",
      "36\n",
      "Inter\n",
      "0 90\n",
      "37\n",
      "Inter\n",
      "0 94\n",
      "38\n",
      "Inter\n",
      "0 94\n",
      "39\n",
      "Atalanta\n",
      "0 91\n",
      "40\n",
      "Atalanta\n",
      "0 91\n",
      "41\n",
      "Inter\n",
      "0 92\n",
      "42\n",
      "Inter\n",
      "0 92\n",
      "43\n",
      "Inter\n",
      "0 90\n",
      "44\n",
      "Inter\n",
      "0 90\n",
      "45\n",
      "Napoli\n",
      "0 93\n",
      "46\n",
      "Napoli\n",
      "0 93\n",
      "47\n",
      "Inter\n",
      "0 90\n",
      "48\n",
      "Inter\n",
      "0 90\n",
      "49\n",
      "Genoa\n",
      "0 93\n",
      "50\n",
      "Genoa\n",
      "0 93\n",
      "51\n",
      "Inter\n",
      "0 92\n",
      "52\n",
      "Inter\n",
      "0 92\n",
      "53\n",
      "Torino\n",
      "0 92\n",
      "54\n",
      "Torino\n",
      "0 92\n",
      "55\n",
      "Inter\n",
      "0 93\n",
      "56\n",
      "Inter\n",
      "0 93\n",
      "57\n",
      "Juventus\n",
      "0 96\n",
      "58\n",
      "Juventus\n",
      "0 96\n",
      "59\n",
      "Inter\n",
      "0 90\n",
      "60\n",
      "Inter\n",
      "0 90\n",
      "61\n",
      "Spezia\n",
      "0 92\n",
      "62\n",
      "Spezia\n",
      "0 92\n",
      "63\n",
      "Inter\n",
      "0 90\n",
      "64\n",
      "Inter\n",
      "0 90\n",
      "65\n",
      "Bologna\n",
      "0 92\n",
      "66\n",
      "Bologna\n",
      "0 92\n",
      "67\n",
      "Udinese\n",
      "0 92\n",
      "68\n",
      "Udinese\n",
      "0 92\n",
      "69\n",
      "Inter\n",
      "2 93\n",
      "70\n",
      "Inter\n",
      "2 93\n",
      "71\n",
      "Cagliari\n",
      "0 91\n",
      "72\n",
      "Cagliari\n",
      "0 91\n",
      "73\n",
      "Inter\n",
      "0 90\n",
      "74\n",
      "Inter\n",
      "0 90\n",
      "75\n",
      "0\n",
      "1\n",
      "2\n",
      "3\n",
      "4\n",
      "5\n",
      "6\n",
      "7\n",
      "8\n",
      "9\n",
      "10\n",
      "11\n",
      "12\n",
      "13\n",
      "14\n",
      "15\n",
      "16\n",
      "17\n",
      "18\n",
      "19\n",
      "20\n",
      "21\n",
      "22\n",
      "23\n",
      "24\n",
      "25\n",
      "26\n",
      "27\n",
      "28\n",
      "29\n",
      "30\n",
      "31\n",
      "32\n",
      "33\n",
      "34\n",
      "35\n",
      "36\n",
      "37\n",
      "38\n",
      "39\n",
      "40\n",
      "41\n",
      "42\n",
      "43\n",
      "44\n",
      "45\n",
      "46\n",
      "47\n",
      "48\n",
      "49\n",
      "50\n",
      "51\n",
      "52\n",
      "53\n",
      "54\n",
      "55\n",
      "56\n",
      "57\n",
      "58\n",
      "59\n",
      "60\n",
      "61\n",
      "62\n",
      "63\n",
      "64\n",
      "65\n",
      "66\n",
      "67\n",
      "68\n",
      "69\n",
      "70\n",
      "71\n",
      "72\n",
      "73\n",
      "74\n",
      "75\n",
      "!!! Index(['H_Teamnames', 'A_Teamnames', 'H_Goals', 'A_Goals', 'H_Ball Possession',\n",
      "       'A_Ball Possession', 'A_Goal Attempts', 'H_Goal Attempts',\n",
      "       'H_Shots on Goal', 'A_Shots on Goal', 'H_Shots off Goal',\n",
      "       'A_Shots off Goal', 'H_Free Kicks', 'H_Red Cards', 'A_Red Cards',\n",
      "       'A_Free Kicks', 'H_Corner Kicks', 'A_Corner Kicks', 'H_Offsides',\n",
      "       'A_Offsides', 'H_Goalkeeper Saves', 'A_Goalkeeper Saves', 'H_Fouls',\n",
      "       'A_Fouls', 'A_gameinfo', 'A_datetime', 'xG', 'GOALS', 'xPTS', 'A_xG',\n",
      "       'A_GOALS', 'A_xPTS', 'timing_chart_xg', 'homexg_complete_game',\n",
      "       'awayxg_complete_game', 'R', 'xg_halftime', 'Axg_halftime'],\n",
      "      dtype='object')\n",
      "df4Opponent.columns before reassignment oppo Index(['Home', 'Opponent', 'R', 'G-H', 'G-A', 'BP-H', 'BP-A', 'GA-H', 'GA-A',\n",
      "       'SoG-H', 'SoG-A', 'SoffG-H', 'SoffG-A', 'FK-H', 'H_Red Cards',\n",
      "       'A_Red Cards', 'FK-A', 'C-H', 'C-A', 'Off-H', 'Off-A', 'GoKeSa-H',\n",
      "       'GoKeSa-A', 'F-H', 'F-A', 'Round', 'Date', 'IsHome', 'xG', 'GOALS',\n",
      "       'xPTS', 'A_xG', 'A_GOALS', 'A_xPTS', 'xg_halftime', 'Axg_halftime',\n",
      "       'homexg_complete_game', 'awayxg_complete_game', '1x2'],\n",
      "      dtype='object')\n",
      "df4OpponentReversed.columns after reassignment oppo Index(['Home', 'Opponent', '1x2', 'R', 'G-H', 'G-A', 'BP-H', 'BP-A', 'GA-H',\n",
      "       'GA-A', 'SoG-H', 'SoG-A', 'SoffG-H', 'SoffG-A', 'FK-H', 'H_Red Cards',\n",
      "       'A_Red Cards', 'FK-A', 'C-H', 'C-A', 'Off-H', 'Off-A', 'GoKeSa-H',\n",
      "       'GoKeSa-A', 'F-H', 'F-A', 'Round', 'Date', 'IsHome', 'xG', 'xPTS',\n",
      "       'GOALS', 'A_xG', 'A_xPTS', 'A_GOALS', 'xg_halftime', 'Axg_halftime',\n",
      "       'homexg_complete_game', 'awayxg_complete_game'],\n",
      "      dtype='object')\n",
      "Index(['Home', 'Opponent', 'R', 'G-H', 'G-A', 'BP-H', 'BP-A', 'GA-H', 'GA-A',\n",
      "       'SoG-H', 'SoG-A', 'SoffG-H', 'SoffG-A', 'FK-H', 'H_Red Cards',\n",
      "       'A_Red Cards', 'FK-A', 'C-H', 'C-A', 'Off-H', 'Off-A', 'GoKeSa-H',\n",
      "       'GoKeSa-A', 'F-H', 'F-A', 'Round', 'Date', 'IsHome', 'xG', 'GOALS',\n",
      "       'xPTS', 'A_xG', 'A_GOALS', 'A_xPTS', 'xg_halftime', 'Axg_halftime',\n",
      "       'homexg_complete_game', 'awayxg_complete_game', '1x2', 'GoalDiff',\n",
      "       'BPTypes', 'timestamp', 'halftime', 'Halftime result'],\n",
      "      dtype='object')\n",
      "      xG  A_xG  xg_halftime  Axg_halftime halftime   Opponent Halftime result  \\\n",
      "0  2.200 1.000        0.600         0.600        2      Genoa             Win   \n",
      "1  2.200 1.000        0.600         0.600        1      Genoa             Win   \n",
      "2  1.800 0.600        0.500         0.400        2     Verona             Win   \n",
      "..   ...   ...          ...           ...      ...        ...             ...   \n",
      "73 2.600 0.700        1.200         0.000        1   Cagliari             Win   \n",
      "74 3.000 0.800        1.200         0.100        2  Sampdoria             Win   \n",
      "75 3.000 0.800        1.200         0.100        1  Sampdoria            Draw   \n",
      "\n",
      "     timestamp  \n",
      "0   1629538200  \n",
      "1   1629538200  \n",
      "2   1630064700  \n",
      "..         ...  \n",
      "73  1652647500  \n",
      "74  1653242400  \n",
      "75  1653242400  \n",
      "\n",
      "[76 rows x 8 columns]\n",
      "len(df) 76\n",
      "Torino\n",
      "0 92\n",
      "0\n",
      "Torino\n",
      "0 92\n",
      "1\n",
      "Fiorentina\n",
      "0 92\n",
      "2\n",
      "Fiorentina\n",
      "0 92\n",
      "3\n",
      "Torino\n",
      "0 90\n",
      "4\n",
      "Torino\n",
      "0 90\n",
      "5\n",
      "Sassuolo\n",
      "0 94\n",
      "6\n",
      "Sassuolo\n",
      "0 94\n",
      "7\n",
      "Torino\n",
      "0 90\n",
      "8\n",
      "Torino\n",
      "0 90\n",
      "9\n",
      "Venezia\n",
      "0 95\n",
      "10\n",
      "Venezia\n",
      "0 95\n",
      "11\n",
      "Torino\n",
      "0 92\n",
      "12\n",
      "Torino\n",
      "0 92\n",
      "13\n",
      "Napoli\n",
      "0 90\n",
      "14\n",
      "Napoli\n",
      "0 90\n",
      "15\n",
      "Torino\n",
      "0 93\n",
      "16\n",
      "Torino\n",
      "0 93\n",
      "17\n",
      "AC Milan\n",
      "0 93\n",
      "18\n",
      "AC Milan\n",
      "0 93\n",
      "19\n",
      "Torino\n",
      "0 92\n",
      "20\n",
      "Torino\n",
      "0 92\n",
      "21\n",
      "Spezia\n",
      "0 93\n",
      "22\n",
      "Spezia\n",
      "0 93\n",
      "23\n",
      "Torino\n",
      "0 90\n",
      "24\n",
      "Torino\n",
      "0 90\n",
      "25\n",
      "Roma\n",
      "0 90\n",
      "26\n",
      "Roma\n",
      "0 90\n",
      "27\n",
      "Torino\n",
      "0 93\n",
      "28\n",
      "Torino\n",
      "0 93\n",
      "29\n",
      "Cagliari\n",
      "0 93\n",
      "30\n",
      "Cagliari\n",
      "0 93\n",
      "31\n",
      "Torino\n",
      "0 92\n",
      "32\n",
      "Torino\n",
      "0 92\n",
      "33\n",
      "Torino\n",
      "0 94\n",
      "34\n",
      "Torino\n",
      "0 94\n",
      "35\n",
      "Inter\n",
      "0 90\n",
      "36\n",
      "Inter\n",
      "0 90\n",
      "37\n",
      "Torino\n",
      "0 90\n",
      "38\n",
      "Torino\n",
      "0 90\n",
      "39\n",
      "Sampdoria\n",
      "0 93\n",
      "40\n",
      "Sampdoria\n",
      "0 93\n",
      "41\n",
      "Torino\n",
      "0 92\n",
      "42\n",
      "Torino\n",
      "0 92\n",
      "43\n",
      "Udinese\n",
      "0 96\n",
      "44\n",
      "Udinese\n",
      "0 96\n",
      "45\n",
      "Bologna\n",
      "0 90\n",
      "46\n",
      "Bologna\n",
      "0 90\n",
      "47\n",
      "Torino\n",
      "0 90\n",
      "48\n",
      "Torino\n",
      "0 90\n",
      "49\n",
      "Juventus\n",
      "0 93\n",
      "50\n",
      "Juventus\n",
      "0 93\n",
      "51\n",
      "Torino\n",
      "0 102\n",
      "52\n",
      "Torino\n",
      "0 102\n",
      "53\n",
      "Torino\n",
      "0 92\n",
      "54\n",
      "Torino\n",
      "0 92\n",
      "55\n",
      "Genoa\n",
      "0 90\n",
      "56\n",
      "Genoa\n",
      "0 90\n",
      "57\n",
      "Salernitana\n",
      "0 94\n",
      "58\n",
      "Salernitana\n",
      "0 94\n",
      "59\n",
      "Torino\n",
      "0 97\n",
      "60\n",
      "Torino\n",
      "0 97\n",
      "61\n",
      "Lazio\n",
      "0 93\n",
      "62\n",
      "Lazio\n",
      "0 93\n",
      "63\n",
      "Torino\n",
      "0 96\n",
      "64\n",
      "Torino\n",
      "0 96\n",
      "65\n",
      "Atalanta\n",
      "0 94\n",
      "66\n",
      "Atalanta\n",
      "0 94\n",
      "67\n",
      "Empoli\n",
      "0 95\n",
      "68\n",
      "Empoli\n",
      "0 95\n",
      "69\n",
      "Torino\n",
      "0 90\n",
      "70\n",
      "Torino\n",
      "0 90\n",
      "71\n",
      "Verona\n",
      "0 93\n",
      "72\n",
      "Verona\n",
      "0 93\n",
      "73\n",
      "Torino\n",
      "0 90\n",
      "74\n",
      "Torino\n",
      "0 90\n",
      "75\n",
      "0\n",
      "1\n",
      "2\n",
      "3\n",
      "4\n",
      "5\n",
      "6\n",
      "7\n",
      "8\n",
      "9\n",
      "10\n",
      "11\n",
      "12\n",
      "13\n",
      "14\n",
      "15\n",
      "16\n",
      "17\n",
      "18\n",
      "19\n",
      "20\n",
      "21\n",
      "22\n",
      "23\n",
      "24\n",
      "25\n",
      "26\n",
      "27\n",
      "28\n",
      "29\n",
      "30\n",
      "31\n",
      "32\n",
      "33\n",
      "34\n",
      "35\n",
      "36\n",
      "37\n",
      "38\n",
      "39\n",
      "40\n",
      "41\n",
      "42\n",
      "43\n",
      "44\n",
      "45\n",
      "46\n",
      "47\n",
      "48\n",
      "49\n",
      "50\n",
      "51\n",
      "52\n",
      "53\n",
      "54\n",
      "55\n",
      "56\n",
      "57\n",
      "58\n",
      "59\n",
      "60\n",
      "61\n",
      "62\n",
      "63\n",
      "64\n",
      "65\n",
      "66\n",
      "67\n",
      "68\n",
      "69\n",
      "70\n",
      "71\n",
      "72\n",
      "73\n",
      "74\n",
      "75\n",
      "!!! Index(['H_Teamnames', 'A_Teamnames', 'H_Goals', 'A_Goals', 'H_Ball Possession',\n",
      "       'A_Ball Possession', 'A_Goal Attempts', 'H_Goal Attempts',\n",
      "       'H_Shots on Goal', 'A_Shots on Goal', 'H_Shots off Goal',\n",
      "       'A_Shots off Goal', 'H_Free Kicks', 'H_Red Cards', 'A_Red Cards',\n",
      "       'A_Free Kicks', 'H_Corner Kicks', 'A_Corner Kicks', 'H_Offsides',\n",
      "       'A_Offsides', 'H_Goalkeeper Saves', 'A_Goalkeeper Saves', 'H_Fouls',\n",
      "       'A_Fouls', 'A_gameinfo', 'A_datetime', 'xG', 'GOALS', 'xPTS', 'A_xG',\n",
      "       'A_GOALS', 'A_xPTS', 'timing_chart_xg', 'homexg_complete_game',\n",
      "       'awayxg_complete_game', 'R', 'xg_halftime', 'Axg_halftime'],\n",
      "      dtype='object')\n",
      "df4Opponent.columns before reassignment oppo Index(['Home', 'Opponent', 'R', 'G-H', 'G-A', 'BP-H', 'BP-A', 'GA-H', 'GA-A',\n",
      "       'SoG-H', 'SoG-A', 'SoffG-H', 'SoffG-A', 'FK-H', 'H_Red Cards',\n",
      "       'A_Red Cards', 'FK-A', 'C-H', 'C-A', 'Off-H', 'Off-A', 'GoKeSa-H',\n",
      "       'GoKeSa-A', 'F-H', 'F-A', 'Round', 'Date', 'IsHome', 'xG', 'GOALS',\n",
      "       'xPTS', 'A_xG', 'A_GOALS', 'A_xPTS', 'xg_halftime', 'Axg_halftime',\n",
      "       'homexg_complete_game', 'awayxg_complete_game', '1x2'],\n",
      "      dtype='object')\n",
      "df4OpponentReversed.columns after reassignment oppo Index(['Home', 'Opponent', '1x2', 'R', 'G-H', 'G-A', 'BP-H', 'BP-A', 'GA-H',\n",
      "       'GA-A', 'SoG-H', 'SoG-A', 'SoffG-H', 'SoffG-A', 'FK-H', 'H_Red Cards',\n",
      "       'A_Red Cards', 'FK-A', 'C-H', 'C-A', 'Off-H', 'Off-A', 'GoKeSa-H',\n",
      "       'GoKeSa-A', 'F-H', 'F-A', 'Round', 'Date', 'IsHome', 'xG', 'xPTS',\n",
      "       'GOALS', 'A_xG', 'A_xPTS', 'A_GOALS', 'xg_halftime', 'Axg_halftime',\n",
      "       'homexg_complete_game', 'awayxg_complete_game'],\n",
      "      dtype='object')\n",
      "Index(['Home', 'Opponent', 'R', 'G-H', 'G-A', 'BP-H', 'BP-A', 'GA-H', 'GA-A',\n",
      "       'SoG-H', 'SoG-A', 'SoffG-H', 'SoffG-A', 'FK-H', 'H_Red Cards',\n",
      "       'A_Red Cards', 'FK-A', 'C-H', 'C-A', 'Off-H', 'Off-A', 'GoKeSa-H',\n",
      "       'GoKeSa-A', 'F-H', 'F-A', 'Round', 'Date', 'IsHome', 'xG', 'GOALS',\n",
      "       'xPTS', 'A_xG', 'A_GOALS', 'A_xPTS', 'xg_halftime', 'Axg_halftime',\n",
      "       'homexg_complete_game', 'awayxg_complete_game', '1x2', 'GoalDiff',\n",
      "       'BPTypes', 'timestamp', 'halftime', 'Halftime result'],\n",
      "      dtype='object')\n",
      "      xG  A_xG  xg_halftime  Axg_halftime halftime    Opponent  \\\n",
      "0  0.900 1.000        0.400         0.300        2    Atalanta   \n",
      "1  0.900 1.000        0.400         0.300        1    Atalanta   \n",
      "2  0.300 0.500        0.000         0.400        2  Fiorentina   \n",
      "..   ...   ...          ...           ...      ...         ...   \n",
      "73 1.700 0.700        1.100         0.600        1      Verona   \n",
      "74 0.500 2.700        0.200         1.400        2        Roma   \n",
      "75 0.500 2.700        0.200         1.400        1        Roma   \n",
      "\n",
      "   Halftime result   timestamp  \n",
      "0             Loss  1629546300  \n",
      "1             Draw  1629546300  \n",
      "2             Draw  1630151100  \n",
      "..             ...         ...  \n",
      "73             Win  1652551200  \n",
      "74            Loss  1653079500  \n",
      "75            Loss  1653079500  \n",
      "\n",
      "[76 rows x 8 columns]\n",
      "len(df) 76\n",
      "Empoli\n",
      "0 92\n",
      "0\n",
      "Empoli\n",
      "0 92\n",
      "1\n",
      "Juventus\n",
      "0 92\n",
      "2\n",
      "Juventus\n",
      "0 92\n",
      "3\n",
      "Empoli\n",
      "0 96\n",
      "4\n",
      "Empoli\n",
      "0 96\n",
      "5\n",
      "Empoli\n",
      "0 90\n",
      "6\n",
      "Empoli\n",
      "0 90\n",
      "7\n",
      "Cagliari\n",
      "0 94\n",
      "8\n",
      "Cagliari\n",
      "0 94\n",
      "9\n",
      "Empoli\n",
      "0 92\n",
      "10\n",
      "Empoli\n",
      "0 92\n",
      "11\n",
      "Roma\n",
      "0 90\n",
      "12\n",
      "Roma\n",
      "0 90\n",
      "13\n",
      "Empoli\n",
      "0 91\n",
      "14\n",
      "Empoli\n",
      "0 91\n",
      "15\n",
      "Salernitana\n",
      "0 90\n",
      "16\n",
      "Salernitana\n",
      "0 90\n",
      "17\n",
      "Empoli\n",
      "0 92\n",
      "18\n",
      "Empoli\n",
      "0 92\n",
      "19\n",
      "Sassuolo\n",
      "0 91\n",
      "20\n",
      "Sassuolo\n",
      "0 91\n",
      "21\n",
      "Empoli\n",
      "0 90\n",
      "22\n",
      "Empoli\n",
      "0 90\n",
      "23\n",
      "Verona\n",
      "0 91\n",
      "24\n",
      "Verona\n",
      "0 91\n",
      "25\n",
      "Empoli\n",
      "0 94\n",
      "26\n",
      "Empoli\n",
      "0 94\n",
      "27\n",
      "Torino\n",
      "0 93\n",
      "28\n",
      "Torino\n",
      "0 93\n",
      "29\n",
      "Empoli\n",
      "0 95\n",
      "30\n",
      "Empoli\n",
      "0 95\n",
      "31\n",
      "Napoli\n",
      "0 90\n",
      "32\n",
      "Napoli\n",
      "0 90\n",
      "33\n",
      "Spezia\n",
      "0 93\n",
      "34\n",
      "Spezia\n",
      "0 93\n",
      "35\n",
      "Empoli\n",
      "0 94\n",
      "36\n",
      "Empoli\n",
      "0 94\n",
      "37\n",
      "Lazio\n",
      "0 92\n",
      "38\n",
      "Lazio\n",
      "0 92\n",
      "39\n",
      "Empoli\n",
      "0 91\n",
      "40\n",
      "Empoli\n",
      "0 91\n",
      "41\n",
      "Venezia\n",
      "0 90\n",
      "42\n",
      "Venezia\n",
      "0 90\n",
      "43\n",
      "Empoli\n",
      "0 92\n",
      "44\n",
      "Empoli\n",
      "0 92\n",
      "45\n",
      "Empoli\n",
      "0 95\n",
      "46\n",
      "Empoli\n",
      "0 95\n",
      "47\n",
      "Genoa\n",
      "0 90\n",
      "48\n",
      "Genoa\n",
      "0 90\n",
      "49\n",
      "Empoli\n",
      "0 90\n",
      "50\n",
      "Empoli\n",
      "0 90\n",
      "51\n",
      "Sampdoria\n",
      "0 90\n",
      "52\n",
      "Sampdoria\n",
      "0 90\n",
      "53\n",
      "Bologna\n",
      "0 93\n",
      "54\n",
      "Bologna\n",
      "0 93\n",
      "55\n",
      "AC Milan\n",
      "0 90\n",
      "56\n",
      "AC Milan\n",
      "0 90\n",
      "57\n",
      "Empoli\n",
      "0 90\n",
      "58\n",
      "Empoli\n",
      "0 90\n",
      "59\n",
      "Fiorentina\n",
      "0 93\n",
      "60\n",
      "Fiorentina\n",
      "0 93\n",
      "61\n",
      "Empoli\n",
      "0 93\n",
      "62\n",
      "Empoli\n",
      "0 93\n",
      "63\n",
      "Udinese\n",
      "0 92\n",
      "64\n",
      "Udinese\n",
      "0 92\n",
      "65\n",
      "Empoli\n",
      "0 93\n",
      "66\n",
      "Empoli\n",
      "0 93\n",
      "67\n",
      "Empoli\n",
      "0 95\n",
      "68\n",
      "Empoli\n",
      "0 95\n",
      "69\n",
      "Inter\n",
      "2 93\n",
      "70\n",
      "Inter\n",
      "2 93\n",
      "71\n",
      "Empoli\n",
      "0 96\n",
      "72\n",
      "Empoli\n",
      "0 96\n",
      "73\n",
      "Atalanta\n",
      "0 92\n",
      "74\n",
      "Atalanta\n",
      "0 92\n",
      "75\n",
      "0\n",
      "1\n",
      "2\n",
      "3\n",
      "4\n",
      "5\n",
      "6\n",
      "7\n",
      "8\n",
      "9\n",
      "10\n",
      "11\n",
      "12\n",
      "13\n",
      "14\n",
      "15\n",
      "16\n",
      "17\n",
      "18\n",
      "19\n",
      "20\n",
      "21\n",
      "22\n",
      "23\n",
      "24\n",
      "25\n",
      "26\n",
      "27\n",
      "28\n",
      "29\n",
      "30\n",
      "31\n",
      "32\n",
      "33\n",
      "34\n",
      "35\n",
      "36\n",
      "37\n",
      "38\n",
      "39\n",
      "40\n",
      "41\n",
      "42\n",
      "43\n",
      "44\n",
      "45\n",
      "46\n",
      "47\n",
      "48\n",
      "49\n",
      "50\n",
      "51\n",
      "52\n",
      "53\n",
      "54\n",
      "55\n",
      "56\n",
      "57\n",
      "58\n",
      "59\n",
      "60\n",
      "61\n",
      "62\n",
      "63\n",
      "64\n",
      "65\n",
      "66\n",
      "67\n",
      "68\n",
      "69\n",
      "70\n",
      "71\n",
      "72\n",
      "73\n",
      "74\n",
      "75\n",
      "error?\n",
      "!!! Index(['H_Teamnames', 'A_Teamnames', 'H_Goals', 'A_Goals', 'H_Ball Possession',\n",
      "       'A_Ball Possession', 'A_Goal Attempts', 'H_Goal Attempts',\n",
      "       'H_Shots on Goal', 'A_Shots on Goal', 'H_Shots off Goal',\n",
      "       'A_Shots off Goal', 'H_Free Kicks', 'H_Red Cards', 'A_Red Cards',\n",
      "       'A_Free Kicks', 'H_Corner Kicks', 'A_Corner Kicks', 'H_Offsides',\n",
      "       'A_Offsides', 'H_Goalkeeper Saves', 'A_Goalkeeper Saves', 'H_Fouls',\n",
      "       'A_Fouls', 'A_gameinfo', 'A_datetime', 'xG', 'GOALS', 'xPTS', 'A_xG',\n",
      "       'A_GOALS', 'A_xPTS', 'timing_chart_xg', 'homexg_complete_game',\n",
      "       'awayxg_complete_game', 'R', 'xg_halftime', 'Axg_halftime'],\n",
      "      dtype='object')\n",
      "df4Opponent.columns before reassignment oppo Index(['Home', 'Opponent', 'R', 'G-H', 'G-A', 'BP-H', 'BP-A', 'GA-H', 'GA-A',\n",
      "       'SoG-H', 'SoG-A', 'SoffG-H', 'SoffG-A', 'FK-H', 'H_Red Cards',\n",
      "       'A_Red Cards', 'FK-A', 'C-H', 'C-A', 'Off-H', 'Off-A', 'GoKeSa-H',\n",
      "       'GoKeSa-A', 'F-H', 'F-A', 'Round', 'Date', 'IsHome', 'xG', 'GOALS',\n",
      "       'xPTS', 'A_xG', 'A_GOALS', 'A_xPTS', 'xg_halftime', 'Axg_halftime',\n",
      "       'homexg_complete_game', 'awayxg_complete_game', '1x2'],\n",
      "      dtype='object')\n",
      "df4OpponentReversed.columns after reassignment oppo Index(['Home', 'Opponent', '1x2', 'R', 'G-H', 'G-A', 'BP-H', 'BP-A', 'GA-H',\n",
      "       'GA-A', 'SoG-H', 'SoG-A', 'SoffG-H', 'SoffG-A', 'FK-H', 'H_Red Cards',\n",
      "       'A_Red Cards', 'FK-A', 'C-H', 'C-A', 'Off-H', 'Off-A', 'GoKeSa-H',\n",
      "       'GoKeSa-A', 'F-H', 'F-A', 'Round', 'Date', 'IsHome', 'xG', 'xPTS',\n",
      "       'GOALS', 'A_xG', 'A_xPTS', 'A_GOALS', 'xg_halftime', 'Axg_halftime',\n",
      "       'homexg_complete_game', 'awayxg_complete_game'],\n",
      "      dtype='object')\n",
      "Index(['Home', 'Opponent', 'R', 'G-H', 'G-A', 'BP-H', 'BP-A', 'GA-H', 'GA-A',\n",
      "       'SoG-H', 'SoG-A', 'SoffG-H', 'SoffG-A', 'FK-H', 'H_Red Cards',\n",
      "       'A_Red Cards', 'FK-A', 'C-H', 'C-A', 'Off-H', 'Off-A', 'GoKeSa-H',\n",
      "       'GoKeSa-A', 'F-H', 'F-A', 'Round', 'Date', 'IsHome', 'xG', 'GOALS',\n",
      "       'xPTS', 'A_xG', 'A_GOALS', 'A_xPTS', 'xg_halftime', 'Axg_halftime',\n",
      "       'homexg_complete_game', 'awayxg_complete_game', '1x2', 'GoalDiff',\n",
      "       'BPTypes', 'timestamp', 'halftime', 'Halftime result'],\n",
      "      dtype='object')\n",
      "      xG  A_xG  xg_halftime  Axg_halftime halftime     Opponent  \\\n",
      "0  1.100 1.800        0.500         1.400        2        Lazio   \n",
      "1  1.100 1.800        0.500         1.400        1        Lazio   \n",
      "2  1.100 1.800        0.800         0.700        2     Juventus   \n",
      "..   ...   ...          ...           ...      ...          ...   \n",
      "73 1.800 3.300        0.400         0.500        1  Salernitana   \n",
      "74 0.300 3.300        0.100         1.400        2     Atalanta   \n",
      "75 0.300 3.300        0.100         1.400        1     Atalanta   \n",
      "\n",
      "   Halftime result   timestamp  \n",
      "0             Loss  1629546300  \n",
      "1             Draw  1629546300  \n",
      "2             Draw  1630151100  \n",
      "..             ...         ...  \n",
      "73             Win  1652540400  \n",
      "74             Win  1653165900  \n",
      "75            Draw  1653165900  \n",
      "\n",
      "[76 rows x 8 columns]\n",
      "len(df) 76\n",
      "Udinese\n",
      "0 91\n",
      "0\n",
      "Udinese\n",
      "0 91\n",
      "1\n",
      "Udinese\n",
      "0 92\n",
      "2\n",
      "Udinese\n",
      "0 92\n",
      "3\n",
      "Spezia\n",
      "0 90\n",
      "4\n",
      "Spezia\n",
      "0 90\n",
      "5\n",
      "Udinese\n",
      "0 91\n",
      "6\n",
      "Udinese\n",
      "0 91\n",
      "7\n",
      "Roma\n",
      "0 90\n",
      "8\n",
      "Roma\n",
      "0 90\n",
      "9\n",
      "Udinese\n",
      "0 91\n",
      "10\n",
      "Udinese\n",
      "0 91\n",
      "11\n",
      "Sampdoria\n",
      "0 90\n",
      "12\n",
      "Sampdoria\n",
      "0 90\n",
      "13\n",
      "Udinese\n",
      "0 90\n",
      "14\n",
      "Udinese\n",
      "0 90\n",
      "15\n"
     ]
    }
   ],
   "source": [
    "df_team_agg_playstyle_list = []\n",
    "\n",
    "for xg_team in teamsoptions:\n",
    "\n",
    "    # convert string to df to use process_team_names_of_df function\n",
    "    df_teamname = pd.DataFrame([xg_team])\n",
    "\n",
    "    # convert xg teamnames to correct ones that are used in htdatan\n",
    "    team_df = df_teamname.replace(teamnamedict)\n",
    "    team = team_df.iloc[0][0]\n",
    "\n",
    "    df = df_complete_saison[(df_complete_saison.H_Teamnames == team) | (\n",
    "        df_complete_saison.A_Teamnames == team)]\n",
    "\n",
    "    # return df, team, saison\n",
    "\n",
    "\n",
    "    def process_team_names_of_df(x_df):\n",
    "        x_df = x_df.replace(teamnamedict)\n",
    "        return x_df\n",
    "\n",
    "\n",
    "    def df_cleaning_converting(df):\n",
    "        df = df[['H_Teamnames', 'A_Teamnames', 'H_Goals', 'A_Goals', 'H_Ball Possession', 'A_Ball Possession', 'A_Goal Attempts', 'H_Goal Attempts',\n",
    "                'H_Shots on Goal', 'A_Shots on Goal', 'H_Shots off Goal', 'A_Shots off Goal', 'H_Free Kicks',\"H_Red Cards\", \"A_Red Cards\",\n",
    "                'A_Free Kicks', 'H_Corner Kicks', 'A_Corner Kicks', 'H_Offsides', 'A_Offsides', 'H_Goalkeeper Saves', 'A_Goalkeeper Saves',\n",
    "                'H_Fouls', 'A_Fouls', 'A_gameinfo', 'A_datetime', 'xG', 'GOALS', 'xPTS', 'A_xG', 'A_GOALS', 'A_xPTS', 'timing_chart_xg', \"homexg_complete_game\", \"awayxg_complete_game\"]]\n",
    "        df = df.drop_duplicates(subset=['H_Teamnames', 'A_Teamnames', 'H_Goals', 'A_Goals', 'H_Ball Possession', 'A_Ball Possession', 'A_Goal Attempts', 'H_Goal Attempts',\n",
    "                'H_Shots on Goal', 'A_Shots on Goal', 'H_Shots off Goal', 'A_Shots off Goal', 'H_Free Kicks',\"H_Red Cards\", \"A_Red Cards\",\n",
    "                'A_Free Kicks', 'H_Corner Kicks', 'A_Corner Kicks', 'H_Offsides', 'A_Offsides', 'H_Goalkeeper Saves', 'A_Goalkeeper Saves',\n",
    "                'H_Fouls', 'A_Fouls', 'A_gameinfo', 'A_datetime', 'xG', 'GOALS', 'xPTS', 'A_xG', 'A_GOALS', 'A_xPTS'], keep='first')\n",
    "        df = df.reset_index(drop=True)\n",
    "        df[\"R\"] = 'X'\n",
    "\n",
    "        df['timing_chart_xg'] = df['timing_chart_xg'].astype('str') \n",
    "\n",
    "        # calculate halftime xG for both teams!\n",
    "        df['xg_halftime'] = -1\n",
    "        df['Axg_halftime'] = -1\n",
    "        for index, row in df.iterrows():\n",
    "            print(index)\n",
    "            try:    \n",
    "                # away team xg at halfime!\n",
    "                df['Axg_halftime'].loc[index] = df[\"timing_chart_xg\"].loc[index].split(\"45' \")[0].split(\"Total xG: \")[-1].split(\"\\n\")[0].replace(\";\", \"\")  \n",
    "                # home team xg at halfime!\n",
    "                df['xg_halftime'].loc[index] = df[\"timing_chart_xg\"].loc[index].split(\"45' \")[1].split(\"Total xG: \")[1].split(\"\\n\")[0].replace(\";\", \"\") \n",
    "            except Exception:\n",
    "                print(\"WRONG! index: \", index)\n",
    "                # print(row)\n",
    "                # print(traceback.format_exc())\n",
    "\n",
    "        df.xg_halftime = df.xg_halftime.astype(float).fillna(0.0)\n",
    "        df.Axg_halftime = df.Axg_halftime.astype(float).fillna(0.0) \n",
    "\n",
    "\n",
    "\n",
    "\n",
    "        for i in range(0, len(df)):\n",
    "            try:\n",
    "\n",
    "                if df[\"H_Goals\"][i] > df[\"A_Goals\"][i]:\n",
    "                    df[\"R\"][i] = 'H'\n",
    "                if df[\"H_Goals\"][i] < df[\"A_Goals\"][i]:\n",
    "                    df[\"R\"][i] = 'A'\n",
    "                else:\n",
    "                    df[\"R\"][i] = 'D'\n",
    "            except:\n",
    "                print(\"error?\")\n",
    "        print(\"!!!\", df.columns)\n",
    "        df.columns = ['Home', 'Opponent', 'G-H', 'G-A', 'BP-H', 'BP-A', 'GA-H', 'GA-A',\n",
    "                    'SoG-H', 'SoG-A', 'SoffG-H', 'SoffG-A', 'FK-H',\"H_Red Cards\", \"A_Red Cards\",\n",
    "                    'FK-A', 'C-H', 'C-A', 'Off-H', 'Off-A', 'GoKeSa-H', 'GoKeSa-A',\n",
    "                    'F-H', 'F-A', 'Round', 'Date', 'xG', 'GOALS', 'xPTS', 'A_xG', 'A_GOALS', 'A_xPTS', \"timing_chart_xg\", \"homexg_complete_game\", \"awayxg_complete_game\", 'R',  'xg_halftime', 'Axg_halftime',]\n",
    "\n",
    "        df = df[['Home', 'Opponent', 'R', 'G-H', 'G-A', 'BP-H', 'BP-A', 'GA-H', 'GA-A',\n",
    "                'SoG-H', 'SoG-A', 'SoffG-H', 'SoffG-A', 'FK-H',\"H_Red Cards\", \"A_Red Cards\",\n",
    "                'FK-A', 'C-H', 'C-A', 'Off-H', 'Off-A', 'GoKeSa-H', 'GoKeSa-A', 'F-H',\n",
    "                'F-A', 'Round', 'Date', 'xG', 'GOALS', 'xPTS', 'A_xG', 'A_GOALS', 'A_xPTS', 'xg_halftime', 'Axg_halftime', \"homexg_complete_game\", \"awayxg_complete_game\", ]]\n",
    "\n",
    "        df[\"IsHome\"] = 0\n",
    "\n",
    "        df = df[['Home', 'Opponent', 'R', 'G-H', 'G-A', 'BP-H', 'BP-A', 'GA-H', 'GA-A',\n",
    "                'SoG-H', 'SoG-A', 'SoffG-H', 'SoffG-A', 'FK-H',\"H_Red Cards\", \"A_Red Cards\",\n",
    "                'FK-A', 'C-H', 'C-A', 'Off-H', 'Off-A', 'GoKeSa-H', 'GoKeSa-A', 'F-H',\n",
    "                'F-A', 'Round', 'Date', 'IsHome', 'xG', 'GOALS', 'xPTS', 'A_xG', 'A_GOALS', 'A_xPTS','xg_halftime', 'Axg_halftime', \"homexg_complete_game\", \"awayxg_complete_game\", ]]\n",
    "        return df\n",
    "\n",
    "\n",
    "    def df_specific_team(df, team):\n",
    "        df4Home = df.loc[((df['Home'] == team))]\n",
    "\n",
    "        df4Home[\"IsHome\"] = 1\n",
    "\n",
    "        # recalcualte the winner because of the columns switching to bring the selected team in the first column\n",
    "        df4Home[\"1x2\"] = 0\n",
    "\n",
    "        df4Home[\"1x2\"] = df4Home.apply(\n",
    "            lambda row: calculate_1x2_home(row), axis=1, result_type='reduce')\n",
    "\n",
    "        # Berechnung Opponentgames\n",
    "        df4Opponent = df.loc[((df['Opponent'] == team))]\n",
    "\n",
    "\n",
    "        \n",
    "\n",
    "        # recalcualte the winner because of the columns switching to bring the selected team in the first column\n",
    "        df4Opponent[\"1x2\"] = 0\n",
    "\n",
    "        df4Opponent[\"1x2\"] = df4Opponent.apply(\n",
    "            lambda row: calculate_1x2_Opponent(row), axis=1, result_type='reduce')\n",
    "\n",
    "        # change the halftime-xg with halftime-Axg:\n",
    "        # switched the two columns\n",
    "        # Change the columns for the Opponentmatches of the specific team\n",
    "        print(\"df4Opponent.columns before reassignment oppo\", df4Opponent.columns)\n",
    "\n",
    "        OpponentTeamReversedColumns = ['Opponent', 'Home',  '1x2', 'R',  'G-A', 'G-H', 'BP-A', 'BP-H', 'GA-A', 'GA-H',  \n",
    "                                        'SoG-A', 'SoG-H', 'SoffG-A', 'SoffG-H',  'FK-A',  \"A_Red Cards\", \"H_Red Cards\",\n",
    "                                        'FK-H','C-A', 'C-H',  'Off-A', 'Off-H', 'GoKeSa-A', 'GoKeSa-H', 'F-A', \n",
    "                                        'F-H', 'Round', 'Date', 'IsHome','A_xG', \"A_xPTS\", \"A_GOALS\", 'xG', \"xPTS\", \"GOALS\", 'Axg_halftime', 'xg_halftime',\"awayxg_complete_game\", \"homexg_complete_game\",   ]  # , 'IsHome'\n",
    "        # Change the columns for the Opponentmatches of the specific team\n",
    "\n",
    "        df4OpponentReversed = df4Opponent.reindex(\n",
    "            columns=OpponentTeamReversedColumns)\n",
    "\n",
    "        df4OpponentReversed.columns = ['Home', 'Opponent', '1x2', 'R', 'G-H', 'G-A', 'BP-H', 'BP-A', 'GA-H', 'GA-A',\n",
    "                                    'SoG-H', 'SoG-A', 'SoffG-H', 'SoffG-A', 'FK-H', \"H_Red Cards\", \"A_Red Cards\",\n",
    "                                    'FK-A', 'C-H', 'C-A', 'Off-H', 'Off-A', 'GoKeSa-H', 'GoKeSa-A', 'F-H',\n",
    "                                    'F-A', 'Round', 'Date', 'IsHome', 'xG', \"xPTS\", \"GOALS\", 'A_xG', \"A_xPTS\", \"A_GOALS\", 'xg_halftime', 'Axg_halftime', \"homexg_complete_game\", \"awayxg_complete_game\", ]\n",
    "\n",
    "        print(\"df4OpponentReversed.columns after reassignment oppo\", df4OpponentReversed.columns)\n",
    "\n",
    "        return df4Home, df4OpponentReversed\n",
    "\n",
    "    def create_df4Complete(df4Home, df4OpponentReversed):\n",
    "        # Alle Spiele werden als Heimspiel angezeigt, sind aber auch Auswärtsspiele dabei!\n",
    "        df4Complete = pd.concat([df4Home, df4OpponentReversed], sort=False)\n",
    "\n",
    "        df4Complete[\"G-H\"] = df4Complete[\"G-H\"].astype('float64')\n",
    "        df4Complete[\"G-A\"] = df4Complete[\"G-A\"].astype('float64')\n",
    "        df4Complete[\"BP-H\"] = df4Complete[\"BP-H\"].astype('float64')\n",
    "        df4Complete[\"BP-A\"] = df4Complete[\"BP-A\"].astype('float64')\n",
    "\n",
    "        # GoalDifference\n",
    "        df4Complete[\"GoalDiff\"] = df4Complete[\"G-H\"] - df4Complete[\"G-A\"]\n",
    "        df4Complete = df4Complete.sort_values(\"Date\",  ascending=False)\n",
    "\n",
    "        # calculate column with 3 Ballposition types\n",
    "        df4Complete[\"BPTypes\"] = '0'\n",
    "\n",
    "        df4Complete[\"BPTypes\"] = df4Complete.apply(\n",
    "            lambda row: calculate_1x2_BPTypes(row), axis=1, result_type='reduce')\n",
    "\n",
    "        df4Complete['Date'] = pd.to_datetime(\n",
    "            df4Complete['Date'], format=\"%d.%m.%Y %H:%M\")\n",
    "\n",
    "        # convert datetime to timestamp for scatter visualization\n",
    "        df4Complete['timestamp'] = df4Complete.Date.astype('int64')//10**9\n",
    "\n",
    "        df4Complete = df4Complete.sort_values(\"Date\", ascending=False)\n",
    "\n",
    "        # Create data for scatter graph\n",
    "        df4Complete[\"SoG-H\"] = df4Complete[\"SoG-H\"].astype(int)\n",
    "        df4Complete[\"SoG-A\"] = df4Complete[\"SoG-A\"].astype(int)\n",
    "\n",
    "        return df4Complete\n",
    "\n",
    "\n",
    "    def calculate_1x2_home(row):\n",
    "        if row['G-H'] > row['G-A']:\n",
    "            return 'W'\n",
    "        elif row['G-A'] > row['G-H']:\n",
    "            return 'L'\n",
    "        else:\n",
    "            return 'D'\n",
    "\n",
    "\n",
    "    def calculate_1x2_Opponent(row):\n",
    "        if row['G-A'] > row['G-H']:\n",
    "            return 'W'\n",
    "        elif row['G-H'] > row['G-A']:\n",
    "            return 'L'\n",
    "        else:\n",
    "            return 'D'\n",
    "\n",
    "\n",
    "    def calculate_1x2_BPTypes(row):\n",
    "        if row['BP-H'] > 55:\n",
    "            return '>55'\n",
    "        elif row['BP-H'] < 45:\n",
    "            return '<45'\n",
    "        else:\n",
    "            return '45-55'\n",
    "\n",
    "\n",
    "    def calc_stats(df4Complete):\n",
    "        BP_WPerc = df4Complete[['BPTypes', '1x2']\n",
    "                            ].loc[df4Complete['BPTypes'] == '>55']\n",
    "        BP_WAbs = BP_WPerc['1x2'].loc[df4Complete['1x2'] == 'W']\n",
    "        BP_NWAbs = BP_WPerc['1x2'].loc[df4Complete['1x2'] != 'W']\n",
    "        if len(BP_WAbs) + len(BP_NWAbs) > 0:\n",
    "            BP_WPercText = len(BP_WAbs) / (len(BP_WAbs) + len(BP_NWAbs)) * 100\n",
    "            BP_WPercText = round(BP_WPercText)\n",
    "        else:\n",
    "            BP_WPercText = 0\n",
    "\n",
    "        # calculate winning % for 0.45 - 0.55\n",
    "        N_WPerc = df4Complete[['BPTypes', '1x2']\n",
    "                            ].loc[df4Complete['BPTypes'] == '45-55']\n",
    "        N_WAbs = N_WPerc['1x2'].loc[df4Complete['1x2'] == 'W']\n",
    "        N_NWAbs = N_WPerc['1x2'].loc[df4Complete['1x2'] != 'W']\n",
    "        if len(N_WAbs) + len(N_NWAbs) > 0:\n",
    "            N_WPercText = len(N_WAbs) / (len(N_WAbs) + len(N_NWAbs)) * 100\n",
    "            N_WPercText = round(N_WPercText)\n",
    "        else:\n",
    "            N_WPercText = 5\n",
    "\n",
    "        # calculate winning % for < 0.45\n",
    "        C_WPerc = df4Complete[['BPTypes', '1x2']\n",
    "                            ].loc[df4Complete['BPTypes'] == '<45']\n",
    "        C_WAbs = C_WPerc['1x2'].loc[df4Complete['1x2'] == 'W']\n",
    "        C_NWAbs = C_WPerc['1x2'].loc[df4Complete['1x2'] != 'W']\n",
    "        if len(C_WAbs) + len(C_NWAbs) > 0:\n",
    "            C_WPercText = len(C_WAbs) / (len(C_WAbs) + len(C_NWAbs)) * 100\n",
    "            C_WPercText = round(C_WPercText)\n",
    "        else:\n",
    "            C_WPercText = 0\n",
    "\n",
    "        return C_WPercText, N_WPercText, BP_WPercText\n",
    "\n",
    "\n",
    "    # get name of the selected team in dropdown\n",
    "    def load_xg_gamestats_sql(saison, team):\n",
    "\n",
    "        if saison.split(\"_\")[0] == 'b':\n",
    "            xgprefix = 'bundesliga'\n",
    "        elif saison.split(\"_\")[0] == 'l1':\n",
    "            xgprefix = 'ligue_1'\n",
    "        elif saison.split(\"_\")[0] == 'll':\n",
    "            xgprefix = 'la_liga'\n",
    "        elif saison.split(\"_\")[0] == 'pl':\n",
    "            xgprefix = 'epl'\n",
    "        elif saison.split(\"_\")[0] == 'sa':\n",
    "            xgprefix = 'serie_a'\n",
    "\n",
    "        xgtablename = \"{}20{}\".format(xgprefix, saison.split(\"_\")[1][:2])\n",
    "\n",
    "        df_complete_saison = pd.read_csv(\n",
    "            \"xg/\"+xgtablename+\".csv\", index_col=0, encoding='utf-8')\n",
    "\n",
    "        df_complete_saison = process_team_names_of_df(df_complete_saison)\n",
    "\n",
    "        # execute the query and assign it to a pandas dataframe\n",
    "        dfxg = df_complete_saison[(df_complete_saison.TEAMS == team) | (\n",
    "            df_complete_saison.A_TEAMS == team)]\n",
    "\n",
    "        return dfxg\n",
    "\n",
    "\n",
    "\n",
    "    df = process_team_names_of_df(df)\n",
    "\n",
    "    dfxg = load_xg_gamestats_sql(saison, team)\n",
    "\n",
    "    # rename columns for\n",
    "    dfxg_rename = dfxg.rename(\n",
    "        columns={'TEAMS': 'H_Teamnames', 'A_TEAMS': 'A_Teamnames'})\n",
    "    # del dfxg\n",
    "\n",
    "    dfxg_df_merged = pd.merge(\n",
    "        df, dfxg_rename, on=[\"H_Teamnames\", \"A_Teamnames\"])\n",
    "    dfxg_df_merged = dfxg_df_merged.drop_duplicates()\n",
    "\n",
    "    # %%\n",
    "    df = dfxg_df_merged\n",
    "\n",
    "    df[\"homexg_complete_game\"] = \"\"\n",
    "    df[\"awayxg_complete_game\"] = \"\"\n",
    "    df[\"last_game_minute\"] = -1\n",
    "    df[\"start_min_game\"] = -1\n",
    "    df.columns\n",
    "    game_loc =0\n",
    "    df[\"timing_chart_xg\"].loc[game_loc]\n",
    "    df[[\"A_Teamnames\"]].loc[game_loc]\n",
    "    # for game_loc in df.index[:1]:\n",
    "    homexg_complete_game = []\n",
    "    awayxg_complete_game = []\n",
    "\n",
    "    last_game_minute = df[\"timing_chart_xg\"].loc[game_loc].rsplit(\"'\")[-2].rsplit(\";\")[1]\n",
    "    start_min_game = int( re.sub(\"[^0-9]\", \"\", df[\"timing_chart_xg\"].loc[game_loc][:2]) )\n",
    "\n",
    "    for x in range(start_min_game,int(last_game_minute)+1):\n",
    "        try:\n",
    "            homexgperminute = df[\"timing_chart_xg\"].loc[game_loc].split(\"{}' Total xG: \".format(x))[1].split(\";\")[0][:4]  # [:4] - only last 4 digits so no goalscorer infos\n",
    "            awayxgperminute = df[\"timing_chart_xg\"].loc[game_loc].split(\"{}' Total xG: \".format(x), 2)[2].split(\";\")[0][:4]\n",
    "        except:\n",
    "            # falls die minute fehlt nehmen wir einfach den xg wert von der vorherigen minute!\n",
    "            print(\"min {} is missing in xg\".format(x))\n",
    "\n",
    "        homexg_complete_game.append(homexgperminute)\n",
    "        awayxg_complete_game.append(awayxgperminute)\n",
    "        \n",
    "    df[\"homexg_complete_game\"].loc[game_loc] = homexg_complete_game\n",
    "    df[\"awayxg_complete_game\"].loc[game_loc] = awayxg_complete_game\n",
    "    df[\"last_game_minute\"].loc[game_loc] = last_game_minute\n",
    "    df[\"start_min_game\"].loc[game_loc] = start_min_game\n",
    "\n",
    "    print(\"len(df)\", len(df))\n",
    "    for game_loc in df.index:\n",
    "        \n",
    "        homexg_complete_game = []\n",
    "        awayxg_complete_game = []\n",
    "\n",
    "        try: \n",
    "            last_game_minute = df[\"timing_chart_xg\"].loc[game_loc].rsplit(\"'\")[-2].rsplit(\";\")[1]\n",
    "        except:\n",
    "            last_game_minute = 90\n",
    "\n",
    "\n",
    "        start_min_game = int( re.sub(\"[^0-9]\", \"\", df[\"timing_chart_xg\"].loc[game_loc][:2]) )\n",
    "        print(df.H_Teamnames.loc[game_loc])\n",
    "        print(start_min_game,last_game_minute)\n",
    "        print(game_loc)\n",
    "        # nehmen hier minute für minute und schauen nach dem xg wert für diese minute\n",
    "        for x in range(start_min_game,int(last_game_minute)+1):\n",
    "            try:\n",
    "                homexgperminute = df[\"timing_chart_xg\"].loc[game_loc].split(\"{}' Total xG: \".format(x))[1].split(\";\")[0][:4]  # [:4] - only last 4 digits so no goalscorer infos\n",
    "                awayxgperminute = df[\"timing_chart_xg\"].loc[game_loc].split(\"{}' Total xG: \".format(x), 2)[2].split(\";\")[0][:4]\n",
    "            except:\n",
    "                print(\"min {} is missing in xg\".format(x))\n",
    "                # homexgperminute = \n",
    "\n",
    "            homexg_complete_game.append(homexgperminute)\n",
    "            awayxg_complete_game.append(awayxgperminute)\n",
    "            \n",
    "        df[\"homexg_complete_game\"].loc[game_loc] = homexg_complete_game\n",
    "        df[\"awayxg_complete_game\"].loc[game_loc] = awayxg_complete_game\n",
    "        df[\"last_game_minute\"].loc[game_loc] = last_game_minute\n",
    "        df[\"start_min_game\"].loc[game_loc] = start_min_game\n",
    "\n",
    "\n",
    "    for x in range(len(df)):\n",
    "        df.homexg_complete_game.iloc[x][0:0] = [None] * df.start_min_game.iloc[x]\n",
    "        df.awayxg_complete_game.iloc[x][0:0] = [None] * df.start_min_game.iloc[x]\n",
    "\n",
    "\n",
    "    df_homexg_complete_game = pd.DataFrame(df.homexg_complete_game.tolist(), index= df.index)\n",
    "    df_awayxg_complete_game = pd.DataFrame(df.awayxg_complete_game.tolist(), index= df.index)\n",
    "\n",
    "    df_homexg_complete_game = df_homexg_complete_game.apply(pd.to_numeric)\n",
    "    df_awayxg_complete_game = df_awayxg_complete_game.apply(pd.to_numeric)\n",
    "\n",
    "    dfxg_df_merged_cleaned = df_cleaning_converting(df)\n",
    "\n",
    "    df4Home, df4OpponentReversed = df_specific_team(\n",
    "        dfxg_df_merged_cleaned, team)\n",
    "\n",
    "    df4Complete = create_df4Complete(df4Home, df4OpponentReversed)\n",
    "\n",
    "    slidertext = 'Show last x halftimes'\n",
    "    nrGames = st.sidebar.slider(slidertext, max_value=len(\n",
    "        df4Complete), value=len(df4Complete), step=2)\n",
    "\n",
    "    # change rows of df depending on userinput\n",
    "    df4Complete = df4Complete[:nrGames]\n",
    "    df4Complete = df4Complete.sort_values(\"Date\", ascending=False)\n",
    "    df4Complete = df4Complete.round(1)\n",
    "\n",
    "    df4Complete.head(10\n",
    "    )\n",
    "\n",
    "    df4Complete[['xG', 'A_xG', 'G-H', 'G-A', 'BP-H', 'BP-A', 'GA-H', 'GA-A', 'SoG-H', 'SoG-A',  'xPTS', 'A_xPTS',  \"A_Red Cards\", \"H_Red Cards\"]] = df4Complete[['xG',\n",
    "                                                                                                                                'A_xG', 'G-H', 'G-A', 'BP-H', 'BP-A', 'GA-H', 'GA-A', 'SoG-H', 'SoG-A',  'xPTS', 'A_xPTS',  \"A_Red Cards\", \"H_Red Cards\"]].apply(pd.to_numeric, errors='coerce', axis=1)\n",
    "\n",
    "    df4Complete['A_Red Cards'] = df4Complete['A_Red Cards'].fillna(0)\n",
    "    df4Complete['H_Red Cards'] = df4Complete['H_Red Cards'].fillna(0)\n",
    "\n",
    "    df4Complete_show = df4Complete[['Home', 'Opponent', 'IsHome', 'R', 'xG', 'A_xG', 'G-H', 'G-A', 'BP-H', 'BP-A', 'GA-H', 'GA-A',\n",
    "                                    'SoG-H', 'SoG-A',  'xPTS', 'A_xPTS', 'Date', 'xg_halftime', 'Axg_halftime', \"A_Red Cards\", \"H_Red Cards\"]]\n",
    "\n",
    "    # calc the xg per minute over all games to get the mean over all minutes from all games!\n",
    "\n",
    "    values = st.sidebar.slider(\n",
    "        'BP-Range for xG per minute',\n",
    "        0.0, 100.0, (0.0, 100.0))\n",
    "\n",
    "    smaller_bp = values[1]\n",
    "    bigger_bp = values[0]\n",
    "    dfxg_homexg_complete_game = pd.DataFrame(df4Complete[(df4Complete[\"BP-H\"]>bigger_bp) & (df4Complete[\"BP-H\"]<smaller_bp)].homexg_complete_game.tolist(), index= df4Complete[(df4Complete[\"BP-H\"]>bigger_bp) & (df4Complete[\"BP-H\"]<smaller_bp)].index)\n",
    "    dfxg_awayxg_complete_game = pd.DataFrame(df4Complete[(df4Complete[\"BP-H\"]>bigger_bp) & (df4Complete[\"BP-H\"]<smaller_bp)].awayxg_complete_game.tolist(), index= df4Complete[(df4Complete[\"BP-H\"]>bigger_bp) & (df4Complete[\"BP-H\"]<smaller_bp)].index)\n",
    "    dfxg_homexg_complete_game = dfxg_homexg_complete_game.apply(pd.to_numeric)\n",
    "    dfxg_awayxg_complete_game = dfxg_awayxg_complete_game.apply(pd.to_numeric)\n",
    "    dfxg_homexg_complete_game = dfxg_homexg_complete_game.fillna(0)\n",
    "    dfxg_awayxg_complete_game = dfxg_awayxg_complete_game.fillna(0)\n",
    "    dfxg_homexg_complete_game = dfxg_homexg_complete_game.diff(axis=1)\n",
    "    dfxg_awayxg_complete_game = dfxg_awayxg_complete_game.diff(axis=1)\n",
    "    dfxg_homexg_complete_game.mean().min()\n",
    "    dfxg_homexg_complete_game_all_bps = pd.DataFrame(df4Complete.homexg_complete_game.tolist(), index= df4Complete.index)\n",
    "    dfxg_awayxg_complete_game_all_bps = pd.DataFrame(df4Complete.awayxg_complete_game.tolist(), index= df4Complete.index)\n",
    "    dfxg_homexg_complete_game_all_bps = dfxg_homexg_complete_game_all_bps.apply(pd.to_numeric)\n",
    "    dfxg_awayxg_complete_game_all_bps = dfxg_awayxg_complete_game_all_bps.apply(pd.to_numeric)\n",
    "    dfxg_homexg_complete_game_all_bps = dfxg_homexg_complete_game_all_bps.fillna(0)\n",
    "    dfxg_awayxg_complete_game_all_bps = dfxg_awayxg_complete_game_all_bps.fillna(0)\n",
    "    dfxg_homexg_complete_game_all_bps = dfxg_homexg_complete_game_all_bps.diff(axis=1)\n",
    "    dfxg_awayxg_complete_game_all_bps = dfxg_awayxg_complete_game_all_bps.diff(axis=1)\n",
    "    pd.set_option('display.max_columns', None)\n",
    "    pd.set_option('display.max_rows', 6)\n",
    "    # delete games where there is no two halftimes!\n",
    "    df4Complete = df4Complete[df4Complete.groupby(\n",
    "        'Opponent')['Opponent'].transform('size') >= 2]\n",
    "    df4Complete = df4Complete.sort_index()\n",
    "    # second half is second entry always!\n",
    "    df4Complete[\"halftime\"] = \"0\"\n",
    "    df4Complete['halftime'] = np.where(df4Complete.index % 2, '1', '2')\n",
    "\n",
    "\n",
    "    naming1x2 = {\"W\": \"Win\", \"D\": \"Draw\", \"L\": \"Loss\"}\n",
    "    df4Complete['Halftime result'] = df4Complete['1x2'].replace(\n",
    "        naming1x2)\n",
    "    df4CompleteGraph = df4Complete.copy()\n",
    "\n",
    "    print(df4CompleteGraph.columns)\n",
    "    print(df4CompleteGraph[[\"xG\",\"A_xG\", \"xg_halftime\", \"Axg_halftime\",\"halftime\",\"Opponent\",'Halftime result',\"timestamp\"]])\n",
    "\n",
    "    df4CompleteGraph.xg_halftime = df4CompleteGraph.xg_halftime.astype(float).fillna(0.0)\n",
    "    df4CompleteGraph.Axg_halftime = df4CompleteGraph.Axg_halftime.astype(float).fillna(0.0) \n",
    "\n",
    "    # all xg values for both halftimes!\n",
    "    df4CompleteGraph[\"xG-A_xG\"] = df4CompleteGraph[\"xG\"] - df4CompleteGraph[\"A_xG\"]\n",
    "    df4CompleteGraph[\"A_xG-xG\"] = df4CompleteGraph[\"A_xG\"] - df4CompleteGraph[\"xG\"]\n",
    "    # all values for first half\n",
    "    df4CompleteGraph[\"xg_halftime-Axg_halftime\"] = df4CompleteGraph[\"xg_halftime\"] - df4CompleteGraph[\"Axg_halftime\"]\n",
    "    df4CompleteGraph[\"Axg_halftime-xg_halftime\"] = df4CompleteGraph[\"Axg_halftime\"] - df4CompleteGraph[\"xg_halftime\"]\n",
    "    # all values for second half\n",
    "    df4CompleteGraph[\"xg_halftime2-Axg_halftime2\"] = df4CompleteGraph[\"xG-A_xG\"] - df4CompleteGraph[\"xg_halftime-Axg_halftime\"]\n",
    "    df4CompleteGraph[\"Axg_halftime2-xg_halftime2\"] = df4CompleteGraph[\"xg_halftime-Axg_halftime\"] - df4CompleteGraph[\"xG-A_xG\"]\n",
    "    df_analyse_all_teams = df4CompleteGraph[['Home', 'Opponent', 'R', 'G-H', 'G-A', 'BP-H', 'BP-A', 'GA-H', 'GA-A',\n",
    "        'SoG-H', 'SoG-A', 'SoffG-H', 'SoffG-A', 'FK-H', 'H_Red Cards',\n",
    "        'A_Red Cards', 'FK-A', 'C-H', 'C-A', 'Off-H', 'Off-A', 'GoKeSa-H',\n",
    "        'GoKeSa-A', 'F-H', 'F-A',\n",
    "        'GoalDiff',\n",
    "        'BPTypes', 'halftime', 'Halftime result', 'xg_halftime-Axg_halftime',\n",
    "        'xg_halftime2-Axg_halftime2' ]].copy()\n",
    "    df_analyse_all_teams[\"halftime_xg-Axg\"] = np.where(df_analyse_all_teams['halftime'] == '1', df_analyse_all_teams['xg_halftime-Axg_halftime'], df_analyse_all_teams['xg_halftime2-Axg_halftime2'])\n",
    "    df_analyse_all_teams = df_analyse_all_teams[['Home', 'Opponent', 'R', 'G-H', 'G-A', 'BP-H', 'BP-A', 'GA-H', 'GA-A',\n",
    "        'SoG-H', 'SoG-A', 'SoffG-H', 'SoffG-A', 'FK-H', 'H_Red Cards',\n",
    "        'A_Red Cards', 'FK-A', 'C-H', 'C-A', 'Off-H', 'Off-A', 'GoKeSa-H',\n",
    "        'GoKeSa-A', 'F-H', 'F-A',\n",
    "        'GoalDiff',\n",
    "        'BPTypes', 'halftime', 'Halftime result', 'halftime_xg-Axg' ]]\n",
    "    df_analyse_all_teams\n",
    "    # how often team plays which bp style?\n",
    "    value = df_analyse_all_teams[\"BPTypes\"].value_counts()[\"45-55\"]\n",
    "    df_team_agg_playstyle = pd.DataFrame([value], columns=[\"count_45-55\"])\n",
    "    \n",
    "    try: \n",
    "        df_team_agg_playstyle[\"count_<45\"] = df_analyse_all_teams[\"BPTypes\"].value_counts()[\"<45\"]\n",
    "    except:\n",
    "        df_team_agg_playstyle[\"count_<45\"] = 0\n",
    "\n",
    "    try: \n",
    "        df_team_agg_playstyle[\"count_>55\"] = df_analyse_all_teams[\"BPTypes\"].value_counts()[\">55\"]\n",
    "    except:\n",
    "        df_team_agg_playstyle[\"count_>55\"] = 0\n",
    "\n",
    "    try: \n",
    "        df_team_agg_playstyle[\"Wins_45-55\"] = df_analyse_all_teams[df_analyse_all_teams[\"BPTypes\"]==\"45-55\"][\"Halftime result\"].value_counts()[\"Win\"]\n",
    "    except:\n",
    "        df_team_agg_playstyle[\"Wins_45-55\"] = 0\n",
    "\n",
    "    try: \n",
    "        df_team_agg_playstyle[\"Wins_<45\"] = df_analyse_all_teams[df_analyse_all_teams[\"BPTypes\"]==\"<45\"][\"Halftime result\"].value_counts()[\"Win\"]\n",
    "    except:\n",
    "        df_team_agg_playstyle[\"Wins_<45\"] = 0\n",
    "\n",
    "    try: \n",
    "        df_team_agg_playstyle[\"Wins_>55\"] = df_analyse_all_teams[df_analyse_all_teams[\"BPTypes\"]==\">55\"][\"Halftime result\"].value_counts()[\"Win\"]\n",
    "    except:\n",
    "        df_team_agg_playstyle[\"Wins_>55\"] = 0\n",
    "    \n",
    "    try: \n",
    "        df_team_agg_playstyle[\"45-55_halftime_xg\"] = df_analyse_all_teams[ (df_analyse_all_teams[\"BPTypes\"]==\"45-55\")][\"halftime_xg-Axg\"].median()\n",
    "    except:\n",
    "        df_team_agg_playstyle[\"45-55_halftime_xg\"] = 0\n",
    "        \n",
    "    try: \n",
    "        df_team_agg_playstyle[\">55_halftime_xg\"] = df_analyse_all_teams[ (df_analyse_all_teams[\"BPTypes\"]==\">55\")][\"halftime_xg-Axg\"].median()\n",
    "    except:\n",
    "        df_team_agg_playstyle[\">55_halftime_xg\"] = 0\n",
    "    \n",
    "    try: \n",
    "        df_team_agg_playstyle[\"<45_halftime_xg\"] = df_analyse_all_teams[ (df_analyse_all_teams[\"BPTypes\"]==\"<45\")][\"halftime_xg-Axg\"].median()\n",
    "    except:\n",
    "        df_team_agg_playstyle[\"<45_halftime_xg\"] = 0\n",
    "    \n",
    "    \n",
    "    df_team_agg_playstyle[\"Team\"] = df_analyse_all_teams[\"Home\"][0]\n",
    "\n",
    "    df_team_agg_playstyle_list.append(df_team_agg_playstyle)\n",
    "    \n",
    "\n"
   ]
  },
  {
   "cell_type": "code",
   "execution_count": null,
   "metadata": {},
   "outputs": [],
   "source": [
    "df_team_agg_playstyle_all = pd.concat(df_team_agg_playstyle_list)\n",
    "df_team_agg_playstyle_all = df_team_agg_playstyle_all.fillna(0)"
   ]
  },
  {
   "cell_type": "code",
   "execution_count": null,
   "metadata": {},
   "outputs": [
    {
     "data": {
      "text/plain": [
       "Index(['count_45-55', 'count_<45', 'count_>55', 'Wins_45-55', 'Wins_<45',\n",
       "       'Wins_>55', 'Wins_45-55_halftime_xg', 'Wins_>55_halftime_xg',\n",
       "       'Wins_<45_halftime_xg', 'Team'],\n",
       "      dtype='object')"
      ]
     },
     "execution_count": 259,
     "metadata": {},
     "output_type": "execute_result"
    }
   ],
   "source": [
    "df_team_agg_playstyle_all.columns"
   ]
  },
  {
   "cell_type": "code",
   "execution_count": null,
   "metadata": {},
   "outputs": [
    {
     "data": {
      "image/png": "[encoded data removed]",
      "text/plain": [
       "<Figure size 432x288 with 1 Axes>"
      ]
     },
     "metadata": {
      "needs_background": "light"
     },
     "output_type": "display_data"
    }
   ],
   "source": [
    "#Elbow-Method um das beste \"K\" zu finden \n",
    "\n",
    "import pandas as pd\n",
    "from sklearn.cluster import KMeans\n",
    "import matplotlib.pyplot as plt\n",
    "\n",
    "data = df_team_agg_playstyle_all[['count_45-55', 'count_<45', 'count_>55', 'Wins_45-55', 'Wins_<45',\n",
    "       'Wins_>55', '45-55_halftime_xg', '>55_halftime_xg',\n",
    "       '<45_halftime_xg']]\n",
    "\n",
    "sse = {}\n",
    "for k in range(1, 10):\n",
    "    kmeans = KMeans(n_clusters=k, max_iter=1000).fit(data)\n",
    "    data[\"clusters\"] = kmeans.labels_\n",
    "    #print(data[\"clusters\"])\n",
    "    sse[k] = kmeans.inertia_ # Inertia: Sum of distances of samples to their closest cluster center\n",
    "plt.figure()\n",
    "plt.plot(list(sse.keys()), list(sse.values()))\n",
    "plt.xlabel(\"Number of cluster\")\n",
    "plt.ylabel(\"SSE\")\n",
    "plt.show()"
   ]
  },
  {
   "cell_type": "code",
   "execution_count": null,
   "metadata": {},
   "outputs": [
    {
     "data": {
      "text/plain": [
       "KMeans(n_clusters=3)"
      ]
     },
     "execution_count": 261,
     "metadata": {},
     "output_type": "execute_result"
    }
   ],
   "source": [
    "#KMeans Algorithmus via sklearn einbinden und ausführen\n",
    "from sklearn.cluster import KMeans\n",
    "km = KMeans(n_clusters=3, init='k-means++', n_init=10)\n",
    "km.fit(data)"
   ]
  },
  {
   "cell_type": "code",
   "execution_count": null,
   "metadata": {},
   "outputs": [
    {
     "data": {
      "text/plain": [
       "array([0, 2, 0, 1, 1, 0, 2, 0, 1, 1, 2, 0, 0, 2, 0, 1, 1, 2, 1, 1])"
      ]
     },
     "execution_count": 262,
     "metadata": {},
     "output_type": "execute_result"
    }
   ],
   "source": [
    "labels = km.predict(data)\n",
    "x = km.fit_predict(data)\n",
    "x"
   ]
  },
  {
   "cell_type": "code",
   "execution_count": null,
   "metadata": {},
   "outputs": [
    {
     "data": {
      "text/html": [
       "<div>\n",
       "<style scoped>\n",
       "    .dataframe tbody tr th:only-of-type {\n",
       "        vertical-align: middle;\n",
       "    }\n",
       "\n",
       "    .dataframe tbody tr th {\n",
       "        vertical-align: top;\n",
       "    }\n",
       "\n",
       "    .dataframe thead th {\n",
       "        text-align: right;\n",
       "    }\n",
       "</style>\n",
       "<table border=\"1\" class=\"dataframe\">\n",
       "  <thead>\n",
       "    <tr style=\"text-align: right;\">\n",
       "      <th></th>\n",
       "      <th>count_45-55</th>\n",
       "      <th>count_&lt;45</th>\n",
       "      <th>count_&gt;55</th>\n",
       "      <th>Wins_45-55</th>\n",
       "      <th>Wins_&lt;45</th>\n",
       "      <th>Wins_&gt;55</th>\n",
       "      <th>Wins_45-55_halftime_xg</th>\n",
       "      <th>Wins_&gt;55_halftime_xg</th>\n",
       "      <th>Wins_&lt;45_halftime_xg</th>\n",
       "      <th>Team</th>\n",
       "      <th>Cluster</th>\n",
       "    </tr>\n",
       "  </thead>\n",
       "  <tbody>\n",
       "    <tr>\n",
       "      <th>0</th>\n",
       "      <td>31</td>\n",
       "      <td>23</td>\n",
       "      <td>22</td>\n",
       "      <td>14</td>\n",
       "      <td>7</td>\n",
       "      <td>6</td>\n",
       "      <td>0.300</td>\n",
       "      <td>0.500</td>\n",
       "      <td>0.500</td>\n",
       "      <td>Verona</td>\n",
       "      <td>0</td>\n",
       "    </tr>\n",
       "    <tr>\n",
       "      <th>0</th>\n",
       "      <td>22</td>\n",
       "      <td>11</td>\n",
       "      <td>43</td>\n",
       "      <td>8</td>\n",
       "      <td>5</td>\n",
       "      <td>29</td>\n",
       "      <td>0.750</td>\n",
       "      <td>1.200</td>\n",
       "      <td>0.700</td>\n",
       "      <td>Inter</td>\n",
       "      <td>2</td>\n",
       "    </tr>\n",
       "    <tr>\n",
       "      <th>0</th>\n",
       "      <td>30</td>\n",
       "      <td>15</td>\n",
       "      <td>31</td>\n",
       "      <td>9</td>\n",
       "      <td>1</td>\n",
       "      <td>11</td>\n",
       "      <td>0.600</td>\n",
       "      <td>0.900</td>\n",
       "      <td>1.300</td>\n",
       "      <td>Torino</td>\n",
       "      <td>0</td>\n",
       "    </tr>\n",
       "    <tr>\n",
       "      <th>...</th>\n",
       "      <td>...</td>\n",
       "      <td>...</td>\n",
       "      <td>...</td>\n",
       "      <td>...</td>\n",
       "      <td>...</td>\n",
       "      <td>...</td>\n",
       "      <td>...</td>\n",
       "      <td>...</td>\n",
       "      <td>...</td>\n",
       "      <td>...</td>\n",
       "      <td>...</td>\n",
       "    </tr>\n",
       "    <tr>\n",
       "      <th>0</th>\n",
       "      <td>28</td>\n",
       "      <td>12</td>\n",
       "      <td>36</td>\n",
       "      <td>13</td>\n",
       "      <td>5</td>\n",
       "      <td>19</td>\n",
       "      <td>1.000</td>\n",
       "      <td>0.700</td>\n",
       "      <td>0.600</td>\n",
       "      <td>AC Milan</td>\n",
       "      <td>2</td>\n",
       "    </tr>\n",
       "    <tr>\n",
       "      <th>0</th>\n",
       "      <td>20</td>\n",
       "      <td>47</td>\n",
       "      <td>9</td>\n",
       "      <td>2</td>\n",
       "      <td>9</td>\n",
       "      <td>3</td>\n",
       "      <td>0.700</td>\n",
       "      <td>-0.100</td>\n",
       "      <td>0.100</td>\n",
       "      <td>Spezia</td>\n",
       "      <td>1</td>\n",
       "    </tr>\n",
       "    <tr>\n",
       "      <th>0</th>\n",
       "      <td>25</td>\n",
       "      <td>44</td>\n",
       "      <td>7</td>\n",
       "      <td>2</td>\n",
       "      <td>9</td>\n",
       "      <td>2</td>\n",
       "      <td>0.300</td>\n",
       "      <td>0.300</td>\n",
       "      <td>0.400</td>\n",
       "      <td>Venezia</td>\n",
       "      <td>1</td>\n",
       "    </tr>\n",
       "  </tbody>\n",
       "</table>\n",
       "<p>20 rows × 11 columns</p>\n",
       "</div>"
      ],
      "text/plain": [
       "    count_45-55  count_<45  count_>55  Wins_45-55  Wins_<45  Wins_>55  \\\n",
       "0            31         23         22          14         7         6   \n",
       "0            22         11         43           8         5        29   \n",
       "0            30         15         31           9         1        11   \n",
       "..          ...        ...        ...         ...       ...       ...   \n",
       "0            28         12         36          13         5        19   \n",
       "0            20         47          9           2         9         3   \n",
       "0            25         44          7           2         9         2   \n",
       "\n",
       "    Wins_45-55_halftime_xg  Wins_>55_halftime_xg  Wins_<45_halftime_xg  \\\n",
       "0                    0.300                 0.500                 0.500   \n",
       "0                    0.750                 1.200                 0.700   \n",
       "0                    0.600                 0.900                 1.300   \n",
       "..                     ...                   ...                   ...   \n",
       "0                    1.000                 0.700                 0.600   \n",
       "0                    0.700                -0.100                 0.100   \n",
       "0                    0.300                 0.300                 0.400   \n",
       "\n",
       "        Team  Cluster  \n",
       "0     Verona        0  \n",
       "0      Inter        2  \n",
       "0     Torino        0  \n",
       "..       ...      ...  \n",
       "0   AC Milan        2  \n",
       "0     Spezia        1  \n",
       "0    Venezia        1  \n",
       "\n",
       "[20 rows x 11 columns]"
      ]
     },
     "execution_count": 263,
     "metadata": {},
     "output_type": "execute_result"
    }
   ],
   "source": [
    "df_team_agg_playstyle_all[\"Cluster\"] = x\n",
    "df_team_agg_playstyle_all"
   ]
  },
  {
   "cell_type": "code",
   "execution_count": null,
   "metadata": {},
   "outputs": [
    {
     "data": {
      "text/html": [
       "<div>\n",
       "<style scoped>\n",
       "    .dataframe tbody tr th:only-of-type {\n",
       "        vertical-align: middle;\n",
       "    }\n",
       "\n",
       "    .dataframe tbody tr th {\n",
       "        vertical-align: top;\n",
       "    }\n",
       "\n",
       "    .dataframe thead th {\n",
       "        text-align: right;\n",
       "    }\n",
       "</style>\n",
       "<table border=\"1\" class=\"dataframe\">\n",
       "  <thead>\n",
       "    <tr style=\"text-align: right;\">\n",
       "      <th></th>\n",
       "      <th>count_45-55</th>\n",
       "      <th>count_&lt;45</th>\n",
       "      <th>count_&gt;55</th>\n",
       "      <th>Wins_45-55</th>\n",
       "      <th>Wins_&lt;45</th>\n",
       "      <th>Wins_&gt;55</th>\n",
       "      <th>Wins_45-55_halftime_xg</th>\n",
       "      <th>Wins_&gt;55_halftime_xg</th>\n",
       "      <th>Wins_&lt;45_halftime_xg</th>\n",
       "      <th>Team</th>\n",
       "      <th>Cluster</th>\n",
       "    </tr>\n",
       "  </thead>\n",
       "  <tbody>\n",
       "    <tr>\n",
       "      <th>0</th>\n",
       "      <td>31</td>\n",
       "      <td>23</td>\n",
       "      <td>22</td>\n",
       "      <td>14</td>\n",
       "      <td>7</td>\n",
       "      <td>6</td>\n",
       "      <td>0.300</td>\n",
       "      <td>0.500</td>\n",
       "      <td>0.500</td>\n",
       "      <td>Verona</td>\n",
       "      <td>0</td>\n",
       "    </tr>\n",
       "    <tr>\n",
       "      <th>0</th>\n",
       "      <td>30</td>\n",
       "      <td>15</td>\n",
       "      <td>31</td>\n",
       "      <td>9</td>\n",
       "      <td>1</td>\n",
       "      <td>11</td>\n",
       "      <td>0.600</td>\n",
       "      <td>0.900</td>\n",
       "      <td>1.300</td>\n",
       "      <td>Torino</td>\n",
       "      <td>0</td>\n",
       "    </tr>\n",
       "    <tr>\n",
       "      <th>0</th>\n",
       "      <td>25</td>\n",
       "      <td>23</td>\n",
       "      <td>28</td>\n",
       "      <td>6</td>\n",
       "      <td>7</td>\n",
       "      <td>2</td>\n",
       "      <td>0.850</td>\n",
       "      <td>0.250</td>\n",
       "      <td>0.200</td>\n",
       "      <td>Bologna</td>\n",
       "      <td>0</td>\n",
       "    </tr>\n",
       "    <tr>\n",
       "      <th>...</th>\n",
       "      <td>...</td>\n",
       "      <td>...</td>\n",
       "      <td>...</td>\n",
       "      <td>...</td>\n",
       "      <td>...</td>\n",
       "      <td>...</td>\n",
       "      <td>...</td>\n",
       "      <td>...</td>\n",
       "      <td>...</td>\n",
       "      <td>...</td>\n",
       "      <td>...</td>\n",
       "    </tr>\n",
       "    <tr>\n",
       "      <th>0</th>\n",
       "      <td>29</td>\n",
       "      <td>11</td>\n",
       "      <td>36</td>\n",
       "      <td>14</td>\n",
       "      <td>1</td>\n",
       "      <td>12</td>\n",
       "      <td>0.850</td>\n",
       "      <td>0.750</td>\n",
       "      <td>-0.500</td>\n",
       "      <td>Atalanta</td>\n",
       "      <td>0</td>\n",
       "    </tr>\n",
       "    <tr>\n",
       "      <th>0</th>\n",
       "      <td>35</td>\n",
       "      <td>15</td>\n",
       "      <td>26</td>\n",
       "      <td>13</td>\n",
       "      <td>8</td>\n",
       "      <td>16</td>\n",
       "      <td>0.400</td>\n",
       "      <td>0.700</td>\n",
       "      <td>0.450</td>\n",
       "      <td>Juventus</td>\n",
       "      <td>0</td>\n",
       "    </tr>\n",
       "    <tr>\n",
       "      <th>0</th>\n",
       "      <td>32</td>\n",
       "      <td>10</td>\n",
       "      <td>34</td>\n",
       "      <td>13</td>\n",
       "      <td>5</td>\n",
       "      <td>9</td>\n",
       "      <td>0.300</td>\n",
       "      <td>0.500</td>\n",
       "      <td>-0.100</td>\n",
       "      <td>Sassuolo</td>\n",
       "      <td>0</td>\n",
       "    </tr>\n",
       "  </tbody>\n",
       "</table>\n",
       "<p>7 rows × 11 columns</p>\n",
       "</div>"
      ],
      "text/plain": [
       "    count_45-55  count_<45  count_>55  Wins_45-55  Wins_<45  Wins_>55  \\\n",
       "0            31         23         22          14         7         6   \n",
       "0            30         15         31           9         1        11   \n",
       "0            25         23         28           6         7         2   \n",
       "..          ...        ...        ...         ...       ...       ...   \n",
       "0            29         11         36          14         1        12   \n",
       "0            35         15         26          13         8        16   \n",
       "0            32         10         34          13         5         9   \n",
       "\n",
       "    Wins_45-55_halftime_xg  Wins_>55_halftime_xg  Wins_<45_halftime_xg  \\\n",
       "0                    0.300                 0.500                 0.500   \n",
       "0                    0.600                 0.900                 1.300   \n",
       "0                    0.850                 0.250                 0.200   \n",
       "..                     ...                   ...                   ...   \n",
       "0                    0.850                 0.750                -0.500   \n",
       "0                    0.400                 0.700                 0.450   \n",
       "0                    0.300                 0.500                -0.100   \n",
       "\n",
       "        Team  Cluster  \n",
       "0     Verona        0  \n",
       "0     Torino        0  \n",
       "0    Bologna        0  \n",
       "..       ...      ...  \n",
       "0   Atalanta        0  \n",
       "0   Juventus        0  \n",
       "0   Sassuolo        0  \n",
       "\n",
       "[7 rows x 11 columns]"
      ]
     },
     "execution_count": 265,
     "metadata": {},
     "output_type": "execute_result"
    }
   ],
   "source": [
    "df_team_agg_playstyle_all[df_team_agg_playstyle_all[\"Cluster\"] == 0]"
   ]
  },
  {
   "cell_type": "code",
   "execution_count": null,
   "metadata": {},
   "outputs": [
    {
     "data": {
      "text/html": [
       "<div>\n",
       "<style scoped>\n",
       "    .dataframe tbody tr th:only-of-type {\n",
       "        vertical-align: middle;\n",
       "    }\n",
       "\n",
       "    .dataframe tbody tr th {\n",
       "        vertical-align: top;\n",
       "    }\n",
       "\n",
       "    .dataframe thead th {\n",
       "        text-align: right;\n",
       "    }\n",
       "</style>\n",
       "<table border=\"1\" class=\"dataframe\">\n",
       "  <thead>\n",
       "    <tr style=\"text-align: right;\">\n",
       "      <th></th>\n",
       "      <th>count_45-55</th>\n",
       "      <th>count_&lt;45</th>\n",
       "      <th>count_&gt;55</th>\n",
       "      <th>Wins_45-55</th>\n",
       "      <th>Wins_&lt;45</th>\n",
       "      <th>Wins_&gt;55</th>\n",
       "      <th>Wins_45-55_halftime_xg</th>\n",
       "      <th>Wins_&gt;55_halftime_xg</th>\n",
       "      <th>Wins_&lt;45_halftime_xg</th>\n",
       "      <th>Team</th>\n",
       "      <th>Cluster</th>\n",
       "    </tr>\n",
       "  </thead>\n",
       "  <tbody>\n",
       "    <tr>\n",
       "      <th>0</th>\n",
       "      <td>29</td>\n",
       "      <td>32</td>\n",
       "      <td>15</td>\n",
       "      <td>11</td>\n",
       "      <td>6</td>\n",
       "      <td>3</td>\n",
       "      <td>0.300</td>\n",
       "      <td>0.300</td>\n",
       "      <td>-0.450</td>\n",
       "      <td>Empoli</td>\n",
       "      <td>1</td>\n",
       "    </tr>\n",
       "    <tr>\n",
       "      <th>0</th>\n",
       "      <td>25</td>\n",
       "      <td>46</td>\n",
       "      <td>5</td>\n",
       "      <td>10</td>\n",
       "      <td>18</td>\n",
       "      <td>0</td>\n",
       "      <td>0.600</td>\n",
       "      <td>0.000</td>\n",
       "      <td>0.350</td>\n",
       "      <td>Udinese</td>\n",
       "      <td>1</td>\n",
       "    </tr>\n",
       "    <tr>\n",
       "      <th>0</th>\n",
       "      <td>21</td>\n",
       "      <td>42</td>\n",
       "      <td>13</td>\n",
       "      <td>4</td>\n",
       "      <td>6</td>\n",
       "      <td>4</td>\n",
       "      <td>0.450</td>\n",
       "      <td>0.650</td>\n",
       "      <td>-0.150</td>\n",
       "      <td>Cagliari</td>\n",
       "      <td>1</td>\n",
       "    </tr>\n",
       "    <tr>\n",
       "      <th>...</th>\n",
       "      <td>...</td>\n",
       "      <td>...</td>\n",
       "      <td>...</td>\n",
       "      <td>...</td>\n",
       "      <td>...</td>\n",
       "      <td>...</td>\n",
       "      <td>...</td>\n",
       "      <td>...</td>\n",
       "      <td>...</td>\n",
       "      <td>...</td>\n",
       "      <td>...</td>\n",
       "    </tr>\n",
       "    <tr>\n",
       "      <th>0</th>\n",
       "      <td>20</td>\n",
       "      <td>46</td>\n",
       "      <td>10</td>\n",
       "      <td>2</td>\n",
       "      <td>8</td>\n",
       "      <td>5</td>\n",
       "      <td>0.100</td>\n",
       "      <td>0.800</td>\n",
       "      <td>0.500</td>\n",
       "      <td>Salernitana</td>\n",
       "      <td>1</td>\n",
       "    </tr>\n",
       "    <tr>\n",
       "      <th>0</th>\n",
       "      <td>20</td>\n",
       "      <td>47</td>\n",
       "      <td>9</td>\n",
       "      <td>2</td>\n",
       "      <td>9</td>\n",
       "      <td>3</td>\n",
       "      <td>0.700</td>\n",
       "      <td>-0.100</td>\n",
       "      <td>0.100</td>\n",
       "      <td>Spezia</td>\n",
       "      <td>1</td>\n",
       "    </tr>\n",
       "    <tr>\n",
       "      <th>0</th>\n",
       "      <td>25</td>\n",
       "      <td>44</td>\n",
       "      <td>7</td>\n",
       "      <td>2</td>\n",
       "      <td>9</td>\n",
       "      <td>2</td>\n",
       "      <td>0.300</td>\n",
       "      <td>0.300</td>\n",
       "      <td>0.400</td>\n",
       "      <td>Venezia</td>\n",
       "      <td>1</td>\n",
       "    </tr>\n",
       "  </tbody>\n",
       "</table>\n",
       "<p>8 rows × 11 columns</p>\n",
       "</div>"
      ],
      "text/plain": [
       "    count_45-55  count_<45  count_>55  Wins_45-55  Wins_<45  Wins_>55  \\\n",
       "0            29         32         15          11         6         3   \n",
       "0            25         46          5          10        18         0   \n",
       "0            21         42         13           4         6         4   \n",
       "..          ...        ...        ...         ...       ...       ...   \n",
       "0            20         46         10           2         8         5   \n",
       "0            20         47          9           2         9         3   \n",
       "0            25         44          7           2         9         2   \n",
       "\n",
       "    Wins_45-55_halftime_xg  Wins_>55_halftime_xg  Wins_<45_halftime_xg  \\\n",
       "0                    0.300                 0.300                -0.450   \n",
       "0                    0.600                 0.000                 0.350   \n",
       "0                    0.450                 0.650                -0.150   \n",
       "..                     ...                   ...                   ...   \n",
       "0                    0.100                 0.800                 0.500   \n",
       "0                    0.700                -0.100                 0.100   \n",
       "0                    0.300                 0.300                 0.400   \n",
       "\n",
       "           Team  Cluster  \n",
       "0        Empoli        1  \n",
       "0       Udinese        1  \n",
       "0      Cagliari        1  \n",
       "..          ...      ...  \n",
       "0   Salernitana        1  \n",
       "0        Spezia        1  \n",
       "0       Venezia        1  \n",
       "\n",
       "[8 rows x 11 columns]"
      ]
     },
     "execution_count": 266,
     "metadata": {},
     "output_type": "execute_result"
    }
   ],
   "source": [
    "df_team_agg_playstyle_all[df_team_agg_playstyle_all[\"Cluster\"] == 1]"
   ]
  },
  {
   "cell_type": "code",
   "execution_count": null,
   "metadata": {},
   "outputs": [
    {
     "data": {
      "text/html": [
       "<div>\n",
       "<style scoped>\n",
       "    .dataframe tbody tr th:only-of-type {\n",
       "        vertical-align: middle;\n",
       "    }\n",
       "\n",
       "    .dataframe tbody tr th {\n",
       "        vertical-align: top;\n",
       "    }\n",
       "\n",
       "    .dataframe thead th {\n",
       "        text-align: right;\n",
       "    }\n",
       "</style>\n",
       "<table border=\"1\" class=\"dataframe\">\n",
       "  <thead>\n",
       "    <tr style=\"text-align: right;\">\n",
       "      <th></th>\n",
       "      <th>count_45-55</th>\n",
       "      <th>count_&lt;45</th>\n",
       "      <th>count_&gt;55</th>\n",
       "      <th>Wins_45-55</th>\n",
       "      <th>Wins_&lt;45</th>\n",
       "      <th>Wins_&gt;55</th>\n",
       "      <th>Wins_45-55_halftime_xg</th>\n",
       "      <th>Wins_&gt;55_halftime_xg</th>\n",
       "      <th>Wins_&lt;45_halftime_xg</th>\n",
       "      <th>Team</th>\n",
       "      <th>Cluster</th>\n",
       "    </tr>\n",
       "  </thead>\n",
       "  <tbody>\n",
       "    <tr>\n",
       "      <th>0</th>\n",
       "      <td>22</td>\n",
       "      <td>11</td>\n",
       "      <td>43</td>\n",
       "      <td>8</td>\n",
       "      <td>5</td>\n",
       "      <td>29</td>\n",
       "      <td>0.750</td>\n",
       "      <td>1.200</td>\n",
       "      <td>0.700</td>\n",
       "      <td>Inter</td>\n",
       "      <td>2</td>\n",
       "    </tr>\n",
       "    <tr>\n",
       "      <th>0</th>\n",
       "      <td>20</td>\n",
       "      <td>9</td>\n",
       "      <td>47</td>\n",
       "      <td>10</td>\n",
       "      <td>3</td>\n",
       "      <td>24</td>\n",
       "      <td>0.600</td>\n",
       "      <td>0.750</td>\n",
       "      <td>0.500</td>\n",
       "      <td>Napoli</td>\n",
       "      <td>2</td>\n",
       "    </tr>\n",
       "    <tr>\n",
       "      <th>0</th>\n",
       "      <td>26</td>\n",
       "      <td>10</td>\n",
       "      <td>40</td>\n",
       "      <td>10</td>\n",
       "      <td>2</td>\n",
       "      <td>20</td>\n",
       "      <td>0.950</td>\n",
       "      <td>0.650</td>\n",
       "      <td>0.150</td>\n",
       "      <td>Lazio</td>\n",
       "      <td>2</td>\n",
       "    </tr>\n",
       "    <tr>\n",
       "      <th>0</th>\n",
       "      <td>29</td>\n",
       "      <td>4</td>\n",
       "      <td>43</td>\n",
       "      <td>7</td>\n",
       "      <td>2</td>\n",
       "      <td>18</td>\n",
       "      <td>0.800</td>\n",
       "      <td>1.100</td>\n",
       "      <td>0.600</td>\n",
       "      <td>Fiorentina</td>\n",
       "      <td>2</td>\n",
       "    </tr>\n",
       "    <tr>\n",
       "      <th>0</th>\n",
       "      <td>28</td>\n",
       "      <td>12</td>\n",
       "      <td>36</td>\n",
       "      <td>13</td>\n",
       "      <td>5</td>\n",
       "      <td>19</td>\n",
       "      <td>1.000</td>\n",
       "      <td>0.700</td>\n",
       "      <td>0.600</td>\n",
       "      <td>AC Milan</td>\n",
       "      <td>2</td>\n",
       "    </tr>\n",
       "  </tbody>\n",
       "</table>\n",
       "</div>"
      ],
      "text/plain": [
       "   count_45-55  count_<45  count_>55  Wins_45-55  Wins_<45  Wins_>55  \\\n",
       "0           22         11         43           8         5        29   \n",
       "0           20          9         47          10         3        24   \n",
       "0           26         10         40          10         2        20   \n",
       "0           29          4         43           7         2        18   \n",
       "0           28         12         36          13         5        19   \n",
       "\n",
       "   Wins_45-55_halftime_xg  Wins_>55_halftime_xg  Wins_<45_halftime_xg  \\\n",
       "0                   0.750                 1.200                 0.700   \n",
       "0                   0.600                 0.750                 0.500   \n",
       "0                   0.950                 0.650                 0.150   \n",
       "0                   0.800                 1.100                 0.600   \n",
       "0                   1.000                 0.700                 0.600   \n",
       "\n",
       "         Team  Cluster  \n",
       "0       Inter        2  \n",
       "0      Napoli        2  \n",
       "0       Lazio        2  \n",
       "0  Fiorentina        2  \n",
       "0    AC Milan        2  "
      ]
     },
     "execution_count": 267,
     "metadata": {},
     "output_type": "execute_result"
    }
   ],
   "source": [
    "df_team_agg_playstyle_all[df_team_agg_playstyle_all[\"Cluster\"] == 2]"
   ]
  },
  {
   "cell_type": "code",
   "execution_count": null,
   "metadata": {},
   "outputs": [],
   "source": []
  },
  {
   "cell_type": "code",
   "execution_count": null,
   "metadata": {},
   "outputs": [],
   "source": []
  },
  {
   "cell_type": "code",
   "execution_count": null,
   "metadata": {},
   "outputs": [],
   "source": []
  },
  {
   "cell_type": "code",
   "execution_count": null,
   "metadata": {},
   "outputs": [],
   "source": []
  },
  {
   "cell_type": "code",
   "execution_count": null,
   "metadata": {},
   "outputs": [],
   "source": []
  },
  {
   "cell_type": "code",
   "execution_count": null,
   "metadata": {},
   "outputs": [],
   "source": []
  },
  {
   "cell_type": "code",
   "execution_count": null,
   "metadata": {},
   "outputs": [],
   "source": []
  },
  {
   "cell_type": "code",
   "execution_count": null,
   "metadata": {},
   "outputs": [],
   "source": []
  },
  {
   "cell_type": "code",
   "execution_count": 136,
   "metadata": {},
   "outputs": [
    {
     "data": {
      "text/plain": [
       "0      NaN\n",
       "1    0.000\n",
       "2    0.000\n",
       "      ... \n",
       "94   0.000\n",
       "95   0.000\n",
       "96   0.000\n",
       "Name: 4, Length: 97, dtype: float64"
      ]
     },
     "execution_count": 136,
     "metadata": {},
     "output_type": "execute_result"
    }
   ],
   "source": [
    "# mach df draus und fill null werte \n",
    "# haben ausreiser weil nur 1-2 spiele 86 min haben und\n",
    "# wenn diese dann n tor haben verfälscht mean alles!\n",
    "dfxg_awayxg_complete_game_all_bps.loc[4]"
   ]
  },
  {
   "cell_type": "code",
   "execution_count": 137,
   "metadata": {},
   "outputs": [
    {
     "data": {
      "text/html": [
       "<div>\n",
       "<style scoped>\n",
       "    .dataframe tbody tr th:only-of-type {\n",
       "        vertical-align: middle;\n",
       "    }\n",
       "\n",
       "    .dataframe tbody tr th {\n",
       "        vertical-align: top;\n",
       "    }\n",
       "\n",
       "    .dataframe thead th {\n",
       "        text-align: right;\n",
       "    }\n",
       "</style>\n",
       "<table border=\"1\" class=\"dataframe\">\n",
       "  <thead>\n",
       "    <tr style=\"text-align: right;\">\n",
       "      <th></th>\n",
       "      <th>0</th>\n",
       "      <th>1</th>\n",
       "      <th>2</th>\n",
       "      <th>3</th>\n",
       "      <th>4</th>\n",
       "      <th>5</th>\n",
       "      <th>6</th>\n",
       "      <th>7</th>\n",
       "      <th>8</th>\n",
       "      <th>9</th>\n",
       "      <th>10</th>\n",
       "      <th>11</th>\n",
       "      <th>12</th>\n",
       "      <th>13</th>\n",
       "      <th>14</th>\n",
       "      <th>15</th>\n",
       "      <th>16</th>\n",
       "      <th>17</th>\n",
       "      <th>18</th>\n",
       "      <th>19</th>\n",
       "      <th>20</th>\n",
       "      <th>21</th>\n",
       "      <th>22</th>\n",
       "      <th>23</th>\n",
       "      <th>24</th>\n",
       "      <th>25</th>\n",
       "      <th>26</th>\n",
       "      <th>27</th>\n",
       "      <th>28</th>\n",
       "      <th>29</th>\n",
       "      <th>30</th>\n",
       "      <th>31</th>\n",
       "      <th>32</th>\n",
       "      <th>33</th>\n",
       "      <th>34</th>\n",
       "      <th>35</th>\n",
       "      <th>36</th>\n",
       "      <th>37</th>\n",
       "      <th>38</th>\n",
       "      <th>39</th>\n",
       "      <th>40</th>\n",
       "      <th>41</th>\n",
       "      <th>42</th>\n",
       "      <th>43</th>\n",
       "      <th>44</th>\n",
       "      <th>45</th>\n",
       "      <th>46</th>\n",
       "      <th>47</th>\n",
       "      <th>48</th>\n",
       "      <th>49</th>\n",
       "      <th>50</th>\n",
       "      <th>51</th>\n",
       "      <th>52</th>\n",
       "      <th>53</th>\n",
       "      <th>54</th>\n",
       "      <th>55</th>\n",
       "      <th>56</th>\n",
       "      <th>57</th>\n",
       "      <th>58</th>\n",
       "      <th>59</th>\n",
       "      <th>60</th>\n",
       "      <th>61</th>\n",
       "      <th>62</th>\n",
       "      <th>63</th>\n",
       "      <th>64</th>\n",
       "      <th>65</th>\n",
       "      <th>66</th>\n",
       "      <th>67</th>\n",
       "      <th>68</th>\n",
       "      <th>69</th>\n",
       "      <th>70</th>\n",
       "      <th>71</th>\n",
       "      <th>72</th>\n",
       "      <th>73</th>\n",
       "      <th>74</th>\n",
       "      <th>75</th>\n",
       "      <th>76</th>\n",
       "      <th>77</th>\n",
       "      <th>78</th>\n",
       "      <th>79</th>\n",
       "      <th>80</th>\n",
       "      <th>81</th>\n",
       "      <th>82</th>\n",
       "      <th>83</th>\n",
       "      <th>84</th>\n",
       "      <th>85</th>\n",
       "      <th>86</th>\n",
       "      <th>87</th>\n",
       "      <th>88</th>\n",
       "      <th>89</th>\n",
       "      <th>90</th>\n",
       "      <th>91</th>\n",
       "      <th>92</th>\n",
       "      <th>93</th>\n",
       "      <th>94</th>\n",
       "      <th>95</th>\n",
       "      <th>96</th>\n",
       "    </tr>\n",
       "  </thead>\n",
       "  <tbody>\n",
       "    <tr>\n",
       "      <th>75</th>\n",
       "      <td>NaN</td>\n",
       "      <td>0.000</td>\n",
       "      <td>0.000</td>\n",
       "      <td>0.000</td>\n",
       "      <td>0.000</td>\n",
       "      <td>0.000</td>\n",
       "      <td>0.000</td>\n",
       "      <td>0.130</td>\n",
       "      <td>0.000</td>\n",
       "      <td>0.070</td>\n",
       "      <td>0.000</td>\n",
       "      <td>0.000</td>\n",
       "      <td>0.000</td>\n",
       "      <td>0.000</td>\n",
       "      <td>0.000</td>\n",
       "      <td>0.110</td>\n",
       "      <td>0.000</td>\n",
       "      <td>0.000</td>\n",
       "      <td>0.000</td>\n",
       "      <td>0.020</td>\n",
       "      <td>0.000</td>\n",
       "      <td>0.000</td>\n",
       "      <td>0.000</td>\n",
       "      <td>0.000</td>\n",
       "      <td>0.000</td>\n",
       "      <td>0.000</td>\n",
       "      <td>0.000</td>\n",
       "      <td>0.000</td>\n",
       "      <td>0.380</td>\n",
       "      <td>0.000</td>\n",
       "      <td>0.000</td>\n",
       "      <td>0.000</td>\n",
       "      <td>0.000</td>\n",
       "      <td>0.000</td>\n",
       "      <td>0.000</td>\n",
       "      <td>0.000</td>\n",
       "      <td>0.000</td>\n",
       "      <td>0.070</td>\n",
       "      <td>0.000</td>\n",
       "      <td>0.000</td>\n",
       "      <td>0.000</td>\n",
       "      <td>0.000</td>\n",
       "      <td>0.000</td>\n",
       "      <td>0.000</td>\n",
       "      <td>0.000</td>\n",
       "      <td>0.050</td>\n",
       "      <td>0.000</td>\n",
       "      <td>0.000</td>\n",
       "      <td>0.000</td>\n",
       "      <td>0.000</td>\n",
       "      <td>0.000</td>\n",
       "      <td>0.000</td>\n",
       "      <td>0.000</td>\n",
       "      <td>0.020</td>\n",
       "      <td>0.000</td>\n",
       "      <td>0.390</td>\n",
       "      <td>0.000</td>\n",
       "      <td>1.130</td>\n",
       "      <td>0.000</td>\n",
       "      <td>0.090</td>\n",
       "      <td>0.070</td>\n",
       "      <td>0.800</td>\n",
       "      <td>0.000</td>\n",
       "      <td>0.000</td>\n",
       "      <td>0.000</td>\n",
       "      <td>0.000</td>\n",
       "      <td>0.000</td>\n",
       "      <td>0.000</td>\n",
       "      <td>0.000</td>\n",
       "      <td>0.000</td>\n",
       "      <td>0.000</td>\n",
       "      <td>0.000</td>\n",
       "      <td>0.000</td>\n",
       "      <td>0.000</td>\n",
       "      <td>0.000</td>\n",
       "      <td>0.000</td>\n",
       "      <td>0.000</td>\n",
       "      <td>0.000</td>\n",
       "      <td>0.000</td>\n",
       "      <td>0.020</td>\n",
       "      <td>0.000</td>\n",
       "      <td>0.050</td>\n",
       "      <td>0.060</td>\n",
       "      <td>0.000</td>\n",
       "      <td>0.000</td>\n",
       "      <td>0.000</td>\n",
       "      <td>0.000</td>\n",
       "      <td>0.000</td>\n",
       "      <td>0.000</td>\n",
       "      <td>0.000</td>\n",
       "      <td>0.000</td>\n",
       "      <td>0.000</td>\n",
       "      <td>0.000</td>\n",
       "      <td>0.000</td>\n",
       "      <td>0.000</td>\n",
       "      <td>0.000</td>\n",
       "      <td>0.000</td>\n",
       "    </tr>\n",
       "    <tr>\n",
       "      <th>74</th>\n",
       "      <td>NaN</td>\n",
       "      <td>0.000</td>\n",
       "      <td>0.000</td>\n",
       "      <td>0.000</td>\n",
       "      <td>0.000</td>\n",
       "      <td>0.000</td>\n",
       "      <td>0.000</td>\n",
       "      <td>0.130</td>\n",
       "      <td>0.000</td>\n",
       "      <td>0.070</td>\n",
       "      <td>0.000</td>\n",
       "      <td>0.000</td>\n",
       "      <td>0.000</td>\n",
       "      <td>0.000</td>\n",
       "      <td>0.000</td>\n",
       "      <td>0.110</td>\n",
       "      <td>0.000</td>\n",
       "      <td>0.000</td>\n",
       "      <td>0.000</td>\n",
       "      <td>0.020</td>\n",
       "      <td>0.000</td>\n",
       "      <td>0.000</td>\n",
       "      <td>0.000</td>\n",
       "      <td>0.000</td>\n",
       "      <td>0.000</td>\n",
       "      <td>0.000</td>\n",
       "      <td>0.000</td>\n",
       "      <td>0.000</td>\n",
       "      <td>0.380</td>\n",
       "      <td>0.000</td>\n",
       "      <td>0.000</td>\n",
       "      <td>0.000</td>\n",
       "      <td>0.000</td>\n",
       "      <td>0.000</td>\n",
       "      <td>0.000</td>\n",
       "      <td>0.000</td>\n",
       "      <td>0.000</td>\n",
       "      <td>0.070</td>\n",
       "      <td>0.000</td>\n",
       "      <td>0.000</td>\n",
       "      <td>0.000</td>\n",
       "      <td>0.000</td>\n",
       "      <td>0.000</td>\n",
       "      <td>0.000</td>\n",
       "      <td>0.000</td>\n",
       "      <td>0.050</td>\n",
       "      <td>0.000</td>\n",
       "      <td>0.000</td>\n",
       "      <td>0.000</td>\n",
       "      <td>0.000</td>\n",
       "      <td>0.000</td>\n",
       "      <td>0.000</td>\n",
       "      <td>0.000</td>\n",
       "      <td>0.020</td>\n",
       "      <td>0.000</td>\n",
       "      <td>0.390</td>\n",
       "      <td>0.000</td>\n",
       "      <td>1.130</td>\n",
       "      <td>0.000</td>\n",
       "      <td>0.090</td>\n",
       "      <td>0.070</td>\n",
       "      <td>0.800</td>\n",
       "      <td>0.000</td>\n",
       "      <td>0.000</td>\n",
       "      <td>0.000</td>\n",
       "      <td>0.000</td>\n",
       "      <td>0.000</td>\n",
       "      <td>0.000</td>\n",
       "      <td>0.000</td>\n",
       "      <td>0.000</td>\n",
       "      <td>0.000</td>\n",
       "      <td>0.000</td>\n",
       "      <td>0.000</td>\n",
       "      <td>0.000</td>\n",
       "      <td>0.000</td>\n",
       "      <td>0.000</td>\n",
       "      <td>0.000</td>\n",
       "      <td>0.000</td>\n",
       "      <td>0.000</td>\n",
       "      <td>0.020</td>\n",
       "      <td>0.000</td>\n",
       "      <td>0.050</td>\n",
       "      <td>0.060</td>\n",
       "      <td>0.000</td>\n",
       "      <td>0.000</td>\n",
       "      <td>0.000</td>\n",
       "      <td>0.000</td>\n",
       "      <td>0.000</td>\n",
       "      <td>0.000</td>\n",
       "      <td>0.000</td>\n",
       "      <td>0.000</td>\n",
       "      <td>0.000</td>\n",
       "      <td>0.000</td>\n",
       "      <td>0.000</td>\n",
       "      <td>0.000</td>\n",
       "      <td>0.000</td>\n",
       "      <td>0.000</td>\n",
       "    </tr>\n",
       "    <tr>\n",
       "      <th>72</th>\n",
       "      <td>NaN</td>\n",
       "      <td>0.000</td>\n",
       "      <td>0.000</td>\n",
       "      <td>0.000</td>\n",
       "      <td>0.000</td>\n",
       "      <td>0.000</td>\n",
       "      <td>0.000</td>\n",
       "      <td>0.000</td>\n",
       "      <td>0.000</td>\n",
       "      <td>0.000</td>\n",
       "      <td>0.000</td>\n",
       "      <td>0.000</td>\n",
       "      <td>0.130</td>\n",
       "      <td>0.000</td>\n",
       "      <td>0.000</td>\n",
       "      <td>0.360</td>\n",
       "      <td>0.000</td>\n",
       "      <td>0.000</td>\n",
       "      <td>0.060</td>\n",
       "      <td>0.000</td>\n",
       "      <td>0.000</td>\n",
       "      <td>0.000</td>\n",
       "      <td>0.000</td>\n",
       "      <td>0.000</td>\n",
       "      <td>0.000</td>\n",
       "      <td>0.000</td>\n",
       "      <td>0.000</td>\n",
       "      <td>0.000</td>\n",
       "      <td>0.000</td>\n",
       "      <td>0.000</td>\n",
       "      <td>0.000</td>\n",
       "      <td>0.000</td>\n",
       "      <td>0.000</td>\n",
       "      <td>0.000</td>\n",
       "      <td>0.000</td>\n",
       "      <td>0.000</td>\n",
       "      <td>0.000</td>\n",
       "      <td>0.000</td>\n",
       "      <td>0.000</td>\n",
       "      <td>0.000</td>\n",
       "      <td>0.000</td>\n",
       "      <td>0.000</td>\n",
       "      <td>0.550</td>\n",
       "      <td>0.000</td>\n",
       "      <td>0.000</td>\n",
       "      <td>0.000</td>\n",
       "      <td>0.000</td>\n",
       "      <td>0.000</td>\n",
       "      <td>0.340</td>\n",
       "      <td>0.000</td>\n",
       "      <td>0.000</td>\n",
       "      <td>0.000</td>\n",
       "      <td>0.000</td>\n",
       "      <td>0.000</td>\n",
       "      <td>0.000</td>\n",
       "      <td>0.000</td>\n",
       "      <td>0.000</td>\n",
       "      <td>0.000</td>\n",
       "      <td>0.000</td>\n",
       "      <td>0.000</td>\n",
       "      <td>0.000</td>\n",
       "      <td>0.000</td>\n",
       "      <td>0.000</td>\n",
       "      <td>0.000</td>\n",
       "      <td>0.000</td>\n",
       "      <td>0.000</td>\n",
       "      <td>0.000</td>\n",
       "      <td>0.000</td>\n",
       "      <td>0.000</td>\n",
       "      <td>0.000</td>\n",
       "      <td>0.110</td>\n",
       "      <td>0.020</td>\n",
       "      <td>0.000</td>\n",
       "      <td>0.000</td>\n",
       "      <td>0.000</td>\n",
       "      <td>0.000</td>\n",
       "      <td>0.000</td>\n",
       "      <td>0.080</td>\n",
       "      <td>0.030</td>\n",
       "      <td>0.000</td>\n",
       "      <td>0.000</td>\n",
       "      <td>0.000</td>\n",
       "      <td>0.000</td>\n",
       "      <td>0.000</td>\n",
       "      <td>0.000</td>\n",
       "      <td>0.000</td>\n",
       "      <td>0.000</td>\n",
       "      <td>0.010</td>\n",
       "      <td>0.000</td>\n",
       "      <td>0.000</td>\n",
       "      <td>0.000</td>\n",
       "      <td>0.000</td>\n",
       "      <td>0.000</td>\n",
       "      <td>0.050</td>\n",
       "      <td>0.000</td>\n",
       "      <td>0.000</td>\n",
       "      <td>0.000</td>\n",
       "    </tr>\n",
       "    <tr>\n",
       "      <th>...</th>\n",
       "      <td>...</td>\n",
       "      <td>...</td>\n",
       "      <td>...</td>\n",
       "      <td>...</td>\n",
       "      <td>...</td>\n",
       "      <td>...</td>\n",
       "      <td>...</td>\n",
       "      <td>...</td>\n",
       "      <td>...</td>\n",
       "      <td>...</td>\n",
       "      <td>...</td>\n",
       "      <td>...</td>\n",
       "      <td>...</td>\n",
       "      <td>...</td>\n",
       "      <td>...</td>\n",
       "      <td>...</td>\n",
       "      <td>...</td>\n",
       "      <td>...</td>\n",
       "      <td>...</td>\n",
       "      <td>...</td>\n",
       "      <td>...</td>\n",
       "      <td>...</td>\n",
       "      <td>...</td>\n",
       "      <td>...</td>\n",
       "      <td>...</td>\n",
       "      <td>...</td>\n",
       "      <td>...</td>\n",
       "      <td>...</td>\n",
       "      <td>...</td>\n",
       "      <td>...</td>\n",
       "      <td>...</td>\n",
       "      <td>...</td>\n",
       "      <td>...</td>\n",
       "      <td>...</td>\n",
       "      <td>...</td>\n",
       "      <td>...</td>\n",
       "      <td>...</td>\n",
       "      <td>...</td>\n",
       "      <td>...</td>\n",
       "      <td>...</td>\n",
       "      <td>...</td>\n",
       "      <td>...</td>\n",
       "      <td>...</td>\n",
       "      <td>...</td>\n",
       "      <td>...</td>\n",
       "      <td>...</td>\n",
       "      <td>...</td>\n",
       "      <td>...</td>\n",
       "      <td>...</td>\n",
       "      <td>...</td>\n",
       "      <td>...</td>\n",
       "      <td>...</td>\n",
       "      <td>...</td>\n",
       "      <td>...</td>\n",
       "      <td>...</td>\n",
       "      <td>...</td>\n",
       "      <td>...</td>\n",
       "      <td>...</td>\n",
       "      <td>...</td>\n",
       "      <td>...</td>\n",
       "      <td>...</td>\n",
       "      <td>...</td>\n",
       "      <td>...</td>\n",
       "      <td>...</td>\n",
       "      <td>...</td>\n",
       "      <td>...</td>\n",
       "      <td>...</td>\n",
       "      <td>...</td>\n",
       "      <td>...</td>\n",
       "      <td>...</td>\n",
       "      <td>...</td>\n",
       "      <td>...</td>\n",
       "      <td>...</td>\n",
       "      <td>...</td>\n",
       "      <td>...</td>\n",
       "      <td>...</td>\n",
       "      <td>...</td>\n",
       "      <td>...</td>\n",
       "      <td>...</td>\n",
       "      <td>...</td>\n",
       "      <td>...</td>\n",
       "      <td>...</td>\n",
       "      <td>...</td>\n",
       "      <td>...</td>\n",
       "      <td>...</td>\n",
       "      <td>...</td>\n",
       "      <td>...</td>\n",
       "      <td>...</td>\n",
       "      <td>...</td>\n",
       "      <td>...</td>\n",
       "      <td>...</td>\n",
       "      <td>...</td>\n",
       "      <td>...</td>\n",
       "      <td>...</td>\n",
       "      <td>...</td>\n",
       "      <td>...</td>\n",
       "      <td>...</td>\n",
       "    </tr>\n",
       "    <tr>\n",
       "      <th>3</th>\n",
       "      <td>NaN</td>\n",
       "      <td>0.000</td>\n",
       "      <td>0.000</td>\n",
       "      <td>0.000</td>\n",
       "      <td>0.000</td>\n",
       "      <td>0.000</td>\n",
       "      <td>0.000</td>\n",
       "      <td>0.000</td>\n",
       "      <td>0.000</td>\n",
       "      <td>0.000</td>\n",
       "      <td>0.020</td>\n",
       "      <td>0.360</td>\n",
       "      <td>0.000</td>\n",
       "      <td>0.000</td>\n",
       "      <td>0.000</td>\n",
       "      <td>0.000</td>\n",
       "      <td>0.000</td>\n",
       "      <td>0.000</td>\n",
       "      <td>0.000</td>\n",
       "      <td>0.000</td>\n",
       "      <td>0.000</td>\n",
       "      <td>0.000</td>\n",
       "      <td>0.110</td>\n",
       "      <td>0.000</td>\n",
       "      <td>0.000</td>\n",
       "      <td>0.000</td>\n",
       "      <td>0.000</td>\n",
       "      <td>0.000</td>\n",
       "      <td>0.000</td>\n",
       "      <td>0.000</td>\n",
       "      <td>0.000</td>\n",
       "      <td>0.000</td>\n",
       "      <td>0.000</td>\n",
       "      <td>0.000</td>\n",
       "      <td>0.000</td>\n",
       "      <td>0.000</td>\n",
       "      <td>0.000</td>\n",
       "      <td>0.000</td>\n",
       "      <td>0.000</td>\n",
       "      <td>0.000</td>\n",
       "      <td>0.000</td>\n",
       "      <td>0.000</td>\n",
       "      <td>0.000</td>\n",
       "      <td>0.050</td>\n",
       "      <td>0.000</td>\n",
       "      <td>0.050</td>\n",
       "      <td>0.440</td>\n",
       "      <td>0.000</td>\n",
       "      <td>0.000</td>\n",
       "      <td>0.000</td>\n",
       "      <td>0.000</td>\n",
       "      <td>0.000</td>\n",
       "      <td>0.000</td>\n",
       "      <td>0.000</td>\n",
       "      <td>0.380</td>\n",
       "      <td>0.000</td>\n",
       "      <td>0.000</td>\n",
       "      <td>0.000</td>\n",
       "      <td>0.000</td>\n",
       "      <td>0.000</td>\n",
       "      <td>0.000</td>\n",
       "      <td>0.000</td>\n",
       "      <td>0.000</td>\n",
       "      <td>0.000</td>\n",
       "      <td>0.000</td>\n",
       "      <td>0.000</td>\n",
       "      <td>0.040</td>\n",
       "      <td>0.120</td>\n",
       "      <td>0.000</td>\n",
       "      <td>0.000</td>\n",
       "      <td>0.030</td>\n",
       "      <td>0.000</td>\n",
       "      <td>0.000</td>\n",
       "      <td>0.000</td>\n",
       "      <td>0.000</td>\n",
       "      <td>0.000</td>\n",
       "      <td>0.000</td>\n",
       "      <td>0.000</td>\n",
       "      <td>0.000</td>\n",
       "      <td>0.110</td>\n",
       "      <td>0.000</td>\n",
       "      <td>0.000</td>\n",
       "      <td>0.050</td>\n",
       "      <td>0.000</td>\n",
       "      <td>0.000</td>\n",
       "      <td>0.000</td>\n",
       "      <td>0.000</td>\n",
       "      <td>0.000</td>\n",
       "      <td>0.000</td>\n",
       "      <td>0.000</td>\n",
       "      <td>0.000</td>\n",
       "      <td>0.000</td>\n",
       "      <td>0.000</td>\n",
       "      <td>0.080</td>\n",
       "      <td>0.000</td>\n",
       "      <td>0.000</td>\n",
       "      <td>0.000</td>\n",
       "    </tr>\n",
       "    <tr>\n",
       "      <th>1</th>\n",
       "      <td>NaN</td>\n",
       "      <td>0.000</td>\n",
       "      <td>0.000</td>\n",
       "      <td>0.000</td>\n",
       "      <td>0.000</td>\n",
       "      <td>0.000</td>\n",
       "      <td>0.000</td>\n",
       "      <td>0.000</td>\n",
       "      <td>0.000</td>\n",
       "      <td>0.040</td>\n",
       "      <td>0.030</td>\n",
       "      <td>0.100</td>\n",
       "      <td>0.000</td>\n",
       "      <td>0.000</td>\n",
       "      <td>0.000</td>\n",
       "      <td>0.000</td>\n",
       "      <td>0.070</td>\n",
       "      <td>0.000</td>\n",
       "      <td>0.000</td>\n",
       "      <td>0.000</td>\n",
       "      <td>0.000</td>\n",
       "      <td>0.000</td>\n",
       "      <td>0.000</td>\n",
       "      <td>0.000</td>\n",
       "      <td>0.000</td>\n",
       "      <td>0.000</td>\n",
       "      <td>0.000</td>\n",
       "      <td>0.000</td>\n",
       "      <td>0.000</td>\n",
       "      <td>0.000</td>\n",
       "      <td>0.000</td>\n",
       "      <td>0.290</td>\n",
       "      <td>0.000</td>\n",
       "      <td>0.000</td>\n",
       "      <td>0.000</td>\n",
       "      <td>0.000</td>\n",
       "      <td>0.000</td>\n",
       "      <td>0.000</td>\n",
       "      <td>0.000</td>\n",
       "      <td>0.000</td>\n",
       "      <td>0.000</td>\n",
       "      <td>0.000</td>\n",
       "      <td>0.000</td>\n",
       "      <td>0.000</td>\n",
       "      <td>0.000</td>\n",
       "      <td>0.000</td>\n",
       "      <td>0.000</td>\n",
       "      <td>0.000</td>\n",
       "      <td>0.000</td>\n",
       "      <td>0.000</td>\n",
       "      <td>0.440</td>\n",
       "      <td>0.000</td>\n",
       "      <td>0.000</td>\n",
       "      <td>0.000</td>\n",
       "      <td>0.000</td>\n",
       "      <td>0.000</td>\n",
       "      <td>0.000</td>\n",
       "      <td>0.100</td>\n",
       "      <td>0.010</td>\n",
       "      <td>0.000</td>\n",
       "      <td>0.000</td>\n",
       "      <td>0.050</td>\n",
       "      <td>0.000</td>\n",
       "      <td>0.150</td>\n",
       "      <td>0.000</td>\n",
       "      <td>0.000</td>\n",
       "      <td>0.020</td>\n",
       "      <td>0.000</td>\n",
       "      <td>0.310</td>\n",
       "      <td>0.000</td>\n",
       "      <td>0.000</td>\n",
       "      <td>0.000</td>\n",
       "      <td>0.000</td>\n",
       "      <td>0.000</td>\n",
       "      <td>0.000</td>\n",
       "      <td>0.090</td>\n",
       "      <td>0.050</td>\n",
       "      <td>0.000</td>\n",
       "      <td>0.100</td>\n",
       "      <td>0.000</td>\n",
       "      <td>0.000</td>\n",
       "      <td>0.000</td>\n",
       "      <td>0.000</td>\n",
       "      <td>0.000</td>\n",
       "      <td>0.000</td>\n",
       "      <td>0.000</td>\n",
       "      <td>0.000</td>\n",
       "      <td>0.000</td>\n",
       "      <td>0.000</td>\n",
       "      <td>0.000</td>\n",
       "      <td>0.000</td>\n",
       "      <td>0.000</td>\n",
       "      <td>0.000</td>\n",
       "      <td>0.000</td>\n",
       "      <td>0.000</td>\n",
       "      <td>0.000</td>\n",
       "      <td>0.000</td>\n",
       "    </tr>\n",
       "    <tr>\n",
       "      <th>0</th>\n",
       "      <td>NaN</td>\n",
       "      <td>0.000</td>\n",
       "      <td>0.000</td>\n",
       "      <td>0.000</td>\n",
       "      <td>0.000</td>\n",
       "      <td>0.000</td>\n",
       "      <td>0.000</td>\n",
       "      <td>0.000</td>\n",
       "      <td>0.000</td>\n",
       "      <td>0.040</td>\n",
       "      <td>0.030</td>\n",
       "      <td>0.100</td>\n",
       "      <td>0.000</td>\n",
       "      <td>0.000</td>\n",
       "      <td>0.000</td>\n",
       "      <td>0.000</td>\n",
       "      <td>0.070</td>\n",
       "      <td>0.000</td>\n",
       "      <td>0.000</td>\n",
       "      <td>0.000</td>\n",
       "      <td>0.000</td>\n",
       "      <td>0.000</td>\n",
       "      <td>0.000</td>\n",
       "      <td>0.000</td>\n",
       "      <td>0.000</td>\n",
       "      <td>0.000</td>\n",
       "      <td>0.000</td>\n",
       "      <td>0.000</td>\n",
       "      <td>0.000</td>\n",
       "      <td>0.000</td>\n",
       "      <td>0.000</td>\n",
       "      <td>0.290</td>\n",
       "      <td>0.000</td>\n",
       "      <td>0.000</td>\n",
       "      <td>0.000</td>\n",
       "      <td>0.000</td>\n",
       "      <td>0.000</td>\n",
       "      <td>0.000</td>\n",
       "      <td>0.000</td>\n",
       "      <td>0.000</td>\n",
       "      <td>0.000</td>\n",
       "      <td>0.000</td>\n",
       "      <td>0.000</td>\n",
       "      <td>0.000</td>\n",
       "      <td>0.000</td>\n",
       "      <td>0.000</td>\n",
       "      <td>0.000</td>\n",
       "      <td>0.000</td>\n",
       "      <td>0.000</td>\n",
       "      <td>0.000</td>\n",
       "      <td>0.440</td>\n",
       "      <td>0.000</td>\n",
       "      <td>0.000</td>\n",
       "      <td>0.000</td>\n",
       "      <td>0.000</td>\n",
       "      <td>0.000</td>\n",
       "      <td>0.000</td>\n",
       "      <td>0.100</td>\n",
       "      <td>0.010</td>\n",
       "      <td>0.000</td>\n",
       "      <td>0.000</td>\n",
       "      <td>0.050</td>\n",
       "      <td>0.000</td>\n",
       "      <td>0.150</td>\n",
       "      <td>0.000</td>\n",
       "      <td>0.000</td>\n",
       "      <td>0.020</td>\n",
       "      <td>0.000</td>\n",
       "      <td>0.310</td>\n",
       "      <td>0.000</td>\n",
       "      <td>0.000</td>\n",
       "      <td>0.000</td>\n",
       "      <td>0.000</td>\n",
       "      <td>0.000</td>\n",
       "      <td>0.000</td>\n",
       "      <td>0.090</td>\n",
       "      <td>0.050</td>\n",
       "      <td>0.000</td>\n",
       "      <td>0.100</td>\n",
       "      <td>0.000</td>\n",
       "      <td>0.000</td>\n",
       "      <td>0.000</td>\n",
       "      <td>0.000</td>\n",
       "      <td>0.000</td>\n",
       "      <td>0.000</td>\n",
       "      <td>0.000</td>\n",
       "      <td>0.000</td>\n",
       "      <td>0.000</td>\n",
       "      <td>0.000</td>\n",
       "      <td>0.000</td>\n",
       "      <td>0.000</td>\n",
       "      <td>0.000</td>\n",
       "      <td>0.000</td>\n",
       "      <td>0.000</td>\n",
       "      <td>0.000</td>\n",
       "      <td>0.000</td>\n",
       "      <td>0.000</td>\n",
       "    </tr>\n",
       "  </tbody>\n",
       "</table>\n",
       "<p>76 rows × 97 columns</p>\n",
       "</div>"
      ],
      "text/plain": [
       "    0     1     2     3     4     5     6     7     8     9     10    11  \\\n",
       "75 NaN 0.000 0.000 0.000 0.000 0.000 0.000 0.130 0.000 0.070 0.000 0.000   \n",
       "74 NaN 0.000 0.000 0.000 0.000 0.000 0.000 0.130 0.000 0.070 0.000 0.000   \n",
       "72 NaN 0.000 0.000 0.000 0.000 0.000 0.000 0.000 0.000 0.000 0.000 0.000   \n",
       "..  ..   ...   ...   ...   ...   ...   ...   ...   ...   ...   ...   ...   \n",
       "3  NaN 0.000 0.000 0.000 0.000 0.000 0.000 0.000 0.000 0.000 0.020 0.360   \n",
       "1  NaN 0.000 0.000 0.000 0.000 0.000 0.000 0.000 0.000 0.040 0.030 0.100   \n",
       "0  NaN 0.000 0.000 0.000 0.000 0.000 0.000 0.000 0.000 0.040 0.030 0.100   \n",
       "\n",
       "      12    13    14    15    16    17    18    19    20    21    22    23  \\\n",
       "75 0.000 0.000 0.000 0.110 0.000 0.000 0.000 0.020 0.000 0.000 0.000 0.000   \n",
       "74 0.000 0.000 0.000 0.110 0.000 0.000 0.000 0.020 0.000 0.000 0.000 0.000   \n",
       "72 0.130 0.000 0.000 0.360 0.000 0.000 0.060 0.000 0.000 0.000 0.000 0.000   \n",
       "..   ...   ...   ...   ...   ...   ...   ...   ...   ...   ...   ...   ...   \n",
       "3  0.000 0.000 0.000 0.000 0.000 0.000 0.000 0.000 0.000 0.000 0.110 0.000   \n",
       "1  0.000 0.000 0.000 0.000 0.070 0.000 0.000 0.000 0.000 0.000 0.000 0.000   \n",
       "0  0.000 0.000 0.000 0.000 0.070 0.000 0.000 0.000 0.000 0.000 0.000 0.000   \n",
       "\n",
       "      24    25    26    27    28    29    30    31    32    33    34    35  \\\n",
       "75 0.000 0.000 0.000 0.000 0.380 0.000 0.000 0.000 0.000 0.000 0.000 0.000   \n",
       "74 0.000 0.000 0.000 0.000 0.380 0.000 0.000 0.000 0.000 0.000 0.000 0.000   \n",
       "72 0.000 0.000 0.000 0.000 0.000 0.000 0.000 0.000 0.000 0.000 0.000 0.000   \n",
       "..   ...   ...   ...   ...   ...   ...   ...   ...   ...   ...   ...   ...   \n",
       "3  0.000 0.000 0.000 0.000 0.000 0.000 0.000 0.000 0.000 0.000 0.000 0.000   \n",
       "1  0.000 0.000 0.000 0.000 0.000 0.000 0.000 0.290 0.000 0.000 0.000 0.000   \n",
       "0  0.000 0.000 0.000 0.000 0.000 0.000 0.000 0.290 0.000 0.000 0.000 0.000   \n",
       "\n",
       "      36    37    38    39    40    41    42    43    44    45    46    47  \\\n",
       "75 0.000 0.070 0.000 0.000 0.000 0.000 0.000 0.000 0.000 0.050 0.000 0.000   \n",
       "74 0.000 0.070 0.000 0.000 0.000 0.000 0.000 0.000 0.000 0.050 0.000 0.000   \n",
       "72 0.000 0.000 0.000 0.000 0.000 0.000 0.550 0.000 0.000 0.000 0.000 0.000   \n",
       "..   ...   ...   ...   ...   ...   ...   ...   ...   ...   ...   ...   ...   \n",
       "3  0.000 0.000 0.000 0.000 0.000 0.000 0.000 0.050 0.000 0.050 0.440 0.000   \n",
       "1  0.000 0.000 0.000 0.000 0.000 0.000 0.000 0.000 0.000 0.000 0.000 0.000   \n",
       "0  0.000 0.000 0.000 0.000 0.000 0.000 0.000 0.000 0.000 0.000 0.000 0.000   \n",
       "\n",
       "      48    49    50    51    52    53    54    55    56    57    58    59  \\\n",
       "75 0.000 0.000 0.000 0.000 0.000 0.020 0.000 0.390 0.000 1.130 0.000 0.090   \n",
       "74 0.000 0.000 0.000 0.000 0.000 0.020 0.000 0.390 0.000 1.130 0.000 0.090   \n",
       "72 0.340 0.000 0.000 0.000 0.000 0.000 0.000 0.000 0.000 0.000 0.000 0.000   \n",
       "..   ...   ...   ...   ...   ...   ...   ...   ...   ...   ...   ...   ...   \n",
       "3  0.000 0.000 0.000 0.000 0.000 0.000 0.380 0.000 0.000 0.000 0.000 0.000   \n",
       "1  0.000 0.000 0.440 0.000 0.000 0.000 0.000 0.000 0.000 0.100 0.010 0.000   \n",
       "0  0.000 0.000 0.440 0.000 0.000 0.000 0.000 0.000 0.000 0.100 0.010 0.000   \n",
       "\n",
       "      60    61    62    63    64    65    66    67    68    69    70    71  \\\n",
       "75 0.070 0.800 0.000 0.000 0.000 0.000 0.000 0.000 0.000 0.000 0.000 0.000   \n",
       "74 0.070 0.800 0.000 0.000 0.000 0.000 0.000 0.000 0.000 0.000 0.000 0.000   \n",
       "72 0.000 0.000 0.000 0.000 0.000 0.000 0.000 0.000 0.000 0.000 0.110 0.020   \n",
       "..   ...   ...   ...   ...   ...   ...   ...   ...   ...   ...   ...   ...   \n",
       "3  0.000 0.000 0.000 0.000 0.000 0.000 0.040 0.120 0.000 0.000 0.030 0.000   \n",
       "1  0.000 0.050 0.000 0.150 0.000 0.000 0.020 0.000 0.310 0.000 0.000 0.000   \n",
       "0  0.000 0.050 0.000 0.150 0.000 0.000 0.020 0.000 0.310 0.000 0.000 0.000   \n",
       "\n",
       "      72    73    74    75    76    77    78    79    80    81    82    83  \\\n",
       "75 0.000 0.000 0.000 0.000 0.000 0.000 0.000 0.020 0.000 0.050 0.060 0.000   \n",
       "74 0.000 0.000 0.000 0.000 0.000 0.000 0.000 0.020 0.000 0.050 0.060 0.000   \n",
       "72 0.000 0.000 0.000 0.000 0.000 0.080 0.030 0.000 0.000 0.000 0.000 0.000   \n",
       "..   ...   ...   ...   ...   ...   ...   ...   ...   ...   ...   ...   ...   \n",
       "3  0.000 0.000 0.000 0.000 0.000 0.000 0.000 0.110 0.000 0.000 0.050 0.000   \n",
       "1  0.000 0.000 0.000 0.090 0.050 0.000 0.100 0.000 0.000 0.000 0.000 0.000   \n",
       "0  0.000 0.000 0.000 0.090 0.050 0.000 0.100 0.000 0.000 0.000 0.000 0.000   \n",
       "\n",
       "      84    85    86    87    88    89    90    91    92    93    94    95  \\\n",
       "75 0.000 0.000 0.000 0.000 0.000 0.000 0.000 0.000 0.000 0.000 0.000 0.000   \n",
       "74 0.000 0.000 0.000 0.000 0.000 0.000 0.000 0.000 0.000 0.000 0.000 0.000   \n",
       "72 0.000 0.000 0.000 0.010 0.000 0.000 0.000 0.000 0.000 0.050 0.000 0.000   \n",
       "..   ...   ...   ...   ...   ...   ...   ...   ...   ...   ...   ...   ...   \n",
       "3  0.000 0.000 0.000 0.000 0.000 0.000 0.000 0.000 0.000 0.080 0.000 0.000   \n",
       "1  0.000 0.000 0.000 0.000 0.000 0.000 0.000 0.000 0.000 0.000 0.000 0.000   \n",
       "0  0.000 0.000 0.000 0.000 0.000 0.000 0.000 0.000 0.000 0.000 0.000 0.000   \n",
       "\n",
       "      96  \n",
       "75 0.000  \n",
       "74 0.000  \n",
       "72 0.000  \n",
       "..   ...  \n",
       "3  0.000  \n",
       "1  0.000  \n",
       "0  0.000  \n",
       "\n",
       "[76 rows x 97 columns]"
      ]
     },
     "execution_count": 137,
     "metadata": {},
     "output_type": "execute_result"
    }
   ],
   "source": [
    "dfxg_awayxg_complete_game_all_bps.clip(lower=0)"
   ]
  },
  {
   "cell_type": "code",
   "execution_count": 138,
   "metadata": {},
   "outputs": [
    {
     "data": {
      "application/vnd.plotly.v1+json": {
       "config": {
        "plotlyServerURL": "https://plot.ly"
       },
       "data": [
        {
         "hovertemplate": "variable=0<br>index=%{x}<br>value=%{y}<extra></extra>",
         "legendgroup": "0",
         "line": {
          "color": "#636efa",
          "dash": "solid"
         },
         "marker": {
          "symbol": "circle"
         },
         "mode": "lines",
         "name": "0",
         "orientation": "v",
         "showlegend": true,
         "textposition": "top center",
         "type": "scatter",
         "x": [
          0,
          1,
          2,
          3,
          4,
          5,
          6,
          7,
          8,
          9,
          10,
          11,
          12,
          13,
          14,
          15,
          16,
          17,
          18,
          19,
          20,
          21,
          22,
          23,
          24,
          25,
          26,
          27,
          28,
          29,
          30,
          31,
          32,
          33,
          34,
          35,
          36,
          37,
          38,
          39,
          40,
          41,
          42,
          43,
          44,
          45,
          46,
          47,
          48,
          49,
          50,
          51,
          52,
          53,
          54,
          55,
          56,
          57,
          58,
          59,
          60,
          61,
          62,
          63,
          64,
          65,
          66,
          67,
          68,
          69,
          70,
          71,
          72,
          73,
          74,
          75,
          76,
          77,
          78,
          79,
          80,
          81,
          82,
          83,
          84,
          85,
          86,
          87,
          88,
          89,
          90,
          91,
          92,
          93,
          94,
          95,
          96
         ],
         "xaxis": "x",
         "y": [
          null,
          0.01236842105263158,
          0.019473684210526317,
          0.017368421052631578,
          0.034736842105263156,
          0.032105263157894734,
          0.05157894736842104,
          0.027105263157894736,
          0.0026315789473684206,
          0.0218421052631579,
          0.01394736842105263,
          0.026052631578947372,
          0.01894736842105263,
          0.006842105263157889,
          0.02078947368421053,
          0.004736842105263157,
          0.017894736842105262,
          0.005000000000000001,
          0.000526315789473684,
          0.03210526315789474,
          0,
          0.007894736842105262,
          0.0042105263157894745,
          0.041315789473684215,
          0.011315789473684213,
          0.016842105263157898,
          0.0013157894736842088,
          0.007631578947368425,
          0.020263157894736844,
          0.01289473684210527,
          0.024473684210526307,
          0.007894736842105263,
          0.031578947368421054,
          0.0010526315789473693,
          0.01631578947368421,
          0.0023684210526315795,
          0.01631578947368421,
          0.020263157894736844,
          0.002894736842105263,
          0.005526315789473683,
          0.0034210526315789475,
          0.007894736842105262,
          0.0018421052631578945,
          0.02394736842105264,
          0.0044736842105263155,
          0.0007894736842105271,
          0.033684210526315796,
          0.028947368421052635,
          0.04736842105263159,
          0.003421052631578949,
          0.012105263157894739,
          0.03026315789473684,
          0.0026315789473684236,
          0.025263157894736845,
          0.023157894736842103,
          0.0007894736842105241,
          0.024999999999999988,
          0.014736842105263156,
          0.048684210526315795,
          0.00526315789473685,
          0.01710526315789474,
          0.021052631578947364,
          0.005263157894736841,
          0.010000000000000004,
          0.049210526315789475,
          0.016315789473684207,
          0.017631578947368425,
          0.003947368421052628,
          0.011578947368421045,
          0.01052631578947369,
          0.033947368421052615,
          0.008421052631578944,
          0.002894736842105263,
          0.00578947368421052,
          0.0023684210526315782,
          0.02736842105263158,
          0.018947368421052626,
          0.027105263157894754,
          0.007631578947368425,
          0.03473684210526315,
          0.010000000000000007,
          0.007631578947368422,
          0.0418421052631579,
          0.005263157894736835,
          0.01684210526315788,
          0.013947368421052639,
          0.006315789473684213,
          0.020789473684210514,
          0.0031578947368421043,
          0.003684210526315792,
          0.01789473684210527,
          0.014210526315789472,
          0.01263157894736842,
          0.010263157894736846,
          0.003421052631578949,
          0,
          0.0010526315789473693
         ],
         "yaxis": "y"
        },
        {
         "mode": "lines",
         "name": "Opponent xG",
         "type": "scatter",
         "y": [
          null,
          0,
          0.0057894736842105275,
          0.005789473684210527,
          0.0013157894736842105,
          0.005,
          0.00631578947368421,
          0.023421052631578943,
          0.0044736842105263155,
          0.01605263157894737,
          0.01710526315789474,
          0.030789473684210523,
          0.015263157894736841,
          0.02131578947368421,
          0.003421052631578946,
          0.01631578947368421,
          0.024736842105263158,
          0.003947368421052631,
          0.03210526315789474,
          0.0044736842105263155,
          0.0002631578947368423,
          0.01289473684210526,
          0.018157894736842106,
          0.006052631578947369,
          0.00236842105263158,
          0.03973684210526316,
          0.013421052631578948,
          0.001052631578947369,
          0.041842105263157896,
          0.024999999999999998,
          0.007894736842105265,
          0.016052631578947367,
          0.008421052631578945,
          0.0010526315789473664,
          0.005789473684210526,
          0.006578947368421052,
          0.022894736842105263,
          0.010789473684210531,
          0.007894736842105265,
          0.012631578947368423,
          0.00710526315789474,
          0.006052631578947371,
          0.016842105263157898,
          0.03026315789473684,
          0.016578947368421054,
          0.011052631578947366,
          0.028684210526315784,
          0.03447368421052632,
          0.03947368421052631,
          0.009473684210526315,
          0.02421052631578947,
          0.005789473684210526,
          0.0007894736842105271,
          0.014473684210526317,
          0.01736842105263157,
          0.014736842105263154,
          0.022368421052631572,
          0.0468421052631579,
          0.010000000000000004,
          0.008421052631578945,
          0.010263157894736833,
          0.02552631578947369,
          0.003947368421052629,
          0.012368421052631591,
          0.0063157894736842,
          0.0031578947368421065,
          0.04815789473684211,
          0.014210526315789477,
          0.024736842105263158,
          0.0028947368421052624,
          0.01815789473684211,
          0.008157894736842107,
          0.025789473684210522,
          0.007368421052631586,
          0.0005263157894736846,
          0.036578947368421044,
          0.023421052631578947,
          0.018947368421052626,
          0.005000000000000002,
          0.01894736842105263,
          0.03000000000000001,
          0.01578947368421052,
          0.011315789473684211,
          0.002105263157894734,
          0.03289473684210526,
          0.0034210526315789475,
          0.032105263157894734,
          0.0002631578947368423,
          0.01131578947368421,
          0.016578947368421054,
          0.016842105263157894,
          0.007368421052631577,
          0.0031578947368421082,
          0.004210526315789477,
          0.0007894736842105255,
          0.003157894736842102,
          0
         ]
        }
       ],
       "layout": {
        "legend": {
         "title": {
          "text": "variable"
         },
         "tracegroupgap": 0
        },
        "margin": {
         "t": 60
        },
        "template": {
         "data": {
          "bar": [
           {
            "error_x": {
             "color": "#2a3f5f"
            },
            "error_y": {
             "color": "#2a3f5f"
            },
            "marker": {
             "line": {
              "color": "#E5ECF6",
              "width": 0.5
             },
             "pattern": {
              "fillmode": "overlay",
              "size": 10,
              "solidity": 0.2
             }
            },
            "type": "bar"
           }
          ],
          "barpolar": [
           {
            "marker": {
             "line": {
              "color": "#E5ECF6",
              "width": 0.5
             },
             "pattern": {
              "fillmode": "overlay",
              "size": 10,
              "solidity": 0.2
             }
            },
            "type": "barpolar"
           }
          ],
          "carpet": [
           {
            "aaxis": {
             "endlinecolor": "#2a3f5f",
             "gridcolor": "white",
             "linecolor": "white",
             "minorgridcolor": "white",
             "startlinecolor": "#2a3f5f"
            },
            "baxis": {
             "endlinecolor": "#2a3f5f",
             "gridcolor": "white",
             "linecolor": "white",
             "minorgridcolor": "white",
             "startlinecolor": "#2a3f5f"
            },
            "type": "carpet"
           }
          ],
          "choropleth": [
           {
            "colorbar": {
             "outlinewidth": 0,
             "ticks": ""
            },
            "type": "choropleth"
           }
          ],
          "contour": [
           {
            "colorbar": {
             "outlinewidth": 0,
             "ticks": ""
            },
            "colorscale": [
             [
              0,
              "#0d0887"
             ],
             [
              0.1111111111111111,
              "#46039f"
             ],
             [
              0.2222222222222222,
              "#7201a8"
             ],
             [
              0.3333333333333333,
              "#9c179e"
             ],
             [
              0.4444444444444444,
              "#bd3786"
             ],
             [
              0.5555555555555556,
              "#d8576b"
             ],
             [
              0.6666666666666666,
              "#ed7953"
             ],
             [
              0.7777777777777778,
              "#fb9f3a"
             ],
             [
              0.8888888888888888,
              "#fdca26"
             ],
             [
              1,
              "#f0f921"
             ]
            ],
            "type": "contour"
           }
          ],
          "contourcarpet": [
           {
            "colorbar": {
             "outlinewidth": 0,
             "ticks": ""
            },
            "type": "contourcarpet"
           }
          ],
          "heatmap": [
           {
            "colorbar": {
             "outlinewidth": 0,
             "ticks": ""
            },
            "colorscale": [
             [
              0,
              "#0d0887"
             ],
             [
              0.1111111111111111,
              "#46039f"
             ],
             [
              0.2222222222222222,
              "#7201a8"
             ],
             [
              0.3333333333333333,
              "#9c179e"
             ],
             [
              0.4444444444444444,
              "#bd3786"
             ],
             [
              0.5555555555555556,
              "#d8576b"
             ],
             [
              0.6666666666666666,
              "#ed7953"
             ],
             [
              0.7777777777777778,
              "#fb9f3a"
             ],
             [
              0.8888888888888888,
              "#fdca26"
             ],
             [
              1,
              "#f0f921"
             ]
            ],
            "type": "heatmap"
           }
          ],
          "heatmapgl": [
           {
            "colorbar": {
             "outlinewidth": 0,
             "ticks": ""
            },
            "colorscale": [
             [
              0,
              "#0d0887"
             ],
             [
              0.1111111111111111,
              "#46039f"
             ],
             [
              0.2222222222222222,
              "#7201a8"
             ],
             [
              0.3333333333333333,
              "#9c179e"
             ],
             [
              0.4444444444444444,
              "#bd3786"
             ],
             [
              0.5555555555555556,
              "#d8576b"
             ],
             [
              0.6666666666666666,
              "#ed7953"
             ],
             [
              0.7777777777777778,
              "#fb9f3a"
             ],
             [
              0.8888888888888888,
              "#fdca26"
             ],
             [
              1,
              "#f0f921"
             ]
            ],
            "type": "heatmapgl"
           }
          ],
          "histogram": [
           {
            "marker": {
             "pattern": {
              "fillmode": "overlay",
              "size": 10,
              "solidity": 0.2
             }
            },
            "type": "histogram"
           }
          ],
          "histogram2d": [
           {
            "colorbar": {
             "outlinewidth": 0,
             "ticks": ""
            },
            "colorscale": [
             [
              0,
              "#0d0887"
             ],
             [
              0.1111111111111111,
              "#46039f"
             ],
             [
              0.2222222222222222,
              "#7201a8"
             ],
             [
              0.3333333333333333,
              "#9c179e"
             ],
             [
              0.4444444444444444,
              "#bd3786"
             ],
             [
              0.5555555555555556,
              "#d8576b"
             ],
             [
              0.6666666666666666,
              "#ed7953"
             ],
             [
              0.7777777777777778,
              "#fb9f3a"
             ],
             [
              0.8888888888888888,
              "#fdca26"
             ],
             [
              1,
              "#f0f921"
             ]
            ],
            "type": "histogram2d"
           }
          ],
          "histogram2dcontour": [
           {
            "colorbar": {
             "outlinewidth": 0,
             "ticks": ""
            },
            "colorscale": [
             [
              0,
              "#0d0887"
             ],
             [
              0.1111111111111111,
              "#46039f"
             ],
             [
              0.2222222222222222,
              "#7201a8"
             ],
             [
              0.3333333333333333,
              "#9c179e"
             ],
             [
              0.4444444444444444,
              "#bd3786"
             ],
             [
              0.5555555555555556,
              "#d8576b"
             ],
             [
              0.6666666666666666,
              "#ed7953"
             ],
             [
              0.7777777777777778,
              "#fb9f3a"
             ],
             [
              0.8888888888888888,
              "#fdca26"
             ],
             [
              1,
              "#f0f921"
             ]
            ],
            "type": "histogram2dcontour"
           }
          ],
          "mesh3d": [
           {
            "colorbar": {
             "outlinewidth": 0,
             "ticks": ""
            },
            "type": "mesh3d"
           }
          ],
          "parcoords": [
           {
            "line": {
             "colorbar": {
              "outlinewidth": 0,
              "ticks": ""
             }
            },
            "type": "parcoords"
           }
          ],
          "pie": [
           {
            "automargin": true,
            "type": "pie"
           }
          ],
          "scatter": [
           {
            "marker": {
             "colorbar": {
              "outlinewidth": 0,
              "ticks": ""
             }
            },
            "type": "scatter"
           }
          ],
          "scatter3d": [
           {
            "line": {
             "colorbar": {
              "outlinewidth": 0,
              "ticks": ""
             }
            },
            "marker": {
             "colorbar": {
              "outlinewidth": 0,
              "ticks": ""
             }
            },
            "type": "scatter3d"
           }
          ],
          "scattercarpet": [
           {
            "marker": {
             "colorbar": {
              "outlinewidth": 0,
              "ticks": ""
             }
            },
            "type": "scattercarpet"
           }
          ],
          "scattergeo": [
           {
            "marker": {
             "colorbar": {
              "outlinewidth": 0,
              "ticks": ""
             }
            },
            "type": "scattergeo"
           }
          ],
          "scattergl": [
           {
            "marker": {
             "colorbar": {
              "outlinewidth": 0,
              "ticks": ""
             }
            },
            "type": "scattergl"
           }
          ],
          "scattermapbox": [
           {
            "marker": {
             "colorbar": {
              "outlinewidth": 0,
              "ticks": ""
             }
            },
            "type": "scattermapbox"
           }
          ],
          "scatterpolar": [
           {
            "marker": {
             "colorbar": {
              "outlinewidth": 0,
              "ticks": ""
             }
            },
            "type": "scatterpolar"
           }
          ],
          "scatterpolargl": [
           {
            "marker": {
             "colorbar": {
              "outlinewidth": 0,
              "ticks": ""
             }
            },
            "type": "scatterpolargl"
           }
          ],
          "scatterternary": [
           {
            "marker": {
             "colorbar": {
              "outlinewidth": 0,
              "ticks": ""
             }
            },
            "type": "scatterternary"
           }
          ],
          "surface": [
           {
            "colorbar": {
             "outlinewidth": 0,
             "ticks": ""
            },
            "colorscale": [
             [
              0,
              "#0d0887"
             ],
             [
              0.1111111111111111,
              "#46039f"
             ],
             [
              0.2222222222222222,
              "#7201a8"
             ],
             [
              0.3333333333333333,
              "#9c179e"
             ],
             [
              0.4444444444444444,
              "#bd3786"
             ],
             [
              0.5555555555555556,
              "#d8576b"
             ],
             [
              0.6666666666666666,
              "#ed7953"
             ],
             [
              0.7777777777777778,
              "#fb9f3a"
             ],
             [
              0.8888888888888888,
              "#fdca26"
             ],
             [
              1,
              "#f0f921"
             ]
            ],
            "type": "surface"
           }
          ],
          "table": [
           {
            "cells": {
             "fill": {
              "color": "#EBF0F8"
             },
             "line": {
              "color": "white"
             }
            },
            "header": {
             "fill": {
              "color": "#C8D4E3"
             },
             "line": {
              "color": "white"
             }
            },
            "type": "table"
           }
          ]
         },
         "layout": {
          "annotationdefaults": {
           "arrowcolor": "#2a3f5f",
           "arrowhead": 0,
           "arrowwidth": 1
          },
          "autotypenumbers": "strict",
          "coloraxis": {
           "colorbar": {
            "outlinewidth": 0,
            "ticks": ""
           }
          },
          "colorscale": {
           "diverging": [
            [
             0,
             "#8e0152"
            ],
            [
             0.1,
             "#c51b7d"
            ],
            [
             0.2,
             "#de77ae"
            ],
            [
             0.3,
             "#f1b6da"
            ],
            [
             0.4,
             "#fde0ef"
            ],
            [
             0.5,
             "#f7f7f7"
            ],
            [
             0.6,
             "#e6f5d0"
            ],
            [
             0.7,
             "#b8e186"
            ],
            [
             0.8,
             "#7fbc41"
            ],
            [
             0.9,
             "#4d9221"
            ],
            [
             1,
             "#276419"
            ]
           ],
           "sequential": [
            [
             0,
             "#0d0887"
            ],
            [
             0.1111111111111111,
             "#46039f"
            ],
            [
             0.2222222222222222,
             "#7201a8"
            ],
            [
             0.3333333333333333,
             "#9c179e"
            ],
            [
             0.4444444444444444,
             "#bd3786"
            ],
            [
             0.5555555555555556,
             "#d8576b"
            ],
            [
             0.6666666666666666,
             "#ed7953"
            ],
            [
             0.7777777777777778,
             "#fb9f3a"
            ],
            [
             0.8888888888888888,
             "#fdca26"
            ],
            [
             1,
             "#f0f921"
            ]
           ],
           "sequentialminus": [
            [
             0,
             "#0d0887"
            ],
            [
             0.1111111111111111,
             "#46039f"
            ],
            [
             0.2222222222222222,
             "#7201a8"
            ],
            [
             0.3333333333333333,
             "#9c179e"
            ],
            [
             0.4444444444444444,
             "#bd3786"
            ],
            [
             0.5555555555555556,
             "#d8576b"
            ],
            [
             0.6666666666666666,
             "#ed7953"
            ],
            [
             0.7777777777777778,
             "#fb9f3a"
            ],
            [
             0.8888888888888888,
             "#fdca26"
            ],
            [
             1,
             "#f0f921"
            ]
           ]
          },
          "colorway": [
           "#636efa",
           "#EF553B",
           "#00cc96",
           "#ab63fa",
           "#FFA15A",
           "#19d3f3",
           "#FF6692",
           "#B6E880",
           "#FF97FF",
           "#FECB52"
          ],
          "font": {
           "color": "#2a3f5f"
          },
          "geo": {
           "bgcolor": "white",
           "lakecolor": "white",
           "landcolor": "#E5ECF6",
           "showlakes": true,
           "showland": true,
           "subunitcolor": "white"
          },
          "hoverlabel": {
           "align": "left"
          },
          "hovermode": "closest",
          "mapbox": {
           "style": "light"
          },
          "paper_bgcolor": "white",
          "plot_bgcolor": "#E5ECF6",
          "polar": {
           "angularaxis": {
            "gridcolor": "white",
            "linecolor": "white",
            "ticks": ""
           },
           "bgcolor": "#E5ECF6",
           "radialaxis": {
            "gridcolor": "white",
            "linecolor": "white",
            "ticks": ""
           }
          },
          "scene": {
           "xaxis": {
            "backgroundcolor": "#E5ECF6",
            "gridcolor": "white",
            "gridwidth": 2,
            "linecolor": "white",
            "showbackground": true,
            "ticks": "",
            "zerolinecolor": "white"
           },
           "yaxis": {
            "backgroundcolor": "#E5ECF6",
            "gridcolor": "white",
            "gridwidth": 2,
            "linecolor": "white",
            "showbackground": true,
            "ticks": "",
            "zerolinecolor": "white"
           },
           "zaxis": {
            "backgroundcolor": "#E5ECF6",
            "gridcolor": "white",
            "gridwidth": 2,
            "linecolor": "white",
            "showbackground": true,
            "ticks": "",
            "zerolinecolor": "white"
           }
          },
          "shapedefaults": {
           "line": {
            "color": "#2a3f5f"
           }
          },
          "ternary": {
           "aaxis": {
            "gridcolor": "white",
            "linecolor": "white",
            "ticks": ""
           },
           "baxis": {
            "gridcolor": "white",
            "linecolor": "white",
            "ticks": ""
           },
           "bgcolor": "#E5ECF6",
           "caxis": {
            "gridcolor": "white",
            "linecolor": "white",
            "ticks": ""
           }
          },
          "title": {
           "x": 0.05
          },
          "xaxis": {
           "automargin": true,
           "gridcolor": "white",
           "linecolor": "white",
           "ticks": "",
           "title": {
            "standoff": 15
           },
           "zerolinecolor": "white",
           "zerolinewidth": 2
          },
          "yaxis": {
           "automargin": true,
           "gridcolor": "white",
           "linecolor": "white",
           "ticks": "",
           "title": {
            "standoff": 15
           },
           "zerolinecolor": "white",
           "zerolinewidth": 2
          }
         }
        },
        "title": {
         "text": "Expectedgoals per minute",
         "x": 0.5
        },
        "width": 700,
        "xaxis": {
         "anchor": "y",
         "domain": [
          0,
          1
         ],
         "title": {
          "text": "index"
         }
        },
        "yaxis": {
         "anchor": "x",
         "domain": [
          0,
          1
         ],
         "range": [
          0,
          [
           null,
           0.02,
           0.02578947368421053,
           0.02578947368421053,
           0.02131578947368421,
           0.025,
           0.02631578947368421,
           0.043421052631578944,
           0.024473684210526314,
           0.03605263157894737,
           0.03710526315789474,
           0.05078947368421052,
           0.035263157894736843,
           0.04131578947368421,
           0.023421052631578947,
           0.03631578947368421,
           0.04473684210526316,
           0.02394736842105263,
           0.05210526315789474,
           0.024473684210526314,
           0.020263157894736844,
           0.03289473684210526,
           0.038157894736842106,
           0.02605263157894737,
           0.02236842105263158,
           0.05973684210526316,
           0.03342105263157895,
           0.021052631578947368,
           0.06184210526315789,
           0.045,
           0.027894736842105264,
           0.036052631578947364,
           0.028421052631578944,
           0.021052631578947368,
           0.025789473684210525,
           0.026578947368421053,
           0.04289473684210526,
           0.030789473684210533,
           0.027894736842105264,
           0.03263157894736842,
           0.02710526315789474,
           0.026052631578947372,
           0.0368421052631579,
           0.05026315789473684,
           0.03657894736842106,
           0.031052631578947366,
           0.04868421052631579,
           0.05447368421052633,
           0.059473684210526304,
           0.029473684210526315,
           0.04421052631578947,
           0.025789473684210525,
           0.020789473684210528,
           0.034473684210526316,
           0.03736842105263157,
           0.034736842105263156,
           0.04236842105263157,
           0.0668421052631579,
           0.030000000000000006,
           0.028421052631578944,
           0.030263157894736832,
           0.04552631578947369,
           0.02394736842105263,
           0.03236842105263159,
           0.026315789473684202,
           0.023157894736842106,
           0.06815789473684211,
           0.034210526315789476,
           0.04473684210526316,
           0.022894736842105263,
           0.03815789473684211,
           0.028157894736842107,
           0.04578947368421052,
           0.027368421052631587,
           0.020526315789473684,
           0.05657894736842105,
           0.043421052631578944,
           0.038947368421052626,
           0.025,
           0.03894736842105263,
           0.05000000000000001,
           0.035789473684210524,
           0.031315789473684214,
           0.022105263157894735,
           0.05289473684210526,
           0.023421052631578947,
           0.05210526315789474,
           0.020263157894736844,
           0.031315789473684214,
           0.03657894736842106,
           0.0368421052631579,
           -0.565,
           -0.2386842105263158,
           -0.06631578947368419,
           -0.25552631578947366,
           -0.06921052631578946,
           -0.01789473684210526
          ]
         ],
         "title": {
          "text": "xG"
         }
        }
       }
      }
     },
     "metadata": {},
     "output_type": "display_data"
    }
   ],
   "source": [
    "fig_xg_homexg_complete_game_all_bpse = px.line(\n",
    "    dfxg_homexg_complete_game_all_bps.clip(lower=0).mean(),\n",
    "    width=widthfig,\n",
    ").update_traces(textposition='top center', selector={'type': 'scatter'}).update_traces(\n",
    "    marker=dict(color='green'), selector={'type': 'histogram'}\n",
    ")\n",
    "fig_xg_homexg_complete_game_all_bpse.add_scatter(y=dfxg_awayxg_complete_game_all_bps.clip(lower=0).mean(), mode='lines', name='Opponent xG')\n",
    "fig_xg_homexg_complete_game_all_bpse.update_layout(\n",
    "    title_text='Expectedgoals per minute', title_x=0.5,\n",
    "    yaxis=dict(\n",
    "        title=\"xG\"\n",
    "    ))\n",
    "fig_xg_homexg_complete_game_all_bpse.update_yaxes(range=[0, dfxg_awayxg_complete_game_all_bps.mean()+0.02])\n",
    "\n"
   ]
  },
  {
   "cell_type": "code",
   "execution_count": 139,
   "metadata": {},
   "outputs": [],
   "source": [
    "dfxg_complete_game_all_bps = dfxg_homexg_complete_game_all_bps.clip(lower=0).mean() - dfxg_awayxg_complete_game_all_bps.clip(lower=0).mean()"
   ]
  },
  {
   "cell_type": "code",
   "execution_count": 141,
   "metadata": {},
   "outputs": [
    {
     "data": {
      "application/vnd.plotly.v1+json": {
       "config": {
        "plotlyServerURL": "https://plot.ly"
       },
       "data": [
        {
         "name": "HOME",
         "type": "bar",
         "y": [
          null,
          0.01236842105263158,
          0.019473684210526317,
          0.017368421052631578,
          0.034736842105263156,
          0.032105263157894734,
          0.05157894736842104,
          0.027105263157894736,
          0.0026315789473684206,
          0.0218421052631579,
          0.01394736842105263,
          0.026052631578947372,
          0.01894736842105263,
          0.006842105263157889,
          0.02078947368421053,
          0.004736842105263157,
          0.017894736842105262,
          0.005000000000000001,
          0.000526315789473684,
          0.03210526315789474,
          0,
          0.007894736842105262,
          0.0042105263157894745,
          0.041315789473684215,
          0.011315789473684213,
          0.016842105263157898,
          0.0013157894736842088,
          0.007631578947368425,
          0.020263157894736844,
          0.01289473684210527,
          0.024473684210526307,
          0.007894736842105263,
          0.031578947368421054,
          0.0010526315789473693,
          0.01631578947368421,
          0.0023684210526315795,
          0.01631578947368421,
          0.020263157894736844,
          0.002894736842105263,
          0.005526315789473683,
          0.0034210526315789475,
          0.007894736842105262,
          0.0018421052631578945,
          0.02394736842105264,
          0.0044736842105263155,
          0.0007894736842105271,
          0.033684210526315796,
          0.028947368421052635,
          0.04736842105263159,
          0.003421052631578949,
          0.012105263157894739,
          0.03026315789473684,
          0.0026315789473684236,
          0.025263157894736845,
          0.023157894736842103,
          0.0007894736842105241,
          0.024999999999999988,
          0.014736842105263156,
          0.048684210526315795,
          0.00526315789473685,
          0.01710526315789474,
          0.021052631578947364,
          0.005263157894736841,
          0.010000000000000004,
          0.049210526315789475,
          0.016315789473684207,
          0.017631578947368425,
          0.003947368421052628,
          0.011578947368421045,
          0.01052631578947369,
          0.033947368421052615,
          0.008421052631578944,
          0.002894736842105263,
          0.00578947368421052,
          0.0023684210526315782,
          0.02736842105263158,
          0.018947368421052626,
          0.027105263157894754,
          0.007631578947368425,
          0.03473684210526315,
          0.010000000000000007,
          0.007631578947368422,
          0.0418421052631579,
          0.005263157894736835,
          0.01684210526315788,
          0.013947368421052639,
          0.006315789473684213,
          0.020789473684210514,
          0.0031578947368421043,
          0.003684210526315792,
          0.01789473684210527,
          0.014210526315789472,
          0.01263157894736842,
          0.010263157894736846,
          0.003421052631578949,
          0,
          0.0010526315789473693
         ]
        },
        {
         "name": "AWAY",
         "type": "bar",
         "y": [
          null,
          0,
          0.0057894736842105275,
          0.005789473684210527,
          0.0013157894736842105,
          0.005,
          0.00631578947368421,
          0.023421052631578943,
          0.0044736842105263155,
          0.01605263157894737,
          0.01710526315789474,
          0.030789473684210523,
          0.015263157894736841,
          0.02131578947368421,
          0.003421052631578946,
          0.01631578947368421,
          0.024736842105263158,
          0.003947368421052631,
          0.03210526315789474,
          0.0044736842105263155,
          0.0002631578947368423,
          0.01289473684210526,
          0.018157894736842106,
          0.006052631578947369,
          0.00236842105263158,
          0.03973684210526316,
          0.013421052631578948,
          0.001052631578947369,
          0.041842105263157896,
          0.024999999999999998,
          0.007894736842105265,
          0.016052631578947367,
          0.008421052631578945,
          0.0010526315789473664,
          0.005789473684210526,
          0.006578947368421052,
          0.022894736842105263,
          0.010789473684210531,
          0.007894736842105265,
          0.012631578947368423,
          0.00710526315789474,
          0.006052631578947371,
          0.016842105263157898,
          0.03026315789473684,
          0.016578947368421054,
          0.011052631578947366,
          0.028684210526315784,
          0.03447368421052632,
          0.03947368421052631,
          0.009473684210526315,
          0.02421052631578947,
          0.005789473684210526,
          0.0007894736842105271,
          0.014473684210526317,
          0.01736842105263157,
          0.014736842105263154,
          0.022368421052631572,
          0.0468421052631579,
          0.010000000000000004,
          0.008421052631578945,
          0.010263157894736833,
          0.02552631578947369,
          0.003947368421052629,
          0.012368421052631591,
          0.0063157894736842,
          0.0031578947368421065,
          0.04815789473684211,
          0.014210526315789477,
          0.024736842105263158,
          0.0028947368421052624,
          0.01815789473684211,
          0.008157894736842107,
          0.025789473684210522,
          0.007368421052631586,
          0.0005263157894736846,
          0.036578947368421044,
          0.023421052631578947,
          0.018947368421052626,
          0.005000000000000002,
          0.01894736842105263,
          0.03000000000000001,
          0.01578947368421052,
          0.011315789473684211,
          0.002105263157894734,
          0.03289473684210526,
          0.0034210526315789475,
          0.032105263157894734,
          0.0002631578947368423,
          0.01131578947368421,
          0.016578947368421054,
          0.016842105263157894,
          0.007368421052631577,
          0.0031578947368421082,
          0.004210526315789477,
          0.0007894736842105255,
          0.003157894736842102,
          0
         ]
        },
        {
         "type": "scatter",
         "y": [
          null,
          0.01236842105263158,
          0.013684210526315788,
          0.011578947368421052,
          0.03342105263157895,
          0.027105263157894733,
          0.045263157894736825,
          0.0036842105263157933,
          -0.001842105263157895,
          0.005789473684210528,
          -0.0031578947368421113,
          -0.00473684210526315,
          0.003684210526315788,
          -0.014473684210526323,
          0.017368421052631585,
          -0.011578947368421053,
          -0.006842105263157896,
          0.0010526315789473701,
          -0.031578947368421054,
          0.027631578947368424,
          -0.0002631578947368423,
          -0.0049999999999999975,
          -0.013947368421052632,
          0.035263157894736843,
          0.008947368421052633,
          -0.022894736842105263,
          -0.012105263157894739,
          0.006578947368421056,
          -0.02157894736842105,
          -0.012105263157894728,
          0.01657894736842104,
          -0.008157894736842104,
          0.023157894736842106,
          2.8189256484623115e-18,
          0.010526315789473686,
          -0.004210526315789473,
          -0.006578947368421052,
          0.009473684210526313,
          -0.005000000000000003,
          -0.0071052631578947395,
          -0.003684210526315793,
          0.0018421052631578906,
          -0.015000000000000003,
          -0.006315789473684198,
          -0.012105263157894739,
          -0.010263157894736839,
          0.005000000000000011,
          -0.005526315789473688,
          0.00789473684210528,
          -0.006052631578947366,
          -0.012105263157894732,
          0.024473684210526314,
          0.0018421052631578966,
          0.010789473684210528,
          0.005789473684210532,
          -0.01394736842105263,
          0.0026315789473684154,
          -0.03210526315789475,
          0.03868421052631579,
          -0.0031578947368420957,
          0.006842105263157908,
          -0.004473684210526324,
          0.001315789473684212,
          -0.0023684210526315874,
          0.04289473684210528,
          0.013157894736842101,
          -0.030526315789473683,
          -0.010263157894736849,
          -0.013157894736842113,
          0.007631578947368427,
          0.015789473684210506,
          0.0002631578947368367,
          -0.02289473684210526,
          -0.001578947368421066,
          0.0018421052631578936,
          -0.009210526315789464,
          -0.004473684210526321,
          0.008157894736842128,
          0.002631578947368423,
          0.01578947368421052,
          -0.020000000000000004,
          -0.008157894736842097,
          0.030526315789473693,
          0.003157894736842101,
          -0.01605263157894738,
          0.010526315789473691,
          -0.025789473684210522,
          0.02052631578947367,
          -0.008157894736842105,
          -0.012894736842105263,
          0.0010526315789473745,
          0.006842105263157895,
          0.009473684210526313,
          0.0060526315789473685,
          0.002631578947368423,
          -0.003157894736842102,
          0.0010526315789473693
         ]
        }
       ],
       "layout": {
        "barmode": "group",
        "template": {
         "data": {
          "bar": [
           {
            "error_x": {
             "color": "#2a3f5f"
            },
            "error_y": {
             "color": "#2a3f5f"
            },
            "marker": {
             "line": {
              "color": "#E5ECF6",
              "width": 0.5
             },
             "pattern": {
              "fillmode": "overlay",
              "size": 10,
              "solidity": 0.2
             }
            },
            "type": "bar"
           }
          ],
          "barpolar": [
           {
            "marker": {
             "line": {
              "color": "#E5ECF6",
              "width": 0.5
             },
             "pattern": {
              "fillmode": "overlay",
              "size": 10,
              "solidity": 0.2
             }
            },
            "type": "barpolar"
           }
          ],
          "carpet": [
           {
            "aaxis": {
             "endlinecolor": "#2a3f5f",
             "gridcolor": "white",
             "linecolor": "white",
             "minorgridcolor": "white",
             "startlinecolor": "#2a3f5f"
            },
            "baxis": {
             "endlinecolor": "#2a3f5f",
             "gridcolor": "white",
             "linecolor": "white",
             "minorgridcolor": "white",
             "startlinecolor": "#2a3f5f"
            },
            "type": "carpet"
           }
          ],
          "choropleth": [
           {
            "colorbar": {
             "outlinewidth": 0,
             "ticks": ""
            },
            "type": "choropleth"
           }
          ],
          "contour": [
           {
            "colorbar": {
             "outlinewidth": 0,
             "ticks": ""
            },
            "colorscale": [
             [
              0,
              "#0d0887"
             ],
             [
              0.1111111111111111,
              "#46039f"
             ],
             [
              0.2222222222222222,
              "#7201a8"
             ],
             [
              0.3333333333333333,
              "#9c179e"
             ],
             [
              0.4444444444444444,
              "#bd3786"
             ],
             [
              0.5555555555555556,
              "#d8576b"
             ],
             [
              0.6666666666666666,
              "#ed7953"
             ],
             [
              0.7777777777777778,
              "#fb9f3a"
             ],
             [
              0.8888888888888888,
              "#fdca26"
             ],
             [
              1,
              "#f0f921"
             ]
            ],
            "type": "contour"
           }
          ],
          "contourcarpet": [
           {
            "colorbar": {
             "outlinewidth": 0,
             "ticks": ""
            },
            "type": "contourcarpet"
           }
          ],
          "heatmap": [
           {
            "colorbar": {
             "outlinewidth": 0,
             "ticks": ""
            },
            "colorscale": [
             [
              0,
              "#0d0887"
             ],
             [
              0.1111111111111111,
              "#46039f"
             ],
             [
              0.2222222222222222,
              "#7201a8"
             ],
             [
              0.3333333333333333,
              "#9c179e"
             ],
             [
              0.4444444444444444,
              "#bd3786"
             ],
             [
              0.5555555555555556,
              "#d8576b"
             ],
             [
              0.6666666666666666,
              "#ed7953"
             ],
             [
              0.7777777777777778,
              "#fb9f3a"
             ],
             [
              0.8888888888888888,
              "#fdca26"
             ],
             [
              1,
              "#f0f921"
             ]
            ],
            "type": "heatmap"
           }
          ],
          "heatmapgl": [
           {
            "colorbar": {
             "outlinewidth": 0,
             "ticks": ""
            },
            "colorscale": [
             [
              0,
              "#0d0887"
             ],
             [
              0.1111111111111111,
              "#46039f"
             ],
             [
              0.2222222222222222,
              "#7201a8"
             ],
             [
              0.3333333333333333,
              "#9c179e"
             ],
             [
              0.4444444444444444,
              "#bd3786"
             ],
             [
              0.5555555555555556,
              "#d8576b"
             ],
             [
              0.6666666666666666,
              "#ed7953"
             ],
             [
              0.7777777777777778,
              "#fb9f3a"
             ],
             [
              0.8888888888888888,
              "#fdca26"
             ],
             [
              1,
              "#f0f921"
             ]
            ],
            "type": "heatmapgl"
           }
          ],
          "histogram": [
           {
            "marker": {
             "pattern": {
              "fillmode": "overlay",
              "size": 10,
              "solidity": 0.2
             }
            },
            "type": "histogram"
           }
          ],
          "histogram2d": [
           {
            "colorbar": {
             "outlinewidth": 0,
             "ticks": ""
            },
            "colorscale": [
             [
              0,
              "#0d0887"
             ],
             [
              0.1111111111111111,
              "#46039f"
             ],
             [
              0.2222222222222222,
              "#7201a8"
             ],
             [
              0.3333333333333333,
              "#9c179e"
             ],
             [
              0.4444444444444444,
              "#bd3786"
             ],
             [
              0.5555555555555556,
              "#d8576b"
             ],
             [
              0.6666666666666666,
              "#ed7953"
             ],
             [
              0.7777777777777778,
              "#fb9f3a"
             ],
             [
              0.8888888888888888,
              "#fdca26"
             ],
             [
              1,
              "#f0f921"
             ]
            ],
            "type": "histogram2d"
           }
          ],
          "histogram2dcontour": [
           {
            "colorbar": {
             "outlinewidth": 0,
             "ticks": ""
            },
            "colorscale": [
             [
              0,
              "#0d0887"
             ],
             [
              0.1111111111111111,
              "#46039f"
             ],
             [
              0.2222222222222222,
              "#7201a8"
             ],
             [
              0.3333333333333333,
              "#9c179e"
             ],
             [
              0.4444444444444444,
              "#bd3786"
             ],
             [
              0.5555555555555556,
              "#d8576b"
             ],
             [
              0.6666666666666666,
              "#ed7953"
             ],
             [
              0.7777777777777778,
              "#fb9f3a"
             ],
             [
              0.8888888888888888,
              "#fdca26"
             ],
             [
              1,
              "#f0f921"
             ]
            ],
            "type": "histogram2dcontour"
           }
          ],
          "mesh3d": [
           {
            "colorbar": {
             "outlinewidth": 0,
             "ticks": ""
            },
            "type": "mesh3d"
           }
          ],
          "parcoords": [
           {
            "line": {
             "colorbar": {
              "outlinewidth": 0,
              "ticks": ""
             }
            },
            "type": "parcoords"
           }
          ],
          "pie": [
           {
            "automargin": true,
            "type": "pie"
           }
          ],
          "scatter": [
           {
            "marker": {
             "colorbar": {
              "outlinewidth": 0,
              "ticks": ""
             }
            },
            "type": "scatter"
           }
          ],
          "scatter3d": [
           {
            "line": {
             "colorbar": {
              "outlinewidth": 0,
              "ticks": ""
             }
            },
            "marker": {
             "colorbar": {
              "outlinewidth": 0,
              "ticks": ""
             }
            },
            "type": "scatter3d"
           }
          ],
          "scattercarpet": [
           {
            "marker": {
             "colorbar": {
              "outlinewidth": 0,
              "ticks": ""
             }
            },
            "type": "scattercarpet"
           }
          ],
          "scattergeo": [
           {
            "marker": {
             "colorbar": {
              "outlinewidth": 0,
              "ticks": ""
             }
            },
            "type": "scattergeo"
           }
          ],
          "scattergl": [
           {
            "marker": {
             "colorbar": {
              "outlinewidth": 0,
              "ticks": ""
             }
            },
            "type": "scattergl"
           }
          ],
          "scattermapbox": [
           {
            "marker": {
             "colorbar": {
              "outlinewidth": 0,
              "ticks": ""
             }
            },
            "type": "scattermapbox"
           }
          ],
          "scatterpolar": [
           {
            "marker": {
             "colorbar": {
              "outlinewidth": 0,
              "ticks": ""
             }
            },
            "type": "scatterpolar"
           }
          ],
          "scatterpolargl": [
           {
            "marker": {
             "colorbar": {
              "outlinewidth": 0,
              "ticks": ""
             }
            },
            "type": "scatterpolargl"
           }
          ],
          "scatterternary": [
           {
            "marker": {
             "colorbar": {
              "outlinewidth": 0,
              "ticks": ""
             }
            },
            "type": "scatterternary"
           }
          ],
          "surface": [
           {
            "colorbar": {
             "outlinewidth": 0,
             "ticks": ""
            },
            "colorscale": [
             [
              0,
              "#0d0887"
             ],
             [
              0.1111111111111111,
              "#46039f"
             ],
             [
              0.2222222222222222,
              "#7201a8"
             ],
             [
              0.3333333333333333,
              "#9c179e"
             ],
             [
              0.4444444444444444,
              "#bd3786"
             ],
             [
              0.5555555555555556,
              "#d8576b"
             ],
             [
              0.6666666666666666,
              "#ed7953"
             ],
             [
              0.7777777777777778,
              "#fb9f3a"
             ],
             [
              0.8888888888888888,
              "#fdca26"
             ],
             [
              1,
              "#f0f921"
             ]
            ],
            "type": "surface"
           }
          ],
          "table": [
           {
            "cells": {
             "fill": {
              "color": "#EBF0F8"
             },
             "line": {
              "color": "white"
             }
            },
            "header": {
             "fill": {
              "color": "#C8D4E3"
             },
             "line": {
              "color": "white"
             }
            },
            "type": "table"
           }
          ]
         },
         "layout": {
          "annotationdefaults": {
           "arrowcolor": "#2a3f5f",
           "arrowhead": 0,
           "arrowwidth": 1
          },
          "autotypenumbers": "strict",
          "coloraxis": {
           "colorbar": {
            "outlinewidth": 0,
            "ticks": ""
           }
          },
          "colorscale": {
           "diverging": [
            [
             0,
             "#8e0152"
            ],
            [
             0.1,
             "#c51b7d"
            ],
            [
             0.2,
             "#de77ae"
            ],
            [
             0.3,
             "#f1b6da"
            ],
            [
             0.4,
             "#fde0ef"
            ],
            [
             0.5,
             "#f7f7f7"
            ],
            [
             0.6,
             "#e6f5d0"
            ],
            [
             0.7,
             "#b8e186"
            ],
            [
             0.8,
             "#7fbc41"
            ],
            [
             0.9,
             "#4d9221"
            ],
            [
             1,
             "#276419"
            ]
           ],
           "sequential": [
            [
             0,
             "#0d0887"
            ],
            [
             0.1111111111111111,
             "#46039f"
            ],
            [
             0.2222222222222222,
             "#7201a8"
            ],
            [
             0.3333333333333333,
             "#9c179e"
            ],
            [
             0.4444444444444444,
             "#bd3786"
            ],
            [
             0.5555555555555556,
             "#d8576b"
            ],
            [
             0.6666666666666666,
             "#ed7953"
            ],
            [
             0.7777777777777778,
             "#fb9f3a"
            ],
            [
             0.8888888888888888,
             "#fdca26"
            ],
            [
             1,
             "#f0f921"
            ]
           ],
           "sequentialminus": [
            [
             0,
             "#0d0887"
            ],
            [
             0.1111111111111111,
             "#46039f"
            ],
            [
             0.2222222222222222,
             "#7201a8"
            ],
            [
             0.3333333333333333,
             "#9c179e"
            ],
            [
             0.4444444444444444,
             "#bd3786"
            ],
            [
             0.5555555555555556,
             "#d8576b"
            ],
            [
             0.6666666666666666,
             "#ed7953"
            ],
            [
             0.7777777777777778,
             "#fb9f3a"
            ],
            [
             0.8888888888888888,
             "#fdca26"
            ],
            [
             1,
             "#f0f921"
            ]
           ]
          },
          "colorway": [
           "#636efa",
           "#EF553B",
           "#00cc96",
           "#ab63fa",
           "#FFA15A",
           "#19d3f3",
           "#FF6692",
           "#B6E880",
           "#FF97FF",
           "#FECB52"
          ],
          "font": {
           "color": "#2a3f5f"
          },
          "geo": {
           "bgcolor": "white",
           "lakecolor": "white",
           "landcolor": "#E5ECF6",
           "showlakes": true,
           "showland": true,
           "subunitcolor": "white"
          },
          "hoverlabel": {
           "align": "left"
          },
          "hovermode": "closest",
          "mapbox": {
           "style": "light"
          },
          "paper_bgcolor": "white",
          "plot_bgcolor": "#E5ECF6",
          "polar": {
           "angularaxis": {
            "gridcolor": "white",
            "linecolor": "white",
            "ticks": ""
           },
           "bgcolor": "#E5ECF6",
           "radialaxis": {
            "gridcolor": "white",
            "linecolor": "white",
            "ticks": ""
           }
          },
          "scene": {
           "xaxis": {
            "backgroundcolor": "#E5ECF6",
            "gridcolor": "white",
            "gridwidth": 2,
            "linecolor": "white",
            "showbackground": true,
            "ticks": "",
            "zerolinecolor": "white"
           },
           "yaxis": {
            "backgroundcolor": "#E5ECF6",
            "gridcolor": "white",
            "gridwidth": 2,
            "linecolor": "white",
            "showbackground": true,
            "ticks": "",
            "zerolinecolor": "white"
           },
           "zaxis": {
            "backgroundcolor": "#E5ECF6",
            "gridcolor": "white",
            "gridwidth": 2,
            "linecolor": "white",
            "showbackground": true,
            "ticks": "",
            "zerolinecolor": "white"
           }
          },
          "shapedefaults": {
           "line": {
            "color": "#2a3f5f"
           }
          },
          "ternary": {
           "aaxis": {
            "gridcolor": "white",
            "linecolor": "white",
            "ticks": ""
           },
           "baxis": {
            "gridcolor": "white",
            "linecolor": "white",
            "ticks": ""
           },
           "bgcolor": "#E5ECF6",
           "caxis": {
            "gridcolor": "white",
            "linecolor": "white",
            "ticks": ""
           }
          },
          "title": {
           "x": 0.05
          },
          "xaxis": {
           "automargin": true,
           "gridcolor": "white",
           "linecolor": "white",
           "ticks": "",
           "title": {
            "standoff": 15
           },
           "zerolinecolor": "white",
           "zerolinewidth": 2
          },
          "yaxis": {
           "automargin": true,
           "gridcolor": "white",
           "linecolor": "white",
           "ticks": "",
           "title": {
            "standoff": 15
           },
           "zerolinecolor": "white",
           "zerolinewidth": 2
          }
         }
        }
       }
      }
     },
     "metadata": {},
     "output_type": "display_data"
    }
   ],
   "source": [
    "import plotly.graph_objects as go\n",
    "\n",
    "fig = go.Figure(data=[\n",
    "    go.Bar(name='HOME', y=dfxg_homexg_complete_game_all_bps.clip(lower=0).mean() ),\n",
    "    go.Bar(name='AWAY', y=dfxg_awayxg_complete_game_all_bps.clip(lower=0).mean() ),\n",
    "    # go.Bar(name='LA Zoo', x=animals, y=[12, 18, 29])\n",
    "])\n",
    "\n",
    "fig.add_trace(\n",
    "    go.Scatter(\n",
    "        y=dfxg_complete_game_all_bps\n",
    "    ))\n",
    "\n",
    "\n",
    "# # Change the bar mode\n",
    "fig.update_layout(barmode='group')\n",
    "fig.show()"
   ]
  },
  {
   "cell_type": "code",
   "execution_count": 145,
   "metadata": {},
   "outputs": [
    {
     "name": "stdout",
     "output_type": "stream",
     "text": [
      "df4Complete_show\n",
      "      Home  Opponent  IsHome  R    xG  A_xG   G-H   G-A   BP-H   BP-A   GA-H  \\\n",
      "75  Verona     Lazio       0  D 2.000 3.500 2.000 2.000 46.000 54.000  8.000   \n",
      "74  Verona     Lazio       0  D 2.000 3.500 1.000 1.000 44.000 56.000 11.000   \n",
      "72  Verona    Torino       1  D 0.700 1.700 0.000 0.000 51.000 49.000  7.000   \n",
      "..     ...       ...     ... ..   ...   ...   ...   ...    ...    ...    ...   \n",
      "3   Verona     Inter       1  D 0.600 1.800 1.000 0.000 36.000 64.000  5.000   \n",
      "1   Verona  Sassuolo       1  A 2.200 1.900 0.000 1.000 48.000 52.000  7.000   \n",
      "0   Verona  Sassuolo       1  D 2.200 1.900 2.000 2.000 44.000 56.000  8.000   \n",
      "\n",
      "    GA-A  SoG-H  SoG-A  xPTS  A_xPTS                Date  xg_halftime  \\\n",
      "75 4.000  3.000  3.000 0.400   2.400 2022-05-21 20:45:00        0.700   \n",
      "74 6.000  4.000  4.000 0.400   2.400 2022-05-21 20:45:00        0.700   \n",
      "72 3.000  1.000  3.000 0.600   2.200 2022-05-14 18:00:00        0.600   \n",
      "..   ...    ...    ...   ...     ...                 ...          ...   \n",
      "3  3.000  1.000  1.000 0.500   2.300 2021-08-27 11:45:00        0.400   \n",
      "1  9.000  1.000  4.000 1.700   1.100 2021-08-21 09:30:00        1.000   \n",
      "0  3.000  3.000  4.000 1.700   1.100 2021-08-21 09:30:00        1.000   \n",
      "\n",
      "    Axg_halftime  A_Red Cards  H_Red Cards  \n",
      "75         0.800        0.000        0.000  \n",
      "74         0.800        0.000        0.000  \n",
      "72         1.100        0.000        0.000  \n",
      "..           ...          ...          ...  \n",
      "3          0.500        0.000        0.000  \n",
      "1          0.600        0.000        1.000  \n",
      "0          0.600        0.000        0.000  \n",
      "\n",
      "[76 rows x 21 columns]\n"
     ]
    }
   ],
   "source": [
    "dfxg_homexg_complete_game_bigger_55 = pd.DataFrame(df4Complete[(df4Complete[\"BP-H\"]>55)].homexg_complete_game.tolist(), index= df4Complete[(df4Complete[\"BP-H\"]>55)].index)\n",
    "dfxg_awayxg_complete_game_bigger_55 = pd.DataFrame(df4Complete[(df4Complete[\"BP-H\"]>55)].awayxg_complete_game.tolist(), index= df4Complete[(df4Complete[\"BP-H\"]>55)].index)\n",
    "dfxg_homexg_complete_game_bigger_55 = dfxg_homexg_complete_game_bigger_55.apply(pd.to_numeric)\n",
    "dfxg_awayxg_complete_game_bigger_55 = dfxg_awayxg_complete_game_bigger_55.apply(pd.to_numeric)\n",
    "dfxg_homexg_complete_game_bigger_55 = dfxg_homexg_complete_game_bigger_55.T.diff()\n",
    "dfxg_awayxg_complete_game_bigger_55 = dfxg_awayxg_complete_game_bigger_55.T.diff()\n",
    "dfxg_homexg_complete_game_bigger_55 = dfxg_homexg_complete_game_bigger_55.T\n",
    "dfxg_awayxg_complete_game_bigger_55 = dfxg_awayxg_complete_game_bigger_55.T\n",
    "\n",
    "dfxg_homexg_complete_game_smaller_45 = pd.DataFrame(df4Complete[(df4Complete[\"BP-H\"]<45)].homexg_complete_game.tolist(), index= df4Complete[(df4Complete[\"BP-H\"]<45)].index)\n",
    "dfxg_awayxg_complete_game_smaller_45 = pd.DataFrame(df4Complete[(df4Complete[\"BP-H\"]<45)].awayxg_complete_game.tolist(), index= df4Complete[(df4Complete[\"BP-H\"]<45)].index)\n",
    "dfxg_homexg_complete_game_smaller_45 = dfxg_homexg_complete_game_smaller_45.apply(pd.to_numeric)\n",
    "dfxg_awayxg_complete_game_smaller_45 = dfxg_awayxg_complete_game_smaller_45.apply(pd.to_numeric)\n",
    "dfxg_homexg_complete_game_smaller_45 = dfxg_homexg_complete_game_smaller_45.T.diff()\n",
    "dfxg_awayxg_complete_game_smaller_45 = dfxg_awayxg_complete_game_smaller_45.T.diff()\n",
    "dfxg_homexg_complete_game_smaller_45 = dfxg_homexg_complete_game_smaller_45.T\n",
    "dfxg_awayxg_complete_game_smaller_45 = dfxg_awayxg_complete_game_smaller_45.T\n",
    "\n",
    "\n",
    "print(\"df4Complete_show\")\n",
    "print(df4Complete_show)\n",
    "# create df for visualizing\n",
    "df4CompleteGraph = df4Complete.copy()\n",
    "\n"
   ]
  },
  {
   "cell_type": "code",
   "execution_count": null,
   "metadata": {},
   "outputs": [],
   "source": []
  },
  {
   "cell_type": "code",
   "execution_count": 144,
   "metadata": {},
   "outputs": [
    {
     "name": "stdout",
     "output_type": "stream",
     "text": [
      "df4Complete_show\n",
      "      Home  Opponent  IsHome  R    xG  A_xG   G-H   G-A   BP-H   BP-A   GA-H  \\\n",
      "75  Verona     Lazio       0  D 2.000 3.500 2.000 2.000 46.000 54.000  8.000   \n",
      "74  Verona     Lazio       0  D 2.000 3.500 1.000 1.000 44.000 56.000 11.000   \n",
      "72  Verona    Torino       1  D 0.700 1.700 0.000 0.000 51.000 49.000  7.000   \n",
      "..     ...       ...     ... ..   ...   ...   ...   ...    ...    ...    ...   \n",
      "3   Verona     Inter       1  D 0.600 1.800 1.000 0.000 36.000 64.000  5.000   \n",
      "1   Verona  Sassuolo       1  A 2.200 1.900 0.000 1.000 48.000 52.000  7.000   \n",
      "0   Verona  Sassuolo       1  D 2.200 1.900 2.000 2.000 44.000 56.000  8.000   \n",
      "\n",
      "    GA-A  SoG-H  SoG-A  xPTS  A_xPTS                Date  xg_halftime  \\\n",
      "75 4.000  3.000  3.000 0.400   2.400 2022-05-21 20:45:00        0.700   \n",
      "74 6.000  4.000  4.000 0.400   2.400 2022-05-21 20:45:00        0.700   \n",
      "72 3.000  1.000  3.000 0.600   2.200 2022-05-14 18:00:00        0.600   \n",
      "..   ...    ...    ...   ...     ...                 ...          ...   \n",
      "3  3.000  1.000  1.000 0.500   2.300 2021-08-27 11:45:00        0.400   \n",
      "1  9.000  1.000  4.000 1.700   1.100 2021-08-21 09:30:00        1.000   \n",
      "0  3.000  3.000  4.000 1.700   1.100 2021-08-21 09:30:00        1.000   \n",
      "\n",
      "    Axg_halftime  A_Red Cards  H_Red Cards  \n",
      "75         0.800        0.000        0.000  \n",
      "74         0.800        0.000        0.000  \n",
      "72         1.100        0.000        0.000  \n",
      "..           ...          ...          ...  \n",
      "3          0.500        0.000        0.000  \n",
      "1          0.600        0.000        1.000  \n",
      "0          0.600        0.000        0.000  \n",
      "\n",
      "[76 rows x 21 columns]\n"
     ]
    },
    {
     "data": {
      "application/vnd.plotly.v1+json": {
       "config": {
        "plotlyServerURL": "https://plot.ly"
       },
       "data": [],
       "layout": {
        "barmode": "relative",
        "legend": {
         "tracegroupgap": 0
        },
        "margin": {
         "t": 60
        },
        "template": {
         "data": {
          "bar": [
           {
            "error_x": {
             "color": "#2a3f5f"
            },
            "error_y": {
             "color": "#2a3f5f"
            },
            "marker": {
             "line": {
              "color": "#E5ECF6",
              "width": 0.5
             },
             "pattern": {
              "fillmode": "overlay",
              "size": 10,
              "solidity": 0.2
             }
            },
            "type": "bar"
           }
          ],
          "barpolar": [
           {
            "marker": {
             "line": {
              "color": "#E5ECF6",
              "width": 0.5
             },
             "pattern": {
              "fillmode": "overlay",
              "size": 10,
              "solidity": 0.2
             }
            },
            "type": "barpolar"
           }
          ],
          "carpet": [
           {
            "aaxis": {
             "endlinecolor": "#2a3f5f",
             "gridcolor": "white",
             "linecolor": "white",
             "minorgridcolor": "white",
             "startlinecolor": "#2a3f5f"
            },
            "baxis": {
             "endlinecolor": "#2a3f5f",
             "gridcolor": "white",
             "linecolor": "white",
             "minorgridcolor": "white",
             "startlinecolor": "#2a3f5f"
            },
            "type": "carpet"
           }
          ],
          "choropleth": [
           {
            "colorbar": {
             "outlinewidth": 0,
             "ticks": ""
            },
            "type": "choropleth"
           }
          ],
          "contour": [
           {
            "colorbar": {
             "outlinewidth": 0,
             "ticks": ""
            },
            "colorscale": [
             [
              0,
              "#0d0887"
             ],
             [
              0.1111111111111111,
              "#46039f"
             ],
             [
              0.2222222222222222,
              "#7201a8"
             ],
             [
              0.3333333333333333,
              "#9c179e"
             ],
             [
              0.4444444444444444,
              "#bd3786"
             ],
             [
              0.5555555555555556,
              "#d8576b"
             ],
             [
              0.6666666666666666,
              "#ed7953"
             ],
             [
              0.7777777777777778,
              "#fb9f3a"
             ],
             [
              0.8888888888888888,
              "#fdca26"
             ],
             [
              1,
              "#f0f921"
             ]
            ],
            "type": "contour"
           }
          ],
          "contourcarpet": [
           {
            "colorbar": {
             "outlinewidth": 0,
             "ticks": ""
            },
            "type": "contourcarpet"
           }
          ],
          "heatmap": [
           {
            "colorbar": {
             "outlinewidth": 0,
             "ticks": ""
            },
            "colorscale": [
             [
              0,
              "#0d0887"
             ],
             [
              0.1111111111111111,
              "#46039f"
             ],
             [
              0.2222222222222222,
              "#7201a8"
             ],
             [
              0.3333333333333333,
              "#9c179e"
             ],
             [
              0.4444444444444444,
              "#bd3786"
             ],
             [
              0.5555555555555556,
              "#d8576b"
             ],
             [
              0.6666666666666666,
              "#ed7953"
             ],
             [
              0.7777777777777778,
              "#fb9f3a"
             ],
             [
              0.8888888888888888,
              "#fdca26"
             ],
             [
              1,
              "#f0f921"
             ]
            ],
            "type": "heatmap"
           }
          ],
          "heatmapgl": [
           {
            "colorbar": {
             "outlinewidth": 0,
             "ticks": ""
            },
            "colorscale": [
             [
              0,
              "#0d0887"
             ],
             [
              0.1111111111111111,
              "#46039f"
             ],
             [
              0.2222222222222222,
              "#7201a8"
             ],
             [
              0.3333333333333333,
              "#9c179e"
             ],
             [
              0.4444444444444444,
              "#bd3786"
             ],
             [
              0.5555555555555556,
              "#d8576b"
             ],
             [
              0.6666666666666666,
              "#ed7953"
             ],
             [
              0.7777777777777778,
              "#fb9f3a"
             ],
             [
              0.8888888888888888,
              "#fdca26"
             ],
             [
              1,
              "#f0f921"
             ]
            ],
            "type": "heatmapgl"
           }
          ],
          "histogram": [
           {
            "marker": {
             "pattern": {
              "fillmode": "overlay",
              "size": 10,
              "solidity": 0.2
             }
            },
            "type": "histogram"
           }
          ],
          "histogram2d": [
           {
            "colorbar": {
             "outlinewidth": 0,
             "ticks": ""
            },
            "colorscale": [
             [
              0,
              "#0d0887"
             ],
             [
              0.1111111111111111,
              "#46039f"
             ],
             [
              0.2222222222222222,
              "#7201a8"
             ],
             [
              0.3333333333333333,
              "#9c179e"
             ],
             [
              0.4444444444444444,
              "#bd3786"
             ],
             [
              0.5555555555555556,
              "#d8576b"
             ],
             [
              0.6666666666666666,
              "#ed7953"
             ],
             [
              0.7777777777777778,
              "#fb9f3a"
             ],
             [
              0.8888888888888888,
              "#fdca26"
             ],
             [
              1,
              "#f0f921"
             ]
            ],
            "type": "histogram2d"
           }
          ],
          "histogram2dcontour": [
           {
            "colorbar": {
             "outlinewidth": 0,
             "ticks": ""
            },
            "colorscale": [
             [
              0,
              "#0d0887"
             ],
             [
              0.1111111111111111,
              "#46039f"
             ],
             [
              0.2222222222222222,
              "#7201a8"
             ],
             [
              0.3333333333333333,
              "#9c179e"
             ],
             [
              0.4444444444444444,
              "#bd3786"
             ],
             [
              0.5555555555555556,
              "#d8576b"
             ],
             [
              0.6666666666666666,
              "#ed7953"
             ],
             [
              0.7777777777777778,
              "#fb9f3a"
             ],
             [
              0.8888888888888888,
              "#fdca26"
             ],
             [
              1,
              "#f0f921"
             ]
            ],
            "type": "histogram2dcontour"
           }
          ],
          "mesh3d": [
           {
            "colorbar": {
             "outlinewidth": 0,
             "ticks": ""
            },
            "type": "mesh3d"
           }
          ],
          "parcoords": [
           {
            "line": {
             "colorbar": {
              "outlinewidth": 0,
              "ticks": ""
             }
            },
            "type": "parcoords"
           }
          ],
          "pie": [
           {
            "automargin": true,
            "type": "pie"
           }
          ],
          "scatter": [
           {
            "marker": {
             "colorbar": {
              "outlinewidth": 0,
              "ticks": ""
             }
            },
            "type": "scatter"
           }
          ],
          "scatter3d": [
           {
            "line": {
             "colorbar": {
              "outlinewidth": 0,
              "ticks": ""
             }
            },
            "marker": {
             "colorbar": {
              "outlinewidth": 0,
              "ticks": ""
             }
            },
            "type": "scatter3d"
           }
          ],
          "scattercarpet": [
           {
            "marker": {
             "colorbar": {
              "outlinewidth": 0,
              "ticks": ""
             }
            },
            "type": "scattercarpet"
           }
          ],
          "scattergeo": [
           {
            "marker": {
             "colorbar": {
              "outlinewidth": 0,
              "ticks": ""
             }
            },
            "type": "scattergeo"
           }
          ],
          "scattergl": [
           {
            "marker": {
             "colorbar": {
              "outlinewidth": 0,
              "ticks": ""
             }
            },
            "type": "scattergl"
           }
          ],
          "scattermapbox": [
           {
            "marker": {
             "colorbar": {
              "outlinewidth": 0,
              "ticks": ""
             }
            },
            "type": "scattermapbox"
           }
          ],
          "scatterpolar": [
           {
            "marker": {
             "colorbar": {
              "outlinewidth": 0,
              "ticks": ""
             }
            },
            "type": "scatterpolar"
           }
          ],
          "scatterpolargl": [
           {
            "marker": {
             "colorbar": {
              "outlinewidth": 0,
              "ticks": ""
             }
            },
            "type": "scatterpolargl"
           }
          ],
          "scatterternary": [
           {
            "marker": {
             "colorbar": {
              "outlinewidth": 0,
              "ticks": ""
             }
            },
            "type": "scatterternary"
           }
          ],
          "surface": [
           {
            "colorbar": {
             "outlinewidth": 0,
             "ticks": ""
            },
            "colorscale": [
             [
              0,
              "#0d0887"
             ],
             [
              0.1111111111111111,
              "#46039f"
             ],
             [
              0.2222222222222222,
              "#7201a8"
             ],
             [
              0.3333333333333333,
              "#9c179e"
             ],
             [
              0.4444444444444444,
              "#bd3786"
             ],
             [
              0.5555555555555556,
              "#d8576b"
             ],
             [
              0.6666666666666666,
              "#ed7953"
             ],
             [
              0.7777777777777778,
              "#fb9f3a"
             ],
             [
              0.8888888888888888,
              "#fdca26"
             ],
             [
              1,
              "#f0f921"
             ]
            ],
            "type": "surface"
           }
          ],
          "table": [
           {
            "cells": {
             "fill": {
              "color": "#EBF0F8"
             },
             "line": {
              "color": "white"
             }
            },
            "header": {
             "fill": {
              "color": "#C8D4E3"
             },
             "line": {
              "color": "white"
             }
            },
            "type": "table"
           }
          ]
         },
         "layout": {
          "annotationdefaults": {
           "arrowcolor": "#2a3f5f",
           "arrowhead": 0,
           "arrowwidth": 1
          },
          "autotypenumbers": "strict",
          "coloraxis": {
           "colorbar": {
            "outlinewidth": 0,
            "ticks": ""
           }
          },
          "colorscale": {
           "diverging": [
            [
             0,
             "#8e0152"
            ],
            [
             0.1,
             "#c51b7d"
            ],
            [
             0.2,
             "#de77ae"
            ],
            [
             0.3,
             "#f1b6da"
            ],
            [
             0.4,
             "#fde0ef"
            ],
            [
             0.5,
             "#f7f7f7"
            ],
            [
             0.6,
             "#e6f5d0"
            ],
            [
             0.7,
             "#b8e186"
            ],
            [
             0.8,
             "#7fbc41"
            ],
            [
             0.9,
             "#4d9221"
            ],
            [
             1,
             "#276419"
            ]
           ],
           "sequential": [
            [
             0,
             "#0d0887"
            ],
            [
             0.1111111111111111,
             "#46039f"
            ],
            [
             0.2222222222222222,
             "#7201a8"
            ],
            [
             0.3333333333333333,
             "#9c179e"
            ],
            [
             0.4444444444444444,
             "#bd3786"
            ],
            [
             0.5555555555555556,
             "#d8576b"
            ],
            [
             0.6666666666666666,
             "#ed7953"
            ],
            [
             0.7777777777777778,
             "#fb9f3a"
            ],
            [
             0.8888888888888888,
             "#fdca26"
            ],
            [
             1,
             "#f0f921"
            ]
           ],
           "sequentialminus": [
            [
             0,
             "#0d0887"
            ],
            [
             0.1111111111111111,
             "#46039f"
            ],
            [
             0.2222222222222222,
             "#7201a8"
            ],
            [
             0.3333333333333333,
             "#9c179e"
            ],
            [
             0.4444444444444444,
             "#bd3786"
            ],
            [
             0.5555555555555556,
             "#d8576b"
            ],
            [
             0.6666666666666666,
             "#ed7953"
            ],
            [
             0.7777777777777778,
             "#fb9f3a"
            ],
            [
             0.8888888888888888,
             "#fdca26"
            ],
            [
             1,
             "#f0f921"
            ]
           ]
          },
          "colorway": [
           "#636efa",
           "#EF553B",
           "#00cc96",
           "#ab63fa",
           "#FFA15A",
           "#19d3f3",
           "#FF6692",
           "#B6E880",
           "#FF97FF",
           "#FECB52"
          ],
          "font": {
           "color": "#2a3f5f"
          },
          "geo": {
           "bgcolor": "white",
           "lakecolor": "white",
           "landcolor": "#E5ECF6",
           "showlakes": true,
           "showland": true,
           "subunitcolor": "white"
          },
          "hoverlabel": {
           "align": "left"
          },
          "hovermode": "closest",
          "mapbox": {
           "style": "light"
          },
          "paper_bgcolor": "white",
          "plot_bgcolor": "#E5ECF6",
          "polar": {
           "angularaxis": {
            "gridcolor": "white",
            "linecolor": "white",
            "ticks": ""
           },
           "bgcolor": "#E5ECF6",
           "radialaxis": {
            "gridcolor": "white",
            "linecolor": "white",
            "ticks": ""
           }
          },
          "scene": {
           "xaxis": {
            "backgroundcolor": "#E5ECF6",
            "gridcolor": "white",
            "gridwidth": 2,
            "linecolor": "white",
            "showbackground": true,
            "ticks": "",
            "zerolinecolor": "white"
           },
           "yaxis": {
            "backgroundcolor": "#E5ECF6",
            "gridcolor": "white",
            "gridwidth": 2,
            "linecolor": "white",
            "showbackground": true,
            "ticks": "",
            "zerolinecolor": "white"
           },
           "zaxis": {
            "backgroundcolor": "#E5ECF6",
            "gridcolor": "white",
            "gridwidth": 2,
            "linecolor": "white",
            "showbackground": true,
            "ticks": "",
            "zerolinecolor": "white"
           }
          },
          "shapedefaults": {
           "line": {
            "color": "#2a3f5f"
           }
          },
          "ternary": {
           "aaxis": {
            "gridcolor": "white",
            "linecolor": "white",
            "ticks": ""
           },
           "baxis": {
            "gridcolor": "white",
            "linecolor": "white",
            "ticks": ""
           },
           "bgcolor": "#E5ECF6",
           "caxis": {
            "gridcolor": "white",
            "linecolor": "white",
            "ticks": ""
           }
          },
          "title": {
           "x": 0.05
          },
          "xaxis": {
           "automargin": true,
           "gridcolor": "white",
           "linecolor": "white",
           "ticks": "",
           "title": {
            "standoff": 15
           },
           "zerolinecolor": "white",
           "zerolinewidth": 2
          },
          "yaxis": {
           "automargin": true,
           "gridcolor": "white",
           "linecolor": "white",
           "ticks": "",
           "title": {
            "standoff": 15
           },
           "zerolinecolor": "white",
           "zerolinewidth": 2
          }
         }
        },
        "title": {
         "text": "Ballpossesionstyles - results halftime 2",
         "x": 0.5
        },
        "width": 700,
        "xaxis": {
         "anchor": "y",
         "categoryarray": [
          "<45",
          "45-55",
          ">55"
         ],
         "categoryorder": "array",
         "domain": [
          0,
          1
         ],
         "showticklabels": true,
         "tickmode": "array",
         "title": {
          "text": "BPTypes"
         }
        },
        "yaxis": {
         "anchor": "x",
         "domain": [
          0,
          1
         ],
         "range": [
          0,
          31
         ],
         "title": {
          "text": "count"
         }
        }
       }
      }
     },
     "metadata": {},
     "output_type": "display_data"
    }
   ],
   "source": [
    "\n",
    "\n",
    "teamname_to_search = st.sidebar.text_input(\"Search for Opponent\", )\n",
    "df4CompleteGraph = df4CompleteGraph[df4CompleteGraph[\"Opponent\"].str.contains(\"{}\".format(teamname_to_search), na=False, case=False)]\n",
    "\n",
    "\n",
    "df4CompleteGraph[\"SoG-H-SoG-A\"] = df4CompleteGraph[\"SoG-H\"] - \\\n",
    "    df4CompleteGraph[\"SoG-A\"]\n",
    "df4CompleteGraph[\"SoG-H-SoG-A\"] = df4CompleteGraph[\"SoG-H-SoG-A\"].clip(\n",
    "    lower=0)\n",
    "\n",
    "df4CompleteGraph[\"SoG-A-SoG-H\"] = df4CompleteGraph[\"SoG-A\"] - \\\n",
    "    df4CompleteGraph[\"SoG-H\"]\n",
    "df4CompleteGraph[\"SoG-A-SoG-H\"] = df4CompleteGraph[\"SoG-A-SoG-H\"].clip(\n",
    "    lower=0)\n",
    "\n",
    "df4CompleteGraph.sort_values(\"IsHome\", ascending=False)\n",
    "\n",
    "# calculate the y axis to display for the xg per minute per ball position\n",
    "if dfxg_homexg_complete_game.mean().max() > dfxg_awayxg_complete_game.mean().max():\n",
    "    dfxg_y_axis_max = dfxg_homexg_complete_game.mean().max()\n",
    "else:\n",
    "    dfxg_y_axis_max = dfxg_awayxg_complete_game.mean().max()\n",
    "\n",
    "fig_xg_perminute_home = px.line(\n",
    "    dfxg_homexg_complete_game.mean(),\n",
    "    width=widthfig,\n",
    ").update_traces(textposition='top center', selector={'type': 'scatter'}).update_traces(\n",
    "    marker=dict(color='green'), selector={'type': 'histogram'}\n",
    ")\n",
    "fig_xg_perminute_home.add_scatter(y=dfxg_awayxg_complete_game.mean(), mode='lines', name='Opponent xG')\n",
    "fig_xg_perminute_home.update_layout(\n",
    "    title_text='Expectedgoals per minute: {} < bp < {}'.format(int(bigger_bp), int(smaller_bp)), title_x=0.5,\n",
    "    yaxis=dict(\n",
    "        title=\"xG\"\n",
    "    ))\n",
    "fig_xg_perminute_home.update_yaxes(range=[0, dfxg_y_axis_max+0.02])\n",
    "# Only thing I figured is - I could do this \n",
    "\n",
    "fig_xg_homexg_complete_game_all_bpse = px.line(\n",
    "    dfxg_homexg_complete_game_all_bps.mean(),\n",
    "    width=widthfig,\n",
    ").update_traces(textposition='top center', selector={'type': 'scatter'}).update_traces(\n",
    "    marker=dict(color='green'), selector={'type': 'histogram'}\n",
    ")\n",
    "fig_xg_homexg_complete_game_all_bpse.add_scatter(y=dfxg_awayxg_complete_game_all_bps.mean(), mode='lines', name='Opponent xG')\n",
    "fig_xg_homexg_complete_game_all_bpse.update_layout(\n",
    "    title_text='Expectedgoals per minute', title_x=0.5,\n",
    "    yaxis=dict(\n",
    "        title=\"xG\"\n",
    "    ))\n",
    "fig_xg_homexg_complete_game_all_bpse.update_yaxes(range=[0, dfxg_awayxg_complete_game_all_bps.mean()+0.02])\n",
    "\n",
    "\n",
    "fig_xg_perminute_home_bigger_55 = px.line(\n",
    "    dfxg_homexg_complete_game_bigger_55.mean(),\n",
    "    width=widthfig,\n",
    ").update_traces(textposition='top center', selector={'type': 'scatter'}).update_traces(\n",
    "    marker=dict(color='green'), selector={'type': 'histogram'}\n",
    ")\n",
    "fig_xg_perminute_home_bigger_55.add_scatter(y=dfxg_awayxg_complete_game_bigger_55.mean(), mode='lines', name='Opponent xG')\n",
    "fig_xg_perminute_home_bigger_55.update_layout(\n",
    "    title_text='Expectedgoals per minute: bp > 55', title_x=0.5,\n",
    "    yaxis=dict(\n",
    "        title=\"xG\"\n",
    "    ))\n",
    "fig_xg_perminute_home_bigger_55.update_yaxes(range=[0, dfxg_awayxg_complete_game_bigger_55.mean()+0.02])\n",
    "\n",
    "fig_xg_perminute_home_smaller_45 = px.line(\n",
    "    dfxg_homexg_complete_game_smaller_45.mean(),\n",
    "    width=widthfig,\n",
    ").update_traces(textposition='top center', selector={'type': 'scatter'}).update_traces(\n",
    "    marker=dict(color='green'), selector={'type': 'histogram'}\n",
    ")\n",
    "fig_xg_perminute_home_smaller_45.add_scatter(y=dfxg_awayxg_complete_game_smaller_45.mean(), mode='lines', name='Opponent xG')\n",
    "fig_xg_perminute_home_smaller_45.update_layout(\n",
    "    title_text='Expectedgoals per minute: bp < 45', title_x=0.5,\n",
    "    yaxis=dict(\n",
    "        title=\"xG\"\n",
    "    ))\n",
    "fig_xg_perminute_home_smaller_45.update_yaxes(range=[0, dfxg_awayxg_complete_game_smaller_45.mean()+0.02])\n",
    "\n",
    "\n",
    "# wie oft passierts das team hinten ist und noch gewinnt / nicht verliert:´\n",
    "# sortier nach sieg x loss\n",
    "# mach diagramm halftimes für 1te und 2te hz\n",
    "\n",
    "# delete games where there is no two halftimes!\n",
    "df4CompleteGraph = df4CompleteGraph[df4CompleteGraph.groupby(\n",
    "    'Opponent')['Opponent'].transform('size') >= 2]\n",
    "df4CompleteGraph = df4CompleteGraph.sort_index()\n",
    "# second half is second entry always!\n",
    "df4CompleteGraph[\"halftime\"] = \"0\"\n",
    "df4CompleteGraph.iloc[::2][\"halftime\"] = \"2\"\n",
    "df4CompleteGraph.iloc[1::2][\"halftime\"] = \"1\"\n",
    "\n",
    "naming1x2 = {\"W\": \"Win\", \"D\": \"Draw\", \"L\": \"Loss\"}\n",
    "df4CompleteGraph['Halftime result'] = df4CompleteGraph['1x2'].replace(\n",
    "    naming1x2)\n",
    "\n",
    "try:\n",
    "    highest_count_yaxis = df4CompleteGraph.groupby([\"BPTypes\", \"halftime\"]).agg(\n",
    "        'count').sort_values(\"Opponent\", ascending=False).iloc[0].Home\n",
    "except:\n",
    "    highest_count_yaxis = 0\n",
    "\n",
    "# Create data for histogram 2\n",
    "BarBallpossesionstylesResultsHalftime1 = px.bar(\n",
    "    df4CompleteGraph[df4CompleteGraph[\"halftime\"] == \"1\"],\n",
    "    x='BPTypes',\n",
    "    # text=df4CompleteGraph.index,\n",
    "    # title=\"BP-Styles - Halftimes\",\n",
    "    color='Halftime result',\n",
    "    color_discrete_map={\"Win\": \"green\", \"Draw\": \"gray\", \"Loss\": \"red\"},\n",
    "    width=widthfig,\n",
    "    # height=heightfig,\n",
    "    # opacity=0.5,\n",
    "    text=\"Opponent\",\n",
    ").update_xaxes(categoryorder=\"array\", categoryarray=['<45', '45-55', '>55'],).update_yaxes(\n",
    "    range=[0, highest_count_yaxis])\n",
    "\n",
    "BarBallpossesionstylesResultsHalftime1.update_layout(\n",
    "    title_text='Ballpossesionstyles - results halftime 1', title_x=0.5, xaxis=dict(\n",
    "        tickmode='array', showticklabels=True,\n",
    "    )\n",
    ")\n",
    "\n",
    "# Create data for histogram 2\n",
    "BarBallpossesionstylesResultsHalftime2 = px.bar(\n",
    "    df4CompleteGraph[df4CompleteGraph[\"halftime\"] == \"2\"],\n",
    "    x='BPTypes',\n",
    "    # text=df4CompleteGraph.index,\n",
    "    # title=\"BP-Styles - Halftimes\",\n",
    "    color='Halftime result',\n",
    "    color_discrete_map={\"Win\": \"green\", \"Draw\": \"gray\", \"Loss\": \"red\"},\n",
    "    width=widthfig,\n",
    "    # height=heightfig,\n",
    "    # opacity=0.5,\n",
    "    text=\"Opponent\",\n",
    ").update_xaxes(categoryorder=\"array\", categoryarray=['<45', '45-55', '>55']).update_yaxes(\n",
    "    range=[0, highest_count_yaxis])\n",
    "BarBallpossesionstylesResultsHalftime2.update_layout(\n",
    "    title_text='Ballpossesionstyles - results halftime 2', title_x=0.5, xaxis=dict(\n",
    "        tickmode='array', showticklabels=True,\n",
    "    )\n",
    ")\n",
    "\n",
    "\n",
    "# # create scatterplot with XG - bubble size\n",
    "# df4CompleteGraph = df4Complete.copy()\n",
    "\n",
    "# df4CompleteGraph = convert_hts_to_complete_games(df4CompleteGraph)\n",
    "\n",
    "# # Calculate again the stuff like for the single halftimes before!\n",
    "# # GoalDifference\n",
    "# df4CompleteGraph[\"GoalDiff\"] = df4CompleteGraph[\"G-H\"] - \\\n",
    "#     df4CompleteGraph[\"G-A\"]\n",
    "# df4CompleteGraph = df4CompleteGraph.sort_values(\"Date\",  ascending=False)\n",
    "# # calculate column with 3 Ballposition types\n",
    "# df4CompleteGraph[\"BPTypes\"] = '0'\n",
    "# df4CompleteGraph[\"BPTypes\"] = df4CompleteGraph.apply(\n",
    "#     lambda row: calculate_1x2_BPTypes(row), axis=1, result_type='reduce')\n",
    "# df4CompleteGraph['Date'] = pd.to_datetime(\n",
    "#     df4CompleteGraph['Date'], format=\"%d.%m.%Y %H:%M\")\n",
    "# # convert datetime to timestamp for scatter visualization\n",
    "# df4CompleteGraph['timestamp'] = df4CompleteGraph.Date.astype('int64')//10**9\n",
    "# df4CompleteGraph = df4CompleteGraph.sort_values(\"Date\", ascending=False)\n",
    "# Create data for scatter graph"
   ]
  },
  {
   "cell_type": "code",
   "execution_count": null,
   "metadata": {},
   "outputs": [
    {
     "name": "stdout",
     "output_type": "stream",
     "text": [
      "Index(['Home', 'Opponent', 'R', 'G-H', 'G-A', 'BP-H', 'BP-A', 'GA-H', 'GA-A',\n",
      "       'SoG-H', 'SoG-A', 'SoffG-H', 'SoffG-A', 'FK-H', 'H_Red Cards',\n",
      "       'A_Red Cards', 'FK-A', 'C-H', 'C-A', 'Off-H', 'Off-A', 'GoKeSa-H',\n",
      "       'GoKeSa-A', 'F-H', 'F-A', 'Round', 'Date', 'IsHome', 'xG', 'GOALS',\n",
      "       'xPTS', 'A_xG', 'A_GOALS', 'A_xPTS', 'xg_halftime', 'Axg_halftime',\n",
      "       'homexg_complete_game', 'awayxg_complete_game', '1x2', 'GoalDiff',\n",
      "       'BPTypes', 'timestamp', 'SoG-H-SoG-A', 'SoG-A-SoG-H', 'halftime',\n",
      "       'Halftime result'],\n",
      "      dtype='object')\n",
      "      xG  A_xG  xg_halftime  Axg_halftime halftime     Opponent  \\\n",
      "0  2.100 1.100        1.100         0.400        0    Tottenham   \n",
      "1  2.100 1.100        1.100         0.400        0    Tottenham   \n",
      "2  2.400 0.000        0.800         0.000        0      Norwich   \n",
      "..   ...   ...          ...           ...      ...          ...   \n",
      "73 2.200 1.000        0.600         0.600        0     West Ham   \n",
      "74 3.300 0.200        0.400         0.200        0  Aston Villa   \n",
      "75 3.300 0.200        0.400         0.200        0  Aston Villa   \n",
      "\n",
      "   Halftime result   timestamp  \n",
      "0             Loss  1629016200  \n",
      "1             Draw  1629016200  \n",
      "2              Win  1629529200  \n",
      "..             ...         ...  \n",
      "73            Loss  1652626800  \n",
      "74             Win  1653238800  \n",
      "75            Loss  1653238800  \n",
      "\n",
      "[76 rows x 8 columns]\n",
      "      xG  A_xG  xg_halftime  Axg_halftime halftime     Opponent  \\\n",
      "0  2.100 1.100        1.100         0.400        0    Tottenham   \n",
      "1  2.100 1.100        1.100         0.400        0    Tottenham   \n",
      "2  2.400 0.000        0.800         0.000        0      Norwich   \n",
      "..   ...   ...          ...           ...      ...          ...   \n",
      "73 2.200 1.000        0.600         0.600        0     West Ham   \n",
      "74 3.300 0.200        0.400         0.200        0  Aston Villa   \n",
      "75 3.300 0.200        0.400         0.200        0  Aston Villa   \n",
      "\n",
      "   Halftime result   timestamp  \n",
      "0             Loss  1629016200  \n",
      "1             Draw  1629016200  \n",
      "2              Win  1629529200  \n",
      "..             ...         ...  \n",
      "73            Loss  1652626800  \n",
      "74             Win  1653238800  \n",
      "75            Loss  1653238800  \n",
      "\n",
      "[76 rows x 8 columns]\n",
      "Empty DataFrame\n",
      "Columns: [IsHome, xG, A_xG, xg_halftime, Axg_halftime, halftime, Opponent, Halftime result, timestamp]\n",
      "Index: []\n",
      "Empty DataFrame\n",
      "Columns: [IsHome, xG, A_xG, xg_halftime, Axg_halftime, halftime, Opponent, Halftime result, timestamp]\n",
      "Index: []\n"
     ]
    }
   ],
   "source": [
    "\n",
    "print(df4CompleteGraph.columns)\n",
    "print(df4CompleteGraph[[\"xG\",\"A_xG\", \"xg_halftime\", \"Axg_halftime\",\"halftime\",\"Opponent\",'Halftime result',\"timestamp\"]])\n",
    "\n",
    "df4CompleteGraph.xg_halftime = df4CompleteGraph.xg_halftime.astype(float).fillna(0.0)\n",
    "df4CompleteGraph.Axg_halftime = df4CompleteGraph.Axg_halftime.astype(float).fillna(0.0) \n",
    "\n",
    "# all xg values for both halftimes!\n",
    "df4CompleteGraph[\"xG-A_xG\"] = df4CompleteGraph[\"xG\"] - df4CompleteGraph[\"A_xG\"]\n",
    "df4CompleteGraph[\"A_xG-xG\"] = df4CompleteGraph[\"A_xG\"] - df4CompleteGraph[\"xG\"]\n",
    "# all values for first half\n",
    "df4CompleteGraph[\"xg_halftime-Axg_halftime\"] = df4CompleteGraph[\"xg_halftime\"] - df4CompleteGraph[\"Axg_halftime\"]\n",
    "df4CompleteGraph[\"Axg_halftime-xg_halftime\"] = df4CompleteGraph[\"Axg_halftime\"] - df4CompleteGraph[\"xg_halftime\"]\n",
    "# all values for second half\n",
    "df4CompleteGraph[\"xg_halftime2-Axg_halftime2\"] = df4CompleteGraph[\"xG-A_xG\"] - df4CompleteGraph[\"xg_halftime-Axg_halftime\"]\n",
    "df4CompleteGraph[\"xg_halftime2-Axg_halftime2\"] = df4CompleteGraph[\"xg_halftime2-Axg_halftime2\"].clip(lower=0)\n",
    "df4CompleteGraph[\"xg_halftime2-Axg_halftime2\"] = df4CompleteGraph[\"xg_halftime2-Axg_halftime2\"].round(2)\n",
    "df4CompleteGraph[\"Axg_halftime2-xg_halftime2\"] = df4CompleteGraph[\"xg_halftime-Axg_halftime\"] - df4CompleteGraph[\"xG-A_xG\"]\n",
    "df4CompleteGraph[\"Axg_halftime2-xg_halftime2\"] = df4CompleteGraph[\"Axg_halftime2-xg_halftime2\"].clip(lower=0)\n",
    "df4CompleteGraph[\"Axg_halftime2-xg_halftime2\"] = df4CompleteGraph[\"Axg_halftime2-xg_halftime2\"].round(2)\n",
    "df4CompleteGraph[\"xG-A_xG\"] = df4CompleteGraph[\"xG-A_xG\"].clip(lower=0)\n",
    "df4CompleteGraph[\"xG-A_xG\"] = df4CompleteGraph[\"xG-A_xG\"].round(2)\n",
    "df4CompleteGraph[\"A_xG-xG\"] = df4CompleteGraph[\"A_xG-xG\"].clip(lower=0)\n",
    "df4CompleteGraph[\"A_xG-xG\"] = df4CompleteGraph[\"A_xG-xG\"].round(2)\n",
    "df4CompleteGraph[\"xg_halftime-Axg_halftime\"] = df4CompleteGraph[\"xg_halftime-Axg_halftime\"].clip(lower=0)\n",
    "df4CompleteGraph[\"xg_halftime-Axg_halftime\"] = df4CompleteGraph[\"xg_halftime-Axg_halftime\"].round(2)\n",
    "df4CompleteGraph[\"Axg_halftime-xg_halftime\"] = df4CompleteGraph[\"Axg_halftime-xg_halftime\"].clip(lower=0)\n",
    "df4CompleteGraph[\"Axg_halftime-xg_halftime\"] = df4CompleteGraph[\"Axg_halftime-xg_halftime\"].round(2)\n",
    "\n",
    "\n",
    "print(df4CompleteGraph[[\"xG\",\"A_xG\", \"xg_halftime\", \"Axg_halftime\",\"halftime\",\"Opponent\",'Halftime result',\"timestamp\"]])\n",
    "ht1 = df4CompleteGraph[df4CompleteGraph[\"halftime\"] == \"1\"]\n",
    "print(ht1[[\"IsHome\",\"xG\",\"A_xG\", \"xg_halftime\", \"Axg_halftime\",\"halftime\",\"Opponent\",'Halftime result',\"timestamp\"]])\n",
    "ht2 = df4CompleteGraph[df4CompleteGraph[\"halftime\"] == \"2\"]\n",
    "print(ht2[[\"IsHome\",\"xG\",\"A_xG\", \"xg_halftime\", \"Axg_halftime\",\"halftime\",\"Opponent\",'Halftime result',\"timestamp\"]])"
   ]
  },
  {
   "cell_type": "code",
   "execution_count": null,
   "metadata": {},
   "outputs": [
    {
     "data": {
      "application/vnd.plotly.v1+json": {
       "config": {
        "plotlyServerURL": "https://plot.ly"
       },
       "data": [],
       "layout": {
        "barmode": "overlay",
        "coloraxis": {
         "colorbar": {
          "title": {
           "text": "timestamp"
          }
         },
         "colorscale": [
          [
           0,
           "#0d0887"
          ],
          [
           0.1111111111111111,
           "#46039f"
          ],
          [
           0.2222222222222222,
           "#7201a8"
          ],
          [
           0.3333333333333333,
           "#9c179e"
          ],
          [
           0.4444444444444444,
           "#bd3786"
          ],
          [
           0.5555555555555556,
           "#d8576b"
          ],
          [
           0.6666666666666666,
           "#ed7953"
          ],
          [
           0.7777777777777778,
           "#fb9f3a"
          ],
          [
           0.8888888888888888,
           "#fdca26"
          ],
          [
           1,
           "#f0f921"
          ]
         ]
        },
        "legend": {
         "itemsizing": "constant",
         "tracegroupgap": 0,
         "x": 1.12,
         "xanchor": "right",
         "y": 1.2,
         "yanchor": "top"
        },
        "margin": {
         "t": 60
        },
        "template": {
         "data": {
          "bar": [
           {
            "error_x": {
             "color": "#2a3f5f"
            },
            "error_y": {
             "color": "#2a3f5f"
            },
            "marker": {
             "line": {
              "color": "#E5ECF6",
              "width": 0.5
             },
             "pattern": {
              "fillmode": "overlay",
              "size": 10,
              "solidity": 0.2
             }
            },
            "type": "bar"
           }
          ],
          "barpolar": [
           {
            "marker": {
             "line": {
              "color": "#E5ECF6",
              "width": 0.5
             },
             "pattern": {
              "fillmode": "overlay",
              "size": 10,
              "solidity": 0.2
             }
            },
            "type": "barpolar"
           }
          ],
          "carpet": [
           {
            "aaxis": {
             "endlinecolor": "#2a3f5f",
             "gridcolor": "white",
             "linecolor": "white",
             "minorgridcolor": "white",
             "startlinecolor": "#2a3f5f"
            },
            "baxis": {
             "endlinecolor": "#2a3f5f",
             "gridcolor": "white",
             "linecolor": "white",
             "minorgridcolor": "white",
             "startlinecolor": "#2a3f5f"
            },
            "type": "carpet"
           }
          ],
          "choropleth": [
           {
            "colorbar": {
             "outlinewidth": 0,
             "ticks": ""
            },
            "type": "choropleth"
           }
          ],
          "contour": [
           {
            "colorbar": {
             "outlinewidth": 0,
             "ticks": ""
            },
            "colorscale": [
             [
              0,
              "#0d0887"
             ],
             [
              0.1111111111111111,
              "#46039f"
             ],
             [
              0.2222222222222222,
              "#7201a8"
             ],
             [
              0.3333333333333333,
              "#9c179e"
             ],
             [
              0.4444444444444444,
              "#bd3786"
             ],
             [
              0.5555555555555556,
              "#d8576b"
             ],
             [
              0.6666666666666666,
              "#ed7953"
             ],
             [
              0.7777777777777778,
              "#fb9f3a"
             ],
             [
              0.8888888888888888,
              "#fdca26"
             ],
             [
              1,
              "#f0f921"
             ]
            ],
            "type": "contour"
           }
          ],
          "contourcarpet": [
           {
            "colorbar": {
             "outlinewidth": 0,
             "ticks": ""
            },
            "type": "contourcarpet"
           }
          ],
          "heatmap": [
           {
            "colorbar": {
             "outlinewidth": 0,
             "ticks": ""
            },
            "colorscale": [
             [
              0,
              "#0d0887"
             ],
             [
              0.1111111111111111,
              "#46039f"
             ],
             [
              0.2222222222222222,
              "#7201a8"
             ],
             [
              0.3333333333333333,
              "#9c179e"
             ],
             [
              0.4444444444444444,
              "#bd3786"
             ],
             [
              0.5555555555555556,
              "#d8576b"
             ],
             [
              0.6666666666666666,
              "#ed7953"
             ],
             [
              0.7777777777777778,
              "#fb9f3a"
             ],
             [
              0.8888888888888888,
              "#fdca26"
             ],
             [
              1,
              "#f0f921"
             ]
            ],
            "type": "heatmap"
           }
          ],
          "heatmapgl": [
           {
            "colorbar": {
             "outlinewidth": 0,
             "ticks": ""
            },
            "colorscale": [
             [
              0,
              "#0d0887"
             ],
             [
              0.1111111111111111,
              "#46039f"
             ],
             [
              0.2222222222222222,
              "#7201a8"
             ],
             [
              0.3333333333333333,
              "#9c179e"
             ],
             [
              0.4444444444444444,
              "#bd3786"
             ],
             [
              0.5555555555555556,
              "#d8576b"
             ],
             [
              0.6666666666666666,
              "#ed7953"
             ],
             [
              0.7777777777777778,
              "#fb9f3a"
             ],
             [
              0.8888888888888888,
              "#fdca26"
             ],
             [
              1,
              "#f0f921"
             ]
            ],
            "type": "heatmapgl"
           }
          ],
          "histogram": [
           {
            "marker": {
             "pattern": {
              "fillmode": "overlay",
              "size": 10,
              "solidity": 0.2
             }
            },
            "type": "histogram"
           }
          ],
          "histogram2d": [
           {
            "colorbar": {
             "outlinewidth": 0,
             "ticks": ""
            },
            "colorscale": [
             [
              0,
              "#0d0887"
             ],
             [
              0.1111111111111111,
              "#46039f"
             ],
             [
              0.2222222222222222,
              "#7201a8"
             ],
             [
              0.3333333333333333,
              "#9c179e"
             ],
             [
              0.4444444444444444,
              "#bd3786"
             ],
             [
              0.5555555555555556,
              "#d8576b"
             ],
             [
              0.6666666666666666,
              "#ed7953"
             ],
             [
              0.7777777777777778,
              "#fb9f3a"
             ],
             [
              0.8888888888888888,
              "#fdca26"
             ],
             [
              1,
              "#f0f921"
             ]
            ],
            "type": "histogram2d"
           }
          ],
          "histogram2dcontour": [
           {
            "colorbar": {
             "outlinewidth": 0,
             "ticks": ""
            },
            "colorscale": [
             [
              0,
              "#0d0887"
             ],
             [
              0.1111111111111111,
              "#46039f"
             ],
             [
              0.2222222222222222,
              "#7201a8"
             ],
             [
              0.3333333333333333,
              "#9c179e"
             ],
             [
              0.4444444444444444,
              "#bd3786"
             ],
             [
              0.5555555555555556,
              "#d8576b"
             ],
             [
              0.6666666666666666,
              "#ed7953"
             ],
             [
              0.7777777777777778,
              "#fb9f3a"
             ],
             [
              0.8888888888888888,
              "#fdca26"
             ],
             [
              1,
              "#f0f921"
             ]
            ],
            "type": "histogram2dcontour"
           }
          ],
          "mesh3d": [
           {
            "colorbar": {
             "outlinewidth": 0,
             "ticks": ""
            },
            "type": "mesh3d"
           }
          ],
          "parcoords": [
           {
            "line": {
             "colorbar": {
              "outlinewidth": 0,
              "ticks": ""
             }
            },
            "type": "parcoords"
           }
          ],
          "pie": [
           {
            "automargin": true,
            "type": "pie"
           }
          ],
          "scatter": [
           {
            "marker": {
             "colorbar": {
              "outlinewidth": 0,
              "ticks": ""
             }
            },
            "type": "scatter"
           }
          ],
          "scatter3d": [
           {
            "line": {
             "colorbar": {
              "outlinewidth": 0,
              "ticks": ""
             }
            },
            "marker": {
             "colorbar": {
              "outlinewidth": 0,
              "ticks": ""
             }
            },
            "type": "scatter3d"
           }
          ],
          "scattercarpet": [
           {
            "marker": {
             "colorbar": {
              "outlinewidth": 0,
              "ticks": ""
             }
            },
            "type": "scattercarpet"
           }
          ],
          "scattergeo": [
           {
            "marker": {
             "colorbar": {
              "outlinewidth": 0,
              "ticks": ""
             }
            },
            "type": "scattergeo"
           }
          ],
          "scattergl": [
           {
            "marker": {
             "colorbar": {
              "outlinewidth": 0,
              "ticks": ""
             }
            },
            "type": "scattergl"
           }
          ],
          "scattermapbox": [
           {
            "marker": {
             "colorbar": {
              "outlinewidth": 0,
              "ticks": ""
             }
            },
            "type": "scattermapbox"
           }
          ],
          "scatterpolar": [
           {
            "marker": {
             "colorbar": {
              "outlinewidth": 0,
              "ticks": ""
             }
            },
            "type": "scatterpolar"
           }
          ],
          "scatterpolargl": [
           {
            "marker": {
             "colorbar": {
              "outlinewidth": 0,
              "ticks": ""
             }
            },
            "type": "scatterpolargl"
           }
          ],
          "scatterternary": [
           {
            "marker": {
             "colorbar": {
              "outlinewidth": 0,
              "ticks": ""
             }
            },
            "type": "scatterternary"
           }
          ],
          "surface": [
           {
            "colorbar": {
             "outlinewidth": 0,
             "ticks": ""
            },
            "colorscale": [
             [
              0,
              "#0d0887"
             ],
             [
              0.1111111111111111,
              "#46039f"
             ],
             [
              0.2222222222222222,
              "#7201a8"
             ],
             [
              0.3333333333333333,
              "#9c179e"
             ],
             [
              0.4444444444444444,
              "#bd3786"
             ],
             [
              0.5555555555555556,
              "#d8576b"
             ],
             [
              0.6666666666666666,
              "#ed7953"
             ],
             [
              0.7777777777777778,
              "#fb9f3a"
             ],
             [
              0.8888888888888888,
              "#fdca26"
             ],
             [
              1,
              "#f0f921"
             ]
            ],
            "type": "surface"
           }
          ],
          "table": [
           {
            "cells": {
             "fill": {
              "color": "#EBF0F8"
             },
             "line": {
              "color": "white"
             }
            },
            "header": {
             "fill": {
              "color": "#C8D4E3"
             },
             "line": {
              "color": "white"
             }
            },
            "type": "table"
           }
          ]
         },
         "layout": {
          "annotationdefaults": {
           "arrowcolor": "#2a3f5f",
           "arrowhead": 0,
           "arrowwidth": 1
          },
          "autotypenumbers": "strict",
          "coloraxis": {
           "colorbar": {
            "outlinewidth": 0,
            "ticks": ""
           }
          },
          "colorscale": {
           "diverging": [
            [
             0,
             "#8e0152"
            ],
            [
             0.1,
             "#c51b7d"
            ],
            [
             0.2,
             "#de77ae"
            ],
            [
             0.3,
             "#f1b6da"
            ],
            [
             0.4,
             "#fde0ef"
            ],
            [
             0.5,
             "#f7f7f7"
            ],
            [
             0.6,
             "#e6f5d0"
            ],
            [
             0.7,
             "#b8e186"
            ],
            [
             0.8,
             "#7fbc41"
            ],
            [
             0.9,
             "#4d9221"
            ],
            [
             1,
             "#276419"
            ]
           ],
           "sequential": [
            [
             0,
             "#0d0887"
            ],
            [
             0.1111111111111111,
             "#46039f"
            ],
            [
             0.2222222222222222,
             "#7201a8"
            ],
            [
             0.3333333333333333,
             "#9c179e"
            ],
            [
             0.4444444444444444,
             "#bd3786"
            ],
            [
             0.5555555555555556,
             "#d8576b"
            ],
            [
             0.6666666666666666,
             "#ed7953"
            ],
            [
             0.7777777777777778,
             "#fb9f3a"
            ],
            [
             0.8888888888888888,
             "#fdca26"
            ],
            [
             1,
             "#f0f921"
            ]
           ],
           "sequentialminus": [
            [
             0,
             "#0d0887"
            ],
            [
             0.1111111111111111,
             "#46039f"
            ],
            [
             0.2222222222222222,
             "#7201a8"
            ],
            [
             0.3333333333333333,
             "#9c179e"
            ],
            [
             0.4444444444444444,
             "#bd3786"
            ],
            [
             0.5555555555555556,
             "#d8576b"
            ],
            [
             0.6666666666666666,
             "#ed7953"
            ],
            [
             0.7777777777777778,
             "#fb9f3a"
            ],
            [
             0.8888888888888888,
             "#fdca26"
            ],
            [
             1,
             "#f0f921"
            ]
           ]
          },
          "colorway": [
           "#636efa",
           "#EF553B",
           "#00cc96",
           "#ab63fa",
           "#FFA15A",
           "#19d3f3",
           "#FF6692",
           "#B6E880",
           "#FF97FF",
           "#FECB52"
          ],
          "font": {
           "color": "#2a3f5f"
          },
          "geo": {
           "bgcolor": "white",
           "lakecolor": "white",
           "landcolor": "#E5ECF6",
           "showlakes": true,
           "showland": true,
           "subunitcolor": "white"
          },
          "hoverlabel": {
           "align": "left"
          },
          "hovermode": "closest",
          "mapbox": {
           "style": "light"
          },
          "paper_bgcolor": "white",
          "plot_bgcolor": "#E5ECF6",
          "polar": {
           "angularaxis": {
            "gridcolor": "white",
            "linecolor": "white",
            "ticks": ""
           },
           "bgcolor": "#E5ECF6",
           "radialaxis": {
            "gridcolor": "white",
            "linecolor": "white",
            "ticks": ""
           }
          },
          "scene": {
           "xaxis": {
            "backgroundcolor": "#E5ECF6",
            "gridcolor": "white",
            "gridwidth": 2,
            "linecolor": "white",
            "showbackground": true,
            "ticks": "",
            "zerolinecolor": "white"
           },
           "yaxis": {
            "backgroundcolor": "#E5ECF6",
            "gridcolor": "white",
            "gridwidth": 2,
            "linecolor": "white",
            "showbackground": true,
            "ticks": "",
            "zerolinecolor": "white"
           },
           "zaxis": {
            "backgroundcolor": "#E5ECF6",
            "gridcolor": "white",
            "gridwidth": 2,
            "linecolor": "white",
            "showbackground": true,
            "ticks": "",
            "zerolinecolor": "white"
           }
          },
          "shapedefaults": {
           "line": {
            "color": "#2a3f5f"
           }
          },
          "ternary": {
           "aaxis": {
            "gridcolor": "white",
            "linecolor": "white",
            "ticks": ""
           },
           "baxis": {
            "gridcolor": "white",
            "linecolor": "white",
            "ticks": ""
           },
           "bgcolor": "#E5ECF6",
           "caxis": {
            "gridcolor": "white",
            "linecolor": "white",
            "ticks": ""
           }
          },
          "title": {
           "x": 0.05
          },
          "xaxis": {
           "automargin": true,
           "gridcolor": "white",
           "linecolor": "white",
           "ticks": "",
           "title": {
            "standoff": 15
           },
           "zerolinecolor": "white",
           "zerolinewidth": 2
          },
          "yaxis": {
           "automargin": true,
           "gridcolor": "white",
           "linecolor": "white",
           "ticks": "",
           "title": {
            "standoff": 15
           },
           "zerolinecolor": "white",
           "zerolinewidth": 2
          }
         }
        },
        "title": {
         "text": "Ht1: Expectedgoals - Expectedgoals Opponent",
         "x": 0.5
        },
        "width": 700,
        "xaxis": {
         "anchor": "y",
         "domain": [
          0,
          1
         ],
         "range": [
          5,
          95
         ],
         "title": {
          "text": "BP-H"
         }
        },
        "xaxis2": {
         "anchor": "y2",
         "domain": [
          0,
          1
         ],
         "matches": "x",
         "range": [
          5,
          95
         ],
         "showgrid": true,
         "showticklabels": false
        },
        "yaxis": {
         "anchor": "x",
         "domain": [
          0,
          0.7326
         ],
         "dtick": 1,
         "tick0": 1,
         "tickmode": "linear",
         "title": {
          "text": "Goal difference"
         }
        },
        "yaxis2": {
         "anchor": "x2",
         "domain": [
          0.7426,
          1
         ],
         "matches": "y2",
         "showgrid": true,
         "showline": false,
         "showticklabels": false,
         "ticks": ""
        }
       }
      }
     },
     "metadata": {},
     "output_type": "display_data"
    }
   ],
   "source": [
    "figHistogramxG_A_xG_1Ht = px.scatter(\n",
    "    df4CompleteGraph[df4CompleteGraph[\"halftime\"] == \"1\"],  # .query(f'Date.between{end_date}'),\n",
    "    x='BP-H',\n",
    "    y='GoalDiff',\n",
    "    marginal_x=\"histogram\",\n",
    "    color=\"timestamp\",\n",
    "    hover_data=['H_Red Cards', 'A_Red Cards'],\n",
    "    size=\"xg_halftime-Axg_halftime\",\n",
    "    symbol = 'IsHome',\n",
    "    symbol_sequence= ['diamond-cross', 'diamond'],\n",
    "    text=\"Opponent\",\n",
    "    width=widthfig,\n",
    "    # height=heightfig,\n",
    "    # color_continuous_scale= 'Viridis',\n",
    "    # facet_row=\"time\", # makes seperate plot for value\n",
    "    # marginal_x=\"histogram\",\n",
    ").update_traces(textposition='top center', selector={'type': 'scatter'} ).update_traces(\n",
    "    marker=dict(color='green'), selector={'type': 'histogram'}\n",
    ")\n",
    "figHistogramxG_A_xG_1Ht.update_xaxes(range=[5, 95])\n",
    "figHistogramxG_A_xG_1Ht.update_layout(\n",
    "    title_text='Ht1: Expectedgoals - Expectedgoals Opponent', title_x=0.5,\n",
    "    yaxis=dict(\n",
    "        tickmode='linear',\n",
    "        tick0=1,\n",
    "        dtick=1,\n",
    "        title=\"Goal difference\"\n",
    "    ))\n",
    "figHistogramxG_A_xG_1Ht.update_layout(legend=dict(\n",
    "    yanchor=\"top\",\n",
    "    y=1.2,\n",
    "    xanchor=\"right\",\n",
    "    x=1.12\n",
    "))"
   ]
  },
  {
   "cell_type": "code",
   "execution_count": null,
   "metadata": {},
   "outputs": [],
   "source": []
  },
  {
   "cell_type": "code",
   "execution_count": null,
   "metadata": {},
   "outputs": [],
   "source": []
  },
  {
   "cell_type": "code",
   "execution_count": null,
   "metadata": {},
   "outputs": [],
   "source": []
  },
  {
   "cell_type": "code",
   "execution_count": null,
   "metadata": {},
   "outputs": [
    {
     "data": {
      "text/plain": [
       "DeltaGenerator(_root_container=0, _provided_cursor=None, _parent=None, _block_type=None, _form_data=None)"
      ]
     },
     "execution_count": 100,
     "metadata": {},
     "output_type": "execute_result"
    }
   ],
   "source": [
    "\n",
    "\n",
    "figHistogramA_xG_xG_1Ht = px.scatter(\n",
    "    df4CompleteGraph[df4CompleteGraph[\"halftime\"] == \"1\"],  # .query(f'Date.between{end_date}'),\n",
    "    x='BP-H',\n",
    "    y='GoalDiff',\n",
    "    marginal_x=\"histogram\",\n",
    "    color=\"timestamp\",\n",
    "    hover_data=['H_Red Cards', 'A_Red Cards'],\n",
    "    size=\"Axg_halftime-xg_halftime\",\n",
    "    symbol = 'IsHome',\n",
    "    symbol_sequence= ['circle-x', 'circle'],\n",
    "    text=\"Opponent\",\n",
    "    width=widthfig,\n",
    "    # height=heightfig,\n",
    "    # facet_row=\"time\", # makes seperate plot for value\n",
    "    # marginal_x=\"histogram\",\n",
    ").update_traces(textposition='top center', selector={'type': 'scatter'} ).update_traces(\n",
    "    marker=dict(color='red'), selector={'type': 'histogram'}\n",
    ")\n",
    "figHistogramA_xG_xG_1Ht.update_xaxes(range=[5, 95])\n",
    "figHistogramA_xG_xG_1Ht.update_layout(\n",
    "    title_text='Ht1: Expectedgoals Opponent - Expectedgoals', title_x=0.5,\n",
    "    yaxis=dict(\n",
    "        tickmode='linear',\n",
    "        tick0=1,\n",
    "        dtick=1,\n",
    "        title=\"Goal difference\"\n",
    "    ))\n",
    "figHistogramA_xG_xG_1Ht.update_layout(legend=dict(\n",
    "    yanchor=\"top\",\n",
    "    y=1.2,\n",
    "    xanchor=\"right\",\n",
    "    x=1.12\n",
    "))\n",
    "\n",
    "\n",
    "figHistogramxG_A_xG_2Ht = px.scatter(\n",
    "    df4CompleteGraph[df4CompleteGraph[\"halftime\"] == \"2\"],  # .query(f'Date.between{end_date}'),\n",
    "    x='BP-H',\n",
    "    y='GoalDiff',\n",
    "    marginal_x=\"histogram\",\n",
    "    color=\"timestamp\",\n",
    "    hover_data=['H_Red Cards', 'A_Red Cards'],\n",
    "    size=\"xg_halftime2-Axg_halftime2\",\n",
    "    symbol = 'IsHome',\n",
    "    symbol_sequence= ['diamond-cross', 'diamond'],\n",
    "    text=\"Opponent\",\n",
    "    width=widthfig,\n",
    "    # height=heightfig,\n",
    "    # color_continuous_scale= 'Viridis',\n",
    "    # facet_row=\"time\", # makes seperate plot for value\n",
    "    # marginal_x=\"histogram\",\n",
    ").update_traces(textposition='top center', selector={'type': 'scatter'} ).update_traces(\n",
    "    marker=dict(color='green'), selector={'type': 'histogram'}\n",
    ")\n",
    "figHistogramxG_A_xG_2Ht.update_xaxes(range=[5, 95])\n",
    "figHistogramxG_A_xG_2Ht.update_layout(\n",
    "    title_text='Ht2: Expectedgoals - Expectedgoals Opponent', title_x=0.5,\n",
    "    yaxis=dict(\n",
    "        tickmode='linear',\n",
    "        tick0=1,\n",
    "        dtick=1,\n",
    "        title=\"Goal difference\"\n",
    "    ))\n",
    "figHistogramxG_A_xG_2Ht.update_layout(legend=dict(\n",
    "    yanchor=\"top\",\n",
    "    y=1.2,\n",
    "    xanchor=\"right\",\n",
    "    x=1.12\n",
    "))\n",
    "\n",
    "figHistogramA_xG_xG_2Ht = px.scatter(\n",
    "    df4CompleteGraph[df4CompleteGraph[\"halftime\"] == \"2\"],  # .query(f'Date.between{end_date}'),\n",
    "    x='BP-H',\n",
    "    y='GoalDiff',\n",
    "    marginal_x=\"histogram\",\n",
    "    color=\"timestamp\",\n",
    "    hover_data=['H_Red Cards', 'A_Red Cards'],\n",
    "    size=\"Axg_halftime2-xg_halftime2\",\n",
    "    symbol = 'IsHome',\n",
    "    symbol_sequence= ['circle-x', 'circle'],\n",
    "    text=\"Opponent\",\n",
    "    width=widthfig,\n",
    "    # height=heightfig,\n",
    "    # facet_row=\"time\", # makes seperate plot for value\n",
    "    # marginal_x=\"histogram\",\n",
    ").update_traces(textposition='top center', selector={'type': 'scatter'} ).update_traces(\n",
    "    marker=dict(color='red'), selector={'type': 'histogram'}\n",
    ")\n",
    "figHistogramA_xG_xG_2Ht.update_xaxes(range=[5, 95])\n",
    "figHistogramA_xG_xG_2Ht.update_layout(\n",
    "    title_text='Ht2: Expectedgoals Opponent - Expectedgoals', title_x=0.5,\n",
    "    yaxis=dict(\n",
    "        tickmode='linear',\n",
    "        tick0=1,\n",
    "        dtick=1,\n",
    "        title=\"Goal difference\"\n",
    "    ))\n",
    "figHistogramA_xG_xG_2Ht.update_layout(legend=dict(\n",
    "    yanchor=\"top\",\n",
    "    y=1.2,\n",
    "    xanchor=\"right\",\n",
    "    x=1.12\n",
    "))\n",
    "\n",
    "\n",
    "\n",
    "# Streamlit encourages well-structured code, like starting execution in a main() function.\n",
    "st.title(\"Football statistics - {}\".format(team))\n",
    "st.markdown('The following two diagrams display the new metric Expected Goals (**xGoals**), which is a qualitative measurement on base of the shots on goal.  \\nThe expected goal model shows how high the chance of the goal really was and calculates a value for each completion based on several factors.   \\nF.I. a penalty has generally a probably of 75 % to result in a goal, which would increase the xGoal value for 0.75 regardless of the penalty-outcame in this case.', unsafe_allow_html=False)\n",
    "\n",
    "col1, col2 = st.columns(2)\n",
    "\n",
    "col1.plotly_chart(figHistogramxG_A_xG_1Ht)\n",
    "\n",
    "col2.plotly_chart(figHistogramA_xG_xG_1Ht)\n",
    "\n",
    "col1.plotly_chart(figHistogramxG_A_xG_2Ht)\n",
    "\n",
    "col2.plotly_chart(figHistogramA_xG_xG_2Ht)\n",
    "\n",
    "col1.plotly_chart(fig_xg_perminute_home)\n",
    "\n",
    "col2.plotly_chart(fig_xg_homexg_complete_game_all_bpse)\n",
    "\n",
    "col1.plotly_chart(fig_xg_perminute_home_bigger_55)\n",
    "\n",
    "col2.plotly_chart(fig_xg_perminute_home_smaller_45)\n",
    "\n",
    "col1.plotly_chart(BarBallpossesionstylesResultsHalftime1)\n",
    "\n",
    "col2.plotly_chart(BarBallpossesionstylesResultsHalftime2)\n",
    "\n",
    "# C_WPercText, N_WPercText, BP_WPercText = calc_stats(df4Complete)\n",
    "# col2.write(\"% W < 0.45:   {}   \\n % W 0.45 - 0.55:  {}   \\n % W > 0.55:  {}\".format(\n",
    "#     C_WPercText, N_WPercText, BP_WPercText))\n",
    "\n",
    "# show df\n",
    "st.dataframe(df4Complete_show.style.format({'xG': '{:.1f}', 'A_xG': '{:.1f}', 'SoG-H': '{:.0f}',\n",
    "                                            'G-H': '{:.0f}', 'G-A': '{:.0f}', 'BP-H': '{:.0f}',\n",
    "                                            'BP-A': '{:.0f}', 'GA-H': '{:.0f}', 'GA-A': '{:.0f}',\n",
    "                                            'xPTS': '{:.1f}', 'A_xPTS': '{:.1f}', 'SoG-A': '{:.0f}',\n",
    "                                            }))\n"
   ]
  }
 ],
 "metadata": {
  "kernelspec": {
   "display_name": "Python 3.9.7 ('winning')",
   "language": "python",
   "name": "python3"
  },
  "language_info": {
   "codemirror_mode": {
    "name": "ipython",
    "version": 3
   },
   "file_extension": ".py",
   "mimetype": "text/x-python",
   "name": "python",
   "nbconvert_exporter": "python",
   "pygments_lexer": "ipython3",
   "version": "3.9.7"
  },
  "orig_nbformat": 4,
  "vscode": {
   "interpreter": {
    "hash": "71add3fad23a8c8e6b24a85f7630d2d04faae16b5347ce0e4a499f3d227a6bcf"
   }
  }
 },
 "nbformat": 4,
 "nbformat_minor": 2
}
