{
 "cells": [
  {
   "cell_type": "code",
   "execution_count": 13,
   "metadata": {},
   "outputs": [
    {
     "name": "stdout",
     "output_type": "stream",
     "text": [
      "Bundesliga 2122\n"
     ]
    }
   ],
   "source": [
    "# To add a new cell, type '# %%'\n",
    "# To add a new markdown cell, type '# %% [markdown]'\n",
    "# %%\n",
    "import glob\n",
    "import pandas as pd\n",
    "import numpy as np\n",
    "import re\n",
    "import plotly_express as px\n",
    "import datetime\n",
    "import warnings\n",
    "import os\n",
    "import json\n",
    "import streamlit as st\n",
    "\n",
    "pd.options.display.float_format = \"{:,.1f}\".format\n",
    "\n",
    "warnings.filterwarnings('ignore')\n",
    "\n",
    "global teamnamedict\n",
    "# C:\\Users\\mg\\JupyterLabDir\\Rest\\Pr Winning\\teamnamedict_streamlit.json\n",
    "with open('teamnamedict_streamlit.json') as f:\n",
    "    teamnamedict = json.load(f)\n",
    "\n",
    "# def _max_width_():\n",
    "#     max_width_str = f\"max-width: 1300px;\"\n",
    "#     st.markdown(\n",
    "#         f\"\"\"\n",
    "#     <style>\n",
    "#     .reportview-container .main .block-container{{\n",
    "#         {max_width_str}\n",
    "#     }}\n",
    "#     </style>\n",
    "#     \"\"\",\n",
    "#         unsafe_allow_html=True,\n",
    "#     )\n",
    "\n",
    "# _max_width_()\n",
    "global widthfig\n",
    "widthfig = 700\n",
    "heightfig = 500\n",
    "\n",
    "# get all the gamestatistics from in dropdown specified league and season\n",
    "# setup the database connection.  There's no need to setup cursors with pandas psql.\n",
    "tables = list(glob.glob(\"htdatan/*\"))\n",
    "\n",
    "# take only the 0 part of the every list entry\n",
    "global saissons\n",
    "saissons = []\n",
    "\n",
    "# ENV is BTCPRED\n",
    "for x in range(0, len(tables)):    # CHANGE THIS - \\\\ - to - / - FOR DEPLOYMENT!\n",
    "    saissons.append(tables[x].split(\"\\\\\")[1].split(\"_24102021.csv\")[0])\n",
    "\n",
    "\n",
    "cleaned_names_saissons = []\n",
    "for saisson in saissons:\n",
    "    saisson = saisson.replace(\"_\", \" \")\n",
    "    saisson = saisson.replace(\".csv\", \"\")\n",
    "    # saison = saison.strip()\n",
    "    cleaned_names_saissons.append(saisson)\n",
    "\n",
    "# map league shortcuts to real names:\n",
    "shortcut_league_dict = {\n",
    "    \"ll\": \"La-Liga\",\n",
    "    \"pl\": \"Premier-League\",\n",
    "    \"sa\": \"Serie-A\",\n",
    "    \"pl\": \"Premier-League\",\n",
    "    \"l1\": \"League-1\",\n",
    "    \"b\": \"Bundesliga\",\n",
    "}\n",
    "# list(map(cleaned_names_saissons, shortcut_league_dict) )\n",
    "cleaned_names_saissons = [e.replace(\n",
    "    key, val) for e in cleaned_names_saissons for key, val in shortcut_league_dict.items() if key in e]\n",
    "\n",
    "# sort list by int substring\n",
    "cleaned_names_saissons = sorted(cleaned_names_saissons, key=lambda x: int(\n",
    "    x.split(\" \")[-1]), reverse=True)\n",
    "\n",
    "global saison\n",
    "saison = st.sidebar.selectbox(\"Saison\", list(\n",
    "    cleaned_names_saissons), 0)\n",
    "print(saison)\n",
    "# map names back for reading the correct csv name\n"
   ]
  },
  {
   "cell_type": "code",
   "execution_count": 14,
   "metadata": {},
   "outputs": [],
   "source": [
    "def find_key(input_dict, value):\n",
    "    for key, val in input_dict.items():\n",
    "        if val == value:\n",
    "            return key\n",
    "    return \"None\"\n",
    "\n",
    "saison = \"{}_{}\".format(find_key(shortcut_league_dict, saison.split(\" \")[0]),\n",
    "                        saison.split(\" \")[1]\n",
    "                        )\n",
    "\n",
    "try:\n",
    "    df_complete_saison = pd.read_csv(\n",
    "        \"htdatan/\"+saison+\".csv\", index_col=0, encoding='utf-8')\n",
    "except:\n",
    "    df_complete_saison = pd.read_csv(\n",
    "        \"htdatan/\"+saison+\"_24102021.csv\", index_col=0, encoding='utf-8')\n",
    "\n",
    "dfallteamnamesl = df_complete_saison.H_Teamnames.unique()\n",
    "\n",
    "# take only the 0 part of the every list entry\n",
    "teamsoptions = []\n",
    "for x in range(0, len(dfallteamnamesl)):\n",
    "    teamsoptions.append(dfallteamnamesl[x])\n",
    "\n",
    "global xg_team\n",
    "xg_team = st.sidebar.selectbox(\"Team\", list(np.sort(teamsoptions)), 0)\n",
    "\n",
    "# convert string to df to use process_team_names_of_df function\n",
    "df_teamname = pd.DataFrame([xg_team])\n",
    "\n",
    "# convert xg teamnames to correct ones that are used in htdatan\n",
    "team_df = df_teamname.replace(teamnamedict)\n",
    "# teamname corrected that it fits to htdatan teamnames\n",
    "team = team_df.iloc[0][0]\n",
    "\n",
    "df = df_complete_saison[(df_complete_saison.H_Teamnames == team) | (\n",
    "    df_complete_saison.A_Teamnames == team)]\n",
    "\n",
    "# return df, team, saison\n"
   ]
  },
  {
   "cell_type": "code",
   "execution_count": 15,
   "metadata": {},
   "outputs": [
    {
     "data": {
      "text/plain": [
       "'Arminia Bielefeld'"
      ]
     },
     "execution_count": 15,
     "metadata": {},
     "output_type": "execute_result"
    }
   ],
   "source": [
    "team"
   ]
  },
  {
   "cell_type": "code",
   "execution_count": 16,
   "metadata": {},
   "outputs": [],
   "source": [
    "\n",
    "\n",
    "def process_team_names_of_df(x_df):\n",
    "    x_df = x_df.replace(teamnamedict)\n",
    "    return x_df\n",
    "\n",
    "#######################################################\n",
    "###  calculate table with two halftimes to one game ###\n",
    "#######################################################\n",
    "\n",
    "\n",
    "def convert_hts_to_complete_games(df):\n",
    "    # fill nane values of these not numeric columns\n",
    "    df[['FK-H', 'FK-A']].fillna(0)\n",
    "    # convert not numeric columns to numeric columns\n",
    "    df['FK-H'] = df['FK-H'].astype('float64')\n",
    "    df['FK-A'] = df['FK-A'].astype('float64')\n",
    "    df['C-H'] = df['C-H'].astype('float64')\n",
    "    df['F-H'] = df['F-H'].astype('float64')\n",
    "    df['GA-H'] = df['GA-H'].astype('float64')\n",
    "    df['SoffG-H'] = df['SoffG-H'].astype('float64')\n",
    "    df['SoG-H'] = df['SoG-H'].astype('float64')\n",
    "    df['C-A'] = df['C-A'].astype('float64')\n",
    "    df['F-A'] = df['F-A'].astype('float64')\n",
    "    df['GA-A'] = df['GA-A'].astype('float64')\n",
    "    df['SoffG-A'] = df['SoffG-A'].astype('float64')\n",
    "    df['SoG-A'] = df['SoG-A'].astype('float64')\n",
    "    df['G-H'] = df['G-H'].astype('float64')\n",
    "    df['G-A'] = df['G-A'].astype('float64')\n",
    "    df['BP-H'] = df['BP-H'].astype('float64')\n",
    "    df['BP-A'] = df['BP-A'].astype('float64')\n",
    "    # xGoals columns\n",
    "    if not set(['xG', 'xPTS', 'GOALS', 'A_xG', 'G-A', 'A_xPTS']).issubset(df.columns):\n",
    "        df['xG'] = -1.0\n",
    "        df['GOALS'] = -1.0\n",
    "        df['xPTS'] = -1.0\n",
    "        df['A_xG'] = -1.0\n",
    "        df['G-A'] = -1.0\n",
    "        df['A_xPTS'] = -1.0\n",
    "    else:\n",
    "        df['xG'] = df['xG'].astype('float64')\n",
    "        df['GOALS'] = df['GOALS'].astype('float64')\n",
    "        df['xPTS'] = df['xPTS'].astype('float64')\n",
    "        df['A_xG'] = df['A_xG'].astype('float64')\n",
    "        df['G-A'] = df['G-A'].astype('float64')\n",
    "        df['A_xPTS'] = df['A_xPTS'].astype('float64')\n",
    "\n",
    "    # calculate halftime table to fulltime table\n",
    "    df = df.groupby(['Home', 'Opponent', 'Date', 'Round']).agg({'BP-H': 'mean', 'C-H': 'sum',\n",
    "                                                                'F-H': 'sum', 'FK-H': 'sum', 'GA-H': 'sum',\n",
    "                                                                'GoKeSa-H': 'sum', 'G-H': 'sum', 'Off-H': 'sum',\n",
    "                                                                'SoffG-H': 'sum', 'SoG-H': 'sum',\n",
    "                                                                           'BP-A': 'mean',\n",
    "                                                                           'C-A': 'sum',\n",
    "                                                                           'F-A': 'sum', 'FK-A': 'sum', 'GA-A': 'sum',\n",
    "                                                                           'GoKeSa-A': 'sum', 'G-A': 'sum', 'Off-A': 'sum',\n",
    "                                                                           'SoffG-A': 'sum', 'SoG-A': 'sum',\n",
    "                                                                           # xGoals stats are only from whole game - not halftime - so mean does not change anything\n",
    "                                                                           'xG': 'mean',\n",
    "                                                                           'GOALS': 'mean',\n",
    "                                                                           'xPTS': 'mean',\n",
    "                                                                           'A_xG': 'mean',\n",
    "                                                                           'A_GOALS': 'mean',\n",
    "                                                                           'A_xPTS': 'mean'\n",
    "                                                                }).reset_index()\n",
    "\n",
    "    newcols = []\n",
    "\n",
    "    for x in df.columns:\n",
    "        if x.startswith('SUM') or x.startswith('MIN') or x.startswith('AVG'):\n",
    "            x = re.sub('SUM', '', x)\n",
    "            x = re.sub('MIN', '', x)\n",
    "            x = re.sub('AVG', '', x)\n",
    "            x = x.replace(\"`\", \"\")\n",
    "            x = x.replace(\")\", \"\")\n",
    "            x = x.replace(\"(\", \"\")\n",
    "        newcols.append(x)\n",
    "\n",
    "    df.columns = newcols\n",
    "\n",
    "    return df\n",
    "\n",
    "\n",
    "def df_cleaning_converting(df):\n",
    "    df = df[['H_Teamnames', 'A_Teamnames', 'H_Goals', 'A_Goals', 'H_Ball Possession', 'A_Ball Possession', 'A_Goal Attempts', 'H_Goal Attempts',\n",
    "             'H_Shots on Goal', 'A_Shots on Goal', 'H_Shots off Goal', 'A_Shots off Goal', 'H_Free Kicks',\n",
    "             'A_Free Kicks', 'H_Corner Kicks', 'A_Corner Kicks', 'H_Offsides', 'A_Offsides', 'H_Goalkeeper Saves', 'A_Goalkeeper Saves',\n",
    "             'H_Fouls', 'A_Fouls', 'A_gameinfo', 'A_datetime', 'xG', 'GOALS', 'xPTS', 'A_xG', 'A_GOALS', 'A_xPTS']]\n",
    "\n",
    "    df[\"R\"] = 'X'\n",
    "\n",
    "    for i in range(0, len(df)):\n",
    "        try:\n",
    "\n",
    "            if df[\"H_Goals\"][i] > df[\"A_Goals\"][i]:\n",
    "                df[\"R\"][i] = 'H'\n",
    "            if df[\"H_Goals\"][i] < df[\"A_Goals\"][i]:\n",
    "                df[\"R\"][i] = 'A'\n",
    "            else:\n",
    "                df[\"R\"][i] = 'D'\n",
    "        except:\n",
    "            print(\"error?\")\n",
    "\n",
    "    df.columns = ['Home', 'Opponent', 'G-H', 'G-A', 'BP-H', 'BP-A', 'GA-H', 'GA-A',\n",
    "                  'SoG-H', 'SoG-A', 'SoffG-H', 'SoffG-A', 'FK-H',\n",
    "                  'FK-A', 'C-H', 'C-A', 'Off-H', 'Off-A', 'GoKeSa-H', 'GoKeSa-A',\n",
    "                  'F-H', 'F-A', 'Round', 'Date', 'xG', 'GOALS', 'xPTS', 'A_xG', 'A_GOALS', 'A_xPTS', 'R']\n",
    "\n",
    "    df = df[['Home', 'Opponent', 'R', 'G-H', 'G-A', 'BP-H', 'BP-A', 'GA-H', 'GA-A',\n",
    "             'SoG-H', 'SoG-A', 'SoffG-H', 'SoffG-A', 'FK-H',\n",
    "             'FK-A', 'C-H', 'C-A', 'Off-H', 'Off-A', 'GoKeSa-H', 'GoKeSa-A', 'F-H',\n",
    "             'F-A', 'Round', 'Date', 'xG', 'GOALS', 'xPTS', 'A_xG', 'A_GOALS', 'A_xPTS']]\n",
    "\n",
    "    df[\"IsHome\"] = 0\n",
    "\n",
    "    df = df[['Home', 'Opponent', 'R', 'G-H', 'G-A', 'BP-H', 'BP-A', 'GA-H', 'GA-A',\n",
    "             'SoG-H', 'SoG-A', 'SoffG-H', 'SoffG-A', 'FK-H',\n",
    "             'FK-A', 'C-H', 'C-A', 'Off-H', 'Off-A', 'GoKeSa-H', 'GoKeSa-A', 'F-H',\n",
    "             'F-A', 'Round', 'Date', 'IsHome', 'xG', 'GOALS', 'xPTS', 'A_xG', 'A_GOALS', 'A_xPTS']]\n",
    "    return df\n",
    "\n",
    "\n",
    "def df_specific_team(df, team):\n",
    "    df4Home = df.loc[((df['Home'] == team))]\n",
    "\n",
    "    df4Home[\"IsHome\"] = 1\n",
    "\n",
    "    # recalcualte the winner because of the columns switching to bring the selected team in the first column\n",
    "    df4Home[\"1x2\"] = 0\n",
    "\n",
    "    df4Home[\"1x2\"] = df4Home.apply(\n",
    "        lambda row: calculate_1x2_home(row), axis=1, result_type='reduce')\n",
    "\n",
    "    # Berechnung Opponentgames\n",
    "    df4Opponent = df.loc[((df['Opponent'] == team))]\n",
    "\n",
    "    # recalcualte the winner because of the columns switching to bring the selected team in the first column\n",
    "    df4Opponent[\"1x2\"] = 0\n",
    "\n",
    "    df4Opponent[\"1x2\"] = df4Opponent.apply(\n",
    "        lambda row: calculate_1x2_Opponent(row), axis=1, result_type='reduce')\n",
    "\n",
    "    # Change the columns for the Opponentmatches of the specific team\n",
    "    OpponentTeamReversedColumns = ['Opponent', 'Home',  '1x2', 'R',  'G-A', 'G-H',\n",
    "                                   'BP-A', 'BP-H', 'GA-A', 'GA-H',  'SoG-A', 'SoG-H', 'SoffG-A', 'SoffG-H',  'FK-A', 'FK-H',\n",
    "                                   'C-A', 'C-H',  'Off-A', 'Off-H', 'GoKeSa-A', 'GoKeSa-H', 'F-A', 'F-H',\n",
    "                                   'Round', 'Date', 'IsHome',\n",
    "                                   'A_xG', \"A_xPTS\", \"A_GOALS\", 'xG', \"xPTS\", \"GOALS\", ]  # , 'IsHome'\n",
    "\n",
    "    df4OpponentReversed = df4Opponent.reindex(\n",
    "        columns=OpponentTeamReversedColumns)\n",
    "\n",
    "    df4OpponentReversed.columns = ['Home', 'Opponent', '1x2', 'R', 'G-H',\n",
    "                                   'G-A', 'BP-H', 'BP-A', 'GA-H', 'GA-A',\n",
    "                                   'SoG-H', 'SoG-A', 'SoffG-H', 'SoffG-A', 'FK-H',\n",
    "                                   'FK-A', 'C-H', 'C-A', 'Off-H', 'Off-A', 'GoKeSa-H', 'GoKeSa-A', 'F-H',\n",
    "                                   'F-A', 'Round', 'Date', 'IsHome',\n",
    "                                   'xG', \"xPTS\", \"GOALS\", 'A_xG', \"A_xPTS\", \"A_GOALS\"]\n",
    "    return df4Home, df4OpponentReversed\n",
    "\n",
    "\n",
    "def create_df4Complete(df4Home, df4OpponentReversed):\n",
    "    # Alle Spiele werden als Heimspiel angezeigt, sind aber auch Auswärtsspiele dabei!\n",
    "    df4Complete = pd.concat([df4Home, df4OpponentReversed], sort=False)\n",
    "\n",
    "    df4Complete[\"G-H\"] = df4Complete[\"G-H\"].astype('float64')\n",
    "    df4Complete[\"G-A\"] = df4Complete[\"G-A\"].astype('float64')\n",
    "    df4Complete[\"BP-H\"] = df4Complete[\"BP-H\"].astype('float64')\n",
    "    df4Complete[\"BP-A\"] = df4Complete[\"BP-A\"].astype('float64')\n",
    "\n",
    "    # GoalDifference\n",
    "    df4Complete[\"GoalDiff\"] = df4Complete[\"G-H\"] - df4Complete[\"G-A\"]\n",
    "    df4Complete = df4Complete.sort_values(\"Date\",  ascending=False)\n",
    "\n",
    "    # calculate column with 3 Ballposition types\n",
    "    df4Complete[\"BPTypes\"] = '0'\n",
    "\n",
    "    df4Complete[\"BPTypes\"] = df4Complete.apply(\n",
    "        lambda row: calculate_1x2_BPTypes(row), axis=1, result_type='reduce')\n",
    "\n",
    "    df4Complete['Date'] = pd.to_datetime(\n",
    "        df4Complete['Date'], format=\"%d.%m.%Y %H:%M\")\n",
    "\n",
    "    # convert datetime to timestamp for scatter visualization\n",
    "    df4Complete['timestamp'] = df4Complete.Date.astype('int64')//10**9\n",
    "\n",
    "    df4Complete = df4Complete.sort_values(\"Date\", ascending=False)\n",
    "\n",
    "    # Create data for scatter graph\n",
    "    df4Complete[\"SoG-H\"] = df4Complete[\"SoG-H\"].astype(int)\n",
    "    df4Complete[\"SoG-A\"] = df4Complete[\"SoG-A\"].astype(int)\n",
    "\n",
    "    return df4Complete\n",
    "\n",
    "\n",
    "def calculate_1x2_home(row):\n",
    "    if row['G-H'] > row['G-A']:\n",
    "        return 'W'\n",
    "    elif row['G-A'] > row['G-H']:\n",
    "        return 'L'\n",
    "    else:\n",
    "        return 'D'\n",
    "\n",
    "\n",
    "def calculate_1x2_Opponent(row):\n",
    "    if row['G-A'] > row['G-H']:\n",
    "        return 'W'\n",
    "    elif row['G-H'] > row['G-A']:\n",
    "        return 'L'\n",
    "    else:\n",
    "        return 'D'\n",
    "\n",
    "\n",
    "def calculate_1x2_BPTypes(row):\n",
    "    if row['BP-H'] > 55:\n",
    "        return '>55'\n",
    "    elif row['BP-H'] < 45:\n",
    "        return '<45'\n",
    "    else:\n",
    "        return '45-55'\n",
    "\n",
    "\n",
    "def calc_stats(df4Complete):\n",
    "    BP_WPerc = df4Complete[['BPTypes', '1x2']\n",
    "                           ].loc[df4Complete['BPTypes'] == '>55']\n",
    "    BP_WAbs = BP_WPerc['1x2'].loc[df4Complete['1x2'] == 'W']\n",
    "    BP_NWAbs = BP_WPerc['1x2'].loc[df4Complete['1x2'] != 'W']\n",
    "    if len(BP_WAbs) + len(BP_NWAbs) > 0:\n",
    "        BP_WPercText = len(BP_WAbs) / (len(BP_WAbs) + len(BP_NWAbs)) * 100\n",
    "        BP_WPercText = round(BP_WPercText)\n",
    "    else:\n",
    "        BP_WPercText = 0\n",
    "\n",
    "    # calculate winning % for 0.45 - 0.55\n",
    "    N_WPerc = df4Complete[['BPTypes', '1x2']\n",
    "                          ].loc[df4Complete['BPTypes'] == '45-55']\n",
    "    N_WAbs = N_WPerc['1x2'].loc[df4Complete['1x2'] == 'W']\n",
    "    N_NWAbs = N_WPerc['1x2'].loc[df4Complete['1x2'] != 'W']\n",
    "    if len(N_WAbs) + len(N_NWAbs) > 0:\n",
    "        N_WPercText = len(N_WAbs) / (len(N_WAbs) + len(N_NWAbs)) * 100\n",
    "        N_WPercText = round(N_WPercText)\n",
    "    else:\n",
    "        N_WPercText = 5\n",
    "\n",
    "    # calculate winning % for < 0.45\n",
    "    C_WPerc = df4Complete[['BPTypes', '1x2']\n",
    "                          ].loc[df4Complete['BPTypes'] == '<45']\n",
    "    C_WAbs = C_WPerc['1x2'].loc[df4Complete['1x2'] == 'W']\n",
    "    C_NWAbs = C_WPerc['1x2'].loc[df4Complete['1x2'] != 'W']\n",
    "    if len(C_WAbs) + len(C_NWAbs) > 0:\n",
    "        C_WPercText = len(C_WAbs) / (len(C_WAbs) + len(C_NWAbs)) * 100\n",
    "        C_WPercText = round(C_WPercText)\n",
    "    else:\n",
    "        C_WPercText = 0\n",
    "\n",
    "    return C_WPercText, N_WPercText, BP_WPercText\n",
    "\n",
    "\n",
    "# get name of the selected team in dropdown\n",
    "def load_xg_gamestats_sql(saison, team):\n",
    "\n",
    "    if saison.split(\"_\")[0] == 'b':\n",
    "        xgprefix = 'bundesliga'\n",
    "    elif saison.split(\"_\")[0] == 'l1':\n",
    "        xgprefix = 'ligue_1'\n",
    "    elif saison.split(\"_\")[0] == 'll':\n",
    "        xgprefix = 'la_liga'\n",
    "    elif saison.split(\"_\")[0] == 'pl':\n",
    "        xgprefix = 'epl'\n",
    "    elif saison.split(\"_\")[0] == 'sa':\n",
    "        xgprefix = 'serie_a'\n",
    "\n",
    "    xgtablename = \"{}20{}\".format(xgprefix, saison.split(\"_\")[1][:2])\n",
    "\n",
    "    df_complete_saison = pd.read_csv(\n",
    "        \"xg/\"+xgtablename+\".csv\", index_col=0, encoding='utf-8')\n",
    "\n",
    "    # execute the query and assign it to a pandas dataframe\n",
    "    dfxg = df_complete_saison[(df_complete_saison.TEAMS == team) | (\n",
    "        df_complete_saison.A_TEAMS == team)]\n",
    "\n",
    "    dfxg = process_team_names_of_df(dfxg)\n",
    "\n",
    "    return dfxg"
   ]
  },
  {
   "cell_type": "code",
   "execution_count": 17,
   "metadata": {},
   "outputs": [],
   "source": [
    "\n",
    "df = process_team_names_of_df(df)\n",
    "\n",
    "dfxg = load_xg_gamestats_sql(saison, team)\n",
    "\n",
    "# rename columns for\n",
    "dfxg_rename = dfxg.rename(\n",
    "    columns={'TEAMS': 'H_Teamnames', 'A_TEAMS': 'A_Teamnames'})\n",
    "# del dfxg\n",
    "\n",
    "dfxg_df_merged = pd.merge(\n",
    "    df, dfxg_rename, on=[\"H_Teamnames\", \"A_Teamnames\"])\n",
    "dfxg_df_merged = dfxg_df_merged.drop_duplicates()\n",
    "\n",
    "# %%\n",
    "df = dfxg_df_merged\n",
    "\n",
    "dfxg_df_merged_cleaned = df_cleaning_converting(df)\n",
    "\n",
    "df4Home, df4OpponentReversed = df_specific_team(\n",
    "    dfxg_df_merged_cleaned, team)\n",
    "\n",
    "df4Complete = create_df4Complete(df4Home, df4OpponentReversed)"
   ]
  },
  {
   "cell_type": "code",
   "execution_count": null,
   "metadata": {},
   "outputs": [],
   "source": []
  },
  {
   "cell_type": "code",
   "execution_count": null,
   "metadata": {},
   "outputs": [],
   "source": []
  },
  {
   "cell_type": "code",
   "execution_count": null,
   "metadata": {},
   "outputs": [],
   "source": []
  },
  {
   "cell_type": "code",
   "execution_count": 18,
   "metadata": {},
   "outputs": [
    {
     "data": {
      "text/plain": [
       "DeltaGenerator(_root_container=0, _provided_cursor=None, _parent=None, _block_type=None, _form_data=None)"
      ]
     },
     "execution_count": 18,
     "metadata": {},
     "output_type": "execute_result"
    }
   ],
   "source": [
    "slidertext = 'Show last x halftimes'\n",
    "nrGames = st.sidebar.slider(slidertext, max_value=len(\n",
    "    df4Complete), value=len(df4Complete), step=2)\n",
    "\n",
    "# change rows of df depending on userinput\n",
    "df4Complete = df4Complete[:nrGames]\n",
    "df4Complete = df4Complete.sort_values(\"Date\", ascending=False)\n",
    "df4Complete = df4Complete.round(1)\n",
    "\n",
    "df4Complete[['xG', 'A_xG', 'G-H', 'G-A', 'BP-H', 'BP-A', 'GA-H', 'GA-A', 'SoG-H', 'SoG-A',  'xPTS', 'A_xPTS']] = df4Complete[['xG',\n",
    "                                                                                                                              'A_xG', 'G-H', 'G-A', 'BP-H', 'BP-A', 'GA-H', 'GA-A', 'SoG-H', 'SoG-A',  'xPTS', 'A_xPTS']].apply(pd.to_numeric, errors='coerce', axis=1)\n",
    "\n",
    "df4Complete_show = df4Complete[['Home', 'Opponent', 'IsHome', 'R', 'xG', 'A_xG', 'G-H', 'G-A', 'BP-H', 'BP-A', 'GA-H', 'GA-A',\n",
    "                                'SoG-H', 'SoG-A',  'xPTS', 'A_xPTS', 'Date']]\n",
    "\n",
    "\n",
    "# create df for visualizing\n",
    "df4CompleteGraph = df4Complete.copy()\n",
    "\n",
    "df4CompleteGraph[\"SoG-H-SoG-A\"] = df4CompleteGraph[\"SoG-H\"] - \\\n",
    "    df4CompleteGraph[\"SoG-A\"]\n",
    "df4CompleteGraph[\"SoG-H-SoG-A\"] = df4CompleteGraph[\"SoG-H-SoG-A\"].clip(\n",
    "    lower=0)\n",
    "\n",
    "df4CompleteGraph[\"SoG-A-SoG-H\"] = df4CompleteGraph[\"SoG-A\"] - \\\n",
    "    df4CompleteGraph[\"SoG-H\"]\n",
    "df4CompleteGraph[\"SoG-A-SoG-H\"] = df4CompleteGraph[\"SoG-A-SoG-H\"].clip(\n",
    "    lower=0)\n",
    "\n",
    "figScatter = px.scatter(\n",
    "    df4CompleteGraph,  # .query(f'Date.between{end_date}'),\n",
    "    x='BP-H',\n",
    "    y='GoalDiff',\n",
    "    color=\"timestamp\",\n",
    "    size=\"SoG-H-SoG-A\",\n",
    "    text=\"Opponent\",\n",
    "    width=widthfig,\n",
    "    # height=heightfig,\n",
    "    # title=\"SoGH-SoGA - Halftimes\",\n",
    "    # color_continuous_scale= 'Viridis',\n",
    "    # color_discrete_map={\"W\": \"green\", \"D\": \"gray\", \"L\": \"red\"}\n",
    "\n",
    "    # facet_row=\"time\", # makes seperate plot for value\n",
    "    # marginal_x=\"histogram\",\n",
    ").update_traces(textposition='top center')\n",
    "figScatter.update_xaxes(range=[5, 95])\n",
    "figScatter.update_layout(\n",
    "    title_text='Halftimes: Shots on Goal - Shots on Goal Opponent', title_x=0.5,\n",
    "    yaxis=dict(\n",
    "        tickmode='linear',\n",
    "        tick0=1,\n",
    "        dtick=1,\n",
    "        title=\"Goal difference\"\n",
    "    ))\n",
    "\n",
    "# %%"
   ]
  },
  {
   "cell_type": "code",
   "execution_count": 19,
   "metadata": {},
   "outputs": [
    {
     "data": {
      "application/vnd.plotly.v1+json": {
       "config": {
        "plotlyServerURL": "https://plot.ly"
       },
       "data": [
        {
         "hovertemplate": "BP-H=%{x}<br>GoalDiff=%{y}<br>SoG-H-SoG-A=%{marker.size}<br>Opponent=%{text}<br>timestamp=%{marker.color}<extra></extra>",
         "legendgroup": "",
         "marker": {
          "color": [
           1641655800,
           1641655800,
           1639841400,
           1639841400,
           1639513800,
           1639513800,
           1639236600,
           1639236600,
           1638631800,
           1638631800,
           1638037800,
           1638037800,
           1637422200,
           1637422200,
           1635575400,
           1635575400,
           1634970600,
           1634970600,
           1634459400,
           1634459400,
           1633257000,
           1633257000,
           1632551400,
           1632551400,
           1631946600,
           1631946600,
           1631442600,
           1631442600,
           1630132200,
           1630132200,
           1628922600,
           1628922600
          ],
          "coloraxis": "coloraxis",
          "size": [
           0,
           1,
           0,
           1,
           0,
           1,
           0,
           0,
           1,
           1,
           0,
           0,
           0,
           0,
           0,
           1,
           0,
           2,
           0,
           1,
           0,
           0,
           0,
           0,
           0,
           2,
           1,
           2,
           0,
           3,
           0,
           0
          ],
          "sizemode": "area",
          "sizeref": 0.0075,
          "symbol": "circle"
         },
         "mode": "markers+text",
         "name": "",
         "orientation": "v",
         "showlegend": false,
         "text": [
          "Freiburg",
          "Freiburg",
          "RB Leipzig",
          "RB Leipzig",
          "Bochum",
          "Bochum",
          "Hertha Berlin",
          "Hertha Berlin",
          "FC Koln",
          "FC Koln",
          "Bayern Munich",
          "Bayern Munich",
          "Wolfsburg",
          "Wolfsburg",
          "Mainz",
          "Mainz",
          "Borussia Dortmund",
          "Borussia Dortmund",
          "Augsburg",
          "Augsburg",
          "Bayer Leverkusen",
          "Bayer Leverkusen",
          "Union Berlin",
          "Union Berlin",
          "Hoffenheim",
          "Hoffenheim",
          "B. Monchengladbach",
          "B. Monchengladbach",
          "Eintracht Frankfurt",
          "Eintracht Frankfurt",
          "Freiburg",
          "Freiburg"
         ],
         "textposition": "top center",
         "type": "scatter",
         "x": [
          46,
          54,
          28,
          32,
          51,
          53,
          49,
          42,
          38,
          45,
          32,
          28,
          40,
          42,
          52,
          52,
          33,
          35,
          44,
          57,
          41,
          41,
          48,
          48,
          43,
          47,
          38,
          38,
          33,
          45,
          47,
          49
         ],
         "xaxis": "x",
         "y": [
          -1,
          1,
          2,
          0,
          2,
          0,
          -2,
          0,
          -1,
          1,
          -1,
          0,
          -1,
          1,
          0,
          -1,
          -2,
          0,
          -1,
          1,
          -2,
          -2,
          0,
          -1,
          0,
          0,
          0,
          -2,
          -1,
          1,
          0,
          0
         ],
         "yaxis": "y"
        }
       ],
       "layout": {
        "coloraxis": {
         "colorbar": {
          "title": {
           "text": "timestamp"
          }
         },
         "colorscale": [
          [
           0,
           "#0d0887"
          ],
          [
           0.1111111111111111,
           "#46039f"
          ],
          [
           0.2222222222222222,
           "#7201a8"
          ],
          [
           0.3333333333333333,
           "#9c179e"
          ],
          [
           0.4444444444444444,
           "#bd3786"
          ],
          [
           0.5555555555555556,
           "#d8576b"
          ],
          [
           0.6666666666666666,
           "#ed7953"
          ],
          [
           0.7777777777777778,
           "#fb9f3a"
          ],
          [
           0.8888888888888888,
           "#fdca26"
          ],
          [
           1,
           "#f0f921"
          ]
         ]
        },
        "legend": {
         "itemsizing": "constant",
         "tracegroupgap": 0
        },
        "margin": {
         "t": 60
        },
        "template": {
         "data": {
          "bar": [
           {
            "error_x": {
             "color": "#2a3f5f"
            },
            "error_y": {
             "color": "#2a3f5f"
            },
            "marker": {
             "line": {
              "color": "#E5ECF6",
              "width": 0.5
             }
            },
            "type": "bar"
           }
          ],
          "barpolar": [
           {
            "marker": {
             "line": {
              "color": "#E5ECF6",
              "width": 0.5
             }
            },
            "type": "barpolar"
           }
          ],
          "carpet": [
           {
            "aaxis": {
             "endlinecolor": "#2a3f5f",
             "gridcolor": "white",
             "linecolor": "white",
             "minorgridcolor": "white",
             "startlinecolor": "#2a3f5f"
            },
            "baxis": {
             "endlinecolor": "#2a3f5f",
             "gridcolor": "white",
             "linecolor": "white",
             "minorgridcolor": "white",
             "startlinecolor": "#2a3f5f"
            },
            "type": "carpet"
           }
          ],
          "choropleth": [
           {
            "colorbar": {
             "outlinewidth": 0,
             "ticks": ""
            },
            "type": "choropleth"
           }
          ],
          "contour": [
           {
            "colorbar": {
             "outlinewidth": 0,
             "ticks": ""
            },
            "colorscale": [
             [
              0,
              "#0d0887"
             ],
             [
              0.1111111111111111,
              "#46039f"
             ],
             [
              0.2222222222222222,
              "#7201a8"
             ],
             [
              0.3333333333333333,
              "#9c179e"
             ],
             [
              0.4444444444444444,
              "#bd3786"
             ],
             [
              0.5555555555555556,
              "#d8576b"
             ],
             [
              0.6666666666666666,
              "#ed7953"
             ],
             [
              0.7777777777777778,
              "#fb9f3a"
             ],
             [
              0.8888888888888888,
              "#fdca26"
             ],
             [
              1,
              "#f0f921"
             ]
            ],
            "type": "contour"
           }
          ],
          "contourcarpet": [
           {
            "colorbar": {
             "outlinewidth": 0,
             "ticks": ""
            },
            "type": "contourcarpet"
           }
          ],
          "heatmap": [
           {
            "colorbar": {
             "outlinewidth": 0,
             "ticks": ""
            },
            "colorscale": [
             [
              0,
              "#0d0887"
             ],
             [
              0.1111111111111111,
              "#46039f"
             ],
             [
              0.2222222222222222,
              "#7201a8"
             ],
             [
              0.3333333333333333,
              "#9c179e"
             ],
             [
              0.4444444444444444,
              "#bd3786"
             ],
             [
              0.5555555555555556,
              "#d8576b"
             ],
             [
              0.6666666666666666,
              "#ed7953"
             ],
             [
              0.7777777777777778,
              "#fb9f3a"
             ],
             [
              0.8888888888888888,
              "#fdca26"
             ],
             [
              1,
              "#f0f921"
             ]
            ],
            "type": "heatmap"
           }
          ],
          "heatmapgl": [
           {
            "colorbar": {
             "outlinewidth": 0,
             "ticks": ""
            },
            "colorscale": [
             [
              0,
              "#0d0887"
             ],
             [
              0.1111111111111111,
              "#46039f"
             ],
             [
              0.2222222222222222,
              "#7201a8"
             ],
             [
              0.3333333333333333,
              "#9c179e"
             ],
             [
              0.4444444444444444,
              "#bd3786"
             ],
             [
              0.5555555555555556,
              "#d8576b"
             ],
             [
              0.6666666666666666,
              "#ed7953"
             ],
             [
              0.7777777777777778,
              "#fb9f3a"
             ],
             [
              0.8888888888888888,
              "#fdca26"
             ],
             [
              1,
              "#f0f921"
             ]
            ],
            "type": "heatmapgl"
           }
          ],
          "histogram": [
           {
            "marker": {
             "colorbar": {
              "outlinewidth": 0,
              "ticks": ""
             }
            },
            "type": "histogram"
           }
          ],
          "histogram2d": [
           {
            "colorbar": {
             "outlinewidth": 0,
             "ticks": ""
            },
            "colorscale": [
             [
              0,
              "#0d0887"
             ],
             [
              0.1111111111111111,
              "#46039f"
             ],
             [
              0.2222222222222222,
              "#7201a8"
             ],
             [
              0.3333333333333333,
              "#9c179e"
             ],
             [
              0.4444444444444444,
              "#bd3786"
             ],
             [
              0.5555555555555556,
              "#d8576b"
             ],
             [
              0.6666666666666666,
              "#ed7953"
             ],
             [
              0.7777777777777778,
              "#fb9f3a"
             ],
             [
              0.8888888888888888,
              "#fdca26"
             ],
             [
              1,
              "#f0f921"
             ]
            ],
            "type": "histogram2d"
           }
          ],
          "histogram2dcontour": [
           {
            "colorbar": {
             "outlinewidth": 0,
             "ticks": ""
            },
            "colorscale": [
             [
              0,
              "#0d0887"
             ],
             [
              0.1111111111111111,
              "#46039f"
             ],
             [
              0.2222222222222222,
              "#7201a8"
             ],
             [
              0.3333333333333333,
              "#9c179e"
             ],
             [
              0.4444444444444444,
              "#bd3786"
             ],
             [
              0.5555555555555556,
              "#d8576b"
             ],
             [
              0.6666666666666666,
              "#ed7953"
             ],
             [
              0.7777777777777778,
              "#fb9f3a"
             ],
             [
              0.8888888888888888,
              "#fdca26"
             ],
             [
              1,
              "#f0f921"
             ]
            ],
            "type": "histogram2dcontour"
           }
          ],
          "mesh3d": [
           {
            "colorbar": {
             "outlinewidth": 0,
             "ticks": ""
            },
            "type": "mesh3d"
           }
          ],
          "parcoords": [
           {
            "line": {
             "colorbar": {
              "outlinewidth": 0,
              "ticks": ""
             }
            },
            "type": "parcoords"
           }
          ],
          "pie": [
           {
            "automargin": true,
            "type": "pie"
           }
          ],
          "scatter": [
           {
            "marker": {
             "colorbar": {
              "outlinewidth": 0,
              "ticks": ""
             }
            },
            "type": "scatter"
           }
          ],
          "scatter3d": [
           {
            "line": {
             "colorbar": {
              "outlinewidth": 0,
              "ticks": ""
             }
            },
            "marker": {
             "colorbar": {
              "outlinewidth": 0,
              "ticks": ""
             }
            },
            "type": "scatter3d"
           }
          ],
          "scattercarpet": [
           {
            "marker": {
             "colorbar": {
              "outlinewidth": 0,
              "ticks": ""
             }
            },
            "type": "scattercarpet"
           }
          ],
          "scattergeo": [
           {
            "marker": {
             "colorbar": {
              "outlinewidth": 0,
              "ticks": ""
             }
            },
            "type": "scattergeo"
           }
          ],
          "scattergl": [
           {
            "marker": {
             "colorbar": {
              "outlinewidth": 0,
              "ticks": ""
             }
            },
            "type": "scattergl"
           }
          ],
          "scattermapbox": [
           {
            "marker": {
             "colorbar": {
              "outlinewidth": 0,
              "ticks": ""
             }
            },
            "type": "scattermapbox"
           }
          ],
          "scatterpolar": [
           {
            "marker": {
             "colorbar": {
              "outlinewidth": 0,
              "ticks": ""
             }
            },
            "type": "scatterpolar"
           }
          ],
          "scatterpolargl": [
           {
            "marker": {
             "colorbar": {
              "outlinewidth": 0,
              "ticks": ""
             }
            },
            "type": "scatterpolargl"
           }
          ],
          "scatterternary": [
           {
            "marker": {
             "colorbar": {
              "outlinewidth": 0,
              "ticks": ""
             }
            },
            "type": "scatterternary"
           }
          ],
          "surface": [
           {
            "colorbar": {
             "outlinewidth": 0,
             "ticks": ""
            },
            "colorscale": [
             [
              0,
              "#0d0887"
             ],
             [
              0.1111111111111111,
              "#46039f"
             ],
             [
              0.2222222222222222,
              "#7201a8"
             ],
             [
              0.3333333333333333,
              "#9c179e"
             ],
             [
              0.4444444444444444,
              "#bd3786"
             ],
             [
              0.5555555555555556,
              "#d8576b"
             ],
             [
              0.6666666666666666,
              "#ed7953"
             ],
             [
              0.7777777777777778,
              "#fb9f3a"
             ],
             [
              0.8888888888888888,
              "#fdca26"
             ],
             [
              1,
              "#f0f921"
             ]
            ],
            "type": "surface"
           }
          ],
          "table": [
           {
            "cells": {
             "fill": {
              "color": "#EBF0F8"
             },
             "line": {
              "color": "white"
             }
            },
            "header": {
             "fill": {
              "color": "#C8D4E3"
             },
             "line": {
              "color": "white"
             }
            },
            "type": "table"
           }
          ]
         },
         "layout": {
          "annotationdefaults": {
           "arrowcolor": "#2a3f5f",
           "arrowhead": 0,
           "arrowwidth": 1
          },
          "coloraxis": {
           "colorbar": {
            "outlinewidth": 0,
            "ticks": ""
           }
          },
          "colorscale": {
           "diverging": [
            [
             0,
             "#8e0152"
            ],
            [
             0.1,
             "#c51b7d"
            ],
            [
             0.2,
             "#de77ae"
            ],
            [
             0.3,
             "#f1b6da"
            ],
            [
             0.4,
             "#fde0ef"
            ],
            [
             0.5,
             "#f7f7f7"
            ],
            [
             0.6,
             "#e6f5d0"
            ],
            [
             0.7,
             "#b8e186"
            ],
            [
             0.8,
             "#7fbc41"
            ],
            [
             0.9,
             "#4d9221"
            ],
            [
             1,
             "#276419"
            ]
           ],
           "sequential": [
            [
             0,
             "#0d0887"
            ],
            [
             0.1111111111111111,
             "#46039f"
            ],
            [
             0.2222222222222222,
             "#7201a8"
            ],
            [
             0.3333333333333333,
             "#9c179e"
            ],
            [
             0.4444444444444444,
             "#bd3786"
            ],
            [
             0.5555555555555556,
             "#d8576b"
            ],
            [
             0.6666666666666666,
             "#ed7953"
            ],
            [
             0.7777777777777778,
             "#fb9f3a"
            ],
            [
             0.8888888888888888,
             "#fdca26"
            ],
            [
             1,
             "#f0f921"
            ]
           ],
           "sequentialminus": [
            [
             0,
             "#0d0887"
            ],
            [
             0.1111111111111111,
             "#46039f"
            ],
            [
             0.2222222222222222,
             "#7201a8"
            ],
            [
             0.3333333333333333,
             "#9c179e"
            ],
            [
             0.4444444444444444,
             "#bd3786"
            ],
            [
             0.5555555555555556,
             "#d8576b"
            ],
            [
             0.6666666666666666,
             "#ed7953"
            ],
            [
             0.7777777777777778,
             "#fb9f3a"
            ],
            [
             0.8888888888888888,
             "#fdca26"
            ],
            [
             1,
             "#f0f921"
            ]
           ]
          },
          "colorway": [
           "#636efa",
           "#EF553B",
           "#00cc96",
           "#ab63fa",
           "#FFA15A",
           "#19d3f3",
           "#FF6692",
           "#B6E880",
           "#FF97FF",
           "#FECB52"
          ],
          "font": {
           "color": "#2a3f5f"
          },
          "geo": {
           "bgcolor": "white",
           "lakecolor": "white",
           "landcolor": "#E5ECF6",
           "showlakes": true,
           "showland": true,
           "subunitcolor": "white"
          },
          "hoverlabel": {
           "align": "left"
          },
          "hovermode": "closest",
          "mapbox": {
           "style": "light"
          },
          "paper_bgcolor": "white",
          "plot_bgcolor": "#E5ECF6",
          "polar": {
           "angularaxis": {
            "gridcolor": "white",
            "linecolor": "white",
            "ticks": ""
           },
           "bgcolor": "#E5ECF6",
           "radialaxis": {
            "gridcolor": "white",
            "linecolor": "white",
            "ticks": ""
           }
          },
          "scene": {
           "xaxis": {
            "backgroundcolor": "#E5ECF6",
            "gridcolor": "white",
            "gridwidth": 2,
            "linecolor": "white",
            "showbackground": true,
            "ticks": "",
            "zerolinecolor": "white"
           },
           "yaxis": {
            "backgroundcolor": "#E5ECF6",
            "gridcolor": "white",
            "gridwidth": 2,
            "linecolor": "white",
            "showbackground": true,
            "ticks": "",
            "zerolinecolor": "white"
           },
           "zaxis": {
            "backgroundcolor": "#E5ECF6",
            "gridcolor": "white",
            "gridwidth": 2,
            "linecolor": "white",
            "showbackground": true,
            "ticks": "",
            "zerolinecolor": "white"
           }
          },
          "shapedefaults": {
           "line": {
            "color": "#2a3f5f"
           }
          },
          "ternary": {
           "aaxis": {
            "gridcolor": "white",
            "linecolor": "white",
            "ticks": ""
           },
           "baxis": {
            "gridcolor": "white",
            "linecolor": "white",
            "ticks": ""
           },
           "bgcolor": "#E5ECF6",
           "caxis": {
            "gridcolor": "white",
            "linecolor": "white",
            "ticks": ""
           }
          },
          "title": {
           "x": 0.05
          },
          "xaxis": {
           "automargin": true,
           "gridcolor": "white",
           "linecolor": "white",
           "ticks": "",
           "title": {
            "standoff": 15
           },
           "zerolinecolor": "white",
           "zerolinewidth": 2
          },
          "yaxis": {
           "automargin": true,
           "gridcolor": "white",
           "linecolor": "white",
           "ticks": "",
           "title": {
            "standoff": 15
           },
           "zerolinecolor": "white",
           "zerolinewidth": 2
          }
         }
        },
        "title": {
         "text": "Halftimes: Shots on Goal - Shots on Goal Opponent",
         "x": 0.5
        },
        "width": 700,
        "xaxis": {
         "anchor": "y",
         "domain": [
          0,
          1
         ],
         "range": [
          5,
          95
         ],
         "title": {
          "text": "BP-H"
         }
        },
        "yaxis": {
         "anchor": "x",
         "domain": [
          0,
          1
         ],
         "dtick": 1,
         "tick0": 1,
         "tickmode": "linear",
         "title": {
          "text": "Goal difference"
         }
        }
       }
      }
     },
     "metadata": {},
     "output_type": "display_data"
    }
   ],
   "source": [
    "figScatter"
   ]
  },
  {
   "cell_type": "code",
   "execution_count": null,
   "metadata": {},
   "outputs": [],
   "source": []
  },
  {
   "cell_type": "code",
   "execution_count": null,
   "metadata": {},
   "outputs": [],
   "source": [
    "\n",
    "figScatter1 = px.scatter(\n",
    "    df4CompleteGraph,  # .query(f'Date.between{end_date}'),\n",
    "    x='BP-H',\n",
    "    y='GoalDiff',\n",
    "    color=\"timestamp\",\n",
    "    size=\"SoG-A-SoG-H\",\n",
    "    text=\"Opponent\",\n",
    "    width=widthfig,\n",
    "    # height=heightfig,\n",
    "    title=\"SoGA-SoGH - Halftimes\",\n",
    "    # color_discrete_map={\"W\": \"green\", \"D\": \"gray\", \"L\": \"red\"}\n",
    "\n",
    "    # facet_row=\"time\", # makes seperate plot for value\n",
    "    # marginal_x=\"histogram\",\n",
    ").update_traces(textposition='top center')\n",
    "figScatter1.update_xaxes(range=[5, 95])\n",
    "figScatter1.update_layout(\n",
    "    title_text='Halftimes: Shots on Goal Opponent - Shots on Goal', title_x=0.5,\n",
    "    yaxis=dict(\n",
    "        tickmode='linear',\n",
    "        tick0=1,\n",
    "        dtick=1,\n",
    "        title=\"Goal difference\"\n",
    "    )\n",
    ")\n",
    "\n",
    "\n",
    "naming1x2 = {\"W\": \"Win\", \"D\": \"Draw\", \"L\": \"Loss\"}\n",
    "df4CompleteGraph['Halftime result'] = df4CompleteGraph['1x2'].replace(\n",
    "    naming1x2)\n",
    "# Create data for histogram 2\n",
    "figHist2 = px.bar(\n",
    "    df4CompleteGraph,\n",
    "    x='BPTypes',\n",
    "    # text=df4CompleteGraph.index,\n",
    "    # title=\"BP-Styles - Halftimes\",\n",
    "    color='Halftime result',\n",
    "    color_discrete_map={\"Win\": \"green\", \"Draw\": \"gray\", \"Loss\": \"red\"},\n",
    "    width=widthfig,\n",
    "    # height=heightfig,\n",
    "    # opacity=0.5,\n",
    "    # text=\"Opponent\",\n",
    ").update_xaxes(categoryorder=\"array\",  categoryarray=['<45', '45-55', '>55'])\n",
    "figHist2.update_layout(\n",
    "    title_text='Ballpossesionstyles - results per halftime', title_x=0.5, xaxis=dict(\n",
    "        tickmode='array', showticklabels=True,\n",
    "    )\n",
    ")\n",
    "\n",
    "\n",
    "# create scatterplot with XG - bubble size\n",
    "df4CompleteGraph = df4Complete.copy()\n",
    "\n",
    "df4CompleteGraph = convert_hts_to_complete_games(df4CompleteGraph)\n",
    "\n",
    "# Calculate again the stuff like for the single halftimes before!\n",
    "# GoalDifference\n",
    "df4CompleteGraph[\"GoalDiff\"] = df4CompleteGraph[\"G-H\"] - \\\n",
    "    df4CompleteGraph[\"G-A\"]\n",
    "df4CompleteGraph = df4CompleteGraph.sort_values(\"Date\",  ascending=False)\n",
    "# calculate column with 3 Ballposition types\n",
    "df4CompleteGraph[\"BPTypes\"] = '0'\n",
    "df4CompleteGraph[\"BPTypes\"] = df4CompleteGraph.apply(\n",
    "    lambda row: calculate_1x2_BPTypes(row), axis=1, result_type='reduce')\n",
    "df4CompleteGraph['Date'] = pd.to_datetime(\n",
    "    df4CompleteGraph['Date'], format=\"%d.%m.%Y %H:%M\")\n",
    "# convert datetime to timestamp for scatter visualization\n",
    "df4CompleteGraph['timestamp'] = df4CompleteGraph.Date.astype('int64')//10**9\n",
    "df4CompleteGraph = df4CompleteGraph.sort_values(\"Date\", ascending=False)\n",
    "# Create data for scatter graph\n",
    "df4CompleteGraph[\"xG-A_xG\"] = df4CompleteGraph[\"xG\"] - df4CompleteGraph[\"A_xG\"]\n",
    "df4CompleteGraph[\"xG-A_xG\"] = df4CompleteGraph[\"xG-A_xG\"].clip(lower=0)\n",
    "df4CompleteGraph[\"xG-A_xG\"] = df4CompleteGraph[\"xG-A_xG\"].round(1)\n",
    "df4CompleteGraph[\"A_xG-xG\"] = df4CompleteGraph[\"A_xG\"] - df4CompleteGraph[\"xG\"]\n",
    "df4CompleteGraph[\"A_xG-xG\"] = df4CompleteGraph[\"A_xG-xG\"].clip(lower=0)\n",
    "df4CompleteGraph[\"A_xG-xG\"] = df4CompleteGraph[\"A_xG-xG\"].round(1)\n",
    "\n",
    "\n",
    "figScatter3 = px.scatter(\n",
    "    df4CompleteGraph,  # .query(f'Date.between{end_date}'),\n",
    "    x='BP-H',\n",
    "    y='GoalDiff',\n",
    "    color=\"timestamp\",\n",
    "    size=\"xG-A_xG\",\n",
    "    text=\"Opponent\",\n",
    "    width=widthfig,\n",
    "    # height=heightfig,\n",
    "    # color_continuous_scale= 'Viridis',\n",
    "    # facet_row=\"time\", # makes seperate plot for value\n",
    "    # marginal_x=\"histogram\",\n",
    ").update_traces(textposition='top center', marker_symbol=\"cross\")\n",
    "figScatter3.update_xaxes(range=[5, 95])\n",
    "figScatter3.update_layout(\n",
    "    title_text='Expectedgoals - Expectedgoals Opponent', title_x=0.5,\n",
    "    yaxis=dict(\n",
    "        tickmode='linear',\n",
    "        tick0=1,\n",
    "        dtick=1,\n",
    "        title=\"Goal difference\"\n",
    "    ))\n",
    "\n",
    "figScatter4 = px.scatter(\n",
    "    df4CompleteGraph,  # .query(f'Date.between{end_date}'),\n",
    "    x='BP-H',\n",
    "    y='GoalDiff',\n",
    "    color=\"timestamp\",\n",
    "    size=\"A_xG-xG\",\n",
    "    text=\"Opponent\",\n",
    "    width=widthfig,\n",
    "    # height=heightfig,\n",
    "    # facet_row=\"time\", # makes seperate plot for value\n",
    "    # marginal_x=\"histogram\",\n",
    ").update_traces(textposition='top center')\n",
    "figScatter4.update_xaxes(range=[5, 95])\n",
    "figScatter4.update_layout(\n",
    "    title_text='Expectedgoals Opponent - Expectedgoals', title_x=0.5,\n",
    "    yaxis=dict(\n",
    "        tickmode='linear',\n",
    "        tick0=1,\n",
    "        dtick=1,\n",
    "        title=\"Goal difference\"\n",
    "    ))\n",
    "\n",
    "\n",
    "# Streamlit encourages well-structured code, like starting execution in a main() function.\n",
    "st.title(\"Football statistics - {}\".format(team))\n",
    "\n",
    "st.markdown('The following two diagrams display the new metric Expected Goals (**xGoals**), which is a qualitative measurement on base of the shots on goal.  \\nThe expected goal model shows how high the chance of the goal really was and calculates a value for each completion based on several factors.   \\nF.I. a penalty has generally a probably of 75 % to result in a goal, which would increase the xGoal value for 0.75 regardless of the penalty-outcame in this case.', unsafe_allow_html=False)\n",
    "\n",
    "col1, col2 = st.columns(2)\n",
    "\n",
    "col1.plotly_chart(figScatter3)\n",
    "\n",
    "col2.plotly_chart(figScatter4)\n",
    "\n",
    "col1.plotly_chart(figScatter)\n",
    "\n",
    "col2.plotly_chart(figScatter1)\n",
    "\n",
    "col1.plotly_chart(figHist2)\n",
    "\n",
    "\n",
    "# C_WPercText, N_WPercText, BP_WPercText = calc_stats(df4Complete)\n",
    "# col2.write(\"% W < 0.45:   {}   \\n % W 0.45 - 0.55:  {}   \\n % W > 0.55:  {}\".format(\n",
    "#     C_WPercText, N_WPercText, BP_WPercText))\n",
    "\n",
    "# show df\n",
    "st.dataframe(df4Complete_show.style.format({'xG': '{:.1f}', 'A_xG': '{:.1f}', 'SoG-H': '{:.0f}',\n",
    "                                            'G-H': '{:.0f}', 'G-A': '{:.0f}', 'BP-H': '{:.0f}',\n",
    "                                            'BP-A': '{:.0f}', 'GA-H': '{:.0f}', 'GA-A': '{:.0f}',\n",
    "                                            'xPTS': '{:.1f}', 'A_xPTS': '{:.1f}', 'SoG-A': '{:.0f}',\n",
    "                                            }))\n"
   ]
  },
  {
   "cell_type": "code",
   "execution_count": null,
   "metadata": {},
   "outputs": [],
   "source": []
  }
 ],
 "metadata": {
  "interpreter": {
   "hash": "6e4c9d91e3d794cbab5ed166e278e430bab039b3b8900e52e7f727cefab3afb1"
  },
  "kernelspec": {
   "display_name": "Python 3.8.5 64-bit ('btcpred': conda)",
   "language": "python",
   "name": "python3"
  },
  "language_info": {
   "codemirror_mode": {
    "name": "ipython",
    "version": 3
   },
   "file_extension": ".py",
   "mimetype": "text/x-python",
   "name": "python",
   "nbconvert_exporter": "python",
   "pygments_lexer": "ipython3",
   "version": "3.8.5"
  },
  "orig_nbformat": 4
 },
 "nbformat": 4,
 "nbformat_minor": 2
}
