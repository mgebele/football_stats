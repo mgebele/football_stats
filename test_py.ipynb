{
 "cells": [
  {
   "cell_type": "code",
   "execution_count": 4,
   "metadata": {},
   "outputs": [
    {
     "name": "stdout",
     "output_type": "stream",
     "text": [
      "Premier-League 2122\n"
     ]
    }
   ],
   "source": [
    "# To add a new cell, type '# %%'\n",
    "# To add a new markdown cell, type '# %% [markdown]'\n",
    "# %%\n",
    "import glob\n",
    "import pandas as pd\n",
    "import numpy as np\n",
    "import re\n",
    "import plotly_express as px\n",
    "import datetime\n",
    "import warnings\n",
    "import os\n",
    "import json\n",
    "import re\n",
    "import traceback\n",
    "import streamlit as st\n",
    "st.set_page_config(layout=\"wide\")\n",
    "pd.options.display.float_format = \"{:,.1f}\".format\n",
    "warnings.filterwarnings('ignore')\n",
    "\n",
    "\n",
    "# TEAMNAMES value in teamnamedict must match the htdatan teamname!\n",
    "\n",
    "global teamnamedict\n",
    "# C:\\Users\\mg\\JupyterLabDir\\Rest\\Pr Winning\\teamnamedict_streamlit.json\n",
    "with open('teamnamedict_streamlit.json') as f:\n",
    "    teamnamedict = json.load(f)\n",
    "\n",
    "global widthfig\n",
    "widthfig = 700\n",
    "heightfig = 600\n",
    "\n",
    "# get all the gamestatistics from in dropdown specified league and season\n",
    "# setup the database connection.  There's no need to setup cursors with pandas psql.\n",
    "tables = list(glob.glob(\"htdatan/*\"))\n",
    "\n",
    "# take only the 0 part of the every list entry\n",
    "global saissons\n",
    "saissons = []\n",
    "\n",
    "# ENV is BTCPRED\n",
    "for x in range(0, len(tables)):    # CHANGE THIS - \\\\ - to - / - FOR DEPLOYMENT!\n",
    "    saissons.append(tables[x].split(\"\\\\\")[1].split(\"_24102021.csv\")[0])\n",
    "\n",
    "\n",
    "cleaned_names_saissons = []\n",
    "for saisson in saissons:\n",
    "    saisson = saisson.replace(\"_\", \" \")\n",
    "    saisson = saisson.replace(\".csv\", \"\")\n",
    "    # saison = saison.strip()\n",
    "    cleaned_names_saissons.append(saisson)\n",
    "\n",
    "# map league shortcuts to real names:\n",
    "shortcut_league_dict = {\n",
    "    \"ll\": \"La-Liga\",\n",
    "    \"pl\": \"Premier-League\",\n",
    "    \"sa\": \"Serie-A\",\n",
    "    \"l1\": \"League-1\",\n",
    "    \"b\": \"Bundesliga\",\n",
    "}\n",
    "# list(map(cleaned_names_saissons, shortcut_league_dict) )\n",
    "cleaned_names_saissons = [e.replace(\n",
    "    key, val) for e in cleaned_names_saissons for key, val in shortcut_league_dict.items() if key in e]\n",
    "\n",
    "# sort list by int substring\n",
    "cleaned_names_saissons = sorted(cleaned_names_saissons, key=lambda x: int(\n",
    "    x.split(\" \")[-1]), reverse=True)\n",
    "\n",
    "global saison\n",
    "saison = \"Premier-League 2122\"\n",
    "print(saison)\n",
    "# map names back for reading the correct csv name\n",
    "\n",
    "\n",
    "def find_key(input_dict, value):\n",
    "    for key, val in input_dict.items():\n",
    "        if val == value:\n",
    "            return key\n",
    "    return \"None\"\n",
    "\n",
    "\n",
    "saison = \"{}_{}\".format(find_key(shortcut_league_dict, saison.split(\" \")[0]),\n",
    "                        saison.split(\" \")[1]\n",
    "                        )\n",
    "\n",
    "try:\n",
    "    df_complete_saison = pd.read_csv(\n",
    "        \"htdatan/\"+saison+\".csv\", index_col=0, encoding='utf-8')\n",
    "except:\n",
    "    df_complete_saison = pd.read_csv(\n",
    "        \"htdatan/\"+saison+\"_24102021.csv\", index_col=0, encoding='utf-8')\n",
    "\n",
    "df_complete_saison = df_complete_saison.replace(teamnamedict)\n",
    "dfallteamnamesl = df_complete_saison.H_Teamnames.unique()\n",
    "\n",
    "# take only the 0 part of the every list entry\n",
    "teamsoptions = []\n",
    "for x in range(0, len(dfallteamnamesl)):\n",
    "    teamsoptions.append(dfallteamnamesl[x])\n",
    "\n",
    "global xg_team\n",
    "xg_team = \"Arsenal\"\n",
    "\n",
    "# convert string to df to use process_team_names_of_df function\n",
    "df_teamname = pd.DataFrame([xg_team])\n",
    "\n",
    "# convert xg teamnames to correct ones that are used in htdatan\n",
    "team_df = df_teamname.replace(teamnamedict)\n",
    "# teamname corrected that it fits to htdatan teamnames\n",
    "team = team_df.iloc[0][0]\n",
    "\n",
    "df = df_complete_saison[(df_complete_saison.H_Teamnames == team) | (\n",
    "    df_complete_saison.A_Teamnames == team)]\n",
    "\n",
    "# return df, team, saison\n",
    "\n",
    "\n",
    "def process_team_names_of_df(x_df):\n",
    "    x_df = x_df.replace(teamnamedict)\n",
    "    return x_df\n"
   ]
  },
  {
   "cell_type": "code",
   "execution_count": 5,
   "metadata": {},
   "outputs": [
    {
     "data": {
      "text/html": [
       "<div>\n",
       "<style scoped>\n",
       "    .dataframe tbody tr th:only-of-type {\n",
       "        vertical-align: middle;\n",
       "    }\n",
       "\n",
       "    .dataframe tbody tr th {\n",
       "        vertical-align: top;\n",
       "    }\n",
       "\n",
       "    .dataframe thead th {\n",
       "        text-align: right;\n",
       "    }\n",
       "</style>\n",
       "<table border=\"1\" class=\"dataframe\">\n",
       "  <thead>\n",
       "    <tr style=\"text-align: right;\">\n",
       "      <th></th>\n",
       "      <th>H_datetime</th>\n",
       "      <th>H_gameinfo</th>\n",
       "      <th>H_Teamnames</th>\n",
       "      <th>H_Goals</th>\n",
       "      <th>H_Ball Possession</th>\n",
       "      <th>H_Goal Attempts</th>\n",
       "      <th>H_Shots on Goal</th>\n",
       "      <th>H_Shots off Goal</th>\n",
       "      <th>H_Blocked Shots</th>\n",
       "      <th>H_Free Kicks</th>\n",
       "      <th>...</th>\n",
       "      <th>A_Fouls</th>\n",
       "      <th>A_Yellow Cards</th>\n",
       "      <th>A_Red Cards</th>\n",
       "      <th>A_Total Passes</th>\n",
       "      <th>A_Completed Passes</th>\n",
       "      <th>A_Tackles</th>\n",
       "      <th>A_Attacks</th>\n",
       "      <th>A_Dangerous Attacks</th>\n",
       "      <th>A_Throw-in</th>\n",
       "      <th>H_cat</th>\n",
       "    </tr>\n",
       "  </thead>\n",
       "  <tbody>\n",
       "    <tr>\n",
       "      <th>0</th>\n",
       "      <td>13.08.2021 12:00</td>\n",
       "      <td>FootballFootballENGLAND: Premier League - Round 1</td>\n",
       "      <td>Brentford</td>\n",
       "      <td>1</td>\n",
       "      <td>32</td>\n",
       "      <td>3</td>\n",
       "      <td>2</td>\n",
       "      <td>1</td>\n",
       "      <td>0</td>\n",
       "      <td>4</td>\n",
       "      <td>...</td>\n",
       "      <td>5</td>\n",
       "      <td>NaN</td>\n",
       "      <td>NaN</td>\n",
       "      <td>295</td>\n",
       "      <td>250</td>\n",
       "      <td>7</td>\n",
       "      <td>78</td>\n",
       "      <td>51</td>\n",
       "      <td>12.0</td>\n",
       "      <td>cat0</td>\n",
       "    </tr>\n",
       "    <tr>\n",
       "      <th>1</th>\n",
       "      <td>13.08.2021 12:00</td>\n",
       "      <td>FootballFootballENGLAND: Premier League - Round 1</td>\n",
       "      <td>Brentford</td>\n",
       "      <td>1</td>\n",
       "      <td>38</td>\n",
       "      <td>5</td>\n",
       "      <td>1</td>\n",
       "      <td>4</td>\n",
       "      <td>0</td>\n",
       "      <td>5</td>\n",
       "      <td>...</td>\n",
       "      <td>3</td>\n",
       "      <td>NaN</td>\n",
       "      <td>NaN</td>\n",
       "      <td>273</td>\n",
       "      <td>236</td>\n",
       "      <td>2</td>\n",
       "      <td>59</td>\n",
       "      <td>25</td>\n",
       "      <td>14.0</td>\n",
       "      <td>cat1</td>\n",
       "    </tr>\n",
       "    <tr>\n",
       "      <th>36</th>\n",
       "      <td>22.08.2021 08:30</td>\n",
       "      <td>FootballFootballENGLAND: Premier League - Round 2</td>\n",
       "      <td>Arsenal</td>\n",
       "      <td>0</td>\n",
       "      <td>31</td>\n",
       "      <td>4</td>\n",
       "      <td>2</td>\n",
       "      <td>1</td>\n",
       "      <td>1</td>\n",
       "      <td>3</td>\n",
       "      <td>...</td>\n",
       "      <td>3</td>\n",
       "      <td>0.0</td>\n",
       "      <td>NaN</td>\n",
       "      <td>326</td>\n",
       "      <td>284</td>\n",
       "      <td>7</td>\n",
       "      <td>36</td>\n",
       "      <td>42</td>\n",
       "      <td>11.0</td>\n",
       "      <td>cat36</td>\n",
       "    </tr>\n",
       "    <tr>\n",
       "      <th>37</th>\n",
       "      <td>22.08.2021 08:30</td>\n",
       "      <td>FootballFootballENGLAND: Premier League - Round 2</td>\n",
       "      <td>Arsenal</td>\n",
       "      <td>0</td>\n",
       "      <td>39</td>\n",
       "      <td>2</td>\n",
       "      <td>1</td>\n",
       "      <td>1</td>\n",
       "      <td>0</td>\n",
       "      <td>1</td>\n",
       "      <td>...</td>\n",
       "      <td>1</td>\n",
       "      <td>0.0</td>\n",
       "      <td>NaN</td>\n",
       "      <td>320</td>\n",
       "      <td>279</td>\n",
       "      <td>4</td>\n",
       "      <td>47</td>\n",
       "      <td>17</td>\n",
       "      <td>11.0</td>\n",
       "      <td>cat37</td>\n",
       "    </tr>\n",
       "    <tr>\n",
       "      <th>40</th>\n",
       "      <td>28.08.2021 04:30</td>\n",
       "      <td>FootballFootballENGLAND: Premier League - Round 3</td>\n",
       "      <td>Manchester City</td>\n",
       "      <td>2</td>\n",
       "      <td>88</td>\n",
       "      <td>19</td>\n",
       "      <td>7</td>\n",
       "      <td>3</td>\n",
       "      <td>9</td>\n",
       "      <td>4</td>\n",
       "      <td>...</td>\n",
       "      <td>1</td>\n",
       "      <td>0.0</td>\n",
       "      <td>NaN</td>\n",
       "      <td>74</td>\n",
       "      <td>42</td>\n",
       "      <td>4</td>\n",
       "      <td>19</td>\n",
       "      <td>6</td>\n",
       "      <td>4.0</td>\n",
       "      <td>cat40</td>\n",
       "    </tr>\n",
       "    <tr>\n",
       "      <th>...</th>\n",
       "      <td>...</td>\n",
       "      <td>...</td>\n",
       "      <td>...</td>\n",
       "      <td>...</td>\n",
       "      <td>...</td>\n",
       "      <td>...</td>\n",
       "      <td>...</td>\n",
       "      <td>...</td>\n",
       "      <td>...</td>\n",
       "      <td>...</td>\n",
       "      <td>...</td>\n",
       "      <td>...</td>\n",
       "      <td>...</td>\n",
       "      <td>...</td>\n",
       "      <td>...</td>\n",
       "      <td>...</td>\n",
       "      <td>...</td>\n",
       "      <td>...</td>\n",
       "      <td>...</td>\n",
       "      <td>...</td>\n",
       "      <td>...</td>\n",
       "    </tr>\n",
       "    <tr>\n",
       "      <th>715</th>\n",
       "      <td>12.05.2022 20:45</td>\n",
       "      <td>FOOTBALL\\r\\nENGLAND: PREMIER LEAGUE - ROUND 22</td>\n",
       "      <td>Tottenham</td>\n",
       "      <td>2</td>\n",
       "      <td>53</td>\n",
       "      <td>8</td>\n",
       "      <td>2</td>\n",
       "      <td>4</td>\n",
       "      <td>2</td>\n",
       "      <td>7</td>\n",
       "      <td>...</td>\n",
       "      <td>8</td>\n",
       "      <td>2.0</td>\n",
       "      <td>1.0</td>\n",
       "      <td>188</td>\n",
       "      <td>158</td>\n",
       "      <td>1</td>\n",
       "      <td>38</td>\n",
       "      <td>27</td>\n",
       "      <td>9.0</td>\n",
       "      <td>cat11</td>\n",
       "    </tr>\n",
       "    <tr>\n",
       "      <th>730</th>\n",
       "      <td>16.05.2022 21:00</td>\n",
       "      <td>FOOTBALL\\r\\nENGLAND: PREMIER LEAGUE - ROUND 37</td>\n",
       "      <td>Newcastle United</td>\n",
       "      <td>2</td>\n",
       "      <td>35</td>\n",
       "      <td>12</td>\n",
       "      <td>3</td>\n",
       "      <td>5</td>\n",
       "      <td>4</td>\n",
       "      <td>4</td>\n",
       "      <td>...</td>\n",
       "      <td>5</td>\n",
       "      <td>2.0</td>\n",
       "      <td>NaN</td>\n",
       "      <td>216</td>\n",
       "      <td>176</td>\n",
       "      <td>6</td>\n",
       "      <td>55</td>\n",
       "      <td>24</td>\n",
       "      <td>7.0</td>\n",
       "      <td>cat26</td>\n",
       "    </tr>\n",
       "    <tr>\n",
       "      <th>731</th>\n",
       "      <td>16.05.2022 21:00</td>\n",
       "      <td>FOOTBALL\\r\\nENGLAND: PREMIER LEAGUE - ROUND 37</td>\n",
       "      <td>Newcastle United</td>\n",
       "      <td>0</td>\n",
       "      <td>67</td>\n",
       "      <td>4</td>\n",
       "      <td>1</td>\n",
       "      <td>2</td>\n",
       "      <td>1</td>\n",
       "      <td>3</td>\n",
       "      <td>...</td>\n",
       "      <td>3</td>\n",
       "      <td>1.0</td>\n",
       "      <td>NaN</td>\n",
       "      <td>116</td>\n",
       "      <td>82</td>\n",
       "      <td>9</td>\n",
       "      <td>18</td>\n",
       "      <td>6</td>\n",
       "      <td>7.0</td>\n",
       "      <td>cat27</td>\n",
       "    </tr>\n",
       "    <tr>\n",
       "      <th>758</th>\n",
       "      <td>22.05.2022 17:00</td>\n",
       "      <td>FOOTBALL\\r\\nENGLAND: PREMIER LEAGUE - ROUND 38</td>\n",
       "      <td>Arsenal</td>\n",
       "      <td>3</td>\n",
       "      <td>71</td>\n",
       "      <td>9</td>\n",
       "      <td>5</td>\n",
       "      <td>3</td>\n",
       "      <td>1</td>\n",
       "      <td>5</td>\n",
       "      <td>...</td>\n",
       "      <td>5</td>\n",
       "      <td>1.0</td>\n",
       "      <td>NaN</td>\n",
       "      <td>140</td>\n",
       "      <td>96</td>\n",
       "      <td>11</td>\n",
       "      <td>29</td>\n",
       "      <td>14</td>\n",
       "      <td>6.0</td>\n",
       "      <td>cat54</td>\n",
       "    </tr>\n",
       "    <tr>\n",
       "      <th>759</th>\n",
       "      <td>22.05.2022 17:00</td>\n",
       "      <td>FOOTBALL\\r\\nENGLAND: PREMIER LEAGUE - ROUND 38</td>\n",
       "      <td>Arsenal</td>\n",
       "      <td>2</td>\n",
       "      <td>77</td>\n",
       "      <td>17</td>\n",
       "      <td>4</td>\n",
       "      <td>5</td>\n",
       "      <td>8</td>\n",
       "      <td>3</td>\n",
       "      <td>...</td>\n",
       "      <td>4</td>\n",
       "      <td>NaN</td>\n",
       "      <td>NaN</td>\n",
       "      <td>94</td>\n",
       "      <td>55</td>\n",
       "      <td>10</td>\n",
       "      <td>26</td>\n",
       "      <td>11</td>\n",
       "      <td>7.0</td>\n",
       "      <td>cat55</td>\n",
       "    </tr>\n",
       "  </tbody>\n",
       "</table>\n",
       "<p>76 rows × 45 columns</p>\n",
       "</div>"
      ],
      "text/plain": [
       "           H_datetime                                         H_gameinfo  \\\n",
       "0    13.08.2021 12:00  FootballFootballENGLAND: Premier League - Round 1   \n",
       "1    13.08.2021 12:00  FootballFootballENGLAND: Premier League - Round 1   \n",
       "36   22.08.2021 08:30  FootballFootballENGLAND: Premier League - Round 2   \n",
       "37   22.08.2021 08:30  FootballFootballENGLAND: Premier League - Round 2   \n",
       "40   28.08.2021 04:30  FootballFootballENGLAND: Premier League - Round 3   \n",
       "..                ...                                                ...   \n",
       "715  12.05.2022 20:45     FOOTBALL\\r\\nENGLAND: PREMIER LEAGUE - ROUND 22   \n",
       "730  16.05.2022 21:00     FOOTBALL\\r\\nENGLAND: PREMIER LEAGUE - ROUND 37   \n",
       "731  16.05.2022 21:00     FOOTBALL\\r\\nENGLAND: PREMIER LEAGUE - ROUND 37   \n",
       "758  22.05.2022 17:00     FOOTBALL\\r\\nENGLAND: PREMIER LEAGUE - ROUND 38   \n",
       "759  22.05.2022 17:00     FOOTBALL\\r\\nENGLAND: PREMIER LEAGUE - ROUND 38   \n",
       "\n",
       "          H_Teamnames  H_Goals  H_Ball Possession  H_Goal Attempts  \\\n",
       "0           Brentford        1                 32                3   \n",
       "1           Brentford        1                 38                5   \n",
       "36            Arsenal        0                 31                4   \n",
       "37            Arsenal        0                 39                2   \n",
       "40    Manchester City        2                 88               19   \n",
       "..                ...      ...                ...              ...   \n",
       "715         Tottenham        2                 53                8   \n",
       "730  Newcastle United        2                 35               12   \n",
       "731  Newcastle United        0                 67                4   \n",
       "758           Arsenal        3                 71                9   \n",
       "759           Arsenal        2                 77               17   \n",
       "\n",
       "     H_Shots on Goal  H_Shots off Goal  H_Blocked Shots  H_Free Kicks  ...  \\\n",
       "0                  2                 1                0             4  ...   \n",
       "1                  1                 4                0             5  ...   \n",
       "36                 2                 1                1             3  ...   \n",
       "37                 1                 1                0             1  ...   \n",
       "40                 7                 3                9             4  ...   \n",
       "..               ...               ...              ...           ...  ...   \n",
       "715                2                 4                2             7  ...   \n",
       "730                3                 5                4             4  ...   \n",
       "731                1                 2                1             3  ...   \n",
       "758                5                 3                1             5  ...   \n",
       "759                4                 5                8             3  ...   \n",
       "\n",
       "     A_Fouls  A_Yellow Cards  A_Red Cards  A_Total Passes  A_Completed Passes  \\\n",
       "0          5             NaN          NaN             295                 250   \n",
       "1          3             NaN          NaN             273                 236   \n",
       "36         3             0.0          NaN             326                 284   \n",
       "37         1             0.0          NaN             320                 279   \n",
       "40         1             0.0          NaN              74                  42   \n",
       "..       ...             ...          ...             ...                 ...   \n",
       "715        8             2.0          1.0             188                 158   \n",
       "730        5             2.0          NaN             216                 176   \n",
       "731        3             1.0          NaN             116                  82   \n",
       "758        5             1.0          NaN             140                  96   \n",
       "759        4             NaN          NaN              94                  55   \n",
       "\n",
       "     A_Tackles  A_Attacks  A_Dangerous Attacks  A_Throw-in  H_cat  \n",
       "0            7         78                   51        12.0   cat0  \n",
       "1            2         59                   25        14.0   cat1  \n",
       "36           7         36                   42        11.0  cat36  \n",
       "37           4         47                   17        11.0  cat37  \n",
       "40           4         19                    6         4.0  cat40  \n",
       "..         ...        ...                  ...         ...    ...  \n",
       "715          1         38                   27         9.0  cat11  \n",
       "730          6         55                   24         7.0  cat26  \n",
       "731          9         18                    6         7.0  cat27  \n",
       "758         11         29                   14         6.0  cat54  \n",
       "759         10         26                   11         7.0  cat55  \n",
       "\n",
       "[76 rows x 45 columns]"
      ]
     },
     "execution_count": 5,
     "metadata": {},
     "output_type": "execute_result"
    }
   ],
   "source": [
    "\n",
    "#######################################################\n",
    "###  calculate table with two halftimes to one game ###\n",
    "#######################################################\n",
    "def df_cleaning_converting(df):\n",
    "    df = df[['H_Teamnames', 'A_Teamnames', 'H_Goals', 'A_Goals', 'H_Ball Possession', 'A_Ball Possession', 'A_Goal Attempts', 'H_Goal Attempts',\n",
    "             'H_Shots on Goal', 'A_Shots on Goal', 'H_Shots off Goal', 'A_Shots off Goal', 'H_Free Kicks',\n",
    "             'A_Free Kicks', 'H_Corner Kicks', 'A_Corner Kicks', 'H_Offsides', 'A_Offsides', 'H_Goalkeeper Saves', 'A_Goalkeeper Saves',\n",
    "             'H_Fouls', 'A_Fouls', 'A_gameinfo', 'A_datetime', 'xG', 'GOALS', 'xPTS', 'A_xG', 'A_GOALS', 'A_xPTS', 'timing_chart_xg', \"homexg_complete_game\", \"awayxg_complete_game\"]]\n",
    "    df = df.drop_duplicates(subset=['H_Teamnames', 'A_Teamnames', 'H_Goals', 'A_Goals', 'H_Ball Possession', 'A_Ball Possession', 'A_Goal Attempts', 'H_Goal Attempts',\n",
    "             'H_Shots on Goal', 'A_Shots on Goal', 'H_Shots off Goal', 'A_Shots off Goal', 'H_Free Kicks',\n",
    "             'A_Free Kicks', 'H_Corner Kicks', 'A_Corner Kicks', 'H_Offsides', 'A_Offsides', 'H_Goalkeeper Saves', 'A_Goalkeeper Saves',\n",
    "             'H_Fouls', 'A_Fouls', 'A_gameinfo', 'A_datetime', 'xG', 'GOALS', 'xPTS', 'A_xG', 'A_GOALS', 'A_xPTS'], keep='first')\n",
    "    df = df.reset_index(drop=True)\n",
    "    df[\"R\"] = 'X'\n",
    "\n",
    "    print(df)\n",
    "    df['timing_chart_xg'] = df['timing_chart_xg'].astype('str') \n",
    "\n",
    "    # calculate halftime xG for both teams!\n",
    "    df['xg_halftime'] = -1\n",
    "    df['Axg_halftime'] = -1\n",
    "    for index, row in df.iterrows():\n",
    "        print(index)\n",
    "        try:    \n",
    "            # away team xg at halfime!\n",
    "            df['Axg_halftime'].loc[index] = df[\"timing_chart_xg\"].loc[index].split(\"45' \")[0].split(\"Total xG: \")[-1].split(\"\\n\")[0].replace(\";\", \"\")  \n",
    "            # home team xg at halfime!\n",
    "            df['xg_halftime'].loc[index] = df[\"timing_chart_xg\"].loc[index].split(\"45' \")[1].split(\"Total xG: \")[1].split(\"\\n\")[0].replace(\";\", \"\") \n",
    "        except Exception:\n",
    "            print(\"WRONG! index: \", index)\n",
    "            # print(row)\n",
    "            # print(traceback.format_exc())\n",
    "\n",
    "    df.xg_halftime = df.xg_halftime.astype(float).fillna(0.0)\n",
    "    df.Axg_halftime = df.Axg_halftime.astype(float).fillna(0.0) \n",
    "\n",
    "\n",
    "\n",
    "\n",
    "    for i in range(0, len(df)):\n",
    "        try:\n",
    "\n",
    "            if df[\"H_Goals\"][i] > df[\"A_Goals\"][i]:\n",
    "                df[\"R\"][i] = 'H'\n",
    "            if df[\"H_Goals\"][i] < df[\"A_Goals\"][i]:\n",
    "                df[\"R\"][i] = 'A'\n",
    "            else:\n",
    "                df[\"R\"][i] = 'D'\n",
    "        except:\n",
    "            print(\"error?\")\n",
    "    print(\"!!!\", df.columns)\n",
    "    df.columns = ['Home', 'Opponent', 'G-H', 'G-A', 'BP-H', 'BP-A', 'GA-H', 'GA-A',\n",
    "                'SoG-H', 'SoG-A', 'SoffG-H', 'SoffG-A', 'FK-H',\n",
    "                'FK-A', 'C-H', 'C-A', 'Off-H', 'Off-A', 'GoKeSa-H', 'GoKeSa-A',\n",
    "                'F-H', 'F-A', 'Round', 'Date', 'xG', 'GOALS', 'xPTS', 'A_xG', 'A_GOALS', 'A_xPTS', \"timing_chart_xg\", \"homexg_complete_game\", \"awayxg_complete_game\", 'R',  'xg_halftime', 'Axg_halftime',]\n",
    "\n",
    "    df = df[['Home', 'Opponent', 'R', 'G-H', 'G-A', 'BP-H', 'BP-A', 'GA-H', 'GA-A',\n",
    "             'SoG-H', 'SoG-A', 'SoffG-H', 'SoffG-A', 'FK-H',\n",
    "             'FK-A', 'C-H', 'C-A', 'Off-H', 'Off-A', 'GoKeSa-H', 'GoKeSa-A', 'F-H',\n",
    "             'F-A', 'Round', 'Date', 'xG', 'GOALS', 'xPTS', 'A_xG', 'A_GOALS', 'A_xPTS', 'xg_halftime', 'Axg_halftime', \"homexg_complete_game\", \"awayxg_complete_game\", ]]\n",
    "\n",
    "    df[\"IsHome\"] = 0\n",
    "\n",
    "    df = df[['Home', 'Opponent', 'R', 'G-H', 'G-A', 'BP-H', 'BP-A', 'GA-H', 'GA-A',\n",
    "             'SoG-H', 'SoG-A', 'SoffG-H', 'SoffG-A', 'FK-H',\n",
    "             'FK-A', 'C-H', 'C-A', 'Off-H', 'Off-A', 'GoKeSa-H', 'GoKeSa-A', 'F-H',\n",
    "             'F-A', 'Round', 'Date', 'IsHome', 'xG', 'GOALS', 'xPTS', 'A_xG', 'A_GOALS', 'A_xPTS','xg_halftime', 'Axg_halftime', \"homexg_complete_game\", \"awayxg_complete_game\", ]]\n",
    "    return df\n",
    "\n",
    "\n",
    " \n",
    "def df_specific_team(df, team):\n",
    "    df4Home = df.loc[((df['Home'] == team))]\n",
    "\n",
    "    df4Home[\"IsHome\"] = 1\n",
    "\n",
    "    # recalcualte the winner because of the columns switching to bring the selected team in the first column\n",
    "    df4Home[\"1x2\"] = 0\n",
    "\n",
    "    df4Home[\"1x2\"] = df4Home.apply(\n",
    "        lambda row: calculate_1x2_home(row), axis=1, result_type='reduce')\n",
    "\n",
    "    # Berechnung Opponentgames\n",
    "    df4Opponent = df.loc[((df['Opponent'] == team))]\n",
    "\n",
    "\n",
    "    \n",
    "\n",
    "    # recalcualte the winner because of the columns switching to bring the selected team in the first column\n",
    "    df4Opponent[\"1x2\"] = 0\n",
    "\n",
    "    df4Opponent[\"1x2\"] = df4Opponent.apply(\n",
    "        lambda row: calculate_1x2_Opponent(row), axis=1, result_type='reduce')\n",
    "\n",
    "    # change the halftime-xg with halftime-Axg:\n",
    "    # switched the two columns\n",
    "    # Change the columns for the Opponentmatches of the specific team\n",
    "    OpponentTeamReversedColumns = ['Opponent', 'Home',  '1x2', 'R',  'G-A', 'G-H',\n",
    "                                   'BP-A', 'BP-H', 'GA-A', 'GA-H',  'SoG-A', 'SoG-H', 'SoffG-A', 'SoffG-H',  'FK-A', 'FK-H',\n",
    "                                   'C-A', 'C-H',  'Off-A', 'Off-H', 'GoKeSa-A', 'GoKeSa-H', 'F-A', 'F-H',\n",
    "                                   'Round', 'Date', 'IsHome',\n",
    "                                   'A_xG', \"A_xPTS\", \"A_GOALS\", 'xG', \"xPTS\", \"GOALS\", 'Axg_halftime', 'xg_halftime',\"awayxg_complete_game\", \"homexg_complete_game\",   ]  # , 'IsHome'\n",
    "\n",
    "    df4OpponentReversed = df4Opponent.reindex(\n",
    "        columns=OpponentTeamReversedColumns)\n",
    "\n",
    "    df4OpponentReversed.columns = ['Home', 'Opponent', '1x2', 'R', 'G-H',\n",
    "                                   'G-A', 'BP-H', 'BP-A', 'GA-H', 'GA-A',\n",
    "                                   'SoG-H', 'SoG-A', 'SoffG-H', 'SoffG-A', 'FK-H',\n",
    "                                   'FK-A', 'C-H', 'C-A', 'Off-H', 'Off-A', 'GoKeSa-H', 'GoKeSa-A', 'F-H',\n",
    "                                   'F-A', 'Round', 'Date', 'IsHome',\n",
    "                                   'xG', \"xPTS\", \"GOALS\", 'A_xG', \"A_xPTS\", \"A_GOALS\", 'xg_halftime', 'Axg_halftime', \"homexg_complete_game\", \"awayxg_complete_game\", ]\n",
    "    return df4Home, df4OpponentReversed\n",
    "\n",
    "\n",
    " \n",
    "def create_df4Complete(df4Home, df4OpponentReversed):\n",
    "    # Alle Spiele werden als Heimspiel angezeigt, sind aber auch Auswärtsspiele dabei!\n",
    "    df4Complete = pd.concat([df4Home, df4OpponentReversed], sort=False)\n",
    "\n",
    "    df4Complete[\"G-H\"] = df4Complete[\"G-H\"].astype('float64')\n",
    "    df4Complete[\"G-A\"] = df4Complete[\"G-A\"].astype('float64')\n",
    "    df4Complete[\"BP-H\"] = df4Complete[\"BP-H\"].astype('float64')\n",
    "    df4Complete[\"BP-A\"] = df4Complete[\"BP-A\"].astype('float64')\n",
    "\n",
    "    # GoalDifference\n",
    "    df4Complete[\"GoalDiff\"] = df4Complete[\"G-H\"] - df4Complete[\"G-A\"]\n",
    "    df4Complete = df4Complete.sort_values(\"Date\",  ascending=False)\n",
    "\n",
    "    # calculate column with 3 Ballposition types\n",
    "    df4Complete[\"BPTypes\"] = '0'\n",
    "\n",
    "    df4Complete[\"BPTypes\"] = df4Complete.apply(\n",
    "        lambda row: calculate_1x2_BPTypes(row), axis=1, result_type='reduce')\n",
    "\n",
    "    df4Complete['Date'] = pd.to_datetime(\n",
    "        df4Complete['Date'], format=\"%d.%m.%Y %H:%M\")\n",
    "\n",
    "    # convert datetime to timestamp for scatter visualization\n",
    "    df4Complete['timestamp'] = df4Complete.Date.astype('int64')//10**9\n",
    "\n",
    "    df4Complete = df4Complete.sort_values(\"Date\", ascending=False)\n",
    "\n",
    "    # Create data for scatter graph\n",
    "    df4Complete[\"SoG-H\"] = df4Complete[\"SoG-H\"].astype(int)\n",
    "    df4Complete[\"SoG-A\"] = df4Complete[\"SoG-A\"].astype(int)\n",
    "\n",
    "    return df4Complete\n",
    "\n",
    "\n",
    " \n",
    "def calculate_1x2_home(row):\n",
    "    if row['G-H'] > row['G-A']:\n",
    "        return 'W'\n",
    "    elif row['G-A'] > row['G-H']:\n",
    "        return 'L'\n",
    "    else:\n",
    "        return 'D'\n",
    "\n",
    "\n",
    " \n",
    "def calculate_1x2_Opponent(row):\n",
    "    if row['G-A'] > row['G-H']:\n",
    "        return 'W'\n",
    "    elif row['G-H'] > row['G-A']:\n",
    "        return 'L'\n",
    "    else:\n",
    "        return 'D'\n",
    "\n",
    "\n",
    " \n",
    "def calculate_1x2_BPTypes(row):\n",
    "    if row['BP-H'] > 55:\n",
    "        return '>55'\n",
    "    elif row['BP-H'] < 45:\n",
    "        return '<45'\n",
    "    else:\n",
    "        return '45-55'\n",
    "\n",
    "\n",
    " \n",
    "def calc_stats(df4Complete):\n",
    "    BP_WPerc = df4Complete[['BPTypes', '1x2']\n",
    "                           ].loc[df4Complete['BPTypes'] == '>55']\n",
    "    BP_WAbs = BP_WPerc['1x2'].loc[df4Complete['1x2'] == 'W']\n",
    "    BP_NWAbs = BP_WPerc['1x2'].loc[df4Complete['1x2'] != 'W']\n",
    "    if len(BP_WAbs) + len(BP_NWAbs) > 0:\n",
    "        BP_WPercText = len(BP_WAbs) / (len(BP_WAbs) + len(BP_NWAbs)) * 100\n",
    "        BP_WPercText = round(BP_WPercText)\n",
    "    else:\n",
    "        BP_WPercText = 0\n",
    "\n",
    "    # calculate winning % for 0.45 - 0.55\n",
    "    N_WPerc = df4Complete[['BPTypes', '1x2']\n",
    "                          ].loc[df4Complete['BPTypes'] == '45-55']\n",
    "    N_WAbs = N_WPerc['1x2'].loc[df4Complete['1x2'] == 'W']\n",
    "    N_NWAbs = N_WPerc['1x2'].loc[df4Complete['1x2'] != 'W']\n",
    "    if len(N_WAbs) + len(N_NWAbs) > 0:\n",
    "        N_WPercText = len(N_WAbs) / (len(N_WAbs) + len(N_NWAbs)) * 100\n",
    "        N_WPercText = round(N_WPercText)\n",
    "    else:\n",
    "        N_WPercText = 5\n",
    "\n",
    "    # calculate winning % for < 0.45\n",
    "    C_WPerc = df4Complete[['BPTypes', '1x2']\n",
    "                          ].loc[df4Complete['BPTypes'] == '<45']\n",
    "    C_WAbs = C_WPerc['1x2'].loc[df4Complete['1x2'] == 'W']\n",
    "    C_NWAbs = C_WPerc['1x2'].loc[df4Complete['1x2'] != 'W']\n",
    "    if len(C_WAbs) + len(C_NWAbs) > 0:\n",
    "        C_WPercText = len(C_WAbs) / (len(C_WAbs) + len(C_NWAbs)) * 100\n",
    "        C_WPercText = round(C_WPercText)\n",
    "    else:\n",
    "        C_WPercText = 0\n",
    "\n",
    "    return C_WPercText, N_WPercText, BP_WPercText\n",
    "\n",
    "\n",
    "# get name of the selected team in dropdown\n",
    "def load_xg_gamestats_sql(saison, team):\n",
    "\n",
    "    if saison.split(\"_\")[0] == 'b':\n",
    "        xgprefix = 'bundesliga'\n",
    "    elif saison.split(\"_\")[0] == 'l1':\n",
    "        xgprefix = 'ligue_1'\n",
    "    elif saison.split(\"_\")[0] == 'll':\n",
    "        xgprefix = 'la_liga'\n",
    "    elif saison.split(\"_\")[0] == 'pl':\n",
    "        xgprefix = 'epl'\n",
    "    elif saison.split(\"_\")[0] == 'sa':\n",
    "        xgprefix = 'serie_a'\n",
    "\n",
    "    xgtablename = \"{}20{}\".format(xgprefix, saison.split(\"_\")[1][:2])\n",
    "\n",
    "    df_complete_saison = pd.read_csv(\n",
    "        \"xg/\"+xgtablename+\".csv\", index_col=0, encoding='utf-8')\n",
    "\n",
    "    df_complete_saison = process_team_names_of_df(df_complete_saison)\n",
    "\n",
    "    # execute the query and assign it to a pandas dataframe\n",
    "    dfxg = df_complete_saison[(df_complete_saison.TEAMS == team) | (\n",
    "        df_complete_saison.A_TEAMS == team)]\n",
    "\n",
    "    \n",
    "\n",
    "    return dfxg\n",
    "\n",
    "\n",
    "df = process_team_names_of_df(df)\n",
    "df"
   ]
  },
  {
   "cell_type": "code",
   "execution_count": 6,
   "metadata": {},
   "outputs": [
    {
     "data": {
      "text/html": [
       "<div>\n",
       "<style scoped>\n",
       "    .dataframe tbody tr th:only-of-type {\n",
       "        vertical-align: middle;\n",
       "    }\n",
       "\n",
       "    .dataframe tbody tr th {\n",
       "        vertical-align: top;\n",
       "    }\n",
       "\n",
       "    .dataframe thead th {\n",
       "        text-align: right;\n",
       "    }\n",
       "</style>\n",
       "<table border=\"1\" class=\"dataframe\">\n",
       "  <thead>\n",
       "    <tr style=\"text-align: right;\">\n",
       "      <th></th>\n",
       "      <th>TEAMS</th>\n",
       "      <th>GOALS</th>\n",
       "      <th>xG</th>\n",
       "      <th>SHOTS</th>\n",
       "      <th>SHOTS ON TARGET</th>\n",
       "      <th>DEEP</th>\n",
       "      <th>PPDA</th>\n",
       "      <th>xPTS</th>\n",
       "      <th>A_TEAMS</th>\n",
       "      <th>A_GOALS</th>\n",
       "      <th>A_xG</th>\n",
       "      <th>A_SHOTS</th>\n",
       "      <th>A_SHOTS ON TARGET</th>\n",
       "      <th>A_DEEP</th>\n",
       "      <th>A_PPDA</th>\n",
       "      <th>A_xPTS</th>\n",
       "      <th>timing_chart_xg</th>\n",
       "      <th>gameurl</th>\n",
       "      <th>id</th>\n",
       "    </tr>\n",
       "  </thead>\n",
       "  <tbody>\n",
       "    <tr>\n",
       "      <th>8</th>\n",
       "      <td>Brentford</td>\n",
       "      <td>2</td>\n",
       "      <td>1.9</td>\n",
       "      <td>8</td>\n",
       "      <td>3</td>\n",
       "      <td>7</td>\n",
       "      <td>16.1</td>\n",
       "      <td>2.1</td>\n",
       "      <td>Arsenal</td>\n",
       "      <td>0</td>\n",
       "      <td>1.0</td>\n",
       "      <td>22</td>\n",
       "      <td>4</td>\n",
       "      <td>10</td>\n",
       "      <td>5.8</td>\n",
       "      <td>0.7</td>\n",
       "      <td>0' Total xG: 0.00;0' Total xG: 0.00;1' Total x...</td>\n",
       "      <td>https://understat.com/match/16376</td>\n",
       "      <td>9</td>\n",
       "    </tr>\n",
       "    <tr>\n",
       "      <th>20</th>\n",
       "      <td>Arsenal</td>\n",
       "      <td>2</td>\n",
       "      <td>1.5</td>\n",
       "      <td>24</td>\n",
       "      <td>8</td>\n",
       "      <td>3</td>\n",
       "      <td>7.3</td>\n",
       "      <td>2.1</td>\n",
       "      <td>Brentford</td>\n",
       "      <td>1</td>\n",
       "      <td>0.6</td>\n",
       "      <td>6</td>\n",
       "      <td>2</td>\n",
       "      <td>4</td>\n",
       "      <td>24.1</td>\n",
       "      <td>0.7</td>\n",
       "      <td>0' Total xG: 0.00;0' Total xG: 0.00;1' Total x...</td>\n",
       "      <td>https://understat.com/match/16626</td>\n",
       "      <td>21</td>\n",
       "    </tr>\n",
       "    <tr>\n",
       "      <th>32</th>\n",
       "      <td>Arsenal</td>\n",
       "      <td>3</td>\n",
       "      <td>1.4</td>\n",
       "      <td>12</td>\n",
       "      <td>7</td>\n",
       "      <td>5</td>\n",
       "      <td>16.4</td>\n",
       "      <td>1.8</td>\n",
       "      <td>Tottenham</td>\n",
       "      <td>1</td>\n",
       "      <td>1.0</td>\n",
       "      <td>10</td>\n",
       "      <td>4</td>\n",
       "      <td>2</td>\n",
       "      <td>12.5</td>\n",
       "      <td>0.9</td>\n",
       "      <td>0' Total xG: 0.00;0' Total xG: 0.00;1' Total x...</td>\n",
       "      <td>https://understat.com/match/16434</td>\n",
       "      <td>33</td>\n",
       "    </tr>\n",
       "    <tr>\n",
       "      <th>33</th>\n",
       "      <td>Arsenal</td>\n",
       "      <td>0</td>\n",
       "      <td>1.4</td>\n",
       "      <td>20</td>\n",
       "      <td>5</td>\n",
       "      <td>11</td>\n",
       "      <td>6.0</td>\n",
       "      <td>2.2</td>\n",
       "      <td>Burnley</td>\n",
       "      <td>0</td>\n",
       "      <td>0.4</td>\n",
       "      <td>10</td>\n",
       "      <td>1</td>\n",
       "      <td>5</td>\n",
       "      <td>24.8</td>\n",
       "      <td>0.6</td>\n",
       "      <td>0' Total xG: 0.00;0' Total xG: 0.00;1' Total x...</td>\n",
       "      <td>https://understat.com/match/16596</td>\n",
       "      <td>34</td>\n",
       "    </tr>\n",
       "    <tr>\n",
       "      <th>34</th>\n",
       "      <td>Arsenal</td>\n",
       "      <td>0</td>\n",
       "      <td>0.5</td>\n",
       "      <td>9</td>\n",
       "      <td>2</td>\n",
       "      <td>1</td>\n",
       "      <td>16.2</td>\n",
       "      <td>0.6</td>\n",
       "      <td>Liverpool</td>\n",
       "      <td>2</td>\n",
       "      <td>1.3</td>\n",
       "      <td>9</td>\n",
       "      <td>3</td>\n",
       "      <td>4</td>\n",
       "      <td>11.7</td>\n",
       "      <td>2.1</td>\n",
       "      <td>0' Total xG: 0.00;0' Total xG: 0.00;1' Total x...</td>\n",
       "      <td>https://understat.com/match/16636</td>\n",
       "      <td>35</td>\n",
       "    </tr>\n",
       "    <tr>\n",
       "      <th>35</th>\n",
       "      <td>Arsenal</td>\n",
       "      <td>2</td>\n",
       "      <td>2.8</td>\n",
       "      <td>23</td>\n",
       "      <td>6</td>\n",
       "      <td>13</td>\n",
       "      <td>7.0</td>\n",
       "      <td>2.9</td>\n",
       "      <td>Newcastle United</td>\n",
       "      <td>0</td>\n",
       "      <td>0.2</td>\n",
       "      <td>9</td>\n",
       "      <td>5</td>\n",
       "      <td>4</td>\n",
       "      <td>16.7</td>\n",
       "      <td>0.1</td>\n",
       "      <td>0' Total xG: 0.00;0' Total xG: 0.00;1' Total x...</td>\n",
       "      <td>https://understat.com/match/16496</td>\n",
       "      <td>36</td>\n",
       "    </tr>\n",
       "    <tr>\n",
       "      <th>36</th>\n",
       "      <td>Wolves</td>\n",
       "      <td>0</td>\n",
       "      <td>0.6</td>\n",
       "      <td>15</td>\n",
       "      <td>4</td>\n",
       "      <td>2</td>\n",
       "      <td>9.1</td>\n",
       "      <td>0.6</td>\n",
       "      <td>Arsenal</td>\n",
       "      <td>1</td>\n",
       "      <td>1.4</td>\n",
       "      <td>12</td>\n",
       "      <td>2</td>\n",
       "      <td>9</td>\n",
       "      <td>15.8</td>\n",
       "      <td>2.2</td>\n",
       "      <td>0' Total xG: 0.00;0' Total xG: 0.00;1' Total x...</td>\n",
       "      <td>https://understat.com/match/16611</td>\n",
       "      <td>37</td>\n",
       "    </tr>\n",
       "    <tr>\n",
       "      <th>37</th>\n",
       "      <td>Watford</td>\n",
       "      <td>2</td>\n",
       "      <td>1.3</td>\n",
       "      <td>13</td>\n",
       "      <td>7</td>\n",
       "      <td>6</td>\n",
       "      <td>15.3</td>\n",
       "      <td>1.6</td>\n",
       "      <td>Arsenal</td>\n",
       "      <td>3</td>\n",
       "      <td>1.0</td>\n",
       "      <td>16</td>\n",
       "      <td>4</td>\n",
       "      <td>10</td>\n",
       "      <td>7.2</td>\n",
       "      <td>1.1</td>\n",
       "      <td>0' Total xG: 0.00;0' Total xG: 0.00;1' Total x...</td>\n",
       "      <td>https://understat.com/match/16654</td>\n",
       "      <td>38</td>\n",
       "    </tr>\n",
       "    <tr>\n",
       "      <th>38</th>\n",
       "      <td>Everton</td>\n",
       "      <td>2</td>\n",
       "      <td>1.1</td>\n",
       "      <td>11</td>\n",
       "      <td>5</td>\n",
       "      <td>5</td>\n",
       "      <td>15.4</td>\n",
       "      <td>1.3</td>\n",
       "      <td>Arsenal</td>\n",
       "      <td>1</td>\n",
       "      <td>1.1</td>\n",
       "      <td>9</td>\n",
       "      <td>3</td>\n",
       "      <td>8</td>\n",
       "      <td>9.0</td>\n",
       "      <td>1.4</td>\n",
       "      <td>0' Total xG: 0.00;0' Total xG: 0.00;1' Total x...</td>\n",
       "      <td>https://understat.com/match/16517</td>\n",
       "      <td>39</td>\n",
       "    </tr>\n",
       "    <tr>\n",
       "      <th>39</th>\n",
       "      <td>Leicester</td>\n",
       "      <td>0</td>\n",
       "      <td>2.0</td>\n",
       "      <td>16</td>\n",
       "      <td>8</td>\n",
       "      <td>9</td>\n",
       "      <td>9.1</td>\n",
       "      <td>2.1</td>\n",
       "      <td>Arsenal</td>\n",
       "      <td>2</td>\n",
       "      <td>1.1</td>\n",
       "      <td>9</td>\n",
       "      <td>5</td>\n",
       "      <td>5</td>\n",
       "      <td>24.9</td>\n",
       "      <td>0.7</td>\n",
       "      <td>0' Total xG: 0.00;0' Total xG: 0.00;1' Total x...</td>\n",
       "      <td>https://understat.com/match/16468</td>\n",
       "      <td>40</td>\n",
       "    </tr>\n",
       "    <tr>\n",
       "      <th>40</th>\n",
       "      <td>Burnley</td>\n",
       "      <td>0</td>\n",
       "      <td>0.8</td>\n",
       "      <td>18</td>\n",
       "      <td>3</td>\n",
       "      <td>9</td>\n",
       "      <td>12.7</td>\n",
       "      <td>1.0</td>\n",
       "      <td>Arsenal</td>\n",
       "      <td>1</td>\n",
       "      <td>1.1</td>\n",
       "      <td>13</td>\n",
       "      <td>3</td>\n",
       "      <td>7</td>\n",
       "      <td>10.8</td>\n",
       "      <td>1.7</td>\n",
       "      <td>0' Total xG: 0.00;0' Total xG: 0.00;1' Total x...</td>\n",
       "      <td>https://understat.com/match/16419</td>\n",
       "      <td>41</td>\n",
       "    </tr>\n",
       "    <tr>\n",
       "      <th>41</th>\n",
       "      <td>Arsenal</td>\n",
       "      <td>3</td>\n",
       "      <td>2.1</td>\n",
       "      <td>15</td>\n",
       "      <td>5</td>\n",
       "      <td>7</td>\n",
       "      <td>21.4</td>\n",
       "      <td>2.5</td>\n",
       "      <td>Southampton</td>\n",
       "      <td>0</td>\n",
       "      <td>0.5</td>\n",
       "      <td>11</td>\n",
       "      <td>6</td>\n",
       "      <td>2</td>\n",
       "      <td>20.0</td>\n",
       "      <td>0.3</td>\n",
       "      <td>0' Total xG: 0.00;0' Total xG: 0.00;1' Total x...</td>\n",
       "      <td>https://understat.com/match/16526</td>\n",
       "      <td>43</td>\n",
       "    </tr>\n",
       "    <tr>\n",
       "      <th>42</th>\n",
       "      <td>Aston Villa</td>\n",
       "      <td>0</td>\n",
       "      <td>0.3</td>\n",
       "      <td>8</td>\n",
       "      <td>1</td>\n",
       "      <td>3</td>\n",
       "      <td>21.6</td>\n",
       "      <td>0.5</td>\n",
       "      <td>Arsenal</td>\n",
       "      <td>1</td>\n",
       "      <td>1.1</td>\n",
       "      <td>10</td>\n",
       "      <td>3</td>\n",
       "      <td>11</td>\n",
       "      <td>13.7</td>\n",
       "      <td>2.2</td>\n",
       "      <td>0' Total xG: 0.00;0' Total xG: 0.00;1' Total x...</td>\n",
       "      <td>https://understat.com/match/16666</td>\n",
       "      <td>44</td>\n",
       "    </tr>\n",
       "    <tr>\n",
       "      <th>43</th>\n",
       "      <td>Liverpool</td>\n",
       "      <td>4</td>\n",
       "      <td>4.0</td>\n",
       "      <td>19</td>\n",
       "      <td>9</td>\n",
       "      <td>13</td>\n",
       "      <td>6.8</td>\n",
       "      <td>3.0</td>\n",
       "      <td>Arsenal</td>\n",
       "      <td>0</td>\n",
       "      <td>0.3</td>\n",
       "      <td>5</td>\n",
       "      <td>3</td>\n",
       "      <td>0</td>\n",
       "      <td>28.1</td>\n",
       "      <td>0.0</td>\n",
       "      <td>0' Total xG: 0.00;0' Total xG: 0.00;1' Total x...</td>\n",
       "      <td>https://understat.com/match/16489</td>\n",
       "      <td>45</td>\n",
       "    </tr>\n",
       "    <tr>\n",
       "      <th>44</th>\n",
       "      <td>Leeds</td>\n",
       "      <td>1</td>\n",
       "      <td>1.3</td>\n",
       "      <td>9</td>\n",
       "      <td>2</td>\n",
       "      <td>7</td>\n",
       "      <td>14.1</td>\n",
       "      <td>0.2</td>\n",
       "      <td>Arsenal</td>\n",
       "      <td>4</td>\n",
       "      <td>3.7</td>\n",
       "      <td>21</td>\n",
       "      <td>12</td>\n",
       "      <td>14</td>\n",
       "      <td>7.5</td>\n",
       "      <td>2.7</td>\n",
       "      <td>0' Total xG: 0.00;0' Total xG: 0.00;1' Total x...</td>\n",
       "      <td>https://understat.com/match/16548</td>\n",
       "      <td>46</td>\n",
       "    </tr>\n",
       "    <tr>\n",
       "      <th>45</th>\n",
       "      <td>Arsenal</td>\n",
       "      <td>2</td>\n",
       "      <td>2.9</td>\n",
       "      <td>21</td>\n",
       "      <td>8</td>\n",
       "      <td>9</td>\n",
       "      <td>22.6</td>\n",
       "      <td>2.8</td>\n",
       "      <td>Leicester</td>\n",
       "      <td>0</td>\n",
       "      <td>0.6</td>\n",
       "      <td>6</td>\n",
       "      <td>3</td>\n",
       "      <td>6</td>\n",
       "      <td>16.5</td>\n",
       "      <td>0.1</td>\n",
       "      <td>0' Total xG: 0.00;0' Total xG: 0.00;1' Total x...</td>\n",
       "      <td>https://understat.com/match/16656</td>\n",
       "      <td>47</td>\n",
       "    </tr>\n",
       "    <tr>\n",
       "      <th>46</th>\n",
       "      <td>Norwich</td>\n",
       "      <td>0</td>\n",
       "      <td>0.1</td>\n",
       "      <td>4</td>\n",
       "      <td>2</td>\n",
       "      <td>1</td>\n",
       "      <td>13.9</td>\n",
       "      <td>0.0</td>\n",
       "      <td>Arsenal</td>\n",
       "      <td>5</td>\n",
       "      <td>2.9</td>\n",
       "      <td>16</td>\n",
       "      <td>6</td>\n",
       "      <td>10</td>\n",
       "      <td>9.6</td>\n",
       "      <td>2.9</td>\n",
       "      <td>0' Total xG: 0.00;0' Total xG: 0.00;1' Total x...</td>\n",
       "      <td>https://understat.com/match/16562</td>\n",
       "      <td>48</td>\n",
       "    </tr>\n",
       "    <tr>\n",
       "      <th>47</th>\n",
       "      <td>Arsenal</td>\n",
       "      <td>1</td>\n",
       "      <td>0.8</td>\n",
       "      <td>7</td>\n",
       "      <td>2</td>\n",
       "      <td>4</td>\n",
       "      <td>13.1</td>\n",
       "      <td>0.5</td>\n",
       "      <td>Manchester City</td>\n",
       "      <td>2</td>\n",
       "      <td>1.9</td>\n",
       "      <td>15</td>\n",
       "      <td>2</td>\n",
       "      <td>8</td>\n",
       "      <td>7.0</td>\n",
       "      <td>2.3</td>\n",
       "      <td>0' Total xG: 0.00;0' Total xG: 0.00;1' Total x...</td>\n",
       "      <td>https://understat.com/match/16576</td>\n",
       "      <td>49</td>\n",
       "    </tr>\n",
       "    <tr>\n",
       "      <th>48</th>\n",
       "      <td>Arsenal</td>\n",
       "      <td>2</td>\n",
       "      <td>2.5</td>\n",
       "      <td>26</td>\n",
       "      <td>5</td>\n",
       "      <td>23</td>\n",
       "      <td>9.3</td>\n",
       "      <td>2.3</td>\n",
       "      <td>Wolves</td>\n",
       "      <td>1</td>\n",
       "      <td>1.1</td>\n",
       "      <td>6</td>\n",
       "      <td>2</td>\n",
       "      <td>2</td>\n",
       "      <td>12.9</td>\n",
       "      <td>0.5</td>\n",
       "      <td>0' Total xG: 0.10;0' Total xG: 0.00;1' Total x...</td>\n",
       "      <td>https://understat.com/match/16566</td>\n",
       "      <td>50</td>\n",
       "    </tr>\n",
       "    <tr>\n",
       "      <th>49</th>\n",
       "      <td>Manchester United</td>\n",
       "      <td>3</td>\n",
       "      <td>1.9</td>\n",
       "      <td>14</td>\n",
       "      <td>10</td>\n",
       "      <td>9</td>\n",
       "      <td>14.8</td>\n",
       "      <td>1.9</td>\n",
       "      <td>Arsenal</td>\n",
       "      <td>2</td>\n",
       "      <td>1.2</td>\n",
       "      <td>17</td>\n",
       "      <td>8</td>\n",
       "      <td>4</td>\n",
       "      <td>11.7</td>\n",
       "      <td>0.8</td>\n",
       "      <td>0' Total xG: 0.00;0' Total xG: 0.06;1' Total x...</td>\n",
       "      <td>https://understat.com/match/16512</td>\n",
       "      <td>51</td>\n",
       "    </tr>\n",
       "    <tr>\n",
       "      <th>50</th>\n",
       "      <td>Arsenal</td>\n",
       "      <td>3</td>\n",
       "      <td>3.5</td>\n",
       "      <td>22</td>\n",
       "      <td>9</td>\n",
       "      <td>14</td>\n",
       "      <td>9.7</td>\n",
       "      <td>2.6</td>\n",
       "      <td>Aston Villa</td>\n",
       "      <td>1</td>\n",
       "      <td>1.4</td>\n",
       "      <td>10</td>\n",
       "      <td>4</td>\n",
       "      <td>7</td>\n",
       "      <td>13.2</td>\n",
       "      <td>0.2</td>\n",
       "      <td>0' Total xG: 0.00;0' Total xG: 0.00;1' Total x...</td>\n",
       "      <td>https://understat.com/match/16456</td>\n",
       "      <td>53</td>\n",
       "    </tr>\n",
       "    <tr>\n",
       "      <th>51</th>\n",
       "      <td>Arsenal</td>\n",
       "      <td>0</td>\n",
       "      <td>0.6</td>\n",
       "      <td>6</td>\n",
       "      <td>3</td>\n",
       "      <td>3</td>\n",
       "      <td>16.4</td>\n",
       "      <td>0.1</td>\n",
       "      <td>Chelsea</td>\n",
       "      <td>2</td>\n",
       "      <td>3.6</td>\n",
       "      <td>22</td>\n",
       "      <td>5</td>\n",
       "      <td>19</td>\n",
       "      <td>10.4</td>\n",
       "      <td>2.9</td>\n",
       "      <td>0' Total xG: 0.00;0' Total xG: 0.00;1' Total x...</td>\n",
       "      <td>https://understat.com/match/16394</td>\n",
       "      <td>54</td>\n",
       "    </tr>\n",
       "    <tr>\n",
       "      <th>52</th>\n",
       "      <td>Arsenal</td>\n",
       "      <td>2</td>\n",
       "      <td>2.8</td>\n",
       "      <td>21</td>\n",
       "      <td>8</td>\n",
       "      <td>13</td>\n",
       "      <td>9.1</td>\n",
       "      <td>2.9</td>\n",
       "      <td>West Ham</td>\n",
       "      <td>0</td>\n",
       "      <td>0.3</td>\n",
       "      <td>7</td>\n",
       "      <td>1</td>\n",
       "      <td>0</td>\n",
       "      <td>13.4</td>\n",
       "      <td>0.1</td>\n",
       "      <td>0' Total xG: 0.00;0' Total xG: 0.00;1' Total x...</td>\n",
       "      <td>https://understat.com/match/16536</td>\n",
       "      <td>55</td>\n",
       "    </tr>\n",
       "    <tr>\n",
       "      <th>53</th>\n",
       "      <td>Arsenal</td>\n",
       "      <td>1</td>\n",
       "      <td>2.7</td>\n",
       "      <td>30</td>\n",
       "      <td>6</td>\n",
       "      <td>13</td>\n",
       "      <td>12.5</td>\n",
       "      <td>2.7</td>\n",
       "      <td>Norwich</td>\n",
       "      <td>0</td>\n",
       "      <td>0.6</td>\n",
       "      <td>10</td>\n",
       "      <td>1</td>\n",
       "      <td>5</td>\n",
       "      <td>19.4</td>\n",
       "      <td>0.2</td>\n",
       "      <td>0' Total xG: 0.04;0' Total xG: 0.00;1' Total x...</td>\n",
       "      <td>https://understat.com/match/16407</td>\n",
       "      <td>56</td>\n",
       "    </tr>\n",
       "    <tr>\n",
       "      <th>54</th>\n",
       "      <td>Manchester City</td>\n",
       "      <td>5</td>\n",
       "      <td>4.5</td>\n",
       "      <td>25</td>\n",
       "      <td>10</td>\n",
       "      <td>14</td>\n",
       "      <td>5.1</td>\n",
       "      <td>3.0</td>\n",
       "      <td>Arsenal</td>\n",
       "      <td>0</td>\n",
       "      <td>0.1</td>\n",
       "      <td>1</td>\n",
       "      <td>0</td>\n",
       "      <td>0</td>\n",
       "      <td>52.1</td>\n",
       "      <td>0.0</td>\n",
       "      <td>0' Total xG: 0.00;0' Total xG: 0.00;1' Total x...</td>\n",
       "      <td>https://understat.com/match/16396</td>\n",
       "      <td>57</td>\n",
       "    </tr>\n",
       "    <tr>\n",
       "      <th>55</th>\n",
       "      <td>Arsenal</td>\n",
       "      <td>1</td>\n",
       "      <td>2.4</td>\n",
       "      <td>20</td>\n",
       "      <td>4</td>\n",
       "      <td>12</td>\n",
       "      <td>6.5</td>\n",
       "      <td>2.6</td>\n",
       "      <td>Brighton</td>\n",
       "      <td>2</td>\n",
       "      <td>0.6</td>\n",
       "      <td>8</td>\n",
       "      <td>3</td>\n",
       "      <td>6</td>\n",
       "      <td>9.6</td>\n",
       "      <td>0.3</td>\n",
       "      <td>0' Total xG: 0.00;0' Total xG: 0.00;1' Total x...</td>\n",
       "      <td>https://understat.com/match/16695</td>\n",
       "      <td>58</td>\n",
       "    </tr>\n",
       "    <tr>\n",
       "      <th>56</th>\n",
       "      <td>Arsenal</td>\n",
       "      <td>1</td>\n",
       "      <td>1.5</td>\n",
       "      <td>14</td>\n",
       "      <td>6</td>\n",
       "      <td>7</td>\n",
       "      <td>11.9</td>\n",
       "      <td>2.3</td>\n",
       "      <td>Watford</td>\n",
       "      <td>0</td>\n",
       "      <td>0.5</td>\n",
       "      <td>7</td>\n",
       "      <td>1</td>\n",
       "      <td>1</td>\n",
       "      <td>10.9</td>\n",
       "      <td>0.5</td>\n",
       "      <td>0' Total xG: 0.00;0' Total xG: 0.00;1' Total x...</td>\n",
       "      <td>https://understat.com/match/16476</td>\n",
       "      <td>59</td>\n",
       "    </tr>\n",
       "    <tr>\n",
       "      <th>57</th>\n",
       "      <td>Arsenal</td>\n",
       "      <td>2</td>\n",
       "      <td>1.7</td>\n",
       "      <td>17</td>\n",
       "      <td>6</td>\n",
       "      <td>10</td>\n",
       "      <td>16.9</td>\n",
       "      <td>2.4</td>\n",
       "      <td>Crystal Palace</td>\n",
       "      <td>2</td>\n",
       "      <td>0.5</td>\n",
       "      <td>9</td>\n",
       "      <td>6</td>\n",
       "      <td>3</td>\n",
       "      <td>21.4</td>\n",
       "      <td>0.4</td>\n",
       "      <td>0' Total xG: 0.00;0' Total xG: 0.00;1' Total x...</td>\n",
       "      <td>https://understat.com/match/16446</td>\n",
       "      <td>60</td>\n",
       "    </tr>\n",
       "    <tr>\n",
       "      <th>58</th>\n",
       "      <td>Brighton</td>\n",
       "      <td>0</td>\n",
       "      <td>1.1</td>\n",
       "      <td>21</td>\n",
       "      <td>2</td>\n",
       "      <td>9</td>\n",
       "      <td>8.8</td>\n",
       "      <td>2.0</td>\n",
       "      <td>Arsenal</td>\n",
       "      <td>0</td>\n",
       "      <td>0.4</td>\n",
       "      <td>8</td>\n",
       "      <td>2</td>\n",
       "      <td>7</td>\n",
       "      <td>30.1</td>\n",
       "      <td>0.7</td>\n",
       "      <td>0' Total xG: 0.00;0' Total xG: 0.10;1' Total x...</td>\n",
       "      <td>https://understat.com/match/16436</td>\n",
       "      <td>61</td>\n",
       "    </tr>\n",
       "    <tr>\n",
       "      <th>59</th>\n",
       "      <td>Crystal Palace</td>\n",
       "      <td>3</td>\n",
       "      <td>1.4</td>\n",
       "      <td>6</td>\n",
       "      <td>5</td>\n",
       "      <td>1</td>\n",
       "      <td>22.4</td>\n",
       "      <td>1.7</td>\n",
       "      <td>Arsenal</td>\n",
       "      <td>0</td>\n",
       "      <td>1.1</td>\n",
       "      <td>12</td>\n",
       "      <td>3</td>\n",
       "      <td>8</td>\n",
       "      <td>5.6</td>\n",
       "      <td>1.0</td>\n",
       "      <td>0' Total xG: 0.00;0' Total xG: 0.00;1' Total x...</td>\n",
       "      <td>https://understat.com/match/16682</td>\n",
       "      <td>62</td>\n",
       "    </tr>\n",
       "    <tr>\n",
       "      <th>318</th>\n",
       "      <td>Arsenal</td>\n",
       "      <td>2</td>\n",
       "      <td>2.7</td>\n",
       "      <td>19</td>\n",
       "      <td>9</td>\n",
       "      <td>14</td>\n",
       "      <td>8.8</td>\n",
       "      <td>2.7</td>\n",
       "      <td>Leeds</td>\n",
       "      <td>1</td>\n",
       "      <td>0.7</td>\n",
       "      <td>3</td>\n",
       "      <td>2</td>\n",
       "      <td>3</td>\n",
       "      <td>20.4</td>\n",
       "      <td>0.2</td>\n",
       "      <td>0' Total xG: 0.00;0' Total xG: 0.00;1' Total x...</td>\n",
       "      <td>https://understat.com/match/16735</td>\n",
       "      <td>461</td>\n",
       "    </tr>\n",
       "    <tr>\n",
       "      <th>326</th>\n",
       "      <td>Arsenal</td>\n",
       "      <td>3</td>\n",
       "      <td>2.5</td>\n",
       "      <td>14</td>\n",
       "      <td>7</td>\n",
       "      <td>7</td>\n",
       "      <td>15.3</td>\n",
       "      <td>1.8</td>\n",
       "      <td>Manchester United</td>\n",
       "      <td>1</td>\n",
       "      <td>2.0</td>\n",
       "      <td>14</td>\n",
       "      <td>5</td>\n",
       "      <td>3</td>\n",
       "      <td>17.6</td>\n",
       "      <td>1.0</td>\n",
       "      <td>0' Total xG: 0.00;0' Total xG: 0.00;1' Total x...</td>\n",
       "      <td>https://understat.com/match/16715</td>\n",
       "      <td>469</td>\n",
       "    </tr>\n",
       "    <tr>\n",
       "      <th>328</th>\n",
       "      <td>Arsenal</td>\n",
       "      <td>5</td>\n",
       "      <td>4.4</td>\n",
       "      <td>26</td>\n",
       "      <td>9</td>\n",
       "      <td>11</td>\n",
       "      <td>4.8</td>\n",
       "      <td>2.9</td>\n",
       "      <td>Everton</td>\n",
       "      <td>1</td>\n",
       "      <td>1.1</td>\n",
       "      <td>6</td>\n",
       "      <td>2</td>\n",
       "      <td>5</td>\n",
       "      <td>49.7</td>\n",
       "      <td>0.1</td>\n",
       "      <td>0' Total xG: 0.00;0' Total xG: 0.00;1' Total x...</td>\n",
       "      <td>https://understat.com/match/16746</td>\n",
       "      <td>471</td>\n",
       "    </tr>\n",
       "    <tr>\n",
       "      <th>340</th>\n",
       "      <td>West Ham</td>\n",
       "      <td>1</td>\n",
       "      <td>0.5</td>\n",
       "      <td>8</td>\n",
       "      <td>3</td>\n",
       "      <td>3</td>\n",
       "      <td>17.5</td>\n",
       "      <td>0.9</td>\n",
       "      <td>Arsenal</td>\n",
       "      <td>2</td>\n",
       "      <td>1.0</td>\n",
       "      <td>13</td>\n",
       "      <td>7</td>\n",
       "      <td>4</td>\n",
       "      <td>16.6</td>\n",
       "      <td>1.8</td>\n",
       "      <td>0' Total xG: 0.00;0' Total xG: 0.00;1' Total x...</td>\n",
       "      <td>https://understat.com/match/16717</td>\n",
       "      <td>485</td>\n",
       "    </tr>\n",
       "    <tr>\n",
       "      <th>349</th>\n",
       "      <td>Newcastle United</td>\n",
       "      <td>2</td>\n",
       "      <td>1.7</td>\n",
       "      <td>16</td>\n",
       "      <td>4</td>\n",
       "      <td>9</td>\n",
       "      <td>7.3</td>\n",
       "      <td>2.3</td>\n",
       "      <td>Arsenal</td>\n",
       "      <td>0</td>\n",
       "      <td>0.5</td>\n",
       "      <td>11</td>\n",
       "      <td>2</td>\n",
       "      <td>5</td>\n",
       "      <td>11.1</td>\n",
       "      <td>0.5</td>\n",
       "      <td>0' Total xG: 0.00;0' Total xG: 0.00;1' Total x...</td>\n",
       "      <td>https://understat.com/match/16741</td>\n",
       "      <td>499</td>\n",
       "    </tr>\n",
       "    <tr>\n",
       "      <th>355</th>\n",
       "      <td>Tottenham</td>\n",
       "      <td>3</td>\n",
       "      <td>3.4</td>\n",
       "      <td>16</td>\n",
       "      <td>6</td>\n",
       "      <td>9</td>\n",
       "      <td>10.5</td>\n",
       "      <td>2.9</td>\n",
       "      <td>Arsenal</td>\n",
       "      <td>0</td>\n",
       "      <td>0.4</td>\n",
       "      <td>8</td>\n",
       "      <td>4</td>\n",
       "      <td>4</td>\n",
       "      <td>35.3</td>\n",
       "      <td>0.1</td>\n",
       "      <td>0' Total xG: 0.00;0' Total xG: 0.00;1' Total x...</td>\n",
       "      <td>https://understat.com/match/16593</td>\n",
       "      <td>508</td>\n",
       "    </tr>\n",
       "    <tr>\n",
       "      <th>368</th>\n",
       "      <td>Southampton</td>\n",
       "      <td>1</td>\n",
       "      <td>1.0</td>\n",
       "      <td>9</td>\n",
       "      <td>3</td>\n",
       "      <td>4</td>\n",
       "      <td>25.2</td>\n",
       "      <td>1.1</td>\n",
       "      <td>Arsenal</td>\n",
       "      <td>0</td>\n",
       "      <td>1.4</td>\n",
       "      <td>23</td>\n",
       "      <td>6</td>\n",
       "      <td>12</td>\n",
       "      <td>7.6</td>\n",
       "      <td>1.6</td>\n",
       "      <td>0' Total xG: 0.00;0' Total xG: 0.00;1' Total x...</td>\n",
       "      <td>https://understat.com/match/16700</td>\n",
       "      <td>533</td>\n",
       "    </tr>\n",
       "    <tr>\n",
       "      <th>369</th>\n",
       "      <td>Chelsea</td>\n",
       "      <td>2</td>\n",
       "      <td>0.6</td>\n",
       "      <td>11</td>\n",
       "      <td>2</td>\n",
       "      <td>11</td>\n",
       "      <td>8.5</td>\n",
       "      <td>0.4</td>\n",
       "      <td>Arsenal</td>\n",
       "      <td>4</td>\n",
       "      <td>1.9</td>\n",
       "      <td>14</td>\n",
       "      <td>4</td>\n",
       "      <td>6</td>\n",
       "      <td>16.5</td>\n",
       "      <td>2.4</td>\n",
       "      <td>0' Total xG: 0.00;0' Total xG: 0.00;1' Total x...</td>\n",
       "      <td>https://understat.com/match/16618</td>\n",
       "      <td>534</td>\n",
       "    </tr>\n",
       "  </tbody>\n",
       "</table>\n",
       "</div>"
      ],
      "text/plain": [
       "                 TEAMS  GOALS  xG  SHOTS  SHOTS ON TARGET  DEEP  PPDA  xPTS  \\\n",
       "8            Brentford      2 1.9      8                3     7  16.1   2.1   \n",
       "20             Arsenal      2 1.5     24                8     3   7.3   2.1   \n",
       "32             Arsenal      3 1.4     12                7     5  16.4   1.8   \n",
       "33             Arsenal      0 1.4     20                5    11   6.0   2.2   \n",
       "34             Arsenal      0 0.5      9                2     1  16.2   0.6   \n",
       "35             Arsenal      2 2.8     23                6    13   7.0   2.9   \n",
       "36              Wolves      0 0.6     15                4     2   9.1   0.6   \n",
       "37             Watford      2 1.3     13                7     6  15.3   1.6   \n",
       "38             Everton      2 1.1     11                5     5  15.4   1.3   \n",
       "39           Leicester      0 2.0     16                8     9   9.1   2.1   \n",
       "40             Burnley      0 0.8     18                3     9  12.7   1.0   \n",
       "41             Arsenal      3 2.1     15                5     7  21.4   2.5   \n",
       "42         Aston Villa      0 0.3      8                1     3  21.6   0.5   \n",
       "43           Liverpool      4 4.0     19                9    13   6.8   3.0   \n",
       "44               Leeds      1 1.3      9                2     7  14.1   0.2   \n",
       "45             Arsenal      2 2.9     21                8     9  22.6   2.8   \n",
       "46             Norwich      0 0.1      4                2     1  13.9   0.0   \n",
       "47             Arsenal      1 0.8      7                2     4  13.1   0.5   \n",
       "48             Arsenal      2 2.5     26                5    23   9.3   2.3   \n",
       "49   Manchester United      3 1.9     14               10     9  14.8   1.9   \n",
       "50             Arsenal      3 3.5     22                9    14   9.7   2.6   \n",
       "51             Arsenal      0 0.6      6                3     3  16.4   0.1   \n",
       "52             Arsenal      2 2.8     21                8    13   9.1   2.9   \n",
       "53             Arsenal      1 2.7     30                6    13  12.5   2.7   \n",
       "54     Manchester City      5 4.5     25               10    14   5.1   3.0   \n",
       "55             Arsenal      1 2.4     20                4    12   6.5   2.6   \n",
       "56             Arsenal      1 1.5     14                6     7  11.9   2.3   \n",
       "57             Arsenal      2 1.7     17                6    10  16.9   2.4   \n",
       "58            Brighton      0 1.1     21                2     9   8.8   2.0   \n",
       "59      Crystal Palace      3 1.4      6                5     1  22.4   1.7   \n",
       "318            Arsenal      2 2.7     19                9    14   8.8   2.7   \n",
       "326            Arsenal      3 2.5     14                7     7  15.3   1.8   \n",
       "328            Arsenal      5 4.4     26                9    11   4.8   2.9   \n",
       "340           West Ham      1 0.5      8                3     3  17.5   0.9   \n",
       "349   Newcastle United      2 1.7     16                4     9   7.3   2.3   \n",
       "355          Tottenham      3 3.4     16                6     9  10.5   2.9   \n",
       "368        Southampton      1 1.0      9                3     4  25.2   1.1   \n",
       "369            Chelsea      2 0.6     11                2    11   8.5   0.4   \n",
       "\n",
       "               A_TEAMS  A_GOALS  A_xG  A_SHOTS  A_SHOTS ON TARGET  A_DEEP  \\\n",
       "8              Arsenal        0   1.0       22                  4      10   \n",
       "20           Brentford        1   0.6        6                  2       4   \n",
       "32           Tottenham        1   1.0       10                  4       2   \n",
       "33             Burnley        0   0.4       10                  1       5   \n",
       "34           Liverpool        2   1.3        9                  3       4   \n",
       "35    Newcastle United        0   0.2        9                  5       4   \n",
       "36             Arsenal        1   1.4       12                  2       9   \n",
       "37             Arsenal        3   1.0       16                  4      10   \n",
       "38             Arsenal        1   1.1        9                  3       8   \n",
       "39             Arsenal        2   1.1        9                  5       5   \n",
       "40             Arsenal        1   1.1       13                  3       7   \n",
       "41         Southampton        0   0.5       11                  6       2   \n",
       "42             Arsenal        1   1.1       10                  3      11   \n",
       "43             Arsenal        0   0.3        5                  3       0   \n",
       "44             Arsenal        4   3.7       21                 12      14   \n",
       "45           Leicester        0   0.6        6                  3       6   \n",
       "46             Arsenal        5   2.9       16                  6      10   \n",
       "47     Manchester City        2   1.9       15                  2       8   \n",
       "48              Wolves        1   1.1        6                  2       2   \n",
       "49             Arsenal        2   1.2       17                  8       4   \n",
       "50         Aston Villa        1   1.4       10                  4       7   \n",
       "51             Chelsea        2   3.6       22                  5      19   \n",
       "52            West Ham        0   0.3        7                  1       0   \n",
       "53             Norwich        0   0.6       10                  1       5   \n",
       "54             Arsenal        0   0.1        1                  0       0   \n",
       "55            Brighton        2   0.6        8                  3       6   \n",
       "56             Watford        0   0.5        7                  1       1   \n",
       "57      Crystal Palace        2   0.5        9                  6       3   \n",
       "58             Arsenal        0   0.4        8                  2       7   \n",
       "59             Arsenal        0   1.1       12                  3       8   \n",
       "318              Leeds        1   0.7        3                  2       3   \n",
       "326  Manchester United        1   2.0       14                  5       3   \n",
       "328            Everton        1   1.1        6                  2       5   \n",
       "340            Arsenal        2   1.0       13                  7       4   \n",
       "349            Arsenal        0   0.5       11                  2       5   \n",
       "355            Arsenal        0   0.4        8                  4       4   \n",
       "368            Arsenal        0   1.4       23                  6      12   \n",
       "369            Arsenal        4   1.9       14                  4       6   \n",
       "\n",
       "     A_PPDA  A_xPTS                                    timing_chart_xg  \\\n",
       "8       5.8     0.7  0' Total xG: 0.00;0' Total xG: 0.00;1' Total x...   \n",
       "20     24.1     0.7  0' Total xG: 0.00;0' Total xG: 0.00;1' Total x...   \n",
       "32     12.5     0.9  0' Total xG: 0.00;0' Total xG: 0.00;1' Total x...   \n",
       "33     24.8     0.6  0' Total xG: 0.00;0' Total xG: 0.00;1' Total x...   \n",
       "34     11.7     2.1  0' Total xG: 0.00;0' Total xG: 0.00;1' Total x...   \n",
       "35     16.7     0.1  0' Total xG: 0.00;0' Total xG: 0.00;1' Total x...   \n",
       "36     15.8     2.2  0' Total xG: 0.00;0' Total xG: 0.00;1' Total x...   \n",
       "37      7.2     1.1  0' Total xG: 0.00;0' Total xG: 0.00;1' Total x...   \n",
       "38      9.0     1.4  0' Total xG: 0.00;0' Total xG: 0.00;1' Total x...   \n",
       "39     24.9     0.7  0' Total xG: 0.00;0' Total xG: 0.00;1' Total x...   \n",
       "40     10.8     1.7  0' Total xG: 0.00;0' Total xG: 0.00;1' Total x...   \n",
       "41     20.0     0.3  0' Total xG: 0.00;0' Total xG: 0.00;1' Total x...   \n",
       "42     13.7     2.2  0' Total xG: 0.00;0' Total xG: 0.00;1' Total x...   \n",
       "43     28.1     0.0  0' Total xG: 0.00;0' Total xG: 0.00;1' Total x...   \n",
       "44      7.5     2.7  0' Total xG: 0.00;0' Total xG: 0.00;1' Total x...   \n",
       "45     16.5     0.1  0' Total xG: 0.00;0' Total xG: 0.00;1' Total x...   \n",
       "46      9.6     2.9  0' Total xG: 0.00;0' Total xG: 0.00;1' Total x...   \n",
       "47      7.0     2.3  0' Total xG: 0.00;0' Total xG: 0.00;1' Total x...   \n",
       "48     12.9     0.5  0' Total xG: 0.10;0' Total xG: 0.00;1' Total x...   \n",
       "49     11.7     0.8  0' Total xG: 0.00;0' Total xG: 0.06;1' Total x...   \n",
       "50     13.2     0.2  0' Total xG: 0.00;0' Total xG: 0.00;1' Total x...   \n",
       "51     10.4     2.9  0' Total xG: 0.00;0' Total xG: 0.00;1' Total x...   \n",
       "52     13.4     0.1  0' Total xG: 0.00;0' Total xG: 0.00;1' Total x...   \n",
       "53     19.4     0.2  0' Total xG: 0.04;0' Total xG: 0.00;1' Total x...   \n",
       "54     52.1     0.0  0' Total xG: 0.00;0' Total xG: 0.00;1' Total x...   \n",
       "55      9.6     0.3  0' Total xG: 0.00;0' Total xG: 0.00;1' Total x...   \n",
       "56     10.9     0.5  0' Total xG: 0.00;0' Total xG: 0.00;1' Total x...   \n",
       "57     21.4     0.4  0' Total xG: 0.00;0' Total xG: 0.00;1' Total x...   \n",
       "58     30.1     0.7  0' Total xG: 0.00;0' Total xG: 0.10;1' Total x...   \n",
       "59      5.6     1.0  0' Total xG: 0.00;0' Total xG: 0.00;1' Total x...   \n",
       "318    20.4     0.2  0' Total xG: 0.00;0' Total xG: 0.00;1' Total x...   \n",
       "326    17.6     1.0  0' Total xG: 0.00;0' Total xG: 0.00;1' Total x...   \n",
       "328    49.7     0.1  0' Total xG: 0.00;0' Total xG: 0.00;1' Total x...   \n",
       "340    16.6     1.8  0' Total xG: 0.00;0' Total xG: 0.00;1' Total x...   \n",
       "349    11.1     0.5  0' Total xG: 0.00;0' Total xG: 0.00;1' Total x...   \n",
       "355    35.3     0.1  0' Total xG: 0.00;0' Total xG: 0.00;1' Total x...   \n",
       "368     7.6     1.6  0' Total xG: 0.00;0' Total xG: 0.00;1' Total x...   \n",
       "369    16.5     2.4  0' Total xG: 0.00;0' Total xG: 0.00;1' Total x...   \n",
       "\n",
       "                               gameurl   id  \n",
       "8    https://understat.com/match/16376    9  \n",
       "20   https://understat.com/match/16626   21  \n",
       "32   https://understat.com/match/16434   33  \n",
       "33   https://understat.com/match/16596   34  \n",
       "34   https://understat.com/match/16636   35  \n",
       "35   https://understat.com/match/16496   36  \n",
       "36   https://understat.com/match/16611   37  \n",
       "37   https://understat.com/match/16654   38  \n",
       "38   https://understat.com/match/16517   39  \n",
       "39   https://understat.com/match/16468   40  \n",
       "40   https://understat.com/match/16419   41  \n",
       "41   https://understat.com/match/16526   43  \n",
       "42   https://understat.com/match/16666   44  \n",
       "43   https://understat.com/match/16489   45  \n",
       "44   https://understat.com/match/16548   46  \n",
       "45   https://understat.com/match/16656   47  \n",
       "46   https://understat.com/match/16562   48  \n",
       "47   https://understat.com/match/16576   49  \n",
       "48   https://understat.com/match/16566   50  \n",
       "49   https://understat.com/match/16512   51  \n",
       "50   https://understat.com/match/16456   53  \n",
       "51   https://understat.com/match/16394   54  \n",
       "52   https://understat.com/match/16536   55  \n",
       "53   https://understat.com/match/16407   56  \n",
       "54   https://understat.com/match/16396   57  \n",
       "55   https://understat.com/match/16695   58  \n",
       "56   https://understat.com/match/16476   59  \n",
       "57   https://understat.com/match/16446   60  \n",
       "58   https://understat.com/match/16436   61  \n",
       "59   https://understat.com/match/16682   62  \n",
       "318  https://understat.com/match/16735  461  \n",
       "326  https://understat.com/match/16715  469  \n",
       "328  https://understat.com/match/16746  471  \n",
       "340  https://understat.com/match/16717  485  \n",
       "349  https://understat.com/match/16741  499  \n",
       "355  https://understat.com/match/16593  508  \n",
       "368  https://understat.com/match/16700  533  \n",
       "369  https://understat.com/match/16618  534  "
      ]
     },
     "execution_count": 6,
     "metadata": {},
     "output_type": "execute_result"
    }
   ],
   "source": [
    "dfxg = load_xg_gamestats_sql(saison, team)\n",
    "dfxg"
   ]
  },
  {
   "cell_type": "code",
   "execution_count": 7,
   "metadata": {},
   "outputs": [
    {
     "data": {
      "text/html": [
       "<div>\n",
       "<style scoped>\n",
       "    .dataframe tbody tr th:only-of-type {\n",
       "        vertical-align: middle;\n",
       "    }\n",
       "\n",
       "    .dataframe tbody tr th {\n",
       "        vertical-align: top;\n",
       "    }\n",
       "\n",
       "    .dataframe thead th {\n",
       "        text-align: right;\n",
       "    }\n",
       "</style>\n",
       "<table border=\"1\" class=\"dataframe\">\n",
       "  <thead>\n",
       "    <tr style=\"text-align: right;\">\n",
       "      <th></th>\n",
       "      <th>H_datetime</th>\n",
       "      <th>H_gameinfo</th>\n",
       "      <th>H_Teamnames</th>\n",
       "      <th>H_Goals</th>\n",
       "      <th>H_Ball Possession</th>\n",
       "      <th>H_Goal Attempts</th>\n",
       "      <th>H_Shots on Goal</th>\n",
       "      <th>H_Shots off Goal</th>\n",
       "      <th>H_Blocked Shots</th>\n",
       "      <th>H_Free Kicks</th>\n",
       "      <th>...</th>\n",
       "      <th>A_GOALS</th>\n",
       "      <th>A_xG</th>\n",
       "      <th>A_SHOTS</th>\n",
       "      <th>A_SHOTS ON TARGET</th>\n",
       "      <th>A_DEEP</th>\n",
       "      <th>A_PPDA</th>\n",
       "      <th>A_xPTS</th>\n",
       "      <th>timing_chart_xg</th>\n",
       "      <th>gameurl</th>\n",
       "      <th>id</th>\n",
       "    </tr>\n",
       "  </thead>\n",
       "  <tbody>\n",
       "    <tr>\n",
       "      <th>0</th>\n",
       "      <td>13.08.2021 12:00</td>\n",
       "      <td>FootballFootballENGLAND: Premier League - Round 1</td>\n",
       "      <td>Brentford</td>\n",
       "      <td>1</td>\n",
       "      <td>32</td>\n",
       "      <td>3</td>\n",
       "      <td>2</td>\n",
       "      <td>1</td>\n",
       "      <td>0</td>\n",
       "      <td>4</td>\n",
       "      <td>...</td>\n",
       "      <td>0</td>\n",
       "      <td>1.0</td>\n",
       "      <td>22</td>\n",
       "      <td>4</td>\n",
       "      <td>10</td>\n",
       "      <td>5.8</td>\n",
       "      <td>0.7</td>\n",
       "      <td>0' Total xG: 0.00;0' Total xG: 0.00;1' Total x...</td>\n",
       "      <td>https://understat.com/match/16376</td>\n",
       "      <td>9</td>\n",
       "    </tr>\n",
       "    <tr>\n",
       "      <th>1</th>\n",
       "      <td>13.08.2021 12:00</td>\n",
       "      <td>FootballFootballENGLAND: Premier League - Round 1</td>\n",
       "      <td>Brentford</td>\n",
       "      <td>1</td>\n",
       "      <td>38</td>\n",
       "      <td>5</td>\n",
       "      <td>1</td>\n",
       "      <td>4</td>\n",
       "      <td>0</td>\n",
       "      <td>5</td>\n",
       "      <td>...</td>\n",
       "      <td>0</td>\n",
       "      <td>1.0</td>\n",
       "      <td>22</td>\n",
       "      <td>4</td>\n",
       "      <td>10</td>\n",
       "      <td>5.8</td>\n",
       "      <td>0.7</td>\n",
       "      <td>0' Total xG: 0.00;0' Total xG: 0.00;1' Total x...</td>\n",
       "      <td>https://understat.com/match/16376</td>\n",
       "      <td>9</td>\n",
       "    </tr>\n",
       "    <tr>\n",
       "      <th>2</th>\n",
       "      <td>22.08.2021 08:30</td>\n",
       "      <td>FootballFootballENGLAND: Premier League - Round 2</td>\n",
       "      <td>Arsenal</td>\n",
       "      <td>0</td>\n",
       "      <td>31</td>\n",
       "      <td>4</td>\n",
       "      <td>2</td>\n",
       "      <td>1</td>\n",
       "      <td>1</td>\n",
       "      <td>3</td>\n",
       "      <td>...</td>\n",
       "      <td>2</td>\n",
       "      <td>3.6</td>\n",
       "      <td>22</td>\n",
       "      <td>5</td>\n",
       "      <td>19</td>\n",
       "      <td>10.4</td>\n",
       "      <td>2.9</td>\n",
       "      <td>0' Total xG: 0.00;0' Total xG: 0.00;1' Total x...</td>\n",
       "      <td>https://understat.com/match/16394</td>\n",
       "      <td>54</td>\n",
       "    </tr>\n",
       "    <tr>\n",
       "      <th>3</th>\n",
       "      <td>22.08.2021 08:30</td>\n",
       "      <td>FootballFootballENGLAND: Premier League - Round 2</td>\n",
       "      <td>Arsenal</td>\n",
       "      <td>0</td>\n",
       "      <td>39</td>\n",
       "      <td>2</td>\n",
       "      <td>1</td>\n",
       "      <td>1</td>\n",
       "      <td>0</td>\n",
       "      <td>1</td>\n",
       "      <td>...</td>\n",
       "      <td>2</td>\n",
       "      <td>3.6</td>\n",
       "      <td>22</td>\n",
       "      <td>5</td>\n",
       "      <td>19</td>\n",
       "      <td>10.4</td>\n",
       "      <td>2.9</td>\n",
       "      <td>0' Total xG: 0.00;0' Total xG: 0.00;1' Total x...</td>\n",
       "      <td>https://understat.com/match/16394</td>\n",
       "      <td>54</td>\n",
       "    </tr>\n",
       "    <tr>\n",
       "      <th>4</th>\n",
       "      <td>28.08.2021 04:30</td>\n",
       "      <td>FootballFootballENGLAND: Premier League - Round 3</td>\n",
       "      <td>Manchester City</td>\n",
       "      <td>2</td>\n",
       "      <td>88</td>\n",
       "      <td>19</td>\n",
       "      <td>7</td>\n",
       "      <td>3</td>\n",
       "      <td>9</td>\n",
       "      <td>4</td>\n",
       "      <td>...</td>\n",
       "      <td>0</td>\n",
       "      <td>0.1</td>\n",
       "      <td>1</td>\n",
       "      <td>0</td>\n",
       "      <td>0</td>\n",
       "      <td>52.1</td>\n",
       "      <td>0.0</td>\n",
       "      <td>0' Total xG: 0.00;0' Total xG: 0.00;1' Total x...</td>\n",
       "      <td>https://understat.com/match/16396</td>\n",
       "      <td>57</td>\n",
       "    </tr>\n",
       "    <tr>\n",
       "      <th>...</th>\n",
       "      <td>...</td>\n",
       "      <td>...</td>\n",
       "      <td>...</td>\n",
       "      <td>...</td>\n",
       "      <td>...</td>\n",
       "      <td>...</td>\n",
       "      <td>...</td>\n",
       "      <td>...</td>\n",
       "      <td>...</td>\n",
       "      <td>...</td>\n",
       "      <td>...</td>\n",
       "      <td>...</td>\n",
       "      <td>...</td>\n",
       "      <td>...</td>\n",
       "      <td>...</td>\n",
       "      <td>...</td>\n",
       "      <td>...</td>\n",
       "      <td>...</td>\n",
       "      <td>...</td>\n",
       "      <td>...</td>\n",
       "      <td>...</td>\n",
       "    </tr>\n",
       "    <tr>\n",
       "      <th>71</th>\n",
       "      <td>12.05.2022 20:45</td>\n",
       "      <td>FOOTBALL\\r\\nENGLAND: PREMIER LEAGUE - ROUND 22</td>\n",
       "      <td>Tottenham</td>\n",
       "      <td>2</td>\n",
       "      <td>53</td>\n",
       "      <td>8</td>\n",
       "      <td>2</td>\n",
       "      <td>4</td>\n",
       "      <td>2</td>\n",
       "      <td>7</td>\n",
       "      <td>...</td>\n",
       "      <td>0</td>\n",
       "      <td>0.4</td>\n",
       "      <td>8</td>\n",
       "      <td>4</td>\n",
       "      <td>4</td>\n",
       "      <td>35.3</td>\n",
       "      <td>0.1</td>\n",
       "      <td>0' Total xG: 0.00;0' Total xG: 0.00;1' Total x...</td>\n",
       "      <td>https://understat.com/match/16593</td>\n",
       "      <td>508</td>\n",
       "    </tr>\n",
       "    <tr>\n",
       "      <th>72</th>\n",
       "      <td>16.05.2022 21:00</td>\n",
       "      <td>FOOTBALL\\r\\nENGLAND: PREMIER LEAGUE - ROUND 37</td>\n",
       "      <td>Newcastle United</td>\n",
       "      <td>2</td>\n",
       "      <td>35</td>\n",
       "      <td>12</td>\n",
       "      <td>3</td>\n",
       "      <td>5</td>\n",
       "      <td>4</td>\n",
       "      <td>4</td>\n",
       "      <td>...</td>\n",
       "      <td>0</td>\n",
       "      <td>0.5</td>\n",
       "      <td>11</td>\n",
       "      <td>2</td>\n",
       "      <td>5</td>\n",
       "      <td>11.1</td>\n",
       "      <td>0.5</td>\n",
       "      <td>0' Total xG: 0.00;0' Total xG: 0.00;1' Total x...</td>\n",
       "      <td>https://understat.com/match/16741</td>\n",
       "      <td>499</td>\n",
       "    </tr>\n",
       "    <tr>\n",
       "      <th>73</th>\n",
       "      <td>16.05.2022 21:00</td>\n",
       "      <td>FOOTBALL\\r\\nENGLAND: PREMIER LEAGUE - ROUND 37</td>\n",
       "      <td>Newcastle United</td>\n",
       "      <td>0</td>\n",
       "      <td>67</td>\n",
       "      <td>4</td>\n",
       "      <td>1</td>\n",
       "      <td>2</td>\n",
       "      <td>1</td>\n",
       "      <td>3</td>\n",
       "      <td>...</td>\n",
       "      <td>0</td>\n",
       "      <td>0.5</td>\n",
       "      <td>11</td>\n",
       "      <td>2</td>\n",
       "      <td>5</td>\n",
       "      <td>11.1</td>\n",
       "      <td>0.5</td>\n",
       "      <td>0' Total xG: 0.00;0' Total xG: 0.00;1' Total x...</td>\n",
       "      <td>https://understat.com/match/16741</td>\n",
       "      <td>499</td>\n",
       "    </tr>\n",
       "    <tr>\n",
       "      <th>74</th>\n",
       "      <td>22.05.2022 17:00</td>\n",
       "      <td>FOOTBALL\\r\\nENGLAND: PREMIER LEAGUE - ROUND 38</td>\n",
       "      <td>Arsenal</td>\n",
       "      <td>3</td>\n",
       "      <td>71</td>\n",
       "      <td>9</td>\n",
       "      <td>5</td>\n",
       "      <td>3</td>\n",
       "      <td>1</td>\n",
       "      <td>5</td>\n",
       "      <td>...</td>\n",
       "      <td>1</td>\n",
       "      <td>1.1</td>\n",
       "      <td>6</td>\n",
       "      <td>2</td>\n",
       "      <td>5</td>\n",
       "      <td>49.7</td>\n",
       "      <td>0.1</td>\n",
       "      <td>0' Total xG: 0.00;0' Total xG: 0.00;1' Total x...</td>\n",
       "      <td>https://understat.com/match/16746</td>\n",
       "      <td>471</td>\n",
       "    </tr>\n",
       "    <tr>\n",
       "      <th>75</th>\n",
       "      <td>22.05.2022 17:00</td>\n",
       "      <td>FOOTBALL\\r\\nENGLAND: PREMIER LEAGUE - ROUND 38</td>\n",
       "      <td>Arsenal</td>\n",
       "      <td>2</td>\n",
       "      <td>77</td>\n",
       "      <td>17</td>\n",
       "      <td>4</td>\n",
       "      <td>5</td>\n",
       "      <td>8</td>\n",
       "      <td>3</td>\n",
       "      <td>...</td>\n",
       "      <td>1</td>\n",
       "      <td>1.1</td>\n",
       "      <td>6</td>\n",
       "      <td>2</td>\n",
       "      <td>5</td>\n",
       "      <td>49.7</td>\n",
       "      <td>0.1</td>\n",
       "      <td>0' Total xG: 0.00;0' Total xG: 0.00;1' Total x...</td>\n",
       "      <td>https://understat.com/match/16746</td>\n",
       "      <td>471</td>\n",
       "    </tr>\n",
       "  </tbody>\n",
       "</table>\n",
       "<p>76 rows × 62 columns</p>\n",
       "</div>"
      ],
      "text/plain": [
       "          H_datetime                                         H_gameinfo  \\\n",
       "0   13.08.2021 12:00  FootballFootballENGLAND: Premier League - Round 1   \n",
       "1   13.08.2021 12:00  FootballFootballENGLAND: Premier League - Round 1   \n",
       "2   22.08.2021 08:30  FootballFootballENGLAND: Premier League - Round 2   \n",
       "3   22.08.2021 08:30  FootballFootballENGLAND: Premier League - Round 2   \n",
       "4   28.08.2021 04:30  FootballFootballENGLAND: Premier League - Round 3   \n",
       "..               ...                                                ...   \n",
       "71  12.05.2022 20:45     FOOTBALL\\r\\nENGLAND: PREMIER LEAGUE - ROUND 22   \n",
       "72  16.05.2022 21:00     FOOTBALL\\r\\nENGLAND: PREMIER LEAGUE - ROUND 37   \n",
       "73  16.05.2022 21:00     FOOTBALL\\r\\nENGLAND: PREMIER LEAGUE - ROUND 37   \n",
       "74  22.05.2022 17:00     FOOTBALL\\r\\nENGLAND: PREMIER LEAGUE - ROUND 38   \n",
       "75  22.05.2022 17:00     FOOTBALL\\r\\nENGLAND: PREMIER LEAGUE - ROUND 38   \n",
       "\n",
       "         H_Teamnames  H_Goals  H_Ball Possession  H_Goal Attempts  \\\n",
       "0          Brentford        1                 32                3   \n",
       "1          Brentford        1                 38                5   \n",
       "2            Arsenal        0                 31                4   \n",
       "3            Arsenal        0                 39                2   \n",
       "4    Manchester City        2                 88               19   \n",
       "..               ...      ...                ...              ...   \n",
       "71         Tottenham        2                 53                8   \n",
       "72  Newcastle United        2                 35               12   \n",
       "73  Newcastle United        0                 67                4   \n",
       "74           Arsenal        3                 71                9   \n",
       "75           Arsenal        2                 77               17   \n",
       "\n",
       "    H_Shots on Goal  H_Shots off Goal  H_Blocked Shots  H_Free Kicks  ...  \\\n",
       "0                 2                 1                0             4  ...   \n",
       "1                 1                 4                0             5  ...   \n",
       "2                 2                 1                1             3  ...   \n",
       "3                 1                 1                0             1  ...   \n",
       "4                 7                 3                9             4  ...   \n",
       "..              ...               ...              ...           ...  ...   \n",
       "71                2                 4                2             7  ...   \n",
       "72                3                 5                4             4  ...   \n",
       "73                1                 2                1             3  ...   \n",
       "74                5                 3                1             5  ...   \n",
       "75                4                 5                8             3  ...   \n",
       "\n",
       "    A_GOALS  A_xG  A_SHOTS  A_SHOTS ON TARGET  A_DEEP  A_PPDA  A_xPTS  \\\n",
       "0         0   1.0       22                  4      10     5.8     0.7   \n",
       "1         0   1.0       22                  4      10     5.8     0.7   \n",
       "2         2   3.6       22                  5      19    10.4     2.9   \n",
       "3         2   3.6       22                  5      19    10.4     2.9   \n",
       "4         0   0.1        1                  0       0    52.1     0.0   \n",
       "..      ...   ...      ...                ...     ...     ...     ...   \n",
       "71        0   0.4        8                  4       4    35.3     0.1   \n",
       "72        0   0.5       11                  2       5    11.1     0.5   \n",
       "73        0   0.5       11                  2       5    11.1     0.5   \n",
       "74        1   1.1        6                  2       5    49.7     0.1   \n",
       "75        1   1.1        6                  2       5    49.7     0.1   \n",
       "\n",
       "                                      timing_chart_xg  \\\n",
       "0   0' Total xG: 0.00;0' Total xG: 0.00;1' Total x...   \n",
       "1   0' Total xG: 0.00;0' Total xG: 0.00;1' Total x...   \n",
       "2   0' Total xG: 0.00;0' Total xG: 0.00;1' Total x...   \n",
       "3   0' Total xG: 0.00;0' Total xG: 0.00;1' Total x...   \n",
       "4   0' Total xG: 0.00;0' Total xG: 0.00;1' Total x...   \n",
       "..                                                ...   \n",
       "71  0' Total xG: 0.00;0' Total xG: 0.00;1' Total x...   \n",
       "72  0' Total xG: 0.00;0' Total xG: 0.00;1' Total x...   \n",
       "73  0' Total xG: 0.00;0' Total xG: 0.00;1' Total x...   \n",
       "74  0' Total xG: 0.00;0' Total xG: 0.00;1' Total x...   \n",
       "75  0' Total xG: 0.00;0' Total xG: 0.00;1' Total x...   \n",
       "\n",
       "                              gameurl   id  \n",
       "0   https://understat.com/match/16376    9  \n",
       "1   https://understat.com/match/16376    9  \n",
       "2   https://understat.com/match/16394   54  \n",
       "3   https://understat.com/match/16394   54  \n",
       "4   https://understat.com/match/16396   57  \n",
       "..                                ...  ...  \n",
       "71  https://understat.com/match/16593  508  \n",
       "72  https://understat.com/match/16741  499  \n",
       "73  https://understat.com/match/16741  499  \n",
       "74  https://understat.com/match/16746  471  \n",
       "75  https://understat.com/match/16746  471  \n",
       "\n",
       "[76 rows x 62 columns]"
      ]
     },
     "execution_count": 7,
     "metadata": {},
     "output_type": "execute_result"
    }
   ],
   "source": [
    "# rename columns for\n",
    "dfxg_rename = dfxg.rename(\n",
    "    columns={'TEAMS': 'H_Teamnames', 'A_TEAMS': 'A_Teamnames'})\n",
    "# del dfxg\n",
    "\n",
    "dfxg_df_merged = pd.merge(\n",
    "    df, dfxg_rename, on=[\"H_Teamnames\", \"A_Teamnames\"])\n",
    "dfxg_df_merged = dfxg_df_merged.drop_duplicates()\n",
    "\n",
    "# %%\n",
    "df = dfxg_df_merged\n",
    "df"
   ]
  },
  {
   "cell_type": "code",
   "execution_count": 8,
   "metadata": {},
   "outputs": [
    {
     "data": {
      "text/plain": [
       "Index(['H_datetime', 'H_gameinfo', 'H_Teamnames', 'H_Goals',\n",
       "       'H_Ball Possession', 'H_Goal Attempts', 'H_Shots on Goal',\n",
       "       'H_Shots off Goal', 'H_Blocked Shots', 'H_Free Kicks', 'H_Corner Kicks',\n",
       "       'H_Offsides', 'H_Goalkeeper Saves', 'H_Fouls', 'H_Yellow Cards',\n",
       "       'H_Red Cards', 'H_Total Passes', 'H_Completed Passes', 'H_Tackles',\n",
       "       'H_Attacks', 'H_Dangerous Attacks', 'H_Throw-in', 'A_datetime',\n",
       "       'A_gameinfo', 'A_Teamnames', 'A_Goals', 'A_Ball Possession',\n",
       "       'A_Goal Attempts', 'A_Shots on Goal', 'A_Shots off Goal',\n",
       "       'A_Blocked Shots', 'A_Free Kicks', 'A_Corner Kicks', 'A_Offsides',\n",
       "       'A_Goalkeeper Saves', 'A_Fouls', 'A_Yellow Cards', 'A_Red Cards',\n",
       "       'A_Total Passes', 'A_Completed Passes', 'A_Tackles', 'A_Attacks',\n",
       "       'A_Dangerous Attacks', 'A_Throw-in', 'H_cat', 'GOALS', 'xG', 'SHOTS',\n",
       "       'SHOTS ON TARGET', 'DEEP', 'PPDA', 'xPTS', 'A_GOALS', 'A_xG', 'A_SHOTS',\n",
       "       'A_SHOTS ON TARGET', 'A_DEEP', 'A_PPDA', 'A_xPTS', 'timing_chart_xg',\n",
       "       'gameurl', 'id'],\n",
       "      dtype='object')"
      ]
     },
     "execution_count": 8,
     "metadata": {},
     "output_type": "execute_result"
    }
   ],
   "source": [
    "df.columns"
   ]
  },
  {
   "cell_type": "code",
   "execution_count": 9,
   "metadata": {},
   "outputs": [],
   "source": [
    "# dfxg[\"timing_chart_xg\"].loc[140].split(\"45' \")[0].split(\"Total xG: \")[-1].split(\"\\n\")[0].replace(\";\", \"\")  "
   ]
  },
  {
   "cell_type": "code",
   "execution_count": 11,
   "metadata": {},
   "outputs": [],
   "source": [
    "# dfxg[\"timing_chart_xg\"].loc[174].split(\"45' \")[0].split(\"Total xG: \")[-1].split(\"\\n\")[0].replace(\";\", \"\")  "
   ]
  },
  {
   "cell_type": "code",
   "execution_count": 12,
   "metadata": {},
   "outputs": [],
   "source": [
    "# dfxg[\"timing_chart_xg\"].loc[196].split(\"45' \")[0].split(\"Total xG: \")[-1].split(\"\\n\")[0].replace(\";\", \"\")  "
   ]
  },
  {
   "cell_type": "code",
   "execution_count": 13,
   "metadata": {},
   "outputs": [],
   "source": [
    "# TODO: run this for all games of a team and assign to dataframe! Then do diagram per minute! for this team! \n",
    "# Then add to streamlit!"
   ]
  },
  {
   "cell_type": "code",
   "execution_count": 14,
   "metadata": {},
   "outputs": [],
   "source": [
    "# game_loc = dfxg.index[0]\n",
    "# last_game_minute = dfxg[\"timing_chart_xg\"].loc[game_loc].rsplit(\"'\")[-2].rsplit(\";\")[1]\n",
    "# last_game_minute\n",
    "\n",
    "# dfxg[\"timing_chart_xg\"].loc[game_loc].split(\"{}' Total xG: \".format(x))#[1]#.split(\";\")[0][:4]"
   ]
  },
  {
   "cell_type": "code",
   "execution_count": 15,
   "metadata": {},
   "outputs": [],
   "source": [
    "dfxg[\"homexg_complete_game\"] = \"\"\n",
    "dfxg[\"awayxg_complete_game\"] = \"\"\n",
    "dfxg[\"last_game_minute\"] = -1\n",
    "dfxg[\"start_min_game\"] = -1\n",
    "\n",
    "for game_loc in dfxg.index:\n",
    "    \n",
    "    homexg_complete_game = []\n",
    "    awayxg_complete_game = []\n",
    "\n",
    "    last_game_minute = dfxg[\"timing_chart_xg\"].loc[game_loc].rsplit(\"'\")[-2].rsplit(\";\")[1]\n",
    "    start_min_game = int( re.sub(\"[^0-9]\", \"\", dfxg[\"timing_chart_xg\"].loc[game_loc][:2]) )\n",
    "\n",
    "    for x in range(start_min_game,int(last_game_minute)+1):\n",
    "        homexgperminute = dfxg[\"timing_chart_xg\"].loc[game_loc].split(\"{}' Total xG: \".format(x))[1].split(\";\")[0][:4]  # [:4] - only last 4 digits so no goalscorer infos\n",
    "        awayxgperminute = dfxg[\"timing_chart_xg\"].loc[game_loc].split(\"{}' Total xG: \".format(x), 2)[2].split(\";\")[0][:4]\n",
    "        homexg_complete_game.append(homexgperminute)\n",
    "        awayxg_complete_game.append(awayxgperminute)\n",
    "        \n",
    "    dfxg[\"homexg_complete_game\"].loc[game_loc] = homexg_complete_game\n",
    "    dfxg[\"awayxg_complete_game\"].loc[game_loc] = awayxg_complete_game\n",
    "    dfxg[\"last_game_minute\"].loc[game_loc] = last_game_minute\n",
    "    dfxg[\"start_min_game\"].loc[game_loc] = start_min_game\n",
    "\n",
    "\n",
    "for x in range(len(dfxg)):\n",
    "    dfxg.homexg_complete_game.iloc[x][0:0] = [None] * dfxg.start_min_game.iloc[x]\n",
    "    dfxg.awayxg_complete_game.iloc[x][0:0] = [None] * dfxg.start_min_game.iloc[x]\n",
    "\n",
    "\n",
    "\n"
   ]
  },
  {
   "cell_type": "code",
   "execution_count": 16,
   "metadata": {},
   "outputs": [],
   "source": [
    "df[\"homexg_complete_game\"] = \"\"\n",
    "df[\"awayxg_complete_game\"] = \"\"\n",
    "df[\"last_game_minute\"] = -1\n",
    "df[\"start_min_game\"] = -1\n",
    "\n",
    "for game_loc in df.index:\n",
    "    \n",
    "    homexg_complete_game = []\n",
    "    awayxg_complete_game = []\n",
    "\n",
    "    last_game_minute = df[\"timing_chart_xg\"].loc[game_loc].rsplit(\"'\")[-2].rsplit(\";\")[1]\n",
    "    start_min_game = int( re.sub(\"[^0-9]\", \"\", df[\"timing_chart_xg\"].loc[game_loc][:2]) )\n",
    "\n",
    "    for x in range(start_min_game,int(last_game_minute)+1):\n",
    "        homexgperminute = df[\"timing_chart_xg\"].loc[game_loc].split(\"{}' Total xG: \".format(x))[1].split(\";\")[0][:4]  # [:4] - only last 4 digits so no goalscorer infos\n",
    "        awayxgperminute = df[\"timing_chart_xg\"].loc[game_loc].split(\"{}' Total xG: \".format(x), 2)[2].split(\";\")[0][:4]\n",
    "        homexg_complete_game.append(homexgperminute)\n",
    "        awayxg_complete_game.append(awayxgperminute)\n",
    "        \n",
    "    df[\"homexg_complete_game\"].loc[game_loc] = homexg_complete_game\n",
    "    df[\"awayxg_complete_game\"].loc[game_loc] = awayxg_complete_game\n",
    "    df[\"last_game_minute\"].loc[game_loc] = last_game_minute\n",
    "    df[\"start_min_game\"].loc[game_loc] = start_min_game\n",
    "\n",
    "\n",
    "for x in range(len(df)):\n",
    "    df.homexg_complete_game.iloc[x][0:0] = [None] * df.start_min_game.iloc[x]\n",
    "    df.awayxg_complete_game.iloc[x][0:0] = [None] * df.start_min_game.iloc[x]\n",
    "\n",
    "\n",
    "df_homexg_complete_game = pd.DataFrame(df.homexg_complete_game.tolist(), index= df.index)\n",
    "df_awayxg_complete_game = pd.DataFrame(df.awayxg_complete_game.tolist(), index= df.index)\n",
    "\n",
    "df_homexg_complete_game = df_homexg_complete_game.apply(pd.to_numeric)\n",
    "df_awayxg_complete_game = df_awayxg_complete_game.apply(pd.to_numeric)\n"
   ]
  },
  {
   "cell_type": "code",
   "execution_count": 17,
   "metadata": {},
   "outputs": [],
   "source": [
    "# dfxg.homexg_complete_game.iloc[0][0:0] = [None] * dfxg.start_min_game.iloc[0]"
   ]
  },
  {
   "cell_type": "code",
   "execution_count": 18,
   "metadata": {},
   "outputs": [],
   "source": [
    "\n",
    "#TODO mach das für ein bestimmtes team : alle gegner müssen oppo sein!"
   ]
  },
  {
   "cell_type": "code",
   "execution_count": 19,
   "metadata": {},
   "outputs": [
    {
     "data": {
      "text/plain": [
       "76"
      ]
     },
     "execution_count": 19,
     "metadata": {},
     "output_type": "execute_result"
    }
   ],
   "source": [
    "len(df)"
   ]
  },
  {
   "cell_type": "code",
   "execution_count": 20,
   "metadata": {},
   "outputs": [
    {
     "name": "stdout",
     "output_type": "stream",
     "text": [
      "         H_Teamnames A_Teamnames  H_Goals  A_Goals  H_Ball Possession  \\\n",
      "0          Brentford     Arsenal        1        0                 32   \n",
      "1          Brentford     Arsenal        1        0                 38   \n",
      "2            Arsenal     Chelsea        0        0                 31   \n",
      "3            Arsenal     Chelsea        0        2                 39   \n",
      "4    Manchester City     Arsenal        2        0                 88   \n",
      "..               ...         ...      ...      ...                ...   \n",
      "71         Tottenham     Arsenal        2        0                 53   \n",
      "72  Newcastle United     Arsenal        2        0                 35   \n",
      "73  Newcastle United     Arsenal        0        0                 67   \n",
      "74           Arsenal     Everton        3        0                 71   \n",
      "75           Arsenal     Everton        2        1                 77   \n",
      "\n",
      "    A_Ball Possession  A_Goal Attempts  H_Goal Attempts  H_Shots on Goal  \\\n",
      "0                  68               15                3                2   \n",
      "1                  62                7                5                1   \n",
      "2                  69               12                4                2   \n",
      "3                  61               10                2                1   \n",
      "4                  12                0               19                7   \n",
      "..                ...              ...              ...              ...   \n",
      "71                 47                5                8                2   \n",
      "72                 65                5               12                3   \n",
      "73                 33                6                4                1   \n",
      "74                 29                3                9                5   \n",
      "75                 23                3               17                4   \n",
      "\n",
      "    A_Shots on Goal  ...  xG  GOALS  xPTS  A_xG  A_GOALS  A_xPTS  \\\n",
      "0                 3  ... 1.9      2   2.1   1.0        0     0.7   \n",
      "1                 1  ... 1.9      2   2.1   1.0        0     0.7   \n",
      "2                 2  ... 0.6      0   0.1   3.6        2     2.9   \n",
      "3                 3  ... 0.6      0   0.1   3.6        2     2.9   \n",
      "4                 0  ... 4.5      5   3.0   0.1        0     0.0   \n",
      "..              ...  ...  ..    ...   ...   ...      ...     ...   \n",
      "71                3  ... 3.4      3   2.9   0.4        0     0.1   \n",
      "72                1  ... 1.7      2   2.3   0.5        0     0.5   \n",
      "73                1  ... 1.7      2   2.3   0.5        0     0.5   \n",
      "74                0  ... 4.4      5   2.9   1.1        1     0.1   \n",
      "75                2  ... 4.4      5   2.9   1.1        1     0.1   \n",
      "\n",
      "                                      timing_chart_xg  \\\n",
      "0   0' Total xG: 0.00;0' Total xG: 0.00;1' Total x...   \n",
      "1   0' Total xG: 0.00;0' Total xG: 0.00;1' Total x...   \n",
      "2   0' Total xG: 0.00;0' Total xG: 0.00;1' Total x...   \n",
      "3   0' Total xG: 0.00;0' Total xG: 0.00;1' Total x...   \n",
      "4   0' Total xG: 0.00;0' Total xG: 0.00;1' Total x...   \n",
      "..                                                ...   \n",
      "71  0' Total xG: 0.00;0' Total xG: 0.00;1' Total x...   \n",
      "72  0' Total xG: 0.00;0' Total xG: 0.00;1' Total x...   \n",
      "73  0' Total xG: 0.00;0' Total xG: 0.00;1' Total x...   \n",
      "74  0' Total xG: 0.00;0' Total xG: 0.00;1' Total x...   \n",
      "75  0' Total xG: 0.00;0' Total xG: 0.00;1' Total x...   \n",
      "\n",
      "                                 homexg_complete_game  \\\n",
      "0   [0.00, 0.00, 0.00, 0.00, 0.00, 0.00, 0.00, 0.0...   \n",
      "1   [0.00, 0.00, 0.00, 0.00, 0.00, 0.00, 0.00, 0.0...   \n",
      "2   [0.00, 0.03, 0.03, 0.03, 0.03, 0.03, 0.03, 0.0...   \n",
      "3   [0.00, 0.03, 0.03, 0.03, 0.03, 0.03, 0.03, 0.0...   \n",
      "4   [0.00, 0.00, 0.00, 0.00, 0.00, 0.00, 0.14, 0.1...   \n",
      "..                                                ...   \n",
      "71  [0.00, 0.00, 0.00, 0.00, 0.00, 0.00, 0.00, 0.0...   \n",
      "72  [0.00, 0.00, 0.00, 0.00, 0.00, 0.00, 0.00, 0.0...   \n",
      "73  [0.00, 0.00, 0.00, 0.00, 0.00, 0.00, 0.00, 0.0...   \n",
      "74  [0.00, 0.00, 0.00, 0.02, 0.13, 0.21, 0.21, 0.2...   \n",
      "75  [0.00, 0.00, 0.00, 0.02, 0.13, 0.21, 0.21, 0.2...   \n",
      "\n",
      "                                 awayxg_complete_game  R  \n",
      "0   [0.00, 0.02, 0.02, 0.02, 0.02, 0.02, 0.02, 0.0...  X  \n",
      "1   [0.00, 0.02, 0.02, 0.02, 0.02, 0.02, 0.02, 0.0...  X  \n",
      "2   [0.00, 0.00, 0.03, 0.03, 0.07, 0.07, 0.07, 0.0...  X  \n",
      "3   [0.00, 0.00, 0.03, 0.03, 0.07, 0.07, 0.07, 0.0...  X  \n",
      "4   [0.00, 0.00, 0.00, 0.00, 0.00, 0.12, 0.12, 0.1...  X  \n",
      "..                                                ... ..  \n",
      "71  [0.00, 0.00, 0.00, 0.01, 0.01, 0.01, 0.01, 0.0...  X  \n",
      "72  [0.00, 0.00, 0.00, 0.00, 0.00, 0.06, 0.06, 0.0...  X  \n",
      "73  [0.00, 0.00, 0.00, 0.00, 0.00, 0.06, 0.06, 0.0...  X  \n",
      "74  [0.00, 0.00, 0.00, 0.00, 0.00, 0.00, 0.00, 0.0...  X  \n",
      "75  [0.00, 0.00, 0.00, 0.00, 0.00, 0.00, 0.00, 0.0...  X  \n",
      "\n",
      "[76 rows x 34 columns]\n",
      "0\n",
      "1\n",
      "2\n",
      "3\n",
      "4\n",
      "5\n",
      "6\n",
      "7\n",
      "8\n",
      "9\n",
      "10\n",
      "11\n",
      "12\n",
      "13\n",
      "14\n",
      "15\n",
      "16\n",
      "17\n",
      "18\n",
      "19\n",
      "20\n",
      "21\n",
      "22\n",
      "23\n",
      "24\n",
      "25\n",
      "26\n",
      "27\n",
      "28\n",
      "29\n",
      "30\n",
      "31\n",
      "32\n",
      "33\n",
      "34\n",
      "35\n",
      "36\n",
      "37\n",
      "38\n",
      "39\n",
      "40\n",
      "41\n",
      "42\n",
      "43\n",
      "44\n",
      "45\n",
      "46\n",
      "47\n",
      "48\n",
      "49\n",
      "50\n",
      "51\n",
      "52\n",
      "53\n",
      "54\n",
      "55\n",
      "56\n",
      "57\n",
      "58\n",
      "59\n",
      "60\n",
      "61\n",
      "62\n",
      "63\n",
      "64\n",
      "65\n",
      "66\n",
      "67\n",
      "68\n",
      "69\n",
      "70\n",
      "71\n",
      "72\n",
      "73\n",
      "74\n",
      "75\n",
      "!!! Index(['H_Teamnames', 'A_Teamnames', 'H_Goals', 'A_Goals', 'H_Ball Possession',\n",
      "       'A_Ball Possession', 'A_Goal Attempts', 'H_Goal Attempts',\n",
      "       'H_Shots on Goal', 'A_Shots on Goal', 'H_Shots off Goal',\n",
      "       'A_Shots off Goal', 'H_Free Kicks', 'A_Free Kicks', 'H_Corner Kicks',\n",
      "       'A_Corner Kicks', 'H_Offsides', 'A_Offsides', 'H_Goalkeeper Saves',\n",
      "       'A_Goalkeeper Saves', 'H_Fouls', 'A_Fouls', 'A_gameinfo', 'A_datetime',\n",
      "       'xG', 'GOALS', 'xPTS', 'A_xG', 'A_GOALS', 'A_xPTS', 'timing_chart_xg',\n",
      "       'homexg_complete_game', 'awayxg_complete_game', 'R', 'xg_halftime',\n",
      "       'Axg_halftime'],\n",
      "      dtype='object')\n"
     ]
    }
   ],
   "source": [
    "dfxg_df_merged_cleaned = df_cleaning_converting(df)"
   ]
  },
  {
   "cell_type": "code",
   "execution_count": 21,
   "metadata": {},
   "outputs": [
    {
     "name": "stderr",
     "output_type": "stream",
     "text": [
      "2022-08-07 19:53:10.912 \n",
      "  \u001b[33m\u001b[1mWarning:\u001b[0m to view this Streamlit app on a browser, run it with the following\n",
      "  command:\n",
      "\n",
      "    streamlit run c:\\Users\\gebel\\.conda\\envs\\winning\\lib\\site-packages\\ipykernel_launcher.py [ARGUMENTS]\n"
     ]
    }
   ],
   "source": [
    "\n",
    "df4Home, df4OpponentReversed = df_specific_team(\n",
    "    dfxg_df_merged_cleaned, team)\n",
    "\n",
    "df4Complete = create_df4Complete(df4Home, df4OpponentReversed)\n",
    "\n",
    "slidertext = 'Show last x halftimes'\n",
    "nrGames = st.sidebar.slider(slidertext, max_value=len(\n",
    "    df4Complete), value=len(df4Complete), step=2)\n",
    "\n",
    "# change rows of df depending on userinput\n",
    "df4Complete = df4Complete[:nrGames]\n",
    "df4Complete = df4Complete.sort_values(\"Date\", ascending=False)\n",
    "df4Complete = df4Complete.round(1)\n",
    "\n",
    "df4Complete[['xG', 'A_xG', 'G-H', 'G-A', 'BP-H', 'BP-A', 'GA-H', 'GA-A', 'SoG-H', 'SoG-A',  'xPTS', 'A_xPTS']] = df4Complete[['xG',\n",
    "                                                                                                                              'A_xG', 'G-H', 'G-A', 'BP-H', 'BP-A', 'GA-H', 'GA-A', 'SoG-H', 'SoG-A',  'xPTS', 'A_xPTS']].apply(pd.to_numeric, errors='coerce', axis=1)\n",
    "\n",
    "df4Complete_show = df4Complete[['Home', 'Opponent', 'IsHome', 'R', 'xG', 'A_xG', 'G-H', 'G-A', 'BP-H', 'BP-A', 'GA-H', 'GA-A',\n",
    "                                'SoG-H', 'SoG-A',  'xPTS', 'A_xPTS', 'Date', 'xg_halftime', 'Axg_halftime',]]"
   ]
  },
  {
   "cell_type": "code",
   "execution_count": 22,
   "metadata": {},
   "outputs": [],
   "source": [
    "df4Complete.homexg_complete_game\n",
    "\n",
    "dfxg_homexg_complete_game = pd.DataFrame(df4Complete.homexg_complete_game.tolist(), index= df4Complete.index)\n",
    "dfxg_awayxg_complete_game = pd.DataFrame(df4Complete.awayxg_complete_game.tolist(), index= df4Complete.index)\n",
    "\n",
    "dfxg_homexg_complete_game = dfxg_homexg_complete_game.apply(pd.to_numeric)\n",
    "dfxg_awayxg_complete_game = dfxg_awayxg_complete_game.apply(pd.to_numeric)\n",
    "\n",
    "dfxg_homexg_complete_game = dfxg_homexg_complete_game.T.diff()\n",
    "dfxg_awayxg_complete_game = dfxg_awayxg_complete_game.T.diff()\n",
    "\n",
    "dfxg_homexg_complete_game = dfxg_homexg_complete_game.T\n",
    "dfxg_awayxg_complete_game = dfxg_awayxg_complete_game.T"
   ]
  },
  {
   "cell_type": "code",
   "execution_count": 23,
   "metadata": {},
   "outputs": [
    {
     "data": {
      "application/vnd.plotly.v1+json": {
       "config": {
        "plotlyServerURL": "https://plot.ly"
       },
       "data": [
        {
         "hovertemplate": "variable=0<br>index=%{x}<br>value=%{y}<extra></extra>",
         "legendgroup": "0",
         "line": {
          "color": "#636efa",
          "dash": "solid"
         },
         "marker": {
          "symbol": "circle"
         },
         "mode": "lines",
         "name": "0",
         "orientation": "v",
         "showlegend": true,
         "type": "scatter",
         "x": [
          0,
          1,
          2,
          3,
          4,
          5,
          6,
          7,
          8,
          9,
          10,
          11,
          12,
          13,
          14,
          15,
          16,
          17,
          18,
          19,
          20,
          21,
          22,
          23,
          24,
          25,
          26,
          27,
          28,
          29,
          30,
          31,
          32,
          33,
          34,
          35,
          36,
          37,
          38,
          39,
          40,
          41,
          42,
          43,
          44,
          45,
          46,
          47,
          48,
          49,
          50,
          51,
          52,
          53,
          54,
          55,
          56,
          57,
          58,
          59,
          60,
          61,
          62,
          63,
          64,
          65,
          66,
          67,
          68,
          69,
          70,
          71,
          72,
          73,
          74,
          75,
          76,
          77,
          78,
          79,
          80,
          81,
          82,
          83,
          84,
          85,
          86,
          87,
          88,
          89,
          90,
          91,
          92,
          93,
          94,
          95,
          96,
          97
         ],
         "xaxis": "x",
         "y": [
          null,
          0.001842105263157895,
          0.04789473684210527,
          0.015000000000000001,
          0.02921052631578947,
          0.02631578947368421,
          0.0060526315789473685,
          0.016578947368421054,
          0.006578947368421052,
          0.017105263157894738,
          0.018421052631578946,
          0.015,
          0.011842105263157897,
          0.0015789473684210526,
          0.0023684210526315787,
          0.024210526315789474,
          0.021315789473684208,
          0.03473684210526316,
          0.002368421052631581,
          0.022894736842105266,
          0.015526315789473683,
          0.009473684210526318,
          0.021842105263157892,
          0.008947368421052627,
          0.0418421052631579,
          0.007105263157894737,
          0.04789473684210526,
          0.026052631578947362,
          0.01342105263157895,
          0.019736842105263157,
          0.01789473684210527,
          0.05105263157894737,
          0.005263157894736842,
          0.01578947368421053,
          0.018684210526315796,
          0.022368421052631583,
          0.0031578947368421065,
          0.014210526315789469,
          0.006842105263157898,
          0.023421052631578933,
          0.023947368421052634,
          0.011842105263157909,
          0.01973684210526316,
          0.029473684210526308,
          0.014210526315789469,
          0.01684210526315789,
          0.01026315789473684,
          0.01842105263157894,
          0.006578947368421051,
          0.0010526315789473751,
          0.060000000000000005,
          0.004210526315789468,
          0.010000000000000009,
          0.011578947368421057,
          0.023157894736842103,
          0.014210526315789474,
          0.021578947368421055,
          0.026578947368421046,
          0.03894736842105264,
          0.028947368421052635,
          0.007368421052631577,
          0.026842105263157896,
          0.013684210526315785,
          0.009473684210526313,
          0.015263157894736845,
          0.04052631578947369,
          0.02526315789473685,
          0.004473684210526308,
          0.02394736842105263,
          0.02131578947368421,
          0.027631578947368427,
          0.013684210526315795,
          0.006315789473684208,
          0.01052631578947367,
          0.007368421052631591,
          0.019473684210526317,
          0.0047368421052631565,
          0.017894736842105255,
          0.013684210526315807,
          0.003947368421052627,
          0.009736842105263151,
          0.02578947368421052,
          0.021315789473684215,
          0.04342105263157895,
          0.00631578947368421,
          0.003157894736842114,
          0.014473684210526314,
          0.02131578947368422,
          0.0026315789473684236,
          0.007894736842105256,
          0.032894736842105254,
          0.034814814814814805,
          0.004090909090909104,
          0.006875000000000013,
          0.09222222222222223,
          0,
          0,
          0.08000000000000007
         ],
         "yaxis": "y"
        }
       ],
       "layout": {
        "legend": {
         "title": {
          "text": "variable"
         },
         "tracegroupgap": 0
        },
        "margin": {
         "t": 60
        },
        "template": {
         "data": {
          "bar": [
           {
            "error_x": {
             "color": "#2a3f5f"
            },
            "error_y": {
             "color": "#2a3f5f"
            },
            "marker": {
             "line": {
              "color": "#E5ECF6",
              "width": 0.5
             },
             "pattern": {
              "fillmode": "overlay",
              "size": 10,
              "solidity": 0.2
             }
            },
            "type": "bar"
           }
          ],
          "barpolar": [
           {
            "marker": {
             "line": {
              "color": "#E5ECF6",
              "width": 0.5
             },
             "pattern": {
              "fillmode": "overlay",
              "size": 10,
              "solidity": 0.2
             }
            },
            "type": "barpolar"
           }
          ],
          "carpet": [
           {
            "aaxis": {
             "endlinecolor": "#2a3f5f",
             "gridcolor": "white",
             "linecolor": "white",
             "minorgridcolor": "white",
             "startlinecolor": "#2a3f5f"
            },
            "baxis": {
             "endlinecolor": "#2a3f5f",
             "gridcolor": "white",
             "linecolor": "white",
             "minorgridcolor": "white",
             "startlinecolor": "#2a3f5f"
            },
            "type": "carpet"
           }
          ],
          "choropleth": [
           {
            "colorbar": {
             "outlinewidth": 0,
             "ticks": ""
            },
            "type": "choropleth"
           }
          ],
          "contour": [
           {
            "colorbar": {
             "outlinewidth": 0,
             "ticks": ""
            },
            "colorscale": [
             [
              0,
              "#0d0887"
             ],
             [
              0.1111111111111111,
              "#46039f"
             ],
             [
              0.2222222222222222,
              "#7201a8"
             ],
             [
              0.3333333333333333,
              "#9c179e"
             ],
             [
              0.4444444444444444,
              "#bd3786"
             ],
             [
              0.5555555555555556,
              "#d8576b"
             ],
             [
              0.6666666666666666,
              "#ed7953"
             ],
             [
              0.7777777777777778,
              "#fb9f3a"
             ],
             [
              0.8888888888888888,
              "#fdca26"
             ],
             [
              1,
              "#f0f921"
             ]
            ],
            "type": "contour"
           }
          ],
          "contourcarpet": [
           {
            "colorbar": {
             "outlinewidth": 0,
             "ticks": ""
            },
            "type": "contourcarpet"
           }
          ],
          "heatmap": [
           {
            "colorbar": {
             "outlinewidth": 0,
             "ticks": ""
            },
            "colorscale": [
             [
              0,
              "#0d0887"
             ],
             [
              0.1111111111111111,
              "#46039f"
             ],
             [
              0.2222222222222222,
              "#7201a8"
             ],
             [
              0.3333333333333333,
              "#9c179e"
             ],
             [
              0.4444444444444444,
              "#bd3786"
             ],
             [
              0.5555555555555556,
              "#d8576b"
             ],
             [
              0.6666666666666666,
              "#ed7953"
             ],
             [
              0.7777777777777778,
              "#fb9f3a"
             ],
             [
              0.8888888888888888,
              "#fdca26"
             ],
             [
              1,
              "#f0f921"
             ]
            ],
            "type": "heatmap"
           }
          ],
          "heatmapgl": [
           {
            "colorbar": {
             "outlinewidth": 0,
             "ticks": ""
            },
            "colorscale": [
             [
              0,
              "#0d0887"
             ],
             [
              0.1111111111111111,
              "#46039f"
             ],
             [
              0.2222222222222222,
              "#7201a8"
             ],
             [
              0.3333333333333333,
              "#9c179e"
             ],
             [
              0.4444444444444444,
              "#bd3786"
             ],
             [
              0.5555555555555556,
              "#d8576b"
             ],
             [
              0.6666666666666666,
              "#ed7953"
             ],
             [
              0.7777777777777778,
              "#fb9f3a"
             ],
             [
              0.8888888888888888,
              "#fdca26"
             ],
             [
              1,
              "#f0f921"
             ]
            ],
            "type": "heatmapgl"
           }
          ],
          "histogram": [
           {
            "marker": {
             "pattern": {
              "fillmode": "overlay",
              "size": 10,
              "solidity": 0.2
             }
            },
            "type": "histogram"
           }
          ],
          "histogram2d": [
           {
            "colorbar": {
             "outlinewidth": 0,
             "ticks": ""
            },
            "colorscale": [
             [
              0,
              "#0d0887"
             ],
             [
              0.1111111111111111,
              "#46039f"
             ],
             [
              0.2222222222222222,
              "#7201a8"
             ],
             [
              0.3333333333333333,
              "#9c179e"
             ],
             [
              0.4444444444444444,
              "#bd3786"
             ],
             [
              0.5555555555555556,
              "#d8576b"
             ],
             [
              0.6666666666666666,
              "#ed7953"
             ],
             [
              0.7777777777777778,
              "#fb9f3a"
             ],
             [
              0.8888888888888888,
              "#fdca26"
             ],
             [
              1,
              "#f0f921"
             ]
            ],
            "type": "histogram2d"
           }
          ],
          "histogram2dcontour": [
           {
            "colorbar": {
             "outlinewidth": 0,
             "ticks": ""
            },
            "colorscale": [
             [
              0,
              "#0d0887"
             ],
             [
              0.1111111111111111,
              "#46039f"
             ],
             [
              0.2222222222222222,
              "#7201a8"
             ],
             [
              0.3333333333333333,
              "#9c179e"
             ],
             [
              0.4444444444444444,
              "#bd3786"
             ],
             [
              0.5555555555555556,
              "#d8576b"
             ],
             [
              0.6666666666666666,
              "#ed7953"
             ],
             [
              0.7777777777777778,
              "#fb9f3a"
             ],
             [
              0.8888888888888888,
              "#fdca26"
             ],
             [
              1,
              "#f0f921"
             ]
            ],
            "type": "histogram2dcontour"
           }
          ],
          "mesh3d": [
           {
            "colorbar": {
             "outlinewidth": 0,
             "ticks": ""
            },
            "type": "mesh3d"
           }
          ],
          "parcoords": [
           {
            "line": {
             "colorbar": {
              "outlinewidth": 0,
              "ticks": ""
             }
            },
            "type": "parcoords"
           }
          ],
          "pie": [
           {
            "automargin": true,
            "type": "pie"
           }
          ],
          "scatter": [
           {
            "marker": {
             "colorbar": {
              "outlinewidth": 0,
              "ticks": ""
             }
            },
            "type": "scatter"
           }
          ],
          "scatter3d": [
           {
            "line": {
             "colorbar": {
              "outlinewidth": 0,
              "ticks": ""
             }
            },
            "marker": {
             "colorbar": {
              "outlinewidth": 0,
              "ticks": ""
             }
            },
            "type": "scatter3d"
           }
          ],
          "scattercarpet": [
           {
            "marker": {
             "colorbar": {
              "outlinewidth": 0,
              "ticks": ""
             }
            },
            "type": "scattercarpet"
           }
          ],
          "scattergeo": [
           {
            "marker": {
             "colorbar": {
              "outlinewidth": 0,
              "ticks": ""
             }
            },
            "type": "scattergeo"
           }
          ],
          "scattergl": [
           {
            "marker": {
             "colorbar": {
              "outlinewidth": 0,
              "ticks": ""
             }
            },
            "type": "scattergl"
           }
          ],
          "scattermapbox": [
           {
            "marker": {
             "colorbar": {
              "outlinewidth": 0,
              "ticks": ""
             }
            },
            "type": "scattermapbox"
           }
          ],
          "scatterpolar": [
           {
            "marker": {
             "colorbar": {
              "outlinewidth": 0,
              "ticks": ""
             }
            },
            "type": "scatterpolar"
           }
          ],
          "scatterpolargl": [
           {
            "marker": {
             "colorbar": {
              "outlinewidth": 0,
              "ticks": ""
             }
            },
            "type": "scatterpolargl"
           }
          ],
          "scatterternary": [
           {
            "marker": {
             "colorbar": {
              "outlinewidth": 0,
              "ticks": ""
             }
            },
            "type": "scatterternary"
           }
          ],
          "surface": [
           {
            "colorbar": {
             "outlinewidth": 0,
             "ticks": ""
            },
            "colorscale": [
             [
              0,
              "#0d0887"
             ],
             [
              0.1111111111111111,
              "#46039f"
             ],
             [
              0.2222222222222222,
              "#7201a8"
             ],
             [
              0.3333333333333333,
              "#9c179e"
             ],
             [
              0.4444444444444444,
              "#bd3786"
             ],
             [
              0.5555555555555556,
              "#d8576b"
             ],
             [
              0.6666666666666666,
              "#ed7953"
             ],
             [
              0.7777777777777778,
              "#fb9f3a"
             ],
             [
              0.8888888888888888,
              "#fdca26"
             ],
             [
              1,
              "#f0f921"
             ]
            ],
            "type": "surface"
           }
          ],
          "table": [
           {
            "cells": {
             "fill": {
              "color": "#EBF0F8"
             },
             "line": {
              "color": "white"
             }
            },
            "header": {
             "fill": {
              "color": "#C8D4E3"
             },
             "line": {
              "color": "white"
             }
            },
            "type": "table"
           }
          ]
         },
         "layout": {
          "annotationdefaults": {
           "arrowcolor": "#2a3f5f",
           "arrowhead": 0,
           "arrowwidth": 1
          },
          "autotypenumbers": "strict",
          "coloraxis": {
           "colorbar": {
            "outlinewidth": 0,
            "ticks": ""
           }
          },
          "colorscale": {
           "diverging": [
            [
             0,
             "#8e0152"
            ],
            [
             0.1,
             "#c51b7d"
            ],
            [
             0.2,
             "#de77ae"
            ],
            [
             0.3,
             "#f1b6da"
            ],
            [
             0.4,
             "#fde0ef"
            ],
            [
             0.5,
             "#f7f7f7"
            ],
            [
             0.6,
             "#e6f5d0"
            ],
            [
             0.7,
             "#b8e186"
            ],
            [
             0.8,
             "#7fbc41"
            ],
            [
             0.9,
             "#4d9221"
            ],
            [
             1,
             "#276419"
            ]
           ],
           "sequential": [
            [
             0,
             "#0d0887"
            ],
            [
             0.1111111111111111,
             "#46039f"
            ],
            [
             0.2222222222222222,
             "#7201a8"
            ],
            [
             0.3333333333333333,
             "#9c179e"
            ],
            [
             0.4444444444444444,
             "#bd3786"
            ],
            [
             0.5555555555555556,
             "#d8576b"
            ],
            [
             0.6666666666666666,
             "#ed7953"
            ],
            [
             0.7777777777777778,
             "#fb9f3a"
            ],
            [
             0.8888888888888888,
             "#fdca26"
            ],
            [
             1,
             "#f0f921"
            ]
           ],
           "sequentialminus": [
            [
             0,
             "#0d0887"
            ],
            [
             0.1111111111111111,
             "#46039f"
            ],
            [
             0.2222222222222222,
             "#7201a8"
            ],
            [
             0.3333333333333333,
             "#9c179e"
            ],
            [
             0.4444444444444444,
             "#bd3786"
            ],
            [
             0.5555555555555556,
             "#d8576b"
            ],
            [
             0.6666666666666666,
             "#ed7953"
            ],
            [
             0.7777777777777778,
             "#fb9f3a"
            ],
            [
             0.8888888888888888,
             "#fdca26"
            ],
            [
             1,
             "#f0f921"
            ]
           ]
          },
          "colorway": [
           "#636efa",
           "#EF553B",
           "#00cc96",
           "#ab63fa",
           "#FFA15A",
           "#19d3f3",
           "#FF6692",
           "#B6E880",
           "#FF97FF",
           "#FECB52"
          ],
          "font": {
           "color": "#2a3f5f"
          },
          "geo": {
           "bgcolor": "white",
           "lakecolor": "white",
           "landcolor": "#E5ECF6",
           "showlakes": true,
           "showland": true,
           "subunitcolor": "white"
          },
          "hoverlabel": {
           "align": "left"
          },
          "hovermode": "closest",
          "mapbox": {
           "style": "light"
          },
          "paper_bgcolor": "white",
          "plot_bgcolor": "#E5ECF6",
          "polar": {
           "angularaxis": {
            "gridcolor": "white",
            "linecolor": "white",
            "ticks": ""
           },
           "bgcolor": "#E5ECF6",
           "radialaxis": {
            "gridcolor": "white",
            "linecolor": "white",
            "ticks": ""
           }
          },
          "scene": {
           "xaxis": {
            "backgroundcolor": "#E5ECF6",
            "gridcolor": "white",
            "gridwidth": 2,
            "linecolor": "white",
            "showbackground": true,
            "ticks": "",
            "zerolinecolor": "white"
           },
           "yaxis": {
            "backgroundcolor": "#E5ECF6",
            "gridcolor": "white",
            "gridwidth": 2,
            "linecolor": "white",
            "showbackground": true,
            "ticks": "",
            "zerolinecolor": "white"
           },
           "zaxis": {
            "backgroundcolor": "#E5ECF6",
            "gridcolor": "white",
            "gridwidth": 2,
            "linecolor": "white",
            "showbackground": true,
            "ticks": "",
            "zerolinecolor": "white"
           }
          },
          "shapedefaults": {
           "line": {
            "color": "#2a3f5f"
           }
          },
          "ternary": {
           "aaxis": {
            "gridcolor": "white",
            "linecolor": "white",
            "ticks": ""
           },
           "baxis": {
            "gridcolor": "white",
            "linecolor": "white",
            "ticks": ""
           },
           "bgcolor": "#E5ECF6",
           "caxis": {
            "gridcolor": "white",
            "linecolor": "white",
            "ticks": ""
           }
          },
          "title": {
           "x": 0.05
          },
          "xaxis": {
           "automargin": true,
           "gridcolor": "white",
           "linecolor": "white",
           "ticks": "",
           "title": {
            "standoff": 15
           },
           "zerolinecolor": "white",
           "zerolinewidth": 2
          },
          "yaxis": {
           "automargin": true,
           "gridcolor": "white",
           "linecolor": "white",
           "ticks": "",
           "title": {
            "standoff": 15
           },
           "zerolinecolor": "white",
           "zerolinewidth": 2
          }
         }
        },
        "xaxis": {
         "anchor": "y",
         "domain": [
          0,
          1
         ],
         "title": {
          "text": "index"
         }
        },
        "yaxis": {
         "anchor": "x",
         "domain": [
          0,
          1
         ],
         "title": {
          "text": "value"
         }
        }
       }
      }
     },
     "metadata": {},
     "output_type": "display_data"
    }
   ],
   "source": [
    "import plotly.express as px\n",
    "\n",
    "fig = px.line(dfxg_homexg_complete_game.mean())\n",
    "fig.show()"
   ]
  },
  {
   "cell_type": "code",
   "execution_count": 24,
   "metadata": {},
   "outputs": [
    {
     "data": {
      "application/vnd.plotly.v1+json": {
       "config": {
        "plotlyServerURL": "https://plot.ly"
       },
       "data": [
        {
         "hovertemplate": "variable=0<br>index=%{x}<br>value=%{y}<extra></extra>",
         "legendgroup": "0",
         "line": {
          "color": "#636efa",
          "dash": "solid"
         },
         "marker": {
          "symbol": "circle"
         },
         "mode": "lines",
         "name": "0",
         "orientation": "v",
         "showlegend": true,
         "type": "scatter",
         "x": [
          0,
          1,
          2,
          3,
          4,
          5,
          6,
          7,
          8,
          9,
          10,
          11,
          12,
          13,
          14,
          15,
          16,
          17,
          18,
          19,
          20,
          21,
          22,
          23,
          24,
          25,
          26,
          27,
          28,
          29,
          30,
          31,
          32,
          33,
          34,
          35,
          36,
          37,
          38,
          39,
          40,
          41,
          42,
          43,
          44,
          45,
          46,
          47,
          48,
          49,
          50,
          51,
          52,
          53,
          54,
          55,
          56,
          57,
          58,
          59,
          60,
          61,
          62,
          63,
          64,
          65,
          66,
          67,
          68,
          69,
          70,
          71,
          72,
          73,
          74,
          75,
          76,
          77,
          78,
          79,
          80,
          81,
          82,
          83,
          84,
          85,
          86,
          87,
          88,
          89,
          90,
          91,
          92,
          93,
          94,
          95,
          96,
          97
         ],
         "xaxis": "x",
         "y": [
          null,
          null,
          0.04605263157894737,
          -0.03289473684210527,
          0.01421052631578947,
          -0.0028947368421052624,
          -0.02026315789473684,
          0.010526315789473686,
          -0.010000000000000002,
          0.010526315789473686,
          0.0013157894736842077,
          -0.003421052631578946,
          -0.0031578947368421026,
          -0.010263157894736844,
          0.0007894736842105261,
          0.021842105263157895,
          -0.002894736842105266,
          0.013421052631578955,
          -0.03236842105263158,
          0.020526315789473684,
          -0.007368421052631583,
          -0.006052631578947365,
          0.012368421052631574,
          -0.012894736842105264,
          0.032894736842105275,
          -0.03473684210526316,
          0.04078947368421052,
          -0.0218421052631579,
          -0.012631578947368412,
          0.006315789473684207,
          -0.001842105263157888,
          0.0331578947368421,
          -0.045789473684210526,
          0.01052631578947369,
          0.002894736842105266,
          0.0036842105263157864,
          -0.019210526315789477,
          0.011052631578947363,
          -0.007368421052631571,
          0.016578947368421033,
          0.0005263157894737011,
          -0.012105263157894725,
          0.007894736842105251,
          0.009736842105263148,
          -0.01526315789473684,
          0.0026315789473684223,
          -0.0065789473684210505,
          0.008157894736842098,
          -0.011842105263157886,
          -0.005526315789473676,
          0.05894736842105263,
          -0.055789473684210535,
          0.0057894736842105405,
          0.0015789473684210478,
          0.011578947368421046,
          -0.00894736842105263,
          0.007368421052631581,
          0.0049999999999999906,
          0.012368421052631594,
          -0.010000000000000005,
          -0.02157894736842106,
          0.01947368421052632,
          -0.013157894736842111,
          -0.004210526315789472,
          0.005789473684210532,
          0.02526315789473684,
          -0.01526315789473684,
          -0.02078947368421054,
          0.019473684210526324,
          -0.002631578947368419,
          0.006315789473684216,
          -0.013947368421052632,
          -0.0073684210526315875,
          0.004210526315789462,
          -0.003157894736842079,
          0.012105263157894727,
          -0.01473684210526316,
          0.013157894736842098,
          -0.004210526315789448,
          -0.00973684210526318,
          0.005789473684210524,
          0.016052631578947367,
          -0.004473684210526303,
          0.022105263157894735,
          -0.03710526315789474,
          -0.0031578947368420965,
          0.0113157894736842,
          0.0068421052631579046,
          -0.018684210526315796,
          0.0052631578947368324,
          0.024999999999999998,
          0.001920077972709551,
          -0.030723905723905702,
          0.002784090909090909,
          0.08534722222222221,
          -0.09222222222222223,
          0,
          0.08000000000000007
         ],
         "yaxis": "y"
        }
       ],
       "layout": {
        "legend": {
         "title": {
          "text": "variable"
         },
         "tracegroupgap": 0
        },
        "margin": {
         "t": 60
        },
        "template": {
         "data": {
          "bar": [
           {
            "error_x": {
             "color": "#2a3f5f"
            },
            "error_y": {
             "color": "#2a3f5f"
            },
            "marker": {
             "line": {
              "color": "#E5ECF6",
              "width": 0.5
             },
             "pattern": {
              "fillmode": "overlay",
              "size": 10,
              "solidity": 0.2
             }
            },
            "type": "bar"
           }
          ],
          "barpolar": [
           {
            "marker": {
             "line": {
              "color": "#E5ECF6",
              "width": 0.5
             },
             "pattern": {
              "fillmode": "overlay",
              "size": 10,
              "solidity": 0.2
             }
            },
            "type": "barpolar"
           }
          ],
          "carpet": [
           {
            "aaxis": {
             "endlinecolor": "#2a3f5f",
             "gridcolor": "white",
             "linecolor": "white",
             "minorgridcolor": "white",
             "startlinecolor": "#2a3f5f"
            },
            "baxis": {
             "endlinecolor": "#2a3f5f",
             "gridcolor": "white",
             "linecolor": "white",
             "minorgridcolor": "white",
             "startlinecolor": "#2a3f5f"
            },
            "type": "carpet"
           }
          ],
          "choropleth": [
           {
            "colorbar": {
             "outlinewidth": 0,
             "ticks": ""
            },
            "type": "choropleth"
           }
          ],
          "contour": [
           {
            "colorbar": {
             "outlinewidth": 0,
             "ticks": ""
            },
            "colorscale": [
             [
              0,
              "#0d0887"
             ],
             [
              0.1111111111111111,
              "#46039f"
             ],
             [
              0.2222222222222222,
              "#7201a8"
             ],
             [
              0.3333333333333333,
              "#9c179e"
             ],
             [
              0.4444444444444444,
              "#bd3786"
             ],
             [
              0.5555555555555556,
              "#d8576b"
             ],
             [
              0.6666666666666666,
              "#ed7953"
             ],
             [
              0.7777777777777778,
              "#fb9f3a"
             ],
             [
              0.8888888888888888,
              "#fdca26"
             ],
             [
              1,
              "#f0f921"
             ]
            ],
            "type": "contour"
           }
          ],
          "contourcarpet": [
           {
            "colorbar": {
             "outlinewidth": 0,
             "ticks": ""
            },
            "type": "contourcarpet"
           }
          ],
          "heatmap": [
           {
            "colorbar": {
             "outlinewidth": 0,
             "ticks": ""
            },
            "colorscale": [
             [
              0,
              "#0d0887"
             ],
             [
              0.1111111111111111,
              "#46039f"
             ],
             [
              0.2222222222222222,
              "#7201a8"
             ],
             [
              0.3333333333333333,
              "#9c179e"
             ],
             [
              0.4444444444444444,
              "#bd3786"
             ],
             [
              0.5555555555555556,
              "#d8576b"
             ],
             [
              0.6666666666666666,
              "#ed7953"
             ],
             [
              0.7777777777777778,
              "#fb9f3a"
             ],
             [
              0.8888888888888888,
              "#fdca26"
             ],
             [
              1,
              "#f0f921"
             ]
            ],
            "type": "heatmap"
           }
          ],
          "heatmapgl": [
           {
            "colorbar": {
             "outlinewidth": 0,
             "ticks": ""
            },
            "colorscale": [
             [
              0,
              "#0d0887"
             ],
             [
              0.1111111111111111,
              "#46039f"
             ],
             [
              0.2222222222222222,
              "#7201a8"
             ],
             [
              0.3333333333333333,
              "#9c179e"
             ],
             [
              0.4444444444444444,
              "#bd3786"
             ],
             [
              0.5555555555555556,
              "#d8576b"
             ],
             [
              0.6666666666666666,
              "#ed7953"
             ],
             [
              0.7777777777777778,
              "#fb9f3a"
             ],
             [
              0.8888888888888888,
              "#fdca26"
             ],
             [
              1,
              "#f0f921"
             ]
            ],
            "type": "heatmapgl"
           }
          ],
          "histogram": [
           {
            "marker": {
             "pattern": {
              "fillmode": "overlay",
              "size": 10,
              "solidity": 0.2
             }
            },
            "type": "histogram"
           }
          ],
          "histogram2d": [
           {
            "colorbar": {
             "outlinewidth": 0,
             "ticks": ""
            },
            "colorscale": [
             [
              0,
              "#0d0887"
             ],
             [
              0.1111111111111111,
              "#46039f"
             ],
             [
              0.2222222222222222,
              "#7201a8"
             ],
             [
              0.3333333333333333,
              "#9c179e"
             ],
             [
              0.4444444444444444,
              "#bd3786"
             ],
             [
              0.5555555555555556,
              "#d8576b"
             ],
             [
              0.6666666666666666,
              "#ed7953"
             ],
             [
              0.7777777777777778,
              "#fb9f3a"
             ],
             [
              0.8888888888888888,
              "#fdca26"
             ],
             [
              1,
              "#f0f921"
             ]
            ],
            "type": "histogram2d"
           }
          ],
          "histogram2dcontour": [
           {
            "colorbar": {
             "outlinewidth": 0,
             "ticks": ""
            },
            "colorscale": [
             [
              0,
              "#0d0887"
             ],
             [
              0.1111111111111111,
              "#46039f"
             ],
             [
              0.2222222222222222,
              "#7201a8"
             ],
             [
              0.3333333333333333,
              "#9c179e"
             ],
             [
              0.4444444444444444,
              "#bd3786"
             ],
             [
              0.5555555555555556,
              "#d8576b"
             ],
             [
              0.6666666666666666,
              "#ed7953"
             ],
             [
              0.7777777777777778,
              "#fb9f3a"
             ],
             [
              0.8888888888888888,
              "#fdca26"
             ],
             [
              1,
              "#f0f921"
             ]
            ],
            "type": "histogram2dcontour"
           }
          ],
          "mesh3d": [
           {
            "colorbar": {
             "outlinewidth": 0,
             "ticks": ""
            },
            "type": "mesh3d"
           }
          ],
          "parcoords": [
           {
            "line": {
             "colorbar": {
              "outlinewidth": 0,
              "ticks": ""
             }
            },
            "type": "parcoords"
           }
          ],
          "pie": [
           {
            "automargin": true,
            "type": "pie"
           }
          ],
          "scatter": [
           {
            "marker": {
             "colorbar": {
              "outlinewidth": 0,
              "ticks": ""
             }
            },
            "type": "scatter"
           }
          ],
          "scatter3d": [
           {
            "line": {
             "colorbar": {
              "outlinewidth": 0,
              "ticks": ""
             }
            },
            "marker": {
             "colorbar": {
              "outlinewidth": 0,
              "ticks": ""
             }
            },
            "type": "scatter3d"
           }
          ],
          "scattercarpet": [
           {
            "marker": {
             "colorbar": {
              "outlinewidth": 0,
              "ticks": ""
             }
            },
            "type": "scattercarpet"
           }
          ],
          "scattergeo": [
           {
            "marker": {
             "colorbar": {
              "outlinewidth": 0,
              "ticks": ""
             }
            },
            "type": "scattergeo"
           }
          ],
          "scattergl": [
           {
            "marker": {
             "colorbar": {
              "outlinewidth": 0,
              "ticks": ""
             }
            },
            "type": "scattergl"
           }
          ],
          "scattermapbox": [
           {
            "marker": {
             "colorbar": {
              "outlinewidth": 0,
              "ticks": ""
             }
            },
            "type": "scattermapbox"
           }
          ],
          "scatterpolar": [
           {
            "marker": {
             "colorbar": {
              "outlinewidth": 0,
              "ticks": ""
             }
            },
            "type": "scatterpolar"
           }
          ],
          "scatterpolargl": [
           {
            "marker": {
             "colorbar": {
              "outlinewidth": 0,
              "ticks": ""
             }
            },
            "type": "scatterpolargl"
           }
          ],
          "scatterternary": [
           {
            "marker": {
             "colorbar": {
              "outlinewidth": 0,
              "ticks": ""
             }
            },
            "type": "scatterternary"
           }
          ],
          "surface": [
           {
            "colorbar": {
             "outlinewidth": 0,
             "ticks": ""
            },
            "colorscale": [
             [
              0,
              "#0d0887"
             ],
             [
              0.1111111111111111,
              "#46039f"
             ],
             [
              0.2222222222222222,
              "#7201a8"
             ],
             [
              0.3333333333333333,
              "#9c179e"
             ],
             [
              0.4444444444444444,
              "#bd3786"
             ],
             [
              0.5555555555555556,
              "#d8576b"
             ],
             [
              0.6666666666666666,
              "#ed7953"
             ],
             [
              0.7777777777777778,
              "#fb9f3a"
             ],
             [
              0.8888888888888888,
              "#fdca26"
             ],
             [
              1,
              "#f0f921"
             ]
            ],
            "type": "surface"
           }
          ],
          "table": [
           {
            "cells": {
             "fill": {
              "color": "#EBF0F8"
             },
             "line": {
              "color": "white"
             }
            },
            "header": {
             "fill": {
              "color": "#C8D4E3"
             },
             "line": {
              "color": "white"
             }
            },
            "type": "table"
           }
          ]
         },
         "layout": {
          "annotationdefaults": {
           "arrowcolor": "#2a3f5f",
           "arrowhead": 0,
           "arrowwidth": 1
          },
          "autotypenumbers": "strict",
          "coloraxis": {
           "colorbar": {
            "outlinewidth": 0,
            "ticks": ""
           }
          },
          "colorscale": {
           "diverging": [
            [
             0,
             "#8e0152"
            ],
            [
             0.1,
             "#c51b7d"
            ],
            [
             0.2,
             "#de77ae"
            ],
            [
             0.3,
             "#f1b6da"
            ],
            [
             0.4,
             "#fde0ef"
            ],
            [
             0.5,
             "#f7f7f7"
            ],
            [
             0.6,
             "#e6f5d0"
            ],
            [
             0.7,
             "#b8e186"
            ],
            [
             0.8,
             "#7fbc41"
            ],
            [
             0.9,
             "#4d9221"
            ],
            [
             1,
             "#276419"
            ]
           ],
           "sequential": [
            [
             0,
             "#0d0887"
            ],
            [
             0.1111111111111111,
             "#46039f"
            ],
            [
             0.2222222222222222,
             "#7201a8"
            ],
            [
             0.3333333333333333,
             "#9c179e"
            ],
            [
             0.4444444444444444,
             "#bd3786"
            ],
            [
             0.5555555555555556,
             "#d8576b"
            ],
            [
             0.6666666666666666,
             "#ed7953"
            ],
            [
             0.7777777777777778,
             "#fb9f3a"
            ],
            [
             0.8888888888888888,
             "#fdca26"
            ],
            [
             1,
             "#f0f921"
            ]
           ],
           "sequentialminus": [
            [
             0,
             "#0d0887"
            ],
            [
             0.1111111111111111,
             "#46039f"
            ],
            [
             0.2222222222222222,
             "#7201a8"
            ],
            [
             0.3333333333333333,
             "#9c179e"
            ],
            [
             0.4444444444444444,
             "#bd3786"
            ],
            [
             0.5555555555555556,
             "#d8576b"
            ],
            [
             0.6666666666666666,
             "#ed7953"
            ],
            [
             0.7777777777777778,
             "#fb9f3a"
            ],
            [
             0.8888888888888888,
             "#fdca26"
            ],
            [
             1,
             "#f0f921"
            ]
           ]
          },
          "colorway": [
           "#636efa",
           "#EF553B",
           "#00cc96",
           "#ab63fa",
           "#FFA15A",
           "#19d3f3",
           "#FF6692",
           "#B6E880",
           "#FF97FF",
           "#FECB52"
          ],
          "font": {
           "color": "#2a3f5f"
          },
          "geo": {
           "bgcolor": "white",
           "lakecolor": "white",
           "landcolor": "#E5ECF6",
           "showlakes": true,
           "showland": true,
           "subunitcolor": "white"
          },
          "hoverlabel": {
           "align": "left"
          },
          "hovermode": "closest",
          "mapbox": {
           "style": "light"
          },
          "paper_bgcolor": "white",
          "plot_bgcolor": "#E5ECF6",
          "polar": {
           "angularaxis": {
            "gridcolor": "white",
            "linecolor": "white",
            "ticks": ""
           },
           "bgcolor": "#E5ECF6",
           "radialaxis": {
            "gridcolor": "white",
            "linecolor": "white",
            "ticks": ""
           }
          },
          "scene": {
           "xaxis": {
            "backgroundcolor": "#E5ECF6",
            "gridcolor": "white",
            "gridwidth": 2,
            "linecolor": "white",
            "showbackground": true,
            "ticks": "",
            "zerolinecolor": "white"
           },
           "yaxis": {
            "backgroundcolor": "#E5ECF6",
            "gridcolor": "white",
            "gridwidth": 2,
            "linecolor": "white",
            "showbackground": true,
            "ticks": "",
            "zerolinecolor": "white"
           },
           "zaxis": {
            "backgroundcolor": "#E5ECF6",
            "gridcolor": "white",
            "gridwidth": 2,
            "linecolor": "white",
            "showbackground": true,
            "ticks": "",
            "zerolinecolor": "white"
           }
          },
          "shapedefaults": {
           "line": {
            "color": "#2a3f5f"
           }
          },
          "ternary": {
           "aaxis": {
            "gridcolor": "white",
            "linecolor": "white",
            "ticks": ""
           },
           "baxis": {
            "gridcolor": "white",
            "linecolor": "white",
            "ticks": ""
           },
           "bgcolor": "#E5ECF6",
           "caxis": {
            "gridcolor": "white",
            "linecolor": "white",
            "ticks": ""
           }
          },
          "title": {
           "x": 0.05
          },
          "xaxis": {
           "automargin": true,
           "gridcolor": "white",
           "linecolor": "white",
           "ticks": "",
           "title": {
            "standoff": 15
           },
           "zerolinecolor": "white",
           "zerolinewidth": 2
          },
          "yaxis": {
           "automargin": true,
           "gridcolor": "white",
           "linecolor": "white",
           "ticks": "",
           "title": {
            "standoff": 15
           },
           "zerolinecolor": "white",
           "zerolinewidth": 2
          }
         }
        },
        "xaxis": {
         "anchor": "y",
         "domain": [
          0,
          1
         ],
         "title": {
          "text": "index"
         }
        },
        "yaxis": {
         "anchor": "x",
         "domain": [
          0,
          1
         ],
         "title": {
          "text": "value"
         }
        }
       }
      }
     },
     "metadata": {},
     "output_type": "display_data"
    }
   ],
   "source": [
    "import plotly.express as px\n",
    "\n",
    "fig = px.line(dfxg_homexg_complete_game.mean().diff())\n",
    "fig.show()"
   ]
  },
  {
   "cell_type": "code",
   "execution_count": 25,
   "metadata": {},
   "outputs": [
    {
     "data": {
      "application/vnd.plotly.v1+json": {
       "config": {
        "plotlyServerURL": "https://plot.ly"
       },
       "data": [
        {
         "hovertemplate": "variable=0<br>index=%{x}<br>value=%{y}<extra></extra>",
         "legendgroup": "0",
         "line": {
          "color": "#636efa",
          "dash": "solid"
         },
         "marker": {
          "symbol": "circle"
         },
         "mode": "lines",
         "name": "0",
         "orientation": "v",
         "showlegend": true,
         "type": "scatter",
         "x": [
          0,
          1,
          2,
          3,
          4,
          5,
          6,
          7,
          8,
          9,
          10,
          11,
          12,
          13,
          14,
          15,
          16,
          17,
          18,
          19,
          20,
          21,
          22,
          23,
          24,
          25,
          26,
          27,
          28,
          29,
          30,
          31,
          32,
          33,
          34,
          35,
          36,
          37,
          38,
          39,
          40,
          41,
          42,
          43,
          44,
          45,
          46,
          47,
          48,
          49,
          50,
          51,
          52,
          53,
          54,
          55,
          56,
          57,
          58,
          59,
          60,
          61,
          62,
          63,
          64,
          65,
          66,
          67,
          68,
          69,
          70,
          71,
          72,
          73,
          74,
          75,
          76,
          77,
          78,
          79,
          80,
          81,
          82,
          83,
          84,
          85,
          86,
          87,
          88,
          89,
          90,
          91,
          92,
          93,
          94,
          95,
          96,
          97
         ],
         "xaxis": "x",
         "y": [
          null,
          0.001842105263157895,
          0.04789473684210527,
          0.015000000000000001,
          0.02921052631578947,
          0.02631578947368421,
          0.0060526315789473685,
          0.016578947368421054,
          0.006578947368421052,
          0.017105263157894738,
          0.018421052631578946,
          0.015,
          0.011842105263157897,
          0.0015789473684210526,
          0.0023684210526315787,
          0.024210526315789474,
          0.021315789473684208,
          0.03473684210526316,
          0.002368421052631581,
          0.022894736842105266,
          0.015526315789473683,
          0.009473684210526318,
          0.021842105263157892,
          0.008947368421052627,
          0.0418421052631579,
          0.007105263157894737,
          0.04789473684210526,
          0.026052631578947362,
          0.01342105263157895,
          0.019736842105263157,
          0.01789473684210527,
          0.05105263157894737,
          0.005263157894736842,
          0.01578947368421053,
          0.018684210526315796,
          0.022368421052631583,
          0.0031578947368421065,
          0.014210526315789469,
          0.006842105263157898,
          0.023421052631578933,
          0.023947368421052634,
          0.011842105263157909,
          0.01973684210526316,
          0.029473684210526308,
          0.014210526315789469,
          0.01684210526315789,
          0.01026315789473684,
          0.01842105263157894,
          0.006578947368421051,
          0.0010526315789473751,
          0.060000000000000005,
          0.004210526315789468,
          0.010000000000000009,
          0.011578947368421057,
          0.023157894736842103,
          0.014210526315789474,
          0.021578947368421055,
          0.026578947368421046,
          0.03894736842105264,
          0.028947368421052635,
          0.007368421052631577,
          0.026842105263157896,
          0.013684210526315785,
          0.009473684210526313,
          0.015263157894736845,
          0.04052631578947369,
          0.02526315789473685,
          0.004473684210526308,
          0.02394736842105263,
          0.02131578947368421,
          0.027631578947368427,
          0.013684210526315795,
          0.006315789473684208,
          0.01052631578947367,
          0.007368421052631591,
          0.019473684210526317,
          0.0047368421052631565,
          0.017894736842105255,
          0.013684210526315807,
          0.003947368421052627,
          0.009736842105263151,
          0.02578947368421052,
          0.021315789473684215,
          0.04342105263157895,
          0.00631578947368421,
          0.003157894736842114,
          0.014473684210526314,
          0.02131578947368422,
          0.0026315789473684236,
          0.007894736842105256,
          0.032894736842105254,
          0.034814814814814805,
          0.004090909090909104,
          0.006875000000000013,
          0.09222222222222223,
          0,
          0,
          0.08000000000000007
         ],
         "yaxis": "y"
        }
       ],
       "layout": {
        "legend": {
         "title": {
          "text": "variable"
         },
         "tracegroupgap": 0
        },
        "margin": {
         "t": 60
        },
        "template": {
         "data": {
          "bar": [
           {
            "error_x": {
             "color": "#2a3f5f"
            },
            "error_y": {
             "color": "#2a3f5f"
            },
            "marker": {
             "line": {
              "color": "#E5ECF6",
              "width": 0.5
             },
             "pattern": {
              "fillmode": "overlay",
              "size": 10,
              "solidity": 0.2
             }
            },
            "type": "bar"
           }
          ],
          "barpolar": [
           {
            "marker": {
             "line": {
              "color": "#E5ECF6",
              "width": 0.5
             },
             "pattern": {
              "fillmode": "overlay",
              "size": 10,
              "solidity": 0.2
             }
            },
            "type": "barpolar"
           }
          ],
          "carpet": [
           {
            "aaxis": {
             "endlinecolor": "#2a3f5f",
             "gridcolor": "white",
             "linecolor": "white",
             "minorgridcolor": "white",
             "startlinecolor": "#2a3f5f"
            },
            "baxis": {
             "endlinecolor": "#2a3f5f",
             "gridcolor": "white",
             "linecolor": "white",
             "minorgridcolor": "white",
             "startlinecolor": "#2a3f5f"
            },
            "type": "carpet"
           }
          ],
          "choropleth": [
           {
            "colorbar": {
             "outlinewidth": 0,
             "ticks": ""
            },
            "type": "choropleth"
           }
          ],
          "contour": [
           {
            "colorbar": {
             "outlinewidth": 0,
             "ticks": ""
            },
            "colorscale": [
             [
              0,
              "#0d0887"
             ],
             [
              0.1111111111111111,
              "#46039f"
             ],
             [
              0.2222222222222222,
              "#7201a8"
             ],
             [
              0.3333333333333333,
              "#9c179e"
             ],
             [
              0.4444444444444444,
              "#bd3786"
             ],
             [
              0.5555555555555556,
              "#d8576b"
             ],
             [
              0.6666666666666666,
              "#ed7953"
             ],
             [
              0.7777777777777778,
              "#fb9f3a"
             ],
             [
              0.8888888888888888,
              "#fdca26"
             ],
             [
              1,
              "#f0f921"
             ]
            ],
            "type": "contour"
           }
          ],
          "contourcarpet": [
           {
            "colorbar": {
             "outlinewidth": 0,
             "ticks": ""
            },
            "type": "contourcarpet"
           }
          ],
          "heatmap": [
           {
            "colorbar": {
             "outlinewidth": 0,
             "ticks": ""
            },
            "colorscale": [
             [
              0,
              "#0d0887"
             ],
             [
              0.1111111111111111,
              "#46039f"
             ],
             [
              0.2222222222222222,
              "#7201a8"
             ],
             [
              0.3333333333333333,
              "#9c179e"
             ],
             [
              0.4444444444444444,
              "#bd3786"
             ],
             [
              0.5555555555555556,
              "#d8576b"
             ],
             [
              0.6666666666666666,
              "#ed7953"
             ],
             [
              0.7777777777777778,
              "#fb9f3a"
             ],
             [
              0.8888888888888888,
              "#fdca26"
             ],
             [
              1,
              "#f0f921"
             ]
            ],
            "type": "heatmap"
           }
          ],
          "heatmapgl": [
           {
            "colorbar": {
             "outlinewidth": 0,
             "ticks": ""
            },
            "colorscale": [
             [
              0,
              "#0d0887"
             ],
             [
              0.1111111111111111,
              "#46039f"
             ],
             [
              0.2222222222222222,
              "#7201a8"
             ],
             [
              0.3333333333333333,
              "#9c179e"
             ],
             [
              0.4444444444444444,
              "#bd3786"
             ],
             [
              0.5555555555555556,
              "#d8576b"
             ],
             [
              0.6666666666666666,
              "#ed7953"
             ],
             [
              0.7777777777777778,
              "#fb9f3a"
             ],
             [
              0.8888888888888888,
              "#fdca26"
             ],
             [
              1,
              "#f0f921"
             ]
            ],
            "type": "heatmapgl"
           }
          ],
          "histogram": [
           {
            "marker": {
             "pattern": {
              "fillmode": "overlay",
              "size": 10,
              "solidity": 0.2
             }
            },
            "type": "histogram"
           }
          ],
          "histogram2d": [
           {
            "colorbar": {
             "outlinewidth": 0,
             "ticks": ""
            },
            "colorscale": [
             [
              0,
              "#0d0887"
             ],
             [
              0.1111111111111111,
              "#46039f"
             ],
             [
              0.2222222222222222,
              "#7201a8"
             ],
             [
              0.3333333333333333,
              "#9c179e"
             ],
             [
              0.4444444444444444,
              "#bd3786"
             ],
             [
              0.5555555555555556,
              "#d8576b"
             ],
             [
              0.6666666666666666,
              "#ed7953"
             ],
             [
              0.7777777777777778,
              "#fb9f3a"
             ],
             [
              0.8888888888888888,
              "#fdca26"
             ],
             [
              1,
              "#f0f921"
             ]
            ],
            "type": "histogram2d"
           }
          ],
          "histogram2dcontour": [
           {
            "colorbar": {
             "outlinewidth": 0,
             "ticks": ""
            },
            "colorscale": [
             [
              0,
              "#0d0887"
             ],
             [
              0.1111111111111111,
              "#46039f"
             ],
             [
              0.2222222222222222,
              "#7201a8"
             ],
             [
              0.3333333333333333,
              "#9c179e"
             ],
             [
              0.4444444444444444,
              "#bd3786"
             ],
             [
              0.5555555555555556,
              "#d8576b"
             ],
             [
              0.6666666666666666,
              "#ed7953"
             ],
             [
              0.7777777777777778,
              "#fb9f3a"
             ],
             [
              0.8888888888888888,
              "#fdca26"
             ],
             [
              1,
              "#f0f921"
             ]
            ],
            "type": "histogram2dcontour"
           }
          ],
          "mesh3d": [
           {
            "colorbar": {
             "outlinewidth": 0,
             "ticks": ""
            },
            "type": "mesh3d"
           }
          ],
          "parcoords": [
           {
            "line": {
             "colorbar": {
              "outlinewidth": 0,
              "ticks": ""
             }
            },
            "type": "parcoords"
           }
          ],
          "pie": [
           {
            "automargin": true,
            "type": "pie"
           }
          ],
          "scatter": [
           {
            "marker": {
             "colorbar": {
              "outlinewidth": 0,
              "ticks": ""
             }
            },
            "type": "scatter"
           }
          ],
          "scatter3d": [
           {
            "line": {
             "colorbar": {
              "outlinewidth": 0,
              "ticks": ""
             }
            },
            "marker": {
             "colorbar": {
              "outlinewidth": 0,
              "ticks": ""
             }
            },
            "type": "scatter3d"
           }
          ],
          "scattercarpet": [
           {
            "marker": {
             "colorbar": {
              "outlinewidth": 0,
              "ticks": ""
             }
            },
            "type": "scattercarpet"
           }
          ],
          "scattergeo": [
           {
            "marker": {
             "colorbar": {
              "outlinewidth": 0,
              "ticks": ""
             }
            },
            "type": "scattergeo"
           }
          ],
          "scattergl": [
           {
            "marker": {
             "colorbar": {
              "outlinewidth": 0,
              "ticks": ""
             }
            },
            "type": "scattergl"
           }
          ],
          "scattermapbox": [
           {
            "marker": {
             "colorbar": {
              "outlinewidth": 0,
              "ticks": ""
             }
            },
            "type": "scattermapbox"
           }
          ],
          "scatterpolar": [
           {
            "marker": {
             "colorbar": {
              "outlinewidth": 0,
              "ticks": ""
             }
            },
            "type": "scatterpolar"
           }
          ],
          "scatterpolargl": [
           {
            "marker": {
             "colorbar": {
              "outlinewidth": 0,
              "ticks": ""
             }
            },
            "type": "scatterpolargl"
           }
          ],
          "scatterternary": [
           {
            "marker": {
             "colorbar": {
              "outlinewidth": 0,
              "ticks": ""
             }
            },
            "type": "scatterternary"
           }
          ],
          "surface": [
           {
            "colorbar": {
             "outlinewidth": 0,
             "ticks": ""
            },
            "colorscale": [
             [
              0,
              "#0d0887"
             ],
             [
              0.1111111111111111,
              "#46039f"
             ],
             [
              0.2222222222222222,
              "#7201a8"
             ],
             [
              0.3333333333333333,
              "#9c179e"
             ],
             [
              0.4444444444444444,
              "#bd3786"
             ],
             [
              0.5555555555555556,
              "#d8576b"
             ],
             [
              0.6666666666666666,
              "#ed7953"
             ],
             [
              0.7777777777777778,
              "#fb9f3a"
             ],
             [
              0.8888888888888888,
              "#fdca26"
             ],
             [
              1,
              "#f0f921"
             ]
            ],
            "type": "surface"
           }
          ],
          "table": [
           {
            "cells": {
             "fill": {
              "color": "#EBF0F8"
             },
             "line": {
              "color": "white"
             }
            },
            "header": {
             "fill": {
              "color": "#C8D4E3"
             },
             "line": {
              "color": "white"
             }
            },
            "type": "table"
           }
          ]
         },
         "layout": {
          "annotationdefaults": {
           "arrowcolor": "#2a3f5f",
           "arrowhead": 0,
           "arrowwidth": 1
          },
          "autotypenumbers": "strict",
          "coloraxis": {
           "colorbar": {
            "outlinewidth": 0,
            "ticks": ""
           }
          },
          "colorscale": {
           "diverging": [
            [
             0,
             "#8e0152"
            ],
            [
             0.1,
             "#c51b7d"
            ],
            [
             0.2,
             "#de77ae"
            ],
            [
             0.3,
             "#f1b6da"
            ],
            [
             0.4,
             "#fde0ef"
            ],
            [
             0.5,
             "#f7f7f7"
            ],
            [
             0.6,
             "#e6f5d0"
            ],
            [
             0.7,
             "#b8e186"
            ],
            [
             0.8,
             "#7fbc41"
            ],
            [
             0.9,
             "#4d9221"
            ],
            [
             1,
             "#276419"
            ]
           ],
           "sequential": [
            [
             0,
             "#0d0887"
            ],
            [
             0.1111111111111111,
             "#46039f"
            ],
            [
             0.2222222222222222,
             "#7201a8"
            ],
            [
             0.3333333333333333,
             "#9c179e"
            ],
            [
             0.4444444444444444,
             "#bd3786"
            ],
            [
             0.5555555555555556,
             "#d8576b"
            ],
            [
             0.6666666666666666,
             "#ed7953"
            ],
            [
             0.7777777777777778,
             "#fb9f3a"
            ],
            [
             0.8888888888888888,
             "#fdca26"
            ],
            [
             1,
             "#f0f921"
            ]
           ],
           "sequentialminus": [
            [
             0,
             "#0d0887"
            ],
            [
             0.1111111111111111,
             "#46039f"
            ],
            [
             0.2222222222222222,
             "#7201a8"
            ],
            [
             0.3333333333333333,
             "#9c179e"
            ],
            [
             0.4444444444444444,
             "#bd3786"
            ],
            [
             0.5555555555555556,
             "#d8576b"
            ],
            [
             0.6666666666666666,
             "#ed7953"
            ],
            [
             0.7777777777777778,
             "#fb9f3a"
            ],
            [
             0.8888888888888888,
             "#fdca26"
            ],
            [
             1,
             "#f0f921"
            ]
           ]
          },
          "colorway": [
           "#636efa",
           "#EF553B",
           "#00cc96",
           "#ab63fa",
           "#FFA15A",
           "#19d3f3",
           "#FF6692",
           "#B6E880",
           "#FF97FF",
           "#FECB52"
          ],
          "font": {
           "color": "#2a3f5f"
          },
          "geo": {
           "bgcolor": "white",
           "lakecolor": "white",
           "landcolor": "#E5ECF6",
           "showlakes": true,
           "showland": true,
           "subunitcolor": "white"
          },
          "hoverlabel": {
           "align": "left"
          },
          "hovermode": "closest",
          "mapbox": {
           "style": "light"
          },
          "paper_bgcolor": "white",
          "plot_bgcolor": "#E5ECF6",
          "polar": {
           "angularaxis": {
            "gridcolor": "white",
            "linecolor": "white",
            "ticks": ""
           },
           "bgcolor": "#E5ECF6",
           "radialaxis": {
            "gridcolor": "white",
            "linecolor": "white",
            "ticks": ""
           }
          },
          "scene": {
           "xaxis": {
            "backgroundcolor": "#E5ECF6",
            "gridcolor": "white",
            "gridwidth": 2,
            "linecolor": "white",
            "showbackground": true,
            "ticks": "",
            "zerolinecolor": "white"
           },
           "yaxis": {
            "backgroundcolor": "#E5ECF6",
            "gridcolor": "white",
            "gridwidth": 2,
            "linecolor": "white",
            "showbackground": true,
            "ticks": "",
            "zerolinecolor": "white"
           },
           "zaxis": {
            "backgroundcolor": "#E5ECF6",
            "gridcolor": "white",
            "gridwidth": 2,
            "linecolor": "white",
            "showbackground": true,
            "ticks": "",
            "zerolinecolor": "white"
           }
          },
          "shapedefaults": {
           "line": {
            "color": "#2a3f5f"
           }
          },
          "ternary": {
           "aaxis": {
            "gridcolor": "white",
            "linecolor": "white",
            "ticks": ""
           },
           "baxis": {
            "gridcolor": "white",
            "linecolor": "white",
            "ticks": ""
           },
           "bgcolor": "#E5ECF6",
           "caxis": {
            "gridcolor": "white",
            "linecolor": "white",
            "ticks": ""
           }
          },
          "title": {
           "x": 0.05
          },
          "xaxis": {
           "automargin": true,
           "gridcolor": "white",
           "linecolor": "white",
           "ticks": "",
           "title": {
            "standoff": 15
           },
           "zerolinecolor": "white",
           "zerolinewidth": 2
          },
          "yaxis": {
           "automargin": true,
           "gridcolor": "white",
           "linecolor": "white",
           "ticks": "",
           "title": {
            "standoff": 15
           },
           "zerolinecolor": "white",
           "zerolinewidth": 2
          }
         }
        },
        "xaxis": {
         "anchor": "y",
         "domain": [
          0,
          1
         ],
         "title": {
          "text": "index"
         }
        },
        "yaxis": {
         "anchor": "x",
         "domain": [
          0,
          1
         ],
         "title": {
          "text": "value"
         }
        }
       }
      }
     },
     "metadata": {},
     "output_type": "display_data"
    }
   ],
   "source": [
    "fig = px.line(dfxg_homexg_complete_game.mean())\n",
    "fig.show()"
   ]
  },
  {
   "cell_type": "code",
   "execution_count": 26,
   "metadata": {},
   "outputs": [
    {
     "name": "stdout",
     "output_type": "stream",
     "text": [
      "Index(['Home', 'Opponent', 'R', 'G-H', 'G-A', 'BP-H', 'BP-A', 'GA-H', 'GA-A',\n",
      "       'SoG-H', 'SoG-A', 'SoffG-H', 'SoffG-A', 'FK-H', 'FK-A', 'C-H', 'C-A',\n",
      "       'Off-H', 'Off-A', 'GoKeSa-H', 'GoKeSa-A', 'F-H', 'F-A', 'Round', 'Date',\n",
      "       'IsHome', 'xG', 'GOALS', 'xPTS', 'A_xG', 'A_GOALS', 'A_xPTS',\n",
      "       'xg_halftime', 'Axg_halftime', 'homexg_complete_game',\n",
      "       'awayxg_complete_game', '1x2', 'GoalDiff', 'BPTypes', 'timestamp',\n",
      "       'SoG-H-SoG-A', 'SoG-A-SoG-H', 'halftime', 'Halftime result'],\n",
      "      dtype='object')\n",
      "    xG  A_xG  xg_halftime  Axg_halftime halftime          Opponent  \\\n",
      "0  1.0   1.9          0.2           0.4        0         Brentford   \n",
      "1  1.0   1.9          0.2           0.4        0         Brentford   \n",
      "2  0.6   3.6          0.1           2.0        0           Chelsea   \n",
      "3  0.6   3.6          0.1           2.0        0           Chelsea   \n",
      "4  0.1   4.5          0.1           1.6        0   Manchester City   \n",
      "..  ..   ...          ...           ...      ...               ...   \n",
      "71 0.4   3.4          0.2           2.2        0         Tottenham   \n",
      "72 0.5   1.7          0.3           0.2        0  Newcastle United   \n",
      "73 0.5   1.7          0.3           0.2        0  Newcastle United   \n",
      "74 4.4   1.1          3.4           0.1        0           Everton   \n",
      "75 4.4   1.1          3.4           0.1        0           Everton   \n",
      "\n",
      "   Halftime result   timestamp  \n",
      "0             Loss  1628856000  \n",
      "1             Loss  1628856000  \n",
      "2             Draw  1629621000  \n",
      "3             Loss  1629621000  \n",
      "4             Loss  1630125000  \n",
      "..             ...         ...  \n",
      "71            Loss  1652388300  \n",
      "72            Loss  1652734800  \n",
      "73            Draw  1652734800  \n",
      "74             Win  1653238800  \n",
      "75             Win  1653238800  \n",
      "\n",
      "[76 rows x 8 columns]\n",
      "    xG  A_xG  xg_halftime  Axg_halftime halftime          Opponent  \\\n",
      "0  1.0   1.9          0.2           0.4        0         Brentford   \n",
      "1  1.0   1.9          0.2           0.4        0         Brentford   \n",
      "2  0.6   3.6          0.1           2.0        0           Chelsea   \n",
      "3  0.6   3.6          0.1           2.0        0           Chelsea   \n",
      "4  0.1   4.5          0.1           1.6        0   Manchester City   \n",
      "..  ..   ...          ...           ...      ...               ...   \n",
      "71 0.4   3.4          0.2           2.2        0         Tottenham   \n",
      "72 0.5   1.7          0.3           0.2        0  Newcastle United   \n",
      "73 0.5   1.7          0.3           0.2        0  Newcastle United   \n",
      "74 4.4   1.1          3.4           0.1        0           Everton   \n",
      "75 4.4   1.1          3.4           0.1        0           Everton   \n",
      "\n",
      "   Halftime result   timestamp  \n",
      "0             Loss  1628856000  \n",
      "1             Loss  1628856000  \n",
      "2             Draw  1629621000  \n",
      "3             Loss  1629621000  \n",
      "4             Loss  1630125000  \n",
      "..             ...         ...  \n",
      "71            Loss  1652388300  \n",
      "72            Loss  1652734800  \n",
      "73            Draw  1652734800  \n",
      "74             Win  1653238800  \n",
      "75             Win  1653238800  \n",
      "\n",
      "[76 rows x 8 columns]\n",
      "Empty DataFrame\n",
      "Columns: [IsHome, xG, A_xG, xg_halftime, Axg_halftime, halftime, Opponent, Halftime result, timestamp]\n",
      "Index: []\n",
      "Empty DataFrame\n",
      "Columns: [IsHome, xG, A_xG, xg_halftime, Axg_halftime, halftime, Opponent, Halftime result, timestamp]\n",
      "Index: []\n"
     ]
    },
    {
     "data": {
      "text/plain": [
       "DeltaGenerator(_root_container=0, _provided_cursor=None, _parent=None, _block_type=None, _form_data=None)"
      ]
     },
     "execution_count": 26,
     "metadata": {},
     "output_type": "execute_result"
    }
   ],
   "source": [
    "\n",
    "\n",
    "\n",
    "# create df for visualizing\n",
    "df4CompleteGraph = df4Complete.copy()\n",
    "\n",
    "df4CompleteGraph[\"SoG-H-SoG-A\"] = df4CompleteGraph[\"SoG-H\"] - \\\n",
    "    df4CompleteGraph[\"SoG-A\"]\n",
    "df4CompleteGraph[\"SoG-H-SoG-A\"] = df4CompleteGraph[\"SoG-H-SoG-A\"].clip(\n",
    "    lower=0)\n",
    "\n",
    "df4CompleteGraph[\"SoG-A-SoG-H\"] = df4CompleteGraph[\"SoG-A\"] - \\\n",
    "    df4CompleteGraph[\"SoG-H\"]\n",
    "df4CompleteGraph[\"SoG-A-SoG-H\"] = df4CompleteGraph[\"SoG-A-SoG-H\"].clip(\n",
    "    lower=0)\n",
    "\n",
    "figScatter = px.scatter(\n",
    "    df4CompleteGraph,  # .query(f'Date.between{end_date}'),\n",
    "    x='BP-H',\n",
    "    y='GoalDiff',\n",
    "    marginal_x=\"histogram\",\n",
    "    color=\"timestamp\",\n",
    "    size=\"SoG-H-SoG-A\",\n",
    "    text=\"Opponent\",\n",
    "    width=widthfig,\n",
    "    # height=heightfig,\n",
    "    # title=\"SoGH-SoGA - Halftimes\",\n",
    "    # color_continuous_scale= 'Viridis',\n",
    "    # color_discrete_map={\"W\": \"green\", \"D\": \"gray\", \"L\": \"red\"}\n",
    "\n",
    "    # facet_row=\"time\", # makes seperate plot for value\n",
    "    # marginal_x=\"histogram\",\n",
    ").update_traces(textposition='top center', marker_symbol=\"cross\", selector={'type': 'scatter'}).update_traces(\n",
    "    marker=dict(color='green'), selector={'type': 'histogram'}\n",
    ")\n",
    "figScatter.update_xaxes(range=[5, 95])\n",
    "figScatter.update_layout(\n",
    "    title_text='All halftimes: Shots on Goal - Shots on Goal Opponent', title_x=0.5,\n",
    "    yaxis=dict(\n",
    "        tickmode='linear',\n",
    "        tick0=1,\n",
    "        dtick=1,\n",
    "        title=\"Goal difference\"\n",
    "    ))\n",
    "\n",
    "figScatter1 = px.scatter(\n",
    "    df4CompleteGraph,  # .query(f'Date.between{end_date}'),\n",
    "    x='BP-H',\n",
    "    y='GoalDiff',\n",
    "    marginal_x=\"histogram\",\n",
    "    color=\"timestamp\",\n",
    "    size=\"SoG-A-SoG-H\",\n",
    "    text=\"Opponent\",\n",
    "    width=widthfig,\n",
    "    # height=heightfig,\n",
    "    title=\"SoGA-SoGH - Halftimes\",\n",
    "    # color_discrete_map={\"W\": \"green\", \"D\": \"gray\", \"L\": \"red\"}\n",
    "\n",
    "    # facet_row=\"time\", # makes seperate plot for value\n",
    "    # marginal_x=\"histogram\",\n",
    ").update_traces(\n",
    "    textposition='top center', selector={'type': 'scatter'}).update_traces(\n",
    "        marker=dict(color='red'), selector={'type': 'histogram'}\n",
    ")\n",
    "figScatter1.update_xaxes(range=[5, 95])\n",
    "figScatter1.update_layout(\n",
    "    title_text='All halftimes: Shots on Goal Opponent - Shots on Goal', title_x=0.5,\n",
    "    yaxis=dict(\n",
    "        tickmode='linear',\n",
    "        tick0=1,\n",
    "        dtick=1,\n",
    "        title=\"Goal difference\"\n",
    "    )\n",
    ")\n",
    "\n",
    "\n",
    "# wie oft passierts das team hinten ist und noch gewinnt / nicht verliert:´\n",
    "# sortier nach sieg x loss\n",
    "# mach diagramm halftimes für 1te und 2te hz\n",
    "\n",
    "# delete games where there is no two halftimes!\n",
    "df4CompleteGraph = df4CompleteGraph[df4CompleteGraph.groupby(\n",
    "    'Opponent')['Opponent'].transform('size') >= 2]\n",
    "df4CompleteGraph = df4CompleteGraph.sort_index()\n",
    "# second half is second entry always!\n",
    "df4CompleteGraph[\"halftime\"] = \"0\"\n",
    "df4CompleteGraph.iloc[::2][\"halftime\"] = \"2\"\n",
    "df4CompleteGraph.iloc[1::2][\"halftime\"] = \"1\"\n",
    "\n",
    "figScatter5 = px.scatter(\n",
    "    # .query(f'Date.between{end_date}'),\n",
    "    df4CompleteGraph[df4CompleteGraph[\"halftime\"] == \"1\"],\n",
    "    x='BP-H',\n",
    "    y='GoalDiff',\n",
    "    size=\"SoG-H-SoG-A\",\n",
    "    text=\"Opponent\",\n",
    "    width=widthfig,\n",
    "    # height=heightfig,\n",
    "    # color_continuous_scale= 'Viridis',\n",
    "    # facet_row=\"time\", # makes seperate plot for value\n",
    "    marginal_x=\"histogram\",\n",
    ").update_traces(textposition='top center', marker_symbol=\"cross\", marker=dict(\n",
    "    color='green'), selector={'type': 'scatter'}\n",
    ").update_traces(marker=dict(\n",
    "    color='green'), selector={'type': 'histogram'}\n",
    ")\n",
    "\n",
    "figScatter5.update_xaxes(range=[5, 95])\n",
    "figScatter5.update_layout(\n",
    "    title_text='Halftime 1: Shots on Goal - Shots on Goal Opponent', title_x=0.5,\n",
    "    yaxis=dict(\n",
    "        tickmode='linear',\n",
    "        tick0=1,\n",
    "        dtick=1,\n",
    "        title=\"Goal difference\"\n",
    "    ))\n",
    "\n",
    "\n",
    "figScatter6 = px.scatter(\n",
    "    # .query(f'Date.between{end_date}'),\n",
    "    df4CompleteGraph[df4CompleteGraph[\"halftime\"] == \"1\"],\n",
    "    x='BP-H',\n",
    "    y='GoalDiff',\n",
    "    size=\"SoG-A-SoG-H\",\n",
    "    text=\"Opponent\",\n",
    "    width=widthfig,\n",
    "    # height=heightfig,\n",
    "    # color_continuous_scale= 'Viridis',\n",
    "    # facet_row=\"time\", # makes seperate plot for value\n",
    "    marginal_x=\"histogram\",\n",
    ").update_traces(textposition='top center', marker=dict(\n",
    "    color='red'), selector={'type': 'scatter'}\n",
    ").update_traces(marker=dict(\n",
    "    color='red'), selector={'type': 'histogram'}\n",
    ")\n",
    "\n",
    "figScatter6.update_xaxes(range=[5, 95])\n",
    "figScatter6.update_layout(\n",
    "    title_text='Halftime 1: Shots on Goal Opponent - Shots on Goal', title_x=0.5,\n",
    "    yaxis=dict(\n",
    "        tickmode='linear',\n",
    "        tick0=1,\n",
    "        dtick=1,\n",
    "        title=\"Goal difference\"\n",
    "    ))\n",
    "\n",
    "\n",
    "figScatter7 = px.scatter(\n",
    "    # .query(f'Date.between{end_date}'),\n",
    "    df4CompleteGraph[df4CompleteGraph[\"halftime\"] == \"2\"],\n",
    "    x='BP-H',\n",
    "    y='GoalDiff',\n",
    "    marginal_x=\"histogram\",\n",
    "    size=\"SoG-H-SoG-A\",\n",
    "    text=\"Opponent\",\n",
    "    width=widthfig,\n",
    "    # height=heightfig,\n",
    "    # color_continuous_scale= 'Viridis',\n",
    "    # facet_row=\"time\", # makes seperate plot for value\n",
    "\n",
    ").update_traces(textposition='top center', marker_symbol=\"cross\", marker=dict(\n",
    "    color='green'), selector={'type': 'scatter'}\n",
    ").update_traces(marker=dict(\n",
    "    color='green'), selector={'type': 'histogram'}\n",
    ")\n",
    "\n",
    "figScatter7.update_xaxes(range=[5, 95])\n",
    "figScatter7.update_layout(\n",
    "    title_text='Halftime 2: Shots on Goal - Shots on Goal Opponent', title_x=0.5,\n",
    "    yaxis=dict(\n",
    "        tickmode='linear',\n",
    "        tick0=1,\n",
    "        dtick=1,\n",
    "        title=\"Goal difference\"\n",
    "    )\n",
    ")\n",
    "\n",
    "\n",
    "figScatter8 = px.scatter(\n",
    "    # .query(f'Date.between{end_date}'),\n",
    "    df4CompleteGraph[df4CompleteGraph[\"halftime\"] == \"2\"],\n",
    "    x='BP-H',\n",
    "    y='GoalDiff',\n",
    "    marginal_x=\"histogram\",\n",
    "    size=\"SoG-A-SoG-H\",\n",
    "    text=\"Opponent\",\n",
    "    width=widthfig,\n",
    "    # height=heightfig,\n",
    "    # color_continuous_scale= 'Viridis',\n",
    "    # facet_row=\"time\", # makes seperate plot for value\n",
    "    # marginal_x=\"histogram\",\n",
    ").update_traces(textposition='top center', marker=dict(\n",
    "    color='red'), selector={'type': 'scatter'}\n",
    ").update_traces(marker=dict(\n",
    "    color='red'), selector={'type': 'histogram'}\n",
    ")\n",
    "\n",
    "\n",
    "figScatter8.update_xaxes(range=[5, 95])\n",
    "figScatter8.update_layout(\n",
    "    title_text='Halftime 2: Shots on Goal Opponent - Shots on Goal', title_x=0.5,\n",
    "    yaxis=dict(\n",
    "        tickmode='linear',\n",
    "        tick0=1,\n",
    "        dtick=1,\n",
    "        title=\"Goal difference\"\n",
    "    ))\n",
    "\n",
    "\n",
    "naming1x2 = {\"W\": \"Win\", \"D\": \"Draw\", \"L\": \"Loss\"}\n",
    "df4CompleteGraph['Halftime result'] = df4CompleteGraph['1x2'].replace(\n",
    "    naming1x2)\n",
    "\n",
    "try:\n",
    "    highest_count_yaxis = df4CompleteGraph.groupby([\"BPTypes\", \"halftime\"]).agg(\n",
    "        'count').sort_values(\"Opponent\", ascending=False).iloc[0].Home\n",
    "except:\n",
    "    highest_count_yaxis = 0\n",
    "\n",
    "\n",
    "# Create data for histogram 2\n",
    "BarBallpossesionstylesResultsHalftime1 = px.bar(\n",
    "    df4CompleteGraph[df4CompleteGraph[\"halftime\"] == \"1\"],\n",
    "    x='BPTypes',\n",
    "    # text=df4CompleteGraph.index,\n",
    "    # title=\"BP-Styles - Halftimes\",\n",
    "    color='Halftime result',\n",
    "    color_discrete_map={\"Win\": \"green\", \"Draw\": \"gray\", \"Loss\": \"red\"},\n",
    "    width=widthfig,\n",
    "    # height=heightfig,\n",
    "    # opacity=0.5,\n",
    "    text=\"Opponent\",\n",
    ").update_xaxes(categoryorder=\"array\", categoryarray=['<45', '45-55', '>55'],).update_yaxes(\n",
    "    range=[0, highest_count_yaxis])\n",
    "\n",
    "BarBallpossesionstylesResultsHalftime1.update_layout(\n",
    "    title_text='Ballpossesionstyles - results halftime 1', title_x=0.5, xaxis=dict(\n",
    "        tickmode='array', showticklabels=True,\n",
    "    )\n",
    ")\n",
    "\n",
    "# Create data for histogram 2\n",
    "BarBallpossesionstylesResultsHalftime2 = px.bar(\n",
    "    df4CompleteGraph[df4CompleteGraph[\"halftime\"] == \"2\"],\n",
    "    x='BPTypes',\n",
    "    # text=df4CompleteGraph.index,\n",
    "    # title=\"BP-Styles - Halftimes\",\n",
    "    color='Halftime result',\n",
    "    color_discrete_map={\"Win\": \"green\", \"Draw\": \"gray\", \"Loss\": \"red\"},\n",
    "    width=widthfig,\n",
    "    # height=heightfig,\n",
    "    # opacity=0.5,\n",
    "    text=\"Opponent\",\n",
    ").update_xaxes(categoryorder=\"array\", categoryarray=['<45', '45-55', '>55']).update_yaxes(\n",
    "    range=[0, highest_count_yaxis])\n",
    "BarBallpossesionstylesResultsHalftime2.update_layout(\n",
    "    title_text='Ballpossesionstyles - results halftime 2', title_x=0.5, xaxis=dict(\n",
    "        tickmode='array', showticklabels=True,\n",
    "    )\n",
    ")\n",
    "\n",
    "\n",
    "# # create scatterplot with XG - bubble size\n",
    "# df4CompleteGraph = df4Complete.copy()\n",
    "\n",
    "# df4CompleteGraph = convert_hts_to_complete_games(df4CompleteGraph)\n",
    "\n",
    "# # Calculate again the stuff like for the single halftimes before!\n",
    "# # GoalDifference\n",
    "# df4CompleteGraph[\"GoalDiff\"] = df4CompleteGraph[\"G-H\"] - \\\n",
    "#     df4CompleteGraph[\"G-A\"]\n",
    "# df4CompleteGraph = df4CompleteGraph.sort_values(\"Date\",  ascending=False)\n",
    "# # calculate column with 3 Ballposition types\n",
    "# df4CompleteGraph[\"BPTypes\"] = '0'\n",
    "# df4CompleteGraph[\"BPTypes\"] = df4CompleteGraph.apply(\n",
    "#     lambda row: calculate_1x2_BPTypes(row), axis=1, result_type='reduce')\n",
    "# df4CompleteGraph['Date'] = pd.to_datetime(\n",
    "#     df4CompleteGraph['Date'], format=\"%d.%m.%Y %H:%M\")\n",
    "# # convert datetime to timestamp for scatter visualization\n",
    "# df4CompleteGraph['timestamp'] = df4CompleteGraph.Date.astype('int64')//10**9\n",
    "# df4CompleteGraph = df4CompleteGraph.sort_values(\"Date\", ascending=False)\n",
    "# Create data for scatter graph\n",
    "print(df4CompleteGraph.columns)\n",
    "print(df4CompleteGraph[[\"xG\",\"A_xG\", \"xg_halftime\", \"Axg_halftime\",\"halftime\",\"Opponent\",'Halftime result',\"timestamp\"]])\n",
    "\n",
    "df4CompleteGraph.xg_halftime = df4CompleteGraph.xg_halftime.astype(float).fillna(0.0)\n",
    "df4CompleteGraph.Axg_halftime = df4CompleteGraph.Axg_halftime.astype(float).fillna(0.0) \n",
    "\n",
    "# all xg values for both halftimes!\n",
    "df4CompleteGraph[\"xG-A_xG\"] = df4CompleteGraph[\"xG\"] - df4CompleteGraph[\"A_xG\"]\n",
    "df4CompleteGraph[\"A_xG-xG\"] = df4CompleteGraph[\"A_xG\"] - df4CompleteGraph[\"xG\"]\n",
    "# all values for first half\n",
    "df4CompleteGraph[\"xg_halftime-Axg_halftime\"] = df4CompleteGraph[\"xg_halftime\"] - df4CompleteGraph[\"Axg_halftime\"]\n",
    "df4CompleteGraph[\"Axg_halftime-xg_halftime\"] = df4CompleteGraph[\"Axg_halftime\"] - df4CompleteGraph[\"xg_halftime\"]\n",
    "# all values for second half\n",
    "df4CompleteGraph[\"xg_halftime2-Axg_halftime2\"] = df4CompleteGraph[\"xG-A_xG\"] - df4CompleteGraph[\"xg_halftime-Axg_halftime\"]\n",
    "df4CompleteGraph[\"xg_halftime2-Axg_halftime2\"] = df4CompleteGraph[\"xg_halftime2-Axg_halftime2\"].clip(lower=0)\n",
    "df4CompleteGraph[\"xg_halftime2-Axg_halftime2\"] = df4CompleteGraph[\"xg_halftime2-Axg_halftime2\"].round(2)\n",
    "df4CompleteGraph[\"Axg_halftime2-xg_halftime2\"] = df4CompleteGraph[\"xg_halftime-Axg_halftime\"] - df4CompleteGraph[\"xG-A_xG\"]\n",
    "df4CompleteGraph[\"Axg_halftime2-xg_halftime2\"] = df4CompleteGraph[\"Axg_halftime2-xg_halftime2\"].clip(lower=0)\n",
    "df4CompleteGraph[\"Axg_halftime2-xg_halftime2\"] = df4CompleteGraph[\"Axg_halftime2-xg_halftime2\"].round(2)\n",
    "df4CompleteGraph[\"xG-A_xG\"] = df4CompleteGraph[\"xG-A_xG\"].clip(lower=0)\n",
    "df4CompleteGraph[\"xG-A_xG\"] = df4CompleteGraph[\"xG-A_xG\"].round(2)\n",
    "df4CompleteGraph[\"A_xG-xG\"] = df4CompleteGraph[\"A_xG-xG\"].clip(lower=0)\n",
    "df4CompleteGraph[\"A_xG-xG\"] = df4CompleteGraph[\"A_xG-xG\"].round(2)\n",
    "df4CompleteGraph[\"xg_halftime-Axg_halftime\"] = df4CompleteGraph[\"xg_halftime-Axg_halftime\"].clip(lower=0)\n",
    "df4CompleteGraph[\"xg_halftime-Axg_halftime\"] = df4CompleteGraph[\"xg_halftime-Axg_halftime\"].round(2)\n",
    "df4CompleteGraph[\"Axg_halftime-xg_halftime\"] = df4CompleteGraph[\"Axg_halftime-xg_halftime\"].clip(lower=0)\n",
    "df4CompleteGraph[\"Axg_halftime-xg_halftime\"] = df4CompleteGraph[\"Axg_halftime-xg_halftime\"].round(2)\n",
    "\n",
    "\n",
    "print(df4CompleteGraph[[\"xG\",\"A_xG\", \"xg_halftime\", \"Axg_halftime\",\"halftime\",\"Opponent\",'Halftime result',\"timestamp\"]])\n",
    "ht1 = df4CompleteGraph[df4CompleteGraph[\"halftime\"] == \"1\"]\n",
    "print(ht1[[\"IsHome\",\"xG\",\"A_xG\", \"xg_halftime\", \"Axg_halftime\",\"halftime\",\"Opponent\",'Halftime result',\"timestamp\"]])\n",
    "ht2 = df4CompleteGraph[df4CompleteGraph[\"halftime\"] == \"2\"]\n",
    "print(ht2[[\"IsHome\",\"xG\",\"A_xG\", \"xg_halftime\", \"Axg_halftime\",\"halftime\",\"Opponent\",'Halftime result',\"timestamp\"]])\n",
    "\n",
    "figHistogramxG_A_xG_1Ht = px.scatter(\n",
    "    df4CompleteGraph[df4CompleteGraph[\"halftime\"] == \"1\"],  # .query(f'Date.between{end_date}'),\n",
    "    x='BP-H',\n",
    "    y='GoalDiff',\n",
    "    marginal_x=\"histogram\",\n",
    "    color=\"timestamp\",\n",
    "    size=\"xg_halftime-Axg_halftime\",\n",
    "    text=\"Opponent\",\n",
    "    width=widthfig,\n",
    "    # height=heightfig,\n",
    "    # color_continuous_scale= 'Viridis',\n",
    "    # facet_row=\"time\", # makes seperate plot for value\n",
    "    # marginal_x=\"histogram\",\n",
    ").update_traces(textposition='top center', marker_symbol=\"cross\", selector={'type': 'scatter'} ).update_traces(\n",
    "    marker=dict(color='green'), selector={'type': 'histogram'}\n",
    ")\n",
    "figHistogramxG_A_xG_1Ht.update_xaxes(range=[5, 95])\n",
    "figHistogramxG_A_xG_1Ht.update_layout(\n",
    "    title_text='Ht1: Expectedgoals - Expectedgoals Opponent', title_x=0.5,\n",
    "    yaxis=dict(\n",
    "        tickmode='linear',\n",
    "        tick0=1,\n",
    "        dtick=1,\n",
    "        title=\"Goal difference\"\n",
    "    ))\n",
    "\n",
    "figHistogramA_xG_xG_1Ht = px.scatter(\n",
    "    df4CompleteGraph[df4CompleteGraph[\"halftime\"] == \"1\"],  # .query(f'Date.between{end_date}'),\n",
    "    x='BP-H',\n",
    "    y='GoalDiff',\n",
    "    marginal_x=\"histogram\",\n",
    "    color=\"timestamp\",\n",
    "    size=\"Axg_halftime-xg_halftime\",\n",
    "    text=\"Opponent\",\n",
    "    width=widthfig,\n",
    "    # height=heightfig,\n",
    "    # facet_row=\"time\", # makes seperate plot for value\n",
    "    # marginal_x=\"histogram\",\n",
    ").update_traces(textposition='top center', selector={'type': 'scatter'} ).update_traces(\n",
    "    marker=dict(color='red'), selector={'type': 'histogram'}\n",
    ")\n",
    "figHistogramA_xG_xG_1Ht.update_xaxes(range=[5, 95])\n",
    "figHistogramA_xG_xG_1Ht.update_layout(\n",
    "    title_text='Ht1: Expectedgoals Opponent - Expectedgoals', title_x=0.5,\n",
    "    yaxis=dict(\n",
    "        tickmode='linear',\n",
    "        tick0=1,\n",
    "        dtick=1,\n",
    "        title=\"Goal difference\"\n",
    "    ))\n",
    "\n",
    "\n",
    "figHistogramxG_A_xG_2Ht = px.scatter(\n",
    "    df4CompleteGraph[df4CompleteGraph[\"halftime\"] == \"2\"],  # .query(f'Date.between{end_date}'),\n",
    "    x='BP-H',\n",
    "    y='GoalDiff',\n",
    "    marginal_x=\"histogram\",\n",
    "    color=\"timestamp\",\n",
    "    size=\"xg_halftime2-Axg_halftime2\",\n",
    "    text=\"Opponent\",\n",
    "    width=widthfig,\n",
    "    # height=heightfig,\n",
    "    # color_continuous_scale= 'Viridis',\n",
    "    # facet_row=\"time\", # makes seperate plot for value\n",
    "    # marginal_x=\"histogram\",\n",
    ").update_traces(textposition='top center', marker_symbol=\"cross\", selector={'type': 'scatter'} ).update_traces(\n",
    "    marker=dict(color='green'), selector={'type': 'histogram'}\n",
    ")\n",
    "\n",
    "figHistogramxG_A_xG_2Ht.update_xaxes(range=[5, 95])\n",
    "figHistogramxG_A_xG_2Ht.update_layout(\n",
    "    title_text='Ht2: Expectedgoals - Expectedgoals Opponent', title_x=0.5,\n",
    "    yaxis=dict(\n",
    "        tickmode='linear',\n",
    "        tick0=1,\n",
    "        dtick=1,\n",
    "        title=\"Goal difference\"\n",
    "    ))\n",
    "\n",
    "figHistogramA_xG_xG_2Ht = px.scatter(\n",
    "    df4CompleteGraph[df4CompleteGraph[\"halftime\"] == \"2\"],  # .query(f'Date.between{end_date}'),\n",
    "    x='BP-H',\n",
    "    y='GoalDiff',\n",
    "    marginal_x=\"histogram\",\n",
    "    color=\"timestamp\",\n",
    "    size=\"Axg_halftime2-xg_halftime2\",\n",
    "    text=\"Opponent\",\n",
    "    width=widthfig,\n",
    "    # height=heightfig,\n",
    "    # facet_row=\"time\", # makes seperate plot for value\n",
    "    # marginal_x=\"histogram\",\n",
    ").update_traces(textposition='top center', selector={'type': 'scatter'} ).update_traces(\n",
    "    marker=dict(color='red'), selector={'type': 'histogram'}\n",
    ")\n",
    "\n",
    "figHistogramA_xG_xG_2Ht.update_xaxes(range=[5, 95])\n",
    "figHistogramA_xG_xG_2Ht.update_layout(\n",
    "    title_text='Ht2: Expectedgoals Opponent - Expectedgoals', title_x=0.5,\n",
    "    yaxis=dict(\n",
    "        tickmode='linear',\n",
    "        tick0=1,\n",
    "        dtick=1,\n",
    "        title=\"Goal difference\"\n",
    "    ))\n",
    "\n",
    "\n",
    "\n",
    "\n",
    "# Streamlit encourages well-structured code, like starting execution in a main() function.\n",
    "st.title(\"Football statistics - {}\".format(team))\n",
    "st.markdown('The following two diagrams display the new metric Expected Goals (**xGoals**), which is a qualitative measurement on base of the shots on goal.  \\nThe expected goal model shows how high the chance of the goal really was and calculates a value for each completion based on several factors.   \\nF.I. a penalty has generally a probably of 75 % to result in a goal, which would increase the xGoal value for 0.75 regardless of the penalty-outcame in this case.', unsafe_allow_html=False)\n",
    "\n",
    "col1, col2 = st.columns(2)\n",
    "\n",
    "col1.plotly_chart(figHistogramxG_A_xG_1Ht)\n",
    "\n",
    "col2.plotly_chart(figHistogramA_xG_xG_1Ht)\n",
    "\n",
    "col1.plotly_chart(figHistogramxG_A_xG_2Ht)\n",
    "\n",
    "col2.plotly_chart(figHistogramA_xG_xG_2Ht)\n",
    "\n",
    "col1.plotly_chart(figScatter)\n",
    "\n",
    "col2.plotly_chart(figScatter1)\n",
    "\n",
    "col1.plotly_chart(figScatter5)\n",
    "\n",
    "col2.plotly_chart(figScatter6)\n",
    "\n",
    "col1.plotly_chart(figScatter7)\n",
    "\n",
    "col2.plotly_chart(figScatter8)\n",
    "\n",
    "col1.plotly_chart(BarBallpossesionstylesResultsHalftime1)\n",
    "\n",
    "col2.plotly_chart(BarBallpossesionstylesResultsHalftime2)\n",
    "\n",
    "# C_WPercText, N_WPercText, BP_WPercText = calc_stats(df4Complete)\n",
    "# col2.write(\"% W < 0.45:   {}   \\n % W 0.45 - 0.55:  {}   \\n % W > 0.55:  {}\".format(\n",
    "#     C_WPercText, N_WPercText, BP_WPercText))\n",
    "\n",
    "# show df\n",
    "st.dataframe(df4Complete_show.style.format({'xG': '{:.1f}', 'A_xG': '{:.1f}', 'SoG-H': '{:.0f}',\n",
    "                                            'G-H': '{:.0f}', 'G-A': '{:.0f}', 'BP-H': '{:.0f}',\n",
    "                                            'BP-A': '{:.0f}', 'GA-H': '{:.0f}', 'GA-A': '{:.0f}',\n",
    "                                            'xPTS': '{:.1f}', 'A_xPTS': '{:.1f}', 'SoG-A': '{:.0f}',\n",
    "                                            }))\n"
   ]
  },
  {
   "cell_type": "code",
   "execution_count": null,
   "metadata": {},
   "outputs": [],
   "source": []
  }
 ],
 "metadata": {
  "kernelspec": {
   "display_name": "Python 3.9.7 ('winning')",
   "language": "python",
   "name": "python3"
  },
  "language_info": {
   "codemirror_mode": {
    "name": "ipython",
    "version": 3
   },
   "file_extension": ".py",
   "mimetype": "text/x-python",
   "name": "python",
   "nbconvert_exporter": "python",
   "pygments_lexer": "ipython3",
   "version": "3.9.7"
  },
  "orig_nbformat": 4,
  "vscode": {
   "interpreter": {
    "hash": "71add3fad23a8c8e6b24a85f7630d2d04faae16b5347ce0e4a499f3d227a6bcf"
   }
  }
 },
 "nbformat": 4,
 "nbformat_minor": 2
}
